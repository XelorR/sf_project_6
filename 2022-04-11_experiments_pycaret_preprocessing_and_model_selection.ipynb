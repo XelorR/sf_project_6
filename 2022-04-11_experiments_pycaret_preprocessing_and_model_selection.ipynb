{
 "cells": [
  {
   "cell_type": "markdown",
   "id": "52e54962-df48-4ca0-9f46-e71a423ef070",
   "metadata": {},
   "source": [
    "## imports"
   ]
  },
  {
   "cell_type": "code",
   "execution_count": 1,
   "id": "a9763917-ed3a-4cf7-b27c-9661a988d1b6",
   "metadata": {
    "colab": {
     "base_uri": "https://localhost:8080/"
    },
    "id": "ggxCw-aaypEd",
    "outputId": "756563a7-e448-4048-db47-543dac1229d5"
   },
   "outputs": [],
   "source": [
    "from warnings import filterwarnings\n",
    "\n",
    "import pandas as pd\n",
    "import numpy as np\n",
    "import seaborn as sns\n",
    "import matplotlib.pyplot as plt\n",
    "from sklearn.preprocessing import RobustScaler, LabelEncoder\n",
    "from pycaret.regression import *\n",
    "\n",
    "sns.set()\n",
    "filterwarnings(\"ignore\")"
   ]
  },
  {
   "cell_type": "markdown",
   "id": "5269daee-558f-4cf2-8986-f966ce97d81a",
   "metadata": {
    "id": "ri_Lx3NNypEf"
   },
   "source": [
    "## pre-saved data loading"
   ]
  },
  {
   "cell_type": "code",
   "execution_count": 2,
   "id": "42f9c3cb-587b-4e3a-ada5-150a8c56226f",
   "metadata": {
    "colab": {
     "base_uri": "https://localhost:8080/"
    },
    "id": "ad1qhVyqypEg",
    "outputId": "11802272-8e34-4ba6-f446-aa9037331f3d"
   },
   "outputs": [
    {
     "data": {
      "text/plain": [
       "((115367, 30), (34686, 28))"
      ]
     },
     "execution_count": 2,
     "metadata": {},
     "output_type": "execute_result"
    }
   ],
   "source": [
    "train_raw = pd.read_parquet(\"https://github.com/XelorR/sf_project_6/raw/master/data/2022-04-08_train_pre-model.parquet\")\n",
    "test_raw = pd.read_parquet(\"https://github.com/XelorR/sf_project_6/raw/master/data/2022-04-08_test_pre-model.parquet\")\n",
    "\n",
    "train_raw.shape, test_raw.shape"
   ]
  },
  {
   "cell_type": "markdown",
   "id": "1d7e02ce-5368-476a-9ade-725a4ba074f7",
   "metadata": {
    "id": "r9kjL4GIWYHt"
   },
   "source": [
    "## encoding features"
   ]
  },
  {
   "cell_type": "code",
   "execution_count": 3,
   "id": "a075c88f-b79c-427a-b19b-053906f7ac82",
   "metadata": {
    "id": "zx5IBT83WYHu"
   },
   "outputs": [],
   "source": [
    "train_raw[\"train/test\"] = \"train\"\n",
    "test_raw[\"train/test\"] = \"test\"\n",
    "\n",
    "data = train_raw.append(test_raw)\n",
    "data[\"ptc\"].fillna(\"Оригинал\", inplace=True)\n",
    "data[data.select_dtypes(\"object\").columns.tolist()] = data[data.select_dtypes(\"object\").columns.tolist()].astype(str)\n",
    "\n",
    "train = data.loc[data[\"train/test\"] == \"train\"].drop(columns=[\"sample\", \"description\", \"train/test\"])\n",
    "test = data.loc[data[\"train/test\"] == \"test\"].drop(columns=[\"sample\", \"description\", \"train/test\", \"price\"])"
   ]
  },
  {
   "cell_type": "markdown",
   "id": "49d87ea8-4198-45ab-8d16-b55dfb9023bf",
   "metadata": {
    "id": "kYIupE1bypEl"
   },
   "source": [
    "## pycaret setup"
   ]
  },
  {
   "cell_type": "code",
   "execution_count": 4,
   "id": "3fa3cd26-0ac3-4f43-90a8-424b62b9280a",
   "metadata": {
    "colab": {
     "base_uri": "https://localhost:8080/",
     "height": 1000
    },
    "collapsed": true,
    "id": "ErKBE16TypEm",
    "jupyter": {
     "outputs_hidden": true
    },
    "outputId": "a395222a-7ca6-422c-feb6-f6f386ee6377",
    "tags": []
   },
   "outputs": [
    {
     "data": {
      "text/html": [
       "<style type=\"text/css\">\n",
       "#T_f0c02_row7_col1, #T_f0c02_row27_col1, #T_f0c02_row29_col1, #T_f0c02_row35_col1, #T_f0c02_row38_col1, #T_f0c02_row40_col1, #T_f0c02_row42_col1 {\n",
       "  background-color: lightgreen;\n",
       "}\n",
       "</style>\n",
       "<table id=\"T_f0c02_\">\n",
       "  <thead>\n",
       "    <tr>\n",
       "      <th class=\"blank level0\" >&nbsp;</th>\n",
       "      <th class=\"col_heading level0 col0\" >Description</th>\n",
       "      <th class=\"col_heading level0 col1\" >Value</th>\n",
       "    </tr>\n",
       "  </thead>\n",
       "  <tbody>\n",
       "    <tr>\n",
       "      <th id=\"T_f0c02_level0_row0\" class=\"row_heading level0 row0\" >0</th>\n",
       "      <td id=\"T_f0c02_row0_col0\" class=\"data row0 col0\" >session_id</td>\n",
       "      <td id=\"T_f0c02_row0_col1\" class=\"data row0 col1\" >3213</td>\n",
       "    </tr>\n",
       "    <tr>\n",
       "      <th id=\"T_f0c02_level0_row1\" class=\"row_heading level0 row1\" >1</th>\n",
       "      <td id=\"T_f0c02_row1_col0\" class=\"data row1 col0\" >Target</td>\n",
       "      <td id=\"T_f0c02_row1_col1\" class=\"data row1 col1\" >price</td>\n",
       "    </tr>\n",
       "    <tr>\n",
       "      <th id=\"T_f0c02_level0_row2\" class=\"row_heading level0 row2\" >2</th>\n",
       "      <td id=\"T_f0c02_row2_col0\" class=\"data row2 col0\" >Original Data</td>\n",
       "      <td id=\"T_f0c02_row2_col1\" class=\"data row2 col1\" >(115367, 28)</td>\n",
       "    </tr>\n",
       "    <tr>\n",
       "      <th id=\"T_f0c02_level0_row3\" class=\"row_heading level0 row3\" >3</th>\n",
       "      <td id=\"T_f0c02_row3_col0\" class=\"data row3 col0\" >Missing Values</td>\n",
       "      <td id=\"T_f0c02_row3_col1\" class=\"data row3 col1\" >False</td>\n",
       "    </tr>\n",
       "    <tr>\n",
       "      <th id=\"T_f0c02_level0_row4\" class=\"row_heading level0 row4\" >4</th>\n",
       "      <td id=\"T_f0c02_row4_col0\" class=\"data row4 col0\" >Numeric Features</td>\n",
       "      <td id=\"T_f0c02_row4_col1\" class=\"data row4 col1\" >9</td>\n",
       "    </tr>\n",
       "    <tr>\n",
       "      <th id=\"T_f0c02_level0_row5\" class=\"row_heading level0 row5\" >5</th>\n",
       "      <td id=\"T_f0c02_row5_col0\" class=\"data row5 col0\" >Categorical Features</td>\n",
       "      <td id=\"T_f0c02_row5_col1\" class=\"data row5 col1\" >17</td>\n",
       "    </tr>\n",
       "    <tr>\n",
       "      <th id=\"T_f0c02_level0_row6\" class=\"row_heading level0 row6\" >6</th>\n",
       "      <td id=\"T_f0c02_row6_col0\" class=\"data row6 col0\" >Ordinal Features</td>\n",
       "      <td id=\"T_f0c02_row6_col1\" class=\"data row6 col1\" >False</td>\n",
       "    </tr>\n",
       "    <tr>\n",
       "      <th id=\"T_f0c02_level0_row7\" class=\"row_heading level0 row7\" >7</th>\n",
       "      <td id=\"T_f0c02_row7_col0\" class=\"data row7 col0\" >High Cardinality Features</td>\n",
       "      <td id=\"T_f0c02_row7_col1\" class=\"data row7 col1\" >True</td>\n",
       "    </tr>\n",
       "    <tr>\n",
       "      <th id=\"T_f0c02_level0_row8\" class=\"row_heading level0 row8\" >8</th>\n",
       "      <td id=\"T_f0c02_row8_col0\" class=\"data row8 col0\" >High Cardinality Method</td>\n",
       "      <td id=\"T_f0c02_row8_col1\" class=\"data row8 col1\" >frequency</td>\n",
       "    </tr>\n",
       "    <tr>\n",
       "      <th id=\"T_f0c02_level0_row9\" class=\"row_heading level0 row9\" >9</th>\n",
       "      <td id=\"T_f0c02_row9_col0\" class=\"data row9 col0\" >Transformed Train Set</td>\n",
       "      <td id=\"T_f0c02_row9_col1\" class=\"data row9 col1\" >(76718, 89)</td>\n",
       "    </tr>\n",
       "    <tr>\n",
       "      <th id=\"T_f0c02_level0_row10\" class=\"row_heading level0 row10\" >10</th>\n",
       "      <td id=\"T_f0c02_row10_col0\" class=\"data row10 col0\" >Transformed Test Set</td>\n",
       "      <td id=\"T_f0c02_row10_col1\" class=\"data row10 col1\" >(34611, 89)</td>\n",
       "    </tr>\n",
       "    <tr>\n",
       "      <th id=\"T_f0c02_level0_row11\" class=\"row_heading level0 row11\" >11</th>\n",
       "      <td id=\"T_f0c02_row11_col0\" class=\"data row11 col0\" >Shuffle Train-Test</td>\n",
       "      <td id=\"T_f0c02_row11_col1\" class=\"data row11 col1\" >True</td>\n",
       "    </tr>\n",
       "    <tr>\n",
       "      <th id=\"T_f0c02_level0_row12\" class=\"row_heading level0 row12\" >12</th>\n",
       "      <td id=\"T_f0c02_row12_col0\" class=\"data row12 col0\" >Stratify Train-Test</td>\n",
       "      <td id=\"T_f0c02_row12_col1\" class=\"data row12 col1\" >False</td>\n",
       "    </tr>\n",
       "    <tr>\n",
       "      <th id=\"T_f0c02_level0_row13\" class=\"row_heading level0 row13\" >13</th>\n",
       "      <td id=\"T_f0c02_row13_col0\" class=\"data row13 col0\" >Fold Generator</td>\n",
       "      <td id=\"T_f0c02_row13_col1\" class=\"data row13 col1\" >KFold</td>\n",
       "    </tr>\n",
       "    <tr>\n",
       "      <th id=\"T_f0c02_level0_row14\" class=\"row_heading level0 row14\" >14</th>\n",
       "      <td id=\"T_f0c02_row14_col0\" class=\"data row14 col0\" >Fold Number</td>\n",
       "      <td id=\"T_f0c02_row14_col1\" class=\"data row14 col1\" >10</td>\n",
       "    </tr>\n",
       "    <tr>\n",
       "      <th id=\"T_f0c02_level0_row15\" class=\"row_heading level0 row15\" >15</th>\n",
       "      <td id=\"T_f0c02_row15_col0\" class=\"data row15 col0\" >CPU Jobs</td>\n",
       "      <td id=\"T_f0c02_row15_col1\" class=\"data row15 col1\" >-1</td>\n",
       "    </tr>\n",
       "    <tr>\n",
       "      <th id=\"T_f0c02_level0_row16\" class=\"row_heading level0 row16\" >16</th>\n",
       "      <td id=\"T_f0c02_row16_col0\" class=\"data row16 col0\" >Use GPU</td>\n",
       "      <td id=\"T_f0c02_row16_col1\" class=\"data row16 col1\" >False</td>\n",
       "    </tr>\n",
       "    <tr>\n",
       "      <th id=\"T_f0c02_level0_row17\" class=\"row_heading level0 row17\" >17</th>\n",
       "      <td id=\"T_f0c02_row17_col0\" class=\"data row17 col0\" >Log Experiment</td>\n",
       "      <td id=\"T_f0c02_row17_col1\" class=\"data row17 col1\" >False</td>\n",
       "    </tr>\n",
       "    <tr>\n",
       "      <th id=\"T_f0c02_level0_row18\" class=\"row_heading level0 row18\" >18</th>\n",
       "      <td id=\"T_f0c02_row18_col0\" class=\"data row18 col0\" >Experiment Name</td>\n",
       "      <td id=\"T_f0c02_row18_col1\" class=\"data row18 col1\" >reg-default-name</td>\n",
       "    </tr>\n",
       "    <tr>\n",
       "      <th id=\"T_f0c02_level0_row19\" class=\"row_heading level0 row19\" >19</th>\n",
       "      <td id=\"T_f0c02_row19_col0\" class=\"data row19 col0\" >USI</td>\n",
       "      <td id=\"T_f0c02_row19_col1\" class=\"data row19 col1\" >493c</td>\n",
       "    </tr>\n",
       "    <tr>\n",
       "      <th id=\"T_f0c02_level0_row20\" class=\"row_heading level0 row20\" >20</th>\n",
       "      <td id=\"T_f0c02_row20_col0\" class=\"data row20 col0\" >Imputation Type</td>\n",
       "      <td id=\"T_f0c02_row20_col1\" class=\"data row20 col1\" >simple</td>\n",
       "    </tr>\n",
       "    <tr>\n",
       "      <th id=\"T_f0c02_level0_row21\" class=\"row_heading level0 row21\" >21</th>\n",
       "      <td id=\"T_f0c02_row21_col0\" class=\"data row21 col0\" >Iterative Imputation Iteration</td>\n",
       "      <td id=\"T_f0c02_row21_col1\" class=\"data row21 col1\" >None</td>\n",
       "    </tr>\n",
       "    <tr>\n",
       "      <th id=\"T_f0c02_level0_row22\" class=\"row_heading level0 row22\" >22</th>\n",
       "      <td id=\"T_f0c02_row22_col0\" class=\"data row22 col0\" >Numeric Imputer</td>\n",
       "      <td id=\"T_f0c02_row22_col1\" class=\"data row22 col1\" >mean</td>\n",
       "    </tr>\n",
       "    <tr>\n",
       "      <th id=\"T_f0c02_level0_row23\" class=\"row_heading level0 row23\" >23</th>\n",
       "      <td id=\"T_f0c02_row23_col0\" class=\"data row23 col0\" >Iterative Imputation Numeric Model</td>\n",
       "      <td id=\"T_f0c02_row23_col1\" class=\"data row23 col1\" >None</td>\n",
       "    </tr>\n",
       "    <tr>\n",
       "      <th id=\"T_f0c02_level0_row24\" class=\"row_heading level0 row24\" >24</th>\n",
       "      <td id=\"T_f0c02_row24_col0\" class=\"data row24 col0\" >Categorical Imputer</td>\n",
       "      <td id=\"T_f0c02_row24_col1\" class=\"data row24 col1\" >constant</td>\n",
       "    </tr>\n",
       "    <tr>\n",
       "      <th id=\"T_f0c02_level0_row25\" class=\"row_heading level0 row25\" >25</th>\n",
       "      <td id=\"T_f0c02_row25_col0\" class=\"data row25 col0\" >Iterative Imputation Categorical Model</td>\n",
       "      <td id=\"T_f0c02_row25_col1\" class=\"data row25 col1\" >None</td>\n",
       "    </tr>\n",
       "    <tr>\n",
       "      <th id=\"T_f0c02_level0_row26\" class=\"row_heading level0 row26\" >26</th>\n",
       "      <td id=\"T_f0c02_row26_col0\" class=\"data row26 col0\" >Unknown Categoricals Handling</td>\n",
       "      <td id=\"T_f0c02_row26_col1\" class=\"data row26 col1\" >least_frequent</td>\n",
       "    </tr>\n",
       "    <tr>\n",
       "      <th id=\"T_f0c02_level0_row27\" class=\"row_heading level0 row27\" >27</th>\n",
       "      <td id=\"T_f0c02_row27_col0\" class=\"data row27 col0\" >Normalize</td>\n",
       "      <td id=\"T_f0c02_row27_col1\" class=\"data row27 col1\" >True</td>\n",
       "    </tr>\n",
       "    <tr>\n",
       "      <th id=\"T_f0c02_level0_row28\" class=\"row_heading level0 row28\" >28</th>\n",
       "      <td id=\"T_f0c02_row28_col0\" class=\"data row28 col0\" >Normalize Method</td>\n",
       "      <td id=\"T_f0c02_row28_col1\" class=\"data row28 col1\" >zscore</td>\n",
       "    </tr>\n",
       "    <tr>\n",
       "      <th id=\"T_f0c02_level0_row29\" class=\"row_heading level0 row29\" >29</th>\n",
       "      <td id=\"T_f0c02_row29_col0\" class=\"data row29 col0\" >Transformation</td>\n",
       "      <td id=\"T_f0c02_row29_col1\" class=\"data row29 col1\" >True</td>\n",
       "    </tr>\n",
       "    <tr>\n",
       "      <th id=\"T_f0c02_level0_row30\" class=\"row_heading level0 row30\" >30</th>\n",
       "      <td id=\"T_f0c02_row30_col0\" class=\"data row30 col0\" >Transformation Method</td>\n",
       "      <td id=\"T_f0c02_row30_col1\" class=\"data row30 col1\" >yeo-johnson</td>\n",
       "    </tr>\n",
       "    <tr>\n",
       "      <th id=\"T_f0c02_level0_row31\" class=\"row_heading level0 row31\" >31</th>\n",
       "      <td id=\"T_f0c02_row31_col0\" class=\"data row31 col0\" >PCA</td>\n",
       "      <td id=\"T_f0c02_row31_col1\" class=\"data row31 col1\" >False</td>\n",
       "    </tr>\n",
       "    <tr>\n",
       "      <th id=\"T_f0c02_level0_row32\" class=\"row_heading level0 row32\" >32</th>\n",
       "      <td id=\"T_f0c02_row32_col0\" class=\"data row32 col0\" >PCA Method</td>\n",
       "      <td id=\"T_f0c02_row32_col1\" class=\"data row32 col1\" >None</td>\n",
       "    </tr>\n",
       "    <tr>\n",
       "      <th id=\"T_f0c02_level0_row33\" class=\"row_heading level0 row33\" >33</th>\n",
       "      <td id=\"T_f0c02_row33_col0\" class=\"data row33 col0\" >PCA Components</td>\n",
       "      <td id=\"T_f0c02_row33_col1\" class=\"data row33 col1\" >None</td>\n",
       "    </tr>\n",
       "    <tr>\n",
       "      <th id=\"T_f0c02_level0_row34\" class=\"row_heading level0 row34\" >34</th>\n",
       "      <td id=\"T_f0c02_row34_col0\" class=\"data row34 col0\" >Ignore Low Variance</td>\n",
       "      <td id=\"T_f0c02_row34_col1\" class=\"data row34 col1\" >False</td>\n",
       "    </tr>\n",
       "    <tr>\n",
       "      <th id=\"T_f0c02_level0_row35\" class=\"row_heading level0 row35\" >35</th>\n",
       "      <td id=\"T_f0c02_row35_col0\" class=\"data row35 col0\" >Combine Rare Levels</td>\n",
       "      <td id=\"T_f0c02_row35_col1\" class=\"data row35 col1\" >True</td>\n",
       "    </tr>\n",
       "    <tr>\n",
       "      <th id=\"T_f0c02_level0_row36\" class=\"row_heading level0 row36\" >36</th>\n",
       "      <td id=\"T_f0c02_row36_col0\" class=\"data row36 col0\" >Rare Level Threshold</td>\n",
       "      <td id=\"T_f0c02_row36_col1\" class=\"data row36 col1\" >0.100000</td>\n",
       "    </tr>\n",
       "    <tr>\n",
       "      <th id=\"T_f0c02_level0_row37\" class=\"row_heading level0 row37\" >37</th>\n",
       "      <td id=\"T_f0c02_row37_col0\" class=\"data row37 col0\" >Numeric Binning</td>\n",
       "      <td id=\"T_f0c02_row37_col1\" class=\"data row37 col1\" >False</td>\n",
       "    </tr>\n",
       "    <tr>\n",
       "      <th id=\"T_f0c02_level0_row38\" class=\"row_heading level0 row38\" >38</th>\n",
       "      <td id=\"T_f0c02_row38_col0\" class=\"data row38 col0\" >Remove Outliers</td>\n",
       "      <td id=\"T_f0c02_row38_col1\" class=\"data row38 col1\" >True</td>\n",
       "    </tr>\n",
       "    <tr>\n",
       "      <th id=\"T_f0c02_level0_row39\" class=\"row_heading level0 row39\" >39</th>\n",
       "      <td id=\"T_f0c02_row39_col0\" class=\"data row39 col0\" >Outliers Threshold</td>\n",
       "      <td id=\"T_f0c02_row39_col1\" class=\"data row39 col1\" >0.050000</td>\n",
       "    </tr>\n",
       "    <tr>\n",
       "      <th id=\"T_f0c02_level0_row40\" class=\"row_heading level0 row40\" >40</th>\n",
       "      <td id=\"T_f0c02_row40_col0\" class=\"data row40 col0\" >Remove Multicollinearity</td>\n",
       "      <td id=\"T_f0c02_row40_col1\" class=\"data row40 col1\" >True</td>\n",
       "    </tr>\n",
       "    <tr>\n",
       "      <th id=\"T_f0c02_level0_row41\" class=\"row_heading level0 row41\" >41</th>\n",
       "      <td id=\"T_f0c02_row41_col0\" class=\"data row41 col0\" >Multicollinearity Threshold</td>\n",
       "      <td id=\"T_f0c02_row41_col1\" class=\"data row41 col1\" >0.900000</td>\n",
       "    </tr>\n",
       "    <tr>\n",
       "      <th id=\"T_f0c02_level0_row42\" class=\"row_heading level0 row42\" >42</th>\n",
       "      <td id=\"T_f0c02_row42_col0\" class=\"data row42 col0\" >Remove Perfect Collinearity</td>\n",
       "      <td id=\"T_f0c02_row42_col1\" class=\"data row42 col1\" >True</td>\n",
       "    </tr>\n",
       "    <tr>\n",
       "      <th id=\"T_f0c02_level0_row43\" class=\"row_heading level0 row43\" >43</th>\n",
       "      <td id=\"T_f0c02_row43_col0\" class=\"data row43 col0\" >Clustering</td>\n",
       "      <td id=\"T_f0c02_row43_col1\" class=\"data row43 col1\" >False</td>\n",
       "    </tr>\n",
       "    <tr>\n",
       "      <th id=\"T_f0c02_level0_row44\" class=\"row_heading level0 row44\" >44</th>\n",
       "      <td id=\"T_f0c02_row44_col0\" class=\"data row44 col0\" >Clustering Iteration</td>\n",
       "      <td id=\"T_f0c02_row44_col1\" class=\"data row44 col1\" >None</td>\n",
       "    </tr>\n",
       "    <tr>\n",
       "      <th id=\"T_f0c02_level0_row45\" class=\"row_heading level0 row45\" >45</th>\n",
       "      <td id=\"T_f0c02_row45_col0\" class=\"data row45 col0\" >Polynomial Features</td>\n",
       "      <td id=\"T_f0c02_row45_col1\" class=\"data row45 col1\" >False</td>\n",
       "    </tr>\n",
       "    <tr>\n",
       "      <th id=\"T_f0c02_level0_row46\" class=\"row_heading level0 row46\" >46</th>\n",
       "      <td id=\"T_f0c02_row46_col0\" class=\"data row46 col0\" >Polynomial Degree</td>\n",
       "      <td id=\"T_f0c02_row46_col1\" class=\"data row46 col1\" >None</td>\n",
       "    </tr>\n",
       "    <tr>\n",
       "      <th id=\"T_f0c02_level0_row47\" class=\"row_heading level0 row47\" >47</th>\n",
       "      <td id=\"T_f0c02_row47_col0\" class=\"data row47 col0\" >Trignometry Features</td>\n",
       "      <td id=\"T_f0c02_row47_col1\" class=\"data row47 col1\" >False</td>\n",
       "    </tr>\n",
       "    <tr>\n",
       "      <th id=\"T_f0c02_level0_row48\" class=\"row_heading level0 row48\" >48</th>\n",
       "      <td id=\"T_f0c02_row48_col0\" class=\"data row48 col0\" >Polynomial Threshold</td>\n",
       "      <td id=\"T_f0c02_row48_col1\" class=\"data row48 col1\" >None</td>\n",
       "    </tr>\n",
       "    <tr>\n",
       "      <th id=\"T_f0c02_level0_row49\" class=\"row_heading level0 row49\" >49</th>\n",
       "      <td id=\"T_f0c02_row49_col0\" class=\"data row49 col0\" >Group Features</td>\n",
       "      <td id=\"T_f0c02_row49_col1\" class=\"data row49 col1\" >False</td>\n",
       "    </tr>\n",
       "    <tr>\n",
       "      <th id=\"T_f0c02_level0_row50\" class=\"row_heading level0 row50\" >50</th>\n",
       "      <td id=\"T_f0c02_row50_col0\" class=\"data row50 col0\" >Feature Selection</td>\n",
       "      <td id=\"T_f0c02_row50_col1\" class=\"data row50 col1\" >False</td>\n",
       "    </tr>\n",
       "    <tr>\n",
       "      <th id=\"T_f0c02_level0_row51\" class=\"row_heading level0 row51\" >51</th>\n",
       "      <td id=\"T_f0c02_row51_col0\" class=\"data row51 col0\" >Feature Selection Method</td>\n",
       "      <td id=\"T_f0c02_row51_col1\" class=\"data row51 col1\" >classic</td>\n",
       "    </tr>\n",
       "    <tr>\n",
       "      <th id=\"T_f0c02_level0_row52\" class=\"row_heading level0 row52\" >52</th>\n",
       "      <td id=\"T_f0c02_row52_col0\" class=\"data row52 col0\" >Features Selection Threshold</td>\n",
       "      <td id=\"T_f0c02_row52_col1\" class=\"data row52 col1\" >None</td>\n",
       "    </tr>\n",
       "    <tr>\n",
       "      <th id=\"T_f0c02_level0_row53\" class=\"row_heading level0 row53\" >53</th>\n",
       "      <td id=\"T_f0c02_row53_col0\" class=\"data row53 col0\" >Feature Interaction</td>\n",
       "      <td id=\"T_f0c02_row53_col1\" class=\"data row53 col1\" >False</td>\n",
       "    </tr>\n",
       "    <tr>\n",
       "      <th id=\"T_f0c02_level0_row54\" class=\"row_heading level0 row54\" >54</th>\n",
       "      <td id=\"T_f0c02_row54_col0\" class=\"data row54 col0\" >Feature Ratio</td>\n",
       "      <td id=\"T_f0c02_row54_col1\" class=\"data row54 col1\" >False</td>\n",
       "    </tr>\n",
       "    <tr>\n",
       "      <th id=\"T_f0c02_level0_row55\" class=\"row_heading level0 row55\" >55</th>\n",
       "      <td id=\"T_f0c02_row55_col0\" class=\"data row55 col0\" >Interaction Threshold</td>\n",
       "      <td id=\"T_f0c02_row55_col1\" class=\"data row55 col1\" >None</td>\n",
       "    </tr>\n",
       "    <tr>\n",
       "      <th id=\"T_f0c02_level0_row56\" class=\"row_heading level0 row56\" >56</th>\n",
       "      <td id=\"T_f0c02_row56_col0\" class=\"data row56 col0\" >Transform Target</td>\n",
       "      <td id=\"T_f0c02_row56_col1\" class=\"data row56 col1\" >False</td>\n",
       "    </tr>\n",
       "    <tr>\n",
       "      <th id=\"T_f0c02_level0_row57\" class=\"row_heading level0 row57\" >57</th>\n",
       "      <td id=\"T_f0c02_row57_col0\" class=\"data row57 col0\" >Transform Target Method</td>\n",
       "      <td id=\"T_f0c02_row57_col1\" class=\"data row57 col1\" >box-cox</td>\n",
       "    </tr>\n",
       "  </tbody>\n",
       "</table>\n"
      ],
      "text/plain": [
       "<pandas.io.formats.style.Styler at 0x2f986059448>"
      ]
     },
     "metadata": {},
     "output_type": "display_data"
    }
   ],
   "source": [
    "s = setup(\n",
    "    data = train,\n",
    "    target=\"price\",\n",
    "    date_features=[\"parsed_date\"],\n",
    "    high_cardinality_features = [\"model_name\"], \n",
    "    normalize=True,\n",
    "    transformation=True,\n",
    "    remove_outliers = True,\n",
    "    handle_unknown_categorical = True,\n",
    "    remove_multicollinearity = True,\n",
    "    # preprocess = False,\n",
    "    # categorical_imputation = \"mode\",\n",
    "    # imputation_type=\"iterative\",\n",
    "    # numeric_iterative_imputer = \"catboost\",\n",
    "    # categorical_iterative_imputer = \"catboost\",\n",
    "    # feature_selection=True,\n",
    "    # feature_selection_threshold = 0.5,\n",
    "    combine_rare_levels = True,\n",
    ")"
   ]
  },
  {
   "cell_type": "code",
   "execution_count": 6,
   "id": "ce0b3f3b-f37a-411f-8190-a40eb8bc9a4e",
   "metadata": {},
   "outputs": [
    {
     "data": {
      "text/plain": [
       "((115367, 90), (34686, 89))"
      ]
     },
     "execution_count": 6,
     "metadata": {},
     "output_type": "execute_result"
    }
   ],
   "source": [
    "train_encoded = get_config(\"X\")\n",
    "train_encoded[\"price\"] = get_config(\"y\")\n",
    "\n",
    "prep_pipe = get_config(\"prep_pipe\")\n",
    "test_encoded = prep_pipe.transform(test)\n",
    "\n",
    "train_encoded.shape, test_encoded.shape"
   ]
  },
  {
   "cell_type": "code",
   "execution_count": 7,
   "id": "bd3156b7-58e2-4429-8cda-552eada61445",
   "metadata": {},
   "outputs": [],
   "source": [
    "train_encoded.to_parquet(\"data/2022-04-11_train_encoded_full.parquet\")\n",
    "test_encoded.to_parquet(\"data/2022-04-11_test_encoded_full.parquet\")"
   ]
  },
  {
   "cell_type": "code",
   "execution_count": null,
   "id": "f4389957-bee5-476b-af0f-d2a9de1c62ed",
   "metadata": {},
   "outputs": [
    {
     "data": {
      "application/vnd.jupyter.widget-view+json": {
       "model_id": "645227a8e5fb43fd94faef5504d86a9a",
       "version_major": 2,
       "version_minor": 0
      },
      "text/plain": [
       "IntProgress(value=0, description='Processing: ', max=94)"
      ]
     },
     "metadata": {},
     "output_type": "display_data"
    },
    {
     "data": {
      "text/html": [
       "<div>\n",
       "<style scoped>\n",
       "    .dataframe tbody tr th:only-of-type {\n",
       "        vertical-align: middle;\n",
       "    }\n",
       "\n",
       "    .dataframe tbody tr th {\n",
       "        vertical-align: top;\n",
       "    }\n",
       "\n",
       "    .dataframe thead th {\n",
       "        text-align: right;\n",
       "    }\n",
       "</style>\n",
       "<table border=\"1\" class=\"dataframe\">\n",
       "  <thead>\n",
       "    <tr style=\"text-align: right;\">\n",
       "      <th></th>\n",
       "      <th></th>\n",
       "      <th></th>\n",
       "    </tr>\n",
       "    <tr>\n",
       "      <th></th>\n",
       "      <th></th>\n",
       "      <th></th>\n",
       "    </tr>\n",
       "  </thead>\n",
       "  <tbody>\n",
       "    <tr>\n",
       "      <th>Initiated</th>\n",
       "      <td>. . . . . . . . . . . . . . . . . .</td>\n",
       "      <td>20:40:59</td>\n",
       "    </tr>\n",
       "    <tr>\n",
       "      <th>Status</th>\n",
       "      <td>. . . . . . . . . . . . . . . . . .</td>\n",
       "      <td>Fitting 10 Folds</td>\n",
       "    </tr>\n",
       "    <tr>\n",
       "      <th>Estimator</th>\n",
       "      <td>. . . . . . . . . . . . . . . . . .</td>\n",
       "      <td>Linear Regression</td>\n",
       "    </tr>\n",
       "  </tbody>\n",
       "</table>\n",
       "</div>"
      ],
      "text/plain": [
       "                                                                 \n",
       "                                                                 \n",
       "Initiated  . . . . . . . . . . . . . . . . . .           20:40:59\n",
       "Status     . . . . . . . . . . . . . . . . . .   Fitting 10 Folds\n",
       "Estimator  . . . . . . . . . . . . . . . . . .  Linear Regression"
      ]
     },
     "metadata": {},
     "output_type": "display_data"
    },
    {
     "data": {
      "text/html": [
       "<div>\n",
       "<style scoped>\n",
       "    .dataframe tbody tr th:only-of-type {\n",
       "        vertical-align: middle;\n",
       "    }\n",
       "\n",
       "    .dataframe tbody tr th {\n",
       "        vertical-align: top;\n",
       "    }\n",
       "\n",
       "    .dataframe thead th {\n",
       "        text-align: right;\n",
       "    }\n",
       "</style>\n",
       "<table border=\"1\" class=\"dataframe\">\n",
       "  <thead>\n",
       "    <tr style=\"text-align: right;\">\n",
       "      <th></th>\n",
       "      <th>Model</th>\n",
       "      <th>MAE</th>\n",
       "      <th>MSE</th>\n",
       "      <th>RMSE</th>\n",
       "      <th>R2</th>\n",
       "      <th>RMSLE</th>\n",
       "      <th>MAPE</th>\n",
       "      <th>TT (Sec)</th>\n",
       "    </tr>\n",
       "  </thead>\n",
       "  <tbody>\n",
       "  </tbody>\n",
       "</table>\n",
       "</div>"
      ],
      "text/plain": [
       "Empty DataFrame\n",
       "Columns: [Model, MAE, MSE, RMSE, R2, RMSLE, MAPE, TT (Sec)]\n",
       "Index: []"
      ]
     },
     "metadata": {},
     "output_type": "display_data"
    }
   ],
   "source": [
    "best = compare_models(exclude=[\"dummy\", \"ada\"], n_select=7)"
   ]
  },
  {
   "cell_type": "code",
   "execution_count": null,
   "id": "309cc8f5-d9b4-41eb-a6e0-2de1cfae9735",
   "metadata": {},
   "outputs": [],
   "source": [
    "predictions = predict_model(best, data = test)"
   ]
  },
  {
   "cell_type": "code",
   "execution_count": null,
   "id": "02cf557a-749e-42e6-a210-8841b5d5b9d8",
   "metadata": {},
   "outputs": [],
   "source": [
    "save_config(\"models/2022-04-11_model\")\n",
    "save_model(best, \"models/2022-04-11_model\")"
   ]
  }
 ],
 "metadata": {
  "kernelspec": {
   "display_name": "Python 3 (ipykernel)",
   "language": "python",
   "name": "python3"
  },
  "language_info": {
   "codemirror_mode": {
    "name": "ipython",
    "version": 3
   },
   "file_extension": ".py",
   "mimetype": "text/x-python",
   "name": "python",
   "nbconvert_exporter": "python",
   "pygments_lexer": "ipython3",
   "version": "3.7.9"
  }
 },
 "nbformat": 4,
 "nbformat_minor": 5
}
