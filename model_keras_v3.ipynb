{
  "cells": [
    {
      "cell_type": "markdown",
      "metadata": {
        "id": "eNU4ofLYu-KN"
      },
      "source": [
        "- [previous file - EDA](2022-03-31_train-test_EDA.ipynb)\n",
        "- [previous file - sklearn experiments](2022-04-12_experiments-sklearn.ipynb)\n",
        "- [next file - ensembles](2022-04-15_ensemble.ipynb)\n",
        "\n",
        "## imports"
      ]
    },
    {
      "cell_type": "code",
      "execution_count": 1,
      "metadata": {
        "id": "H8oa83mPu-KP"
      },
      "outputs": [],
      "source": [
        "from warnings import filterwarnings\n",
        "import os\n",
        "import pickle\n",
        "\n",
        "import joblib\n",
        "import pandas as pd\n",
        "import numpy as np\n",
        "import seaborn as sns\n",
        "import matplotlib.pyplot as plt\n",
        "from sklearn.preprocessing import RobustScaler, LabelEncoder\n",
        "from sklearn.neural_network import MLPRegressor\n",
        "from sklearn.model_selection import train_test_split, cross_val_score\n",
        "from sklearn.metrics import mean_absolute_percentage_error\n",
        "\n",
        "sns.set()\n",
        "filterwarnings(\"ignore\")"
      ]
    },
    {
      "cell_type": "markdown",
      "metadata": {
        "id": "S22KlOBou-KR"
      },
      "source": [
        "## preprocessing"
      ]
    },
    {
      "cell_type": "markdown",
      "metadata": {
        "id": "8UNxWvduu-KR"
      },
      "source": [
        "### reading data"
      ]
    },
    {
      "cell_type": "code",
      "execution_count": 2,
      "metadata": {
        "colab": {
          "base_uri": "https://localhost:8080/"
        },
        "id": "92h6TJanu-KS",
        "outputId": "a5251f7b-9bfb-4723-d958-a24a76c69dac"
      },
      "outputs": [
        {
          "data": {
            "text/plain": [
              "((115367, 30), (34686, 28))"
            ]
          },
          "execution_count": 2,
          "metadata": {},
          "output_type": "execute_result"
        }
      ],
      "source": [
        "# path_to_data = \"data\"\n",
        "path_to_data = \"https://github.com/XelorR/sf_project_6/raw/master/data\"\n",
        "\n",
        "train_raw = pd.read_parquet(f\"{path_to_data}/2022-04-08_train_pre-model.parquet\")\n",
        "test_raw = pd.read_parquet(f\"{path_to_data}/2022-04-08_test_pre-model.parquet\")\n",
        "\n",
        "train_raw.shape, test_raw.shape"
      ]
    },
    {
      "cell_type": "markdown",
      "metadata": {
        "id": "t8Dck5zdu-KU"
      },
      "source": [
        "### functions"
      ]
    },
    {
      "cell_type": "code",
      "execution_count": 3,
      "metadata": {
        "id": "0Ty1T__mu-KV"
      },
      "outputs": [],
      "source": [
        "def train_or_load(clf, X, y, filepath: str = \"model.joblib\", complevel: int = 9):\n",
        "    \"\"\"\n",
        "    Fits and serialize model as .pkl, .pickle or .joblib file.\n",
        "    Loads serialized model if filepath exists.\n",
        "\n",
        "    clf - model to fit\n",
        "    X - dateset\n",
        "    y - lables\n",
        "    filepath - where to save\n",
        "    complevel - compression level (0-9) for joblib, ignored for pickle\n",
        "    \"\"\"\n",
        "    if filepath.endswith(\".joblib\"):\n",
        "        if os.path.exists(filepath):\n",
        "            with open(filepath, \"rb\") as f:\n",
        "                clf = joblib.load(f)\n",
        "        else:\n",
        "            clf.fit(X, y)\n",
        "            with open(filepath, \"wb\") as f:\n",
        "                joblib.dump(clf, f, compress=complevel)\n",
        "        return clf\n",
        "    elif filepath.endswith(\".pkl\") or filepath.endswith(\".pickle\"):\n",
        "        if os.path.exists(filepath):\n",
        "            with open(filepath, \"rb\") as f:\n",
        "                clf = pickle.load(f)\n",
        "        else:\n",
        "            clf.fit(X, y)\n",
        "            with open(filepath, \"wb\") as f:\n",
        "                pickle.dump(clf, f)\n",
        "        return clf\n",
        "\n",
        "\n",
        "def submit(hold_out: pd.DataFrame, model, name=\"submission\"):\n",
        "    preds = model.predict(hold_out)\n",
        "    submission = pd.read_csv(f\"{path_to_data}/sample_submission.csv\")\n",
        "    submission[\"price\"] = preds\n",
        "    submission.to_csv(f\"{name}.csv\", index=False)\n",
        "\n",
        "\n",
        "def submit_log(hold_out: pd.DataFrame, model, name=\"submission\"):\n",
        "    preds = model.predict(hold_out)\n",
        "    submission = pd.read_csv(f\"{path_to_data}/sample_submission.csv\")\n",
        "    submission[\"price\"] = np.exp(preds)\n",
        "    submission.to_csv(f\"{name}.csv\", index=False)"
      ]
    },
    {
      "cell_type": "markdown",
      "metadata": {
        "id": "YMsHSmGeu-KX"
      },
      "source": [
        "### encoding"
      ]
    },
    {
      "cell_type": "code",
      "execution_count": 4,
      "metadata": {
        "id": "CTG9WuyCu-KY"
      },
      "outputs": [],
      "source": [
        "train_raw[\"train/test\"] = \"train\"\n",
        "test_raw[\"train/test\"] = \"test\"\n",
        "\n",
        "data = train_raw.append(test_raw)\n",
        "data[\"ptc\"].fillna(\"Оригинал\", inplace=True)\n",
        "\n",
        "data[data.select_dtypes(\"object\").columns.tolist()] = data[\n",
        "    data.select_dtypes(\"object\").columns.tolist()\n",
        "].astype(str)\n",
        "\n",
        "for col in set(data.select_dtypes(exclude=(\"object\")).columns) - {\"price\"}:\n",
        "    data[col] = (\n",
        "        RobustScaler().fit_transform(data[col].values.reshape(-1, 1)).reshape(-1, 1)\n",
        "    )\n",
        "\n",
        "for col in [\"model_name\"]:\n",
        "    data[col] = LabelEncoder().fit_transform(data[col].astype(\"str\"))\n",
        "\n",
        "data = pd.get_dummies(\n",
        "    data,\n",
        "    columns=[\n",
        "        \"vehicle_transmission\",\n",
        "        \"vendor\",\n",
        "        \"brand\",\n",
        "        \"fuel_type\",\n",
        "        \"body_type\",\n",
        "        \"color\",\n",
        "        \"ptc\",\n",
        "        \"drive\",\n",
        "        \"wheel\",\n",
        "        \"age_cat\",\n",
        "    ],\n",
        ")\n",
        "\n",
        "train = data.loc[data[\"train/test\"] == \"train\"]\n",
        "\n",
        "train_jane = train.loc[train[\"sample\"] == \"jane\"]\n",
        "train_sokolov = train.loc[train[\"sample\"] == \"sokolov\"]\n",
        "train_jane[\"price\"] = train_jane[\"price\"] * 0.86\n",
        "train = train_jane.append(train_sokolov)\n",
        "\n",
        "train.drop(columns=[\"sample\", \"description\", \"train/test\"], inplace=True)\n",
        "test = data.loc[data[\"train/test\"] == \"test\"].drop(\n",
        "    columns=[\"sample\", \"description\", \"train/test\", \"price\"]\n",
        ")"
      ]
    },
    {
      "cell_type": "markdown",
      "metadata": {
        "id": "Pboc3f9Cu-KZ"
      },
      "source": [
        "### preparing to train models"
      ]
    },
    {
      "cell_type": "code",
      "execution_count": 5,
      "metadata": {
        "id": "OesMT1rzu-KZ"
      },
      "outputs": [],
      "source": [
        "if os.path.exists(\"models\"):\n",
        "    pass\n",
        "else:\n",
        "    os.mkdir(\"models\")"
      ]
    },
    {
      "cell_type": "code",
      "execution_count": 6,
      "metadata": {
        "colab": {
          "base_uri": "https://localhost:8080/"
        },
        "id": "_NtSY_zvu-KZ",
        "outputId": "190c30b3-3a98-4eee-a8dc-bf0e982b547b"
      },
      "outputs": [
        {
          "data": {
            "text/plain": [
              "((86525, 112), (86525,), (28842, 112), (28842,))"
            ]
          },
          "execution_count": 6,
          "metadata": {},
          "output_type": "execute_result"
        }
      ],
      "source": [
        "X_train, X_valid, y_train, y_valid = train_test_split(\n",
        "    train.drop(columns=\"price\"), train[\"price\"], random_state=42, shuffle=True\n",
        ")\n",
        "X_train.shape, y_train.shape, X_valid.shape, y_valid.shape"
      ]
    },
    {
      "cell_type": "markdown",
      "metadata": {
        "id": "Mwl0Im0Mu-Ka"
      },
      "source": [
        "## Experiment"
      ]
    },
    {
      "cell_type": "code",
      "execution_count": 7,
      "metadata": {
        "colab": {
          "base_uri": "https://localhost:8080/"
        },
        "id": "30WC8TNiu-Ka",
        "outputId": "034bac9b-6534-4243-a94e-df0c5ec06bdf"
      },
      "outputs": [
        {
          "name": "stdout",
          "output_type": "stream",
          "text": [
            "We're using TF 2.8.0\n",
            "We are using Keras 2.8.0\n"
          ]
        }
      ],
      "source": [
        "import tensorflow as tf\n",
        "from tensorflow.keras.models import Sequential\n",
        "from tensorflow.keras.layers import Dense, Dropout\n",
        "from tensorflow.keras.backend import clear_session\n",
        "\n",
        "print(\"We're using TF\", tf.__version__)\n",
        "print(\"We are using Keras\", tf.keras.__version__)"
      ]
    },
    {
      "cell_type": "code",
      "execution_count": 39,
      "metadata": {
        "colab": {
          "base_uri": "https://localhost:8080/"
        },
        "id": "bC7LONxhu-Kc",
        "outputId": "abc73906-d2ff-4676-e59f-86101d9b83af"
      },
      "outputs": [
        {
          "name": "stdout",
          "output_type": "stream",
          "text": [
            "Model: \"sequential\"\n",
            "_________________________________________________________________\n",
            " Layer (type)                Output Shape              Param #   \n",
            "=================================================================\n",
            " dense (Dense)               (None, 1024)              115712    \n",
            "                                                                 \n",
            " dense_1 (Dense)             (None, 512)               524800    \n",
            "                                                                 \n",
            " dropout (Dropout)           (None, 512)               0         \n",
            "                                                                 \n",
            " dense_2 (Dense)             (None, 256)               131328    \n",
            "                                                                 \n",
            " dense_3 (Dense)             (None, 64)                16448     \n",
            "                                                                 \n",
            " dropout_1 (Dropout)         (None, 64)                0         \n",
            "                                                                 \n",
            " dense_4 (Dense)             (None, 1)                 65        \n",
            "                                                                 \n",
            "=================================================================\n",
            "Total params: 788,353\n",
            "Trainable params: 788,353\n",
            "Non-trainable params: 0\n",
            "_________________________________________________________________\n"
          ]
        }
      ],
      "source": [
        "clear_session()\n",
        "\n",
        "model = Sequential()\n",
        "model.add(Dense(1024, activation=\"relu\", input_dim=X_train.shape[1]))\n",
        "model.add(Dense(512, activation=\"tanh\"))\n",
        "model.add(Dropout(0.5))\n",
        "model.add(Dense(256, activation=\"relu\"))\n",
        "model.add(Dense(64, activation=\"relu\"))\n",
        "model.add(Dropout(0.5))\n",
        "model.add(Dense(1))\n",
        "\n",
        "model.compile(\n",
        "    loss=\"mean_absolute_percentage_error\",\n",
        "    optimizer=\"adam\",\n",
        "    metrics=[\"mean_absolute_percentage_error\", \"accuracy\"],\n",
        ")\n",
        "\n",
        "model.summary()"
      ]
    },
    {
      "cell_type": "code",
      "execution_count": null,
      "metadata": {
        "colab": {
          "base_uri": "https://localhost:8080/"
        },
        "id": "vl8dVh89u-Kc",
        "outputId": "408b412b-df51-46a7-cd9d-1dc87cbbc0a1"
      },
      "outputs": [],
      "source": [
        "history = model.fit(\n",
        "    X_train, y_train, epochs=3000, batch_size=4096, validation_data=(X_valid, y_valid)\n",
        ")"
      ]
    },
    {
      "cell_type": "code",
      "execution_count": 41,
      "metadata": {
        "colab": {
          "base_uri": "https://localhost:8080/",
          "height": 351
        },
        "id": "FaDV8lyTu-Kc",
        "outputId": "6ff20a0a-24d4-4d22-d012-29caaffafb62"
      },
      "outputs": [
        {
          "data": {
            "image/png": "[encoded data removed]",
            "text/plain": [
              "<Figure size 1152x504 with 1 Axes>"
            ]
          },
          "metadata": {},
          "output_type": "display_data"
        }
      ],
      "source": [
        "with plt.xkcd():\n",
        "    plt.subplots(figsize=(16, 7))\n",
        "    plt.plot(history.history[\"loss\"])\n",
        "    plt.plot(history.history[\"val_loss\"])\n",
        "    plt.title(\"Model loss\")\n",
        "    plt.ylabel(\"MAPE\")\n",
        "    plt.xlabel(\"Epoch\")\n",
        "    plt.legend([\"Train\", \"Validation\"], loc=\"upper left\")\n",
        "    plt.show()"
      ]
    },
    {
      "cell_type": "code",
      "execution_count": 45,
      "metadata": {
        "id": "mF_OXg5su-Kd"
      },
      "outputs": [],
      "source": [
        "submit(test, model, \"keras_v3\")"
      ]
    },
    {
      "cell_type": "code",
      "execution_count": 43,
      "metadata": {
        "colab": {
          "base_uri": "https://localhost:8080/"
        },
        "id": "wWLaMnqN1urZ",
        "outputId": "95b4a4cb-10fa-47be-920e-881dc95c0384"
      },
      "outputs": [
        {
          "data": {
            "text/plain": [
              "13.054428317183852"
            ]
          },
          "execution_count": 43,
          "metadata": {},
          "output_type": "execute_result"
        }
      ],
      "source": [
        "mean_absolute_percentage_error(y_valid, model.predict(X_valid)) * 100"
      ]
    },
    {
      "cell_type": "code",
      "execution_count": 44,
      "metadata": {
        "colab": {
          "base_uri": "https://localhost:8080/"
        },
        "id": "5GOI-DfoOZSY",
        "outputId": "7adfa0ee-ff1a-4def-87ee-b9186ecc3e45"
      },
      "outputs": [
        {
          "name": "stdout",
          "output_type": "stream",
          "text": [
            "INFO:tensorflow:Assets written to: models/kerqs_v3/assets\n"
          ]
        }
      ],
      "source": [
        "model.save(\"models/kerqs_v3\")"
      ]
    },
    {
      "cell_type": "code",
      "execution_count": 46,
      "metadata": {
        "colab": {
          "base_uri": "https://localhost:8080/"
        },
        "id": "QC3VY0ObOpwl",
        "outputId": "7a3415d6-40ed-40e1-eead-decc8fecbdfa"
      },
      "outputs": [
        {
          "name": "stdout",
          "output_type": "stream",
          "text": [
            "\n",
            "7-Zip [64] 16.02 : Copyright (c) 1999-2016 Igor Pavlov : 2016-05-21\n",
            "p7zip Version 16.02 (locale=en_US.UTF-8,Utf16=on,HugeFiles=on,64 bits,2 CPUs Intel(R) Xeon(R) CPU @ 2.30GHz (306F0),ASM,AES-NI)\n",
            "\n",
            "Scanning the drive:\n",
            "  0M Scan \b\b\b\b\b\b\b\b\b\b          \b\b\b\b\b\b\b\b\b\b3 folders, 4 files, 9633805 bytes (9409 KiB)\n",
            "\n",
            "Creating archive: models/kerqs_v3.7z\n",
            "\n",
            "Items to compress: 7\n",
            "\n",
            "  0%\b\b\b\b    \b\b\b\b  9% 2 + models/kerqs_v3/variables/variables.data-00000-of-00001\b\b\b\b\b\b\b\b\b\b\b\b\b\b\b\b\b\b\b\b\b\b\b\b\b\b\b\b\b\b\b\b\b\b\b\b\b\b\b\b\b\b\b\b\b\b\b\b\b\b\b\b\b\b\b\b\b\b\b\b\b\b\b\b                                                                \b\b\b\b\b\b\b\b\b\b\b\b\b\b\b\b\b\b\b\b\b\b\b\b\b\b\b\b\b\b\b\b\b\b\b\b\b\b\b\b\b\b\b\b\b\b\b\b\b\b\b\b\b\b\b\b\b\b\b\b\b\b\b\b 21% 2 + models/kerqs_v3/variables/variables.data-00000-of-00001\b\b\b\b\b\b\b\b\b\b\b\b\b\b\b\b\b\b\b\b\b\b\b\b\b\b\b\b\b\b\b\b\b\b\b\b\b\b\b\b\b\b\b\b\b\b\b\b\b\b\b\b\b\b\b\b\b\b\b\b\b\b\b\b                                                                \b\b\b\b\b\b\b\b\b\b\b\b\b\b\b\b\b\b\b\b\b\b\b\b\b\b\b\b\b\b\b\b\b\b\b\b\b\b\b\b\b\b\b\b\b\b\b\b\b\b\b\b\b\b\b\b\b\b\b\b\b\b\b\b 33% 2 + models/kerqs_v3/variables/variables.data-00000-of-00001\b\b\b\b\b\b\b\b\b\b\b\b\b\b\b\b\b\b\b\b\b\b\b\b\b\b\b\b\b\b\b\b\b\b\b\b\b\b\b\b\b\b\b\b\b\b\b\b\b\b\b\b\b\b\b\b\b\b\b\b\b\b\b\b                                                                \b\b\b\b\b\b\b\b\b\b\b\b\b\b\b\b\b\b\b\b\b\b\b\b\b\b\b\b\b\b\b\b\b\b\b\b\b\b\b\b\b\b\b\b\b\b\b\b\b\b\b\b\b\b\b\b\b\b\b\b\b\b\b\b 43% 2 + models/kerqs_v3/variables/variables.data-00000-of-00001\b\b\b\b\b\b\b\b\b\b\b\b\b\b\b\b\b\b\b\b\b\b\b\b\b\b\b\b\b\b\b\b\b\b\b\b\b\b\b\b\b\b\b\b\b\b\b\b\b\b\b\b\b\b\b\b\b\b\b\b\b\b\b\b                                                                \b\b\b\b\b\b\b\b\b\b\b\b\b\b\b\b\b\b\b\b\b\b\b\b\b\b\b\b\b\b\b\b\b\b\b\b\b\b\b\b\b\b\b\b\b\b\b\b\b\b\b\b\b\b\b\b\b\b\b\b\b\b\b\b 59% 2 + models/kerqs_v3/variables/variables.data-00000-of-00001\b\b\b\b\b\b\b\b\b\b\b\b\b\b\b\b\b\b\b\b\b\b\b\b\b\b\b\b\b\b\b\b\b\b\b\b\b\b\b\b\b\b\b\b\b\b\b\b\b\b\b\b\b\b\b\b\b\b\b\b\b\b\b\b                                                                \b\b\b\b\b\b\b\b\b\b\b\b\b\b\b\b\b\b\b\b\b\b\b\b\b\b\b\b\b\b\b\b\b\b\b\b\b\b\b\b\b\b\b\b\b\b\b\b\b\b\b\b\b\b\b\b\b\b\b\b\b\b\b\b 69% 2 + models/kerqs_v3/variables/variables.data-00000-of-00001\b\b\b\b\b\b\b\b\b\b\b\b\b\b\b\b\b\b\b\b\b\b\b\b\b\b\b\b\b\b\b\b\b\b\b\b\b\b\b\b\b\b\b\b\b\b\b\b\b\b\b\b\b\b\b\b\b\b\b\b\b\b\b\b                                                                \b\b\b\b\b\b\b\b\b\b\b\b\b\b\b\b\b\b\b\b\b\b\b\b\b\b\b\b\b\b\b\b\b\b\b\b\b\b\b\b\b\b\b\b\b\b\b\b\b\b\b\b\b\b\b\b\b\b\b\b\b\b\b\b 80% 2 + models/kerqs_v3/variables/variables.data-00000-of-00001\b\b\b\b\b\b\b\b\b\b\b\b\b\b\b\b\b\b\b\b\b\b\b\b\b\b\b\b\b\b\b\b\b\b\b\b\b\b\b\b\b\b\b\b\b\b\b\b\b\b\b\b\b\b\b\b\b\b\b\b\b\b\b\b                                                                \b\b\b\b\b\b\b\b\b\b\b\b\b\b\b\b\b\b\b\b\b\b\b\b\b\b\b\b\b\b\b\b\b\b\b\b\b\b\b\b\b\b\b\b\b\b\b\b\b\b\b\b\b\b\b\b\b\b\b\b\b\b\b\b 91% 3 + models/kerqs_v3/variables/variables.index\b\b\b\b\b\b\b\b\b\b\b\b\b\b\b\b\b\b\b\b\b\b\b\b\b\b\b\b\b\b\b\b\b\b\b\b\b\b\b\b\b\b\b\b\b\b\b\b\b\b                                                  \b\b\b\b\b\b\b\b\b\b\b\b\b\b\b\b\b\b\b\b\b\b\b\b\b\b\b\b\b\b\b\b\b\b\b\b\b\b\b\b\b\b\b\b\b\b\b\b\b\b\n",
            "Files read from disk: 4\n",
            "Archive size: 7122235 bytes (6956 KiB)\n",
            "Everything is Ok\n"
          ]
        }
      ],
      "source": [
        "!7z a models/kerqs_v3.7z models/kerqs_v3"
      ]
    }
  ],
  "metadata": {
    "accelerator": "GPU",
    "colab": {
      "collapsed_sections": [],
      "name": "model_keras_v3.ipynb",
      "provenance": []
    },
    "interpreter": {
      "hash": "18c8beab3d7bdbea7072e7ffd666dca59d9b9f5eee368412de5a2d7274817a0b"
    },
    "kernelspec": {
      "display_name": "Python 3.9.7 ('base')",
      "language": "python",
      "name": "python3"
    },
    "language_info": {
      "codemirror_mode": {
        "name": "ipython",
        "version": 3
      },
      "file_extension": ".py",
      "mimetype": "text/x-python",
      "name": "python",
      "nbconvert_exporter": "python",
      "pygments_lexer": "ipython3",
      "version": "3.9.7"
    },
    "orig_nbformat": 4
  },
  "nbformat": 4,
  "nbformat_minor": 0
}
