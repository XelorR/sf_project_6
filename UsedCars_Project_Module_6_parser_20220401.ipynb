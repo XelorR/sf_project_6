{
 "cells": [
  {
   "cell_type": "code",
   "execution_count": 1,
   "id": "1cfa597c",
   "metadata": {},
   "outputs": [],
   "source": [
    "import re\n",
    "import time\n",
    "import json\n",
    "import random\n",
    "import os\n",
    "import glob\n",
    "from warnings import filterwarnings\n",
    "\n",
    "import pandas as pd\n",
    "\n",
    "from selenium import webdriver\n",
    "from selenium.webdriver.common.by import By\n",
    "from selenium.webdriver.chrome.service import Service\n",
    "from webdriver_manager.chrome import ChromeDriverManager\n",
    "from selenium.common.exceptions import NoSuchElementException\n",
    "\n",
    "from tqdm import tqdm\n",
    "\n",
    "filterwarnings(\"ignore\")"
   ]
  },
  {
   "cell_type": "code",
   "execution_count": 2,
   "id": "3e13209a",
   "metadata": {},
   "outputs": [],
   "source": [
    "pd.set_option('display.max_rows', 100)\n",
    "pd.set_option('display.max_columns', 100)"
   ]
  },
  {
   "cell_type": "code",
   "execution_count": 3,
   "id": "55e21d5a",
   "metadata": {},
   "outputs": [],
   "source": [
    "valid_data = pd.DataFrame()\n",
    "catalog_data = pd.DataFrame()"
   ]
  },
  {
   "cell_type": "code",
   "execution_count": 4,
   "id": "6e925a45",
   "metadata": {},
   "outputs": [
    {
     "name": "stderr",
     "output_type": "stream",
     "text": [
      "\n",
      "\n",
      "====== WebDriver manager ======\n",
      "Current google-chrome version is 100.0.4896\n",
      "Get LATEST chromedriver version for 100.0.4896 google-chrome\n",
      "Driver [C:\\Users\\polyape1\\.wdm\\drivers\\chromedriver\\win32\\100.0.4896.60\\chromedriver.exe] found in cache\n"
     ]
    }
   ],
   "source": [
    "options = webdriver.ChromeOptions()\n",
    "driver = webdriver.Chrome(service=Service(ChromeDriverManager().install()), options=options)"
   ]
  },
  {
   "cell_type": "code",
   "execution_count": 5,
   "id": "129e0b6d",
   "metadata": {},
   "outputs": [],
   "source": [
    "regions = [\n",
    "    \"leningradskaya_oblast\",\n",
    "    # \"moskovskaya_oblast\"\n",
    "]\n",
    "models = [\n",
    "    \"skoda\",\n",
    "    \"audi\",\n",
    "    \"honda\",\n",
    "    \"volvo\",\n",
    "    \"bmw\",\n",
    "    \"nissan\",\n",
    "    \"infiniti\",\n",
    "    \"mercedes\",\n",
    "    \"toyota\",\n",
    "    \"lexus\",\n",
    "    \"volkswagen\"\n",
    "]"
   ]
  },
  {
   "cell_type": "markdown",
   "id": "412b0528",
   "metadata": {},
   "source": [
    "## Function block"
   ]
  },
  {
   "cell_type": "code",
   "execution_count": 6,
   "id": "531256b2",
   "metadata": {},
   "outputs": [],
   "source": [
    "def get_urls_for_model_in_region(model: str, region: str) -> list:\n",
    "    '''\n",
    "    Function that takes model and region and parsing urls for vehicle to list\n",
    "    '''\n",
    "    result_list = []\n",
    "    cnt = True\n",
    "    page_num = 1\n",
    "    \n",
    "    while cnt is True and page_num <= 99:\n",
    "        try:\n",
    "            driver.get(f'https://auto.ru/{region}/cars/{model}/used/?page={page_num}')\n",
    "            next_page = driver.find_element(By.CLASS_NAME, 'ListingItemTitle__link')\n",
    "            page_links = driver.find_elements(By.CLASS_NAME, 'ListingItemTitle__link')\n",
    "\n",
    "            for item in page_links:\n",
    "                result_list.append(item.get_attribute('href'))\n",
    "            print(f'Parsing {page_num} page for {model} in {region}', end='\\r')\n",
    "            page_num += 1\n",
    "        except NoSuchElementException:\n",
    "            cnt = False\n",
    "            print()\n",
    "            print(f'There are {page_num - 1} pages by {model}')\n",
    "    \n",
    "    return result_list"
   ]
  },
  {
   "cell_type": "code",
   "execution_count": 7,
   "id": "d046b803",
   "metadata": {},
   "outputs": [],
   "source": [
    "def get_car_info(url: str) -> list:\n",
    "    '''\n",
    "    Function to parse each car URL\n",
    "    '''\n",
    "    driver.get(url)\n",
    "    \n",
    "    year = int(driver.find_element(By.CLASS_NAME, 'CardInfoRow_year').text.split('\\n')[1])\n",
    "    \n",
    "    car = driver.find_elements(By.CLASS_NAME,'CardBreadcrumbs__itemText')\n",
    "    brand = car[3].text\n",
    "    model = car[4].text\n",
    "    \n",
    "    car_url = url\n",
    "    \n",
    "    bodytype = driver.find_element(By.CLASS_NAME, 'CardInfoRow_bodytype').text.split('\\n')[1]\n",
    "    kmage = int(re.sub('\\D', '', driver.find_element(By.CLASS_NAME, 'CardInfoRow_kmAge').text))\n",
    "    color = driver.find_element(By.CLASS_NAME, 'CardInfoRow_color').text.split('\\n')[1]\n",
    "    \n",
    "    engine = driver.find_element(By.CLASS_NAME, 'CardInfoRow_engine').text.split('/')\n",
    "    \n",
    "    try:\n",
    "        engineDisplacement = float(re.findall('(\\d+.\\d+)', engine[0])[0])\n",
    "        enginePower = int(re.findall('\\d+', engine[1])[0])\n",
    "        fuelType = engine[2]\n",
    "    except IndexError:\n",
    "        engineDisplacement = 0\n",
    "        enginePower = 0\n",
    "        fuelType = engine\n",
    "    \n",
    "    super_gen = json.loads(driver.find_element(By.ID, 'sale-data-attributes').get_attribute('data-bem'))['sale-data-attributes']\n",
    "    \n",
    "    vehicleTransmission = driver.find_element(By.CLASS_NAME, 'CardInfoRow_transmission').text.split('\\n')[1]\n",
    "    drive = driver.find_element(By.CLASS_NAME, 'CardInfoRow_drive').text.split('\\n')[1]\n",
    "    wheel = driver.find_element(By.CLASS_NAME, 'CardInfoRow_wheel').text.split('\\n')[1]\n",
    "    state = driver.find_element(By.CLASS_NAME, 'CardInfoRow_state').text.split('\\n')[1]\n",
    "    owner = driver.find_element(By.CLASS_NAME, 'CardInfoRow_ownersCount').text.split('\\n')[1]\n",
    "    pts = driver.find_element(By.CLASS_NAME, 'CardInfoRow_pts').text.split('\\n')[1]\n",
    "    customs = driver.find_element(By.CLASS_NAME, 'CardInfoRow_customs').text.split('\\n')[1]\n",
    "    \n",
    "    try:\n",
    "        owningTime = driver.find_element(By.CLASS_NAME, 'CardInfoRow_owningTime').text.split('\\n')[1]\n",
    "    except NoSuchElementException:\n",
    "        owningTime = None\n",
    "    \n",
    "    try:\n",
    "        description = driver.find_element(By.CLASS_NAME, 'CardDescriptionHTML').text\n",
    "    except NoSuchElementException:\n",
    "        description = None\n",
    "    \n",
    "    sell_id = int(re.findall('\\d+', driver.find_element(By.CLASS_NAME, 'CardHead__id').text)[0])\n",
    "    price = int(re.sub('\\D', '', driver.find_element(By.CLASS_NAME, 'OfferPriceCaption__price').text))\n",
    "    \n",
    "    complect_list = []\n",
    "    \n",
    "    complect_data = driver.find_elements(By.CLASS_NAME, 'ComplectationGroupsDesktop__itemList')\n",
    "\n",
    "    for item in complect_data:\n",
    "        complect_list.extend(item.text.replace('\\n', '').split('•')[1:])\n",
    "    \n",
    "    try:\n",
    "        catalog_url = driver.find_element(By.CLASS_NAME, 'CardCatalogLink').get_attribute('href')\n",
    "    except NoSuchElementException:\n",
    "        catalog_url = 'No catalog link'\n",
    "    \n",
    "    \n",
    "    data_dict = {\n",
    "        'brand': brand, 'model': model, 'year': year, 'bodytype': bodytype, 'kmage': kmage,\n",
    "        'color': color, 'engineDisplacement': engineDisplacement, 'enginePower': enginePower, \n",
    "        'fuelType': fuelType, 'super_gen': super_gen, 'vehicleTransmission': vehicleTransmission,\n",
    "        'drive': drive, 'wheel': wheel, 'state': state, 'owner': owner, 'pts': pts, 'customs': customs, \n",
    "        'owningTime': owningTime, 'description': description, 'sell_id': sell_id, 'price': price, \n",
    "        'car_url': car_url, 'catalog_url': catalog_url, 'equipment_dict': complect_list\n",
    "    }\n",
    "    \n",
    "    return data_dict"
   ]
  },
  {
   "cell_type": "code",
   "execution_count": 8,
   "id": "14b718ee",
   "metadata": {},
   "outputs": [],
   "source": [
    "def get_dicts_from_catalog(url: str) -> list:\n",
    "    '''\n",
    "    Function to parse catalog URL\n",
    "    '''\n",
    "    driver.get(url)\n",
    "\n",
    "    car_info_full = driver.find_elements(By.CLASS_NAME, 'list-values')\n",
    "    \n",
    "    car_info_dict_ru = {}\n",
    "    \n",
    "    for item in car_info_full:\n",
    "        el = item.text.split('\\n')\n",
    "        for i in range(0, len(el) - 1, 2):\n",
    "            car_info_dict_ru[el[i]] = el[i + 1]\n",
    "    \n",
    "    engine_type_dict = {'бензин': 'GASOLINE', 'дизель': 'DIESEL', \n",
    "                        'гибрид': 'HYBRID', 'электро': 'ELECTRO', 'газ': 'LPG',\n",
    "                        'СУГ': 'LPG'}\n",
    "    gear_type_dict = {'передний': 'FORWARD_CONTROL', 'полный': 'ALL_WHEEL_DRIVE', 'задний': 'REAR_DRIVE'}\n",
    "    transmission_dict = {'автомат': 'AUTOMATIC', 'робот': 'ROBOT', \n",
    "                         'механика': 'MECHANICAL', 'вариатор': 'VARIATOR'}\n",
    "    \n",
    "    if car_info_dict_ru['Тип двигателя'] not in ['электро']:\n",
    "        if car_info_dict_ru.get('Расход топлива, л город/трасса/смешанный') is not None:\n",
    "            fuel_rate = float(car_info_dict_ru['Расход топлива, л город/трасса/смешанный'].split('/')[2])\n",
    "        elif car_info_dict_ru.get('Расход топлива, л смешанный') is not None:\n",
    "            fuel_rate = float(car_info_dict_ru['Расход топлива, л смешанный'])\n",
    "        elif car_info_dict_ru.get('Расход топлива, л город/смешанный') is not None:\n",
    "            fuel_rate = float(car_info_dict_ru['Расход топлива, л город/смешанный'].split('/')[1])\n",
    "        elif car_info_dict_ru.get('Расход топлива, л город/трасса') is not None:\n",
    "            fuel_rate = sum(map(float, car_info_dict_ru['Расход топлива, л город/трасса'].split('/'))) / 2\n",
    "        else:\n",
    "            fuel_rate = None\n",
    "    else:\n",
    "        fuel_rate = float(car_info_dict_ru['Запас хода на электричестве, км'])\n",
    "        \n",
    "    try:\n",
    "        clearance_min = min(map(int, re.findall('\\d+', car_info_dict_ru['Клиренс'])))\n",
    "    except KeyError:\n",
    "        clearance_min = None\n",
    "    \n",
    "    car_info_dict_en = {\n",
    "        'engine_type': engine_type_dict[car_info_dict_ru['Тип двигателя']],\n",
    "        'gear_type': gear_type_dict[car_info_dict_ru['Привод']],\n",
    "        'transmission': transmission_dict[car_info_dict_ru['Коробка']],\n",
    "        'power': int(re.findall('\\d+', car_info_dict_ru['Мощность'])[0]),\n",
    "        'power_kvt': int(re.findall('\\d+', car_info_dict_ru['Максимальная мощность, л.с./кВт при об/мин'])[1]),\n",
    "        'acceleration': car_info_dict_ru.get('Разгон до 100 км/ч, с'),\n",
    "        'clearance_min': clearance_min,\n",
    "        'fuel_rate': fuel_rate\n",
    "    }\n",
    "    \n",
    "    url2 = url.replace('specifications', 'equipment')\n",
    "    \n",
    "    driver.get(url2)\n",
    "\n",
    "    equipment_list = []\n",
    "\n",
    "    equipment_data = driver.find_elements(By.CLASS_NAME, 'catalog__package-list-i')\n",
    "    for item in equipment_data:\n",
    "        equipment_list.append(item.text)\n",
    "    \n",
    "    car_data = json.loads(driver.find_element(By.CLASS_NAME, 'search-form-v2-mmm').get_attribute('data-bem'))\n",
    "    equip_data = json.loads(driver.find_element(By.CLASS_NAME, 'catalog__section').get_attribute('data-bem'))\n",
    "    attrib_data = json.loads(driver.find_element(By.CLASS_NAME, 'sale-data-attributes').get_attribute('data-bem'))\n",
    "    \n",
    "    return {'catalog_url': url, 'super_gen_2': car_info_dict_en, 'super_gen_3': attrib_data, 'complectation_dict': equipment_list}"
   ]
  },
  {
   "cell_type": "markdown",
   "id": "62d08824",
   "metadata": {},
   "source": [
    "## Gathering URLs from MODEL pages in Regions and getting main info from car page"
   ]
  },
  {
   "cell_type": "code",
   "execution_count": 9,
   "id": "9a953351",
   "metadata": {
    "collapsed": true,
    "jupyter": {
     "outputs_hidden": true
    },
    "tags": []
   },
   "outputs": [
    {
     "name": "stdout",
     "output_type": "stream",
     "text": [
      "Parsing 26 page for skoda in leningradskaya_oblast\n",
      "There are 26 pages by skoda\n"
     ]
    },
    {
     "name": "stderr",
     "output_type": "stream",
     "text": [
      "  8%|███▊                                             | 74/946 [05:45<47:49,  3.29s/it]"
     ]
    },
    {
     "name": "stdout",
     "output_type": "stream",
     "text": [
      "Error 404\r"
     ]
    },
    {
     "name": "stderr",
     "output_type": "stream",
     "text": [
      " 12%|█████▌                                          | 110/946 [08:35<49:17,  3.54s/it]"
     ]
    },
    {
     "name": "stdout",
     "output_type": "stream",
     "text": [
      "Error 404\r"
     ]
    },
    {
     "name": "stderr",
     "output_type": "stream",
     "text": [
      " 14%|██████▍                                         | 128/946 [10:03<45:41,  3.35s/it]"
     ]
    },
    {
     "name": "stdout",
     "output_type": "stream",
     "text": [
      "Error 404\r"
     ]
    },
    {
     "name": "stderr",
     "output_type": "stream",
     "text": [
      " 20%|█████████▍                                      | 187/946 [14:25<52:23,  4.14s/it]"
     ]
    },
    {
     "name": "stdout",
     "output_type": "stream",
     "text": [
      "Error 404\r"
     ]
    },
    {
     "name": "stderr",
     "output_type": "stream",
     "text": [
      " 22%|██████████▌                                     | 209/946 [16:02<54:11,  4.41s/it]"
     ]
    },
    {
     "name": "stdout",
     "output_type": "stream",
     "text": [
      "Error 404\r"
     ]
    },
    {
     "name": "stderr",
     "output_type": "stream",
     "text": [
      " 24%|███████████▌                                    | 227/946 [17:15<36:06,  3.01s/it]"
     ]
    },
    {
     "name": "stdout",
     "output_type": "stream",
     "text": [
      "Error 404\r"
     ]
    },
    {
     "name": "stderr",
     "output_type": "stream",
     "text": [
      " 38%|██████████████████▎                             | 360/946 [26:48<35:27,  3.63s/it]"
     ]
    },
    {
     "name": "stdout",
     "output_type": "stream",
     "text": [
      "Error 404\r"
     ]
    },
    {
     "name": "stderr",
     "output_type": "stream",
     "text": [
      " 48%|███████████████████████▏                        | 456/946 [33:11<22:16,  2.73s/it]"
     ]
    },
    {
     "name": "stdout",
     "output_type": "stream",
     "text": [
      "Error 404\r"
     ]
    },
    {
     "name": "stderr",
     "output_type": "stream",
     "text": [
      " 55%|██████████████████████████▏                     | 516/946 [37:05<20:06,  2.81s/it]"
     ]
    },
    {
     "name": "stdout",
     "output_type": "stream",
     "text": [
      "Error 404\r"
     ]
    },
    {
     "name": "stderr",
     "output_type": "stream",
     "text": [
      " 62%|█████████████████████████████▋                  | 584/946 [42:21<23:07,  3.83s/it]"
     ]
    },
    {
     "name": "stdout",
     "output_type": "stream",
     "text": [
      "Error 404\r"
     ]
    },
    {
     "name": "stderr",
     "output_type": "stream",
     "text": [
      " 64%|██████████████████████████████▌                 | 602/946 [43:40<18:46,  3.28s/it]"
     ]
    },
    {
     "name": "stdout",
     "output_type": "stream",
     "text": [
      "Error 404\r"
     ]
    },
    {
     "name": "stderr",
     "output_type": "stream",
     "text": [
      " 71%|██████████████████████████████████              | 671/946 [49:20<21:58,  4.80s/it]"
     ]
    },
    {
     "name": "stdout",
     "output_type": "stream",
     "text": [
      "Error 404\r"
     ]
    },
    {
     "name": "stderr",
     "output_type": "stream",
     "text": [
      " 84%|████████████████████████████████████████        | 790/946 [58:19<09:11,  3.53s/it]"
     ]
    },
    {
     "name": "stdout",
     "output_type": "stream",
     "text": [
      "Error 404\r"
     ]
    },
    {
     "name": "stderr",
     "output_type": "stream",
     "text": [
      " 88%|████████████████████████████████████████▎     | 828/946 [1:01:06<05:46,  2.94s/it]"
     ]
    },
    {
     "name": "stdout",
     "output_type": "stream",
     "text": [
      "Error 404\r"
     ]
    },
    {
     "name": "stderr",
     "output_type": "stream",
     "text": [
      " 92%|██████████████████████████████████████████▎   | 869/946 [1:03:46<03:54,  3.04s/it]"
     ]
    },
    {
     "name": "stdout",
     "output_type": "stream",
     "text": [
      "Error 404\r"
     ]
    },
    {
     "name": "stderr",
     "output_type": "stream",
     "text": [
      "100%|██████████████████████████████████████████████| 946/946 [1:08:56<00:00,  4.37s/it]\n"
     ]
    },
    {
     "name": "stdout",
     "output_type": "stream",
     "text": [
      "Parsing 24 page for audi in leningradskaya_oblast\n",
      "There are 24 pages by audi\n"
     ]
    },
    {
     "name": "stderr",
     "output_type": "stream",
     "text": [
      "  6%|██▊                                              | 51/890 [03:41<43:25,  3.11s/it]"
     ]
    },
    {
     "name": "stdout",
     "output_type": "stream",
     "text": [
      "Error 404\r"
     ]
    },
    {
     "name": "stderr",
     "output_type": "stream",
     "text": [
      " 12%|█████▊                                          | 107/890 [07:40<48:24,  3.71s/it]"
     ]
    },
    {
     "name": "stdout",
     "output_type": "stream",
     "text": [
      "Error 404\r"
     ]
    },
    {
     "name": "stderr",
     "output_type": "stream",
     "text": [
      " 14%|██████▊                                         | 127/890 [08:55<38:41,  3.04s/it]"
     ]
    },
    {
     "name": "stdout",
     "output_type": "stream",
     "text": [
      "Error 404\r"
     ]
    },
    {
     "name": "stderr",
     "output_type": "stream",
     "text": [
      " 20%|█████████▋                                      | 180/890 [12:20<37:59,  3.21s/it]"
     ]
    },
    {
     "name": "stdout",
     "output_type": "stream",
     "text": [
      "Error 404\r"
     ]
    },
    {
     "name": "stderr",
     "output_type": "stream",
     "text": [
      " 24%|███████████▌                                    | 215/890 [14:31<31:48,  2.83s/it]"
     ]
    },
    {
     "name": "stdout",
     "output_type": "stream",
     "text": [
      "Error 404\r"
     ]
    },
    {
     "name": "stderr",
     "output_type": "stream",
     "text": [
      " 30%|██████████████▎                                 | 266/890 [17:42<30:09,  2.90s/it]"
     ]
    },
    {
     "name": "stdout",
     "output_type": "stream",
     "text": [
      "Error 404\r"
     ]
    },
    {
     "name": "stderr",
     "output_type": "stream",
     "text": [
      " 31%|██████████████▊                                 | 275/890 [18:12<34:24,  3.36s/it]"
     ]
    },
    {
     "name": "stdout",
     "output_type": "stream",
     "text": [
      "Error 404\r"
     ]
    },
    {
     "name": "stderr",
     "output_type": "stream",
     "text": [
      " 37%|█████████████████▌                              | 326/890 [21:52<31:56,  3.40s/it]"
     ]
    },
    {
     "name": "stdout",
     "output_type": "stream",
     "text": [
      "Error 404\r"
     ]
    },
    {
     "name": "stderr",
     "output_type": "stream",
     "text": [
      " 47%|██████████████████████▍                         | 416/890 [28:01<25:02,  3.17s/it]"
     ]
    },
    {
     "name": "stdout",
     "output_type": "stream",
     "text": [
      "Error 404\r"
     ]
    },
    {
     "name": "stderr",
     "output_type": "stream",
     "text": [
      " 54%|██████████████████████████                      | 483/890 [32:36<20:03,  2.96s/it]"
     ]
    },
    {
     "name": "stdout",
     "output_type": "stream",
     "text": [
      "Error 404\r"
     ]
    },
    {
     "name": "stderr",
     "output_type": "stream",
     "text": [
      " 63%|██████████████████████████████▍                 | 564/890 [38:05<15:33,  2.86s/it]"
     ]
    },
    {
     "name": "stdout",
     "output_type": "stream",
     "text": [
      "Error 404\r"
     ]
    },
    {
     "name": "stderr",
     "output_type": "stream",
     "text": [
      " 80%|██████████████████████████████████████▍         | 712/890 [47:04<08:33,  2.88s/it]"
     ]
    },
    {
     "name": "stdout",
     "output_type": "stream",
     "text": [
      "Error 404\r"
     ]
    },
    {
     "name": "stderr",
     "output_type": "stream",
     "text": [
      " 80%|██████████████████████████████████████▌         | 716/890 [47:15<07:17,  2.51s/it]"
     ]
    },
    {
     "name": "stdout",
     "output_type": "stream",
     "text": [
      "Error 404\r"
     ]
    },
    {
     "name": "stderr",
     "output_type": "stream",
     "text": [
      " 81%|███████████████████████████████████████         | 725/890 [47:44<09:04,  3.30s/it]"
     ]
    },
    {
     "name": "stdout",
     "output_type": "stream",
     "text": [
      "Error 404\r"
     ]
    },
    {
     "name": "stderr",
     "output_type": "stream",
     "text": [
      " 88%|██████████████████████████████████████████▏     | 782/890 [51:08<04:46,  2.65s/it]"
     ]
    },
    {
     "name": "stdout",
     "output_type": "stream",
     "text": [
      "Error 404\r"
     ]
    },
    {
     "name": "stderr",
     "output_type": "stream",
     "text": [
      " 92%|████████████████████████████████████████████    | 817/890 [53:09<03:17,  2.71s/it]"
     ]
    },
    {
     "name": "stdout",
     "output_type": "stream",
     "text": [
      "Error 404\r"
     ]
    },
    {
     "name": "stderr",
     "output_type": "stream",
     "text": [
      " 93%|████████████████████████████████████████████▊   | 831/890 [53:57<03:22,  3.44s/it]"
     ]
    },
    {
     "name": "stdout",
     "output_type": "stream",
     "text": [
      "Error 404\r"
     ]
    },
    {
     "name": "stderr",
     "output_type": "stream",
     "text": [
      " 96%|██████████████████████████████████████████████  | 854/890 [55:16<02:04,  3.45s/it]"
     ]
    },
    {
     "name": "stdout",
     "output_type": "stream",
     "text": [
      "Error 404\r"
     ]
    },
    {
     "name": "stderr",
     "output_type": "stream",
     "text": [
      " 97%|██████████████████████████████████████████████▍ | 861/890 [55:38<01:14,  2.59s/it]"
     ]
    },
    {
     "name": "stdout",
     "output_type": "stream",
     "text": [
      "Error 404\r"
     ]
    },
    {
     "name": "stderr",
     "output_type": "stream",
     "text": [
      "100%|████████████████████████████████████████████████| 890/890 [57:19<00:00,  3.86s/it]\n"
     ]
    },
    {
     "name": "stdout",
     "output_type": "stream",
     "text": [
      "Parsing 6 page for honda in leningradskaya_oblast\n",
      "There are 6 pages by honda\n"
     ]
    },
    {
     "name": "stderr",
     "output_type": "stream",
     "text": [
      " 14%|██████▊                                          | 30/214 [01:45<08:31,  2.78s/it]"
     ]
    },
    {
     "name": "stdout",
     "output_type": "stream",
     "text": [
      "Error 404\r"
     ]
    },
    {
     "name": "stderr",
     "output_type": "stream",
     "text": [
      " 25%|████████████▏                                    | 53/214 [03:10<08:24,  3.13s/it]"
     ]
    },
    {
     "name": "stdout",
     "output_type": "stream",
     "text": [
      "Error 404\r"
     ]
    },
    {
     "name": "stderr",
     "output_type": "stream",
     "text": [
      " 78%|█████████████████████████████████████▏          | 166/214 [09:52<02:08,  2.67s/it]"
     ]
    },
    {
     "name": "stdout",
     "output_type": "stream",
     "text": [
      "Error 404\r"
     ]
    },
    {
     "name": "stderr",
     "output_type": "stream",
     "text": [
      " 89%|██████████████████████████████████████████▌     | 190/214 [11:16<01:15,  3.15s/it]"
     ]
    },
    {
     "name": "stdout",
     "output_type": "stream",
     "text": [
      "Error 404\r"
     ]
    },
    {
     "name": "stderr",
     "output_type": "stream",
     "text": [
      "100%|████████████████████████████████████████████████| 214/214 [12:33<00:00,  3.52s/it]\n"
     ]
    },
    {
     "name": "stdout",
     "output_type": "stream",
     "text": [
      "Parsing 10 page for volvo in leningradskaya_oblast\n",
      "There are 10 pages by volvo\n"
     ]
    },
    {
     "name": "stderr",
     "output_type": "stream",
     "text": [
      " 24%|███████████▉                                     | 89/366 [05:31<14:42,  3.19s/it]"
     ]
    },
    {
     "name": "stdout",
     "output_type": "stream",
     "text": [
      "Error 404\r"
     ]
    },
    {
     "name": "stderr",
     "output_type": "stream",
     "text": [
      " 31%|███████████████                                 | 115/366 [07:08<13:40,  3.27s/it]"
     ]
    },
    {
     "name": "stdout",
     "output_type": "stream",
     "text": [
      "Error 404\r"
     ]
    },
    {
     "name": "stderr",
     "output_type": "stream",
     "text": [
      " 46%|██████████████████████▎                         | 170/366 [10:39<11:08,  3.41s/it]"
     ]
    },
    {
     "name": "stdout",
     "output_type": "stream",
     "text": [
      "Error 404\r"
     ]
    },
    {
     "name": "stderr",
     "output_type": "stream",
     "text": [
      "100%|████████████████████████████████████████████████| 366/366 [23:07<00:00,  3.79s/it]\n"
     ]
    },
    {
     "name": "stdout",
     "output_type": "stream",
     "text": [
      "Parsing 39 page for bmw in leningradskaya_oblast\n",
      "There are 39 pages by bmw\n"
     ]
    },
    {
     "name": "stderr",
     "output_type": "stream",
     "text": [
      "  2%|▉                                             | 29/1451 [01:56<1:13:39,  3.11s/it]"
     ]
    },
    {
     "name": "stdout",
     "output_type": "stream",
     "text": [
      "Error 404\r"
     ]
    },
    {
     "name": "stderr",
     "output_type": "stream",
     "text": [
      "  4%|█▊                                            | 57/1451 [03:39<1:03:26,  2.73s/it]"
     ]
    },
    {
     "name": "stdout",
     "output_type": "stream",
     "text": [
      "Error 404\r"
     ]
    },
    {
     "name": "stderr",
     "output_type": "stream",
     "text": [
      " 13%|██████                                       | 194/1451 [12:37<1:12:17,  3.45s/it]"
     ]
    },
    {
     "name": "stdout",
     "output_type": "stream",
     "text": [
      "Error 404\r"
     ]
    },
    {
     "name": "stderr",
     "output_type": "stream",
     "text": [
      " 16%|███████▏                                     | 233/1451 [15:18<1:04:47,  3.19s/it]"
     ]
    },
    {
     "name": "stdout",
     "output_type": "stream",
     "text": [
      "Error 404\r"
     ]
    },
    {
     "name": "stderr",
     "output_type": "stream",
     "text": [
      " 18%|████████▌                                      | 265/1451 [17:22<55:27,  2.81s/it]"
     ]
    },
    {
     "name": "stdout",
     "output_type": "stream",
     "text": [
      "Error 404\r"
     ]
    },
    {
     "name": "stderr",
     "output_type": "stream",
     "text": [
      " 21%|█████████▍                                   | 303/1451 [19:53<1:16:18,  3.99s/it]"
     ]
    },
    {
     "name": "stdout",
     "output_type": "stream",
     "text": [
      "Error 404\r"
     ]
    },
    {
     "name": "stderr",
     "output_type": "stream",
     "text": [
      " 22%|██████████▏                                    | 313/1451 [20:28<56:44,  2.99s/it]"
     ]
    },
    {
     "name": "stdout",
     "output_type": "stream",
     "text": [
      "Error 404\r"
     ]
    },
    {
     "name": "stderr",
     "output_type": "stream",
     "text": [
      " 26%|████████████                                   | 372/1451 [24:19<52:29,  2.92s/it]"
     ]
    },
    {
     "name": "stdout",
     "output_type": "stream",
     "text": [
      "Error 404\r"
     ]
    },
    {
     "name": "stderr",
     "output_type": "stream",
     "text": [
      " 28%|████████████▉                                  | 400/1451 [26:08<53:49,  3.07s/it]"
     ]
    },
    {
     "name": "stdout",
     "output_type": "stream",
     "text": [
      "Error 404\r"
     ]
    },
    {
     "name": "stderr",
     "output_type": "stream",
     "text": [
      " 32%|███████████████                                | 464/1451 [30:05<49:14,  2.99s/it]"
     ]
    },
    {
     "name": "stdout",
     "output_type": "stream",
     "text": [
      "Error 404\r"
     ]
    },
    {
     "name": "stderr",
     "output_type": "stream",
     "text": [
      " 35%|████████████████▎                              | 502/1451 [32:26<47:54,  3.03s/it]"
     ]
    },
    {
     "name": "stdout",
     "output_type": "stream",
     "text": [
      "Error 404\r"
     ]
    },
    {
     "name": "stderr",
     "output_type": "stream",
     "text": [
      " 38%|██████████████████                             | 557/1451 [35:46<46:59,  3.15s/it]"
     ]
    },
    {
     "name": "stdout",
     "output_type": "stream",
     "text": [
      "Error 404\r"
     ]
    },
    {
     "name": "stderr",
     "output_type": "stream",
     "text": [
      " 41%|███████████████████▏                           | 591/1451 [37:56<43:05,  3.01s/it]"
     ]
    },
    {
     "name": "stdout",
     "output_type": "stream",
     "text": [
      "Error 404\r"
     ]
    },
    {
     "name": "stderr",
     "output_type": "stream",
     "text": [
      " 43%|████████████████████▍                          | 630/1451 [40:17<48:26,  3.54s/it]"
     ]
    },
    {
     "name": "stdout",
     "output_type": "stream",
     "text": [
      "Error 404\r"
     ]
    },
    {
     "name": "stderr",
     "output_type": "stream",
     "text": [
      " 47%|██████████████████████▎                        | 689/1451 [44:01<40:02,  3.15s/it]"
     ]
    },
    {
     "name": "stdout",
     "output_type": "stream",
     "text": [
      "Error 404\r"
     ]
    },
    {
     "name": "stderr",
     "output_type": "stream",
     "text": [
      " 51%|████████████████████████▏                      | 746/1451 [48:02<36:54,  3.14s/it]"
     ]
    },
    {
     "name": "stdout",
     "output_type": "stream",
     "text": [
      "Error 404\r"
     ]
    },
    {
     "name": "stderr",
     "output_type": "stream",
     "text": [
      " 53%|█████████████████████████                      | 775/1451 [49:47<34:22,  3.05s/it]"
     ]
    },
    {
     "name": "stdout",
     "output_type": "stream",
     "text": [
      "Error 404\r"
     ]
    },
    {
     "name": "stderr",
     "output_type": "stream",
     "text": [
      " 56%|██████████████████████████▍                    | 816/1451 [52:25<32:26,  3.07s/it]"
     ]
    },
    {
     "name": "stdout",
     "output_type": "stream",
     "text": [
      "Error 404\r"
     ]
    },
    {
     "name": "stderr",
     "output_type": "stream",
     "text": [
      " 58%|███████████████████████████▎                   | 845/1451 [54:19<40:26,  4.00s/it]"
     ]
    },
    {
     "name": "stdout",
     "output_type": "stream",
     "text": [
      "Error 404\r"
     ]
    },
    {
     "name": "stderr",
     "output_type": "stream",
     "text": [
      " 64%|██████████████████████████████                 | 927/1451 [59:34<25:54,  2.97s/it]"
     ]
    },
    {
     "name": "stdout",
     "output_type": "stream",
     "text": [
      "Error 404\r"
     ]
    },
    {
     "name": "stderr",
     "output_type": "stream",
     "text": [
      " 66%|█████████████████████████████▋               | 956/1451 [1:01:16<21:11,  2.57s/it]"
     ]
    },
    {
     "name": "stdout",
     "output_type": "stream",
     "text": [
      "Error 404\r"
     ]
    },
    {
     "name": "stderr",
     "output_type": "stream",
     "text": [
      " 76%|█████████████████████████████████▋          | 1109/1451 [1:10:55<15:33,  2.73s/it]"
     ]
    },
    {
     "name": "stdout",
     "output_type": "stream",
     "text": [
      "Error 404\r"
     ]
    },
    {
     "name": "stderr",
     "output_type": "stream",
     "text": [
      " 81%|███████████████████████████████████▊        | 1180/1451 [1:15:15<11:54,  2.64s/it]"
     ]
    },
    {
     "name": "stdout",
     "output_type": "stream",
     "text": [
      "Error 404\r"
     ]
    },
    {
     "name": "stderr",
     "output_type": "stream",
     "text": [
      " 85%|█████████████████████████████████████▏      | 1228/1451 [1:18:10<10:07,  2.72s/it]"
     ]
    },
    {
     "name": "stdout",
     "output_type": "stream",
     "text": [
      "Error 404\r"
     ]
    },
    {
     "name": "stderr",
     "output_type": "stream",
     "text": [
      " 86%|█████████████████████████████████████▊      | 1245/1451 [1:19:05<09:03,  2.64s/it]"
     ]
    },
    {
     "name": "stdout",
     "output_type": "stream",
     "text": [
      "Error 404\r"
     ]
    },
    {
     "name": "stderr",
     "output_type": "stream",
     "text": [
      " 91%|████████████████████████████████████████    | 1323/1451 [1:23:56<05:55,  2.77s/it]"
     ]
    },
    {
     "name": "stdout",
     "output_type": "stream",
     "text": [
      "Error 404\r"
     ]
    },
    {
     "name": "stderr",
     "output_type": "stream",
     "text": [
      " 97%|██████████████████████████████████████████▌ | 1402/1451 [1:28:58<01:58,  2.43s/it]"
     ]
    },
    {
     "name": "stdout",
     "output_type": "stream",
     "text": [
      "Error 404\r"
     ]
    },
    {
     "name": "stderr",
     "output_type": "stream",
     "text": [
      " 99%|███████████████████████████████████████████▌| 1435/1451 [1:30:51<00:41,  2.59s/it]"
     ]
    },
    {
     "name": "stdout",
     "output_type": "stream",
     "text": [
      "Error 404\r"
     ]
    },
    {
     "name": "stderr",
     "output_type": "stream",
     "text": [
      "100%|████████████████████████████████████████████| 1451/1451 [1:31:45<00:00,  3.79s/it]\n"
     ]
    },
    {
     "name": "stdout",
     "output_type": "stream",
     "text": [
      "Parsing 21 page for nissan in leningradskaya_oblast\n",
      "There are 21 pages by nissan\n"
     ]
    },
    {
     "name": "stderr",
     "output_type": "stream",
     "text": [
      "  7%|███▌                                             | 57/781 [03:28<33:56,  2.81s/it]"
     ]
    },
    {
     "name": "stdout",
     "output_type": "stream",
     "text": [
      "Error 404\r"
     ]
    },
    {
     "name": "stderr",
     "output_type": "stream",
     "text": [
      " 10%|████▊                                            | 76/781 [04:43<33:56,  2.89s/it]"
     ]
    },
    {
     "name": "stdout",
     "output_type": "stream",
     "text": [
      "Error 404\r"
     ]
    },
    {
     "name": "stderr",
     "output_type": "stream",
     "text": [
      " 15%|███████▍                                        | 120/781 [07:23<31:16,  2.84s/it]"
     ]
    },
    {
     "name": "stdout",
     "output_type": "stream",
     "text": [
      "Error 404\r"
     ]
    },
    {
     "name": "stderr",
     "output_type": "stream",
     "text": [
      " 28%|█████████████▍                                  | 218/781 [13:14<27:35,  2.94s/it]"
     ]
    },
    {
     "name": "stdout",
     "output_type": "stream",
     "text": [
      "Error 404\r"
     ]
    },
    {
     "name": "stderr",
     "output_type": "stream",
     "text": [
      " 32%|███████████████▍                                | 252/781 [15:13<26:57,  3.06s/it]"
     ]
    },
    {
     "name": "stdout",
     "output_type": "stream",
     "text": [
      "Error 404\r"
     ]
    },
    {
     "name": "stderr",
     "output_type": "stream",
     "text": [
      " 34%|███████████████                             | 268/781 [45:21<75:15:33, 528.14s/it]"
     ]
    },
    {
     "name": "stdout",
     "output_type": "stream",
     "text": [
      "Error 404\r"
     ]
    },
    {
     "name": "stderr",
     "output_type": "stream",
     "text": [
      " 34%|█████████████▊                          | 269/781 [4:15:55<591:36:37, 4159.76s/it]"
     ]
    },
    {
     "name": "stdout",
     "output_type": "stream",
     "text": [
      "Error 404\r"
     ]
    },
    {
     "name": "stderr",
     "output_type": "stream",
     "text": [
      " 35%|█████████████▊                          | 270/781 [4:39:47<474:18:10, 3341.47s/it]"
     ]
    },
    {
     "name": "stdout",
     "output_type": "stream",
     "text": [
      "Error 404\r"
     ]
    },
    {
     "name": "stderr",
     "output_type": "stream",
     "text": [
      " 37%|████████████████▎                           | 289/781 [4:41:56<1:15:05,  9.16s/it]"
     ]
    },
    {
     "name": "stdout",
     "output_type": "stream",
     "text": [
      "Error 404\r"
     ]
    },
    {
     "name": "stderr",
     "output_type": "stream",
     "text": [
      " 41%|██████████████████▊                           | 320/781 [4:45:37<41:25,  5.39s/it]"
     ]
    },
    {
     "name": "stdout",
     "output_type": "stream",
     "text": [
      "Error 404\r"
     ]
    },
    {
     "name": "stderr",
     "output_type": "stream",
     "text": [
      " 46%|████████████████████▉                         | 356/781 [4:49:38<36:03,  5.09s/it]"
     ]
    },
    {
     "name": "stdout",
     "output_type": "stream",
     "text": [
      "Error 404\r"
     ]
    },
    {
     "name": "stderr",
     "output_type": "stream",
     "text": [
      " 56%|█████████████████████████▋                    | 436/781 [4:58:28<30:45,  5.35s/it]"
     ]
    },
    {
     "name": "stdout",
     "output_type": "stream",
     "text": [
      "Error 404\r"
     ]
    },
    {
     "name": "stderr",
     "output_type": "stream",
     "text": [
      " 61%|████████████████████████████                  | 476/781 [5:02:55<24:14,  4.77s/it]"
     ]
    },
    {
     "name": "stdout",
     "output_type": "stream",
     "text": [
      "Error 404\r"
     ]
    },
    {
     "name": "stderr",
     "output_type": "stream",
     "text": [
      " 69%|███████████████████████████████▌              | 536/781 [5:07:56<10:51,  2.66s/it]"
     ]
    },
    {
     "name": "stdout",
     "output_type": "stream",
     "text": [
      "Error 404\r"
     ]
    },
    {
     "name": "stderr",
     "output_type": "stream",
     "text": [
      " 73%|█████████████████████████████████▌            | 569/781 [5:09:51<09:46,  2.76s/it]"
     ]
    },
    {
     "name": "stdout",
     "output_type": "stream",
     "text": [
      "Error 404\r"
     ]
    },
    {
     "name": "stderr",
     "output_type": "stream",
     "text": [
      " 79%|████████████████████████████████████▎         | 617/781 [5:12:41<07:27,  2.73s/it]"
     ]
    },
    {
     "name": "stdout",
     "output_type": "stream",
     "text": [
      "Error 404\r"
     ]
    },
    {
     "name": "stderr",
     "output_type": "stream",
     "text": [
      " 86%|███████████████████████████████████████▌      | 671/781 [5:15:58<04:51,  2.65s/it]"
     ]
    },
    {
     "name": "stdout",
     "output_type": "stream",
     "text": [
      "Error 404\r"
     ]
    },
    {
     "name": "stderr",
     "output_type": "stream",
     "text": [
      " 90%|█████████████████████████████████████████▎    | 701/781 [5:17:42<03:46,  2.84s/it]"
     ]
    },
    {
     "name": "stdout",
     "output_type": "stream",
     "text": [
      "Error 404\r"
     ]
    },
    {
     "name": "stderr",
     "output_type": "stream",
     "text": [
      " 98%|█████████████████████████████████████████████▏| 768/781 [5:21:40<00:36,  2.79s/it]"
     ]
    },
    {
     "name": "stdout",
     "output_type": "stream",
     "text": [
      "Error 404\r"
     ]
    },
    {
     "name": "stderr",
     "output_type": "stream",
     "text": [
      "100%|██████████████████████████████████████████████| 781/781 [5:22:25<00:00, 24.77s/it]\n"
     ]
    },
    {
     "name": "stdout",
     "output_type": "stream",
     "text": [
      "Parsing 3 page for infiniti in leningradskaya_oblast\n",
      "There are 3 pages by infiniti\n"
     ]
    },
    {
     "name": "stderr",
     "output_type": "stream",
     "text": [
      " 30%|█████████████▊                                | 33/110 [02:08<03:37,  2.83s/it]"
     ]
    },
    {
     "name": "stdout",
     "output_type": "stream",
     "text": [
      "Error 404\r"
     ]
    },
    {
     "name": "stderr",
     "output_type": "stream",
     "text": [
      " 50%|███████████████████████                       | 55/110 [03:37<03:04,  3.36s/it]"
     ]
    },
    {
     "name": "stdout",
     "output_type": "stream",
     "text": [
      "Error 404\r"
     ]
    },
    {
     "name": "stderr",
     "output_type": "stream",
     "text": [
      "100%|█████████████████████████████████████████████| 110/110 [07:08<00:00,  3.89s/it]\n"
     ]
    },
    {
     "name": "stdout",
     "output_type": "stream",
     "text": [
      "Parsing 39 page for mercedes in leningradskaya_oblast\n",
      "There are 39 pages by mercedes\n"
     ]
    },
    {
     "name": "stderr",
     "output_type": "stream",
     "text": [
      "  1%|▍                                          | 13/1434 [00:47<1:09:21,  2.93s/it]"
     ]
    },
    {
     "name": "stdout",
     "output_type": "stream",
     "text": [
      "Error 404\r"
     ]
    },
    {
     "name": "stderr",
     "output_type": "stream",
     "text": [
      "  3%|█▍                                         | 49/1434 [03:16<1:13:43,  3.19s/it]"
     ]
    },
    {
     "name": "stdout",
     "output_type": "stream",
     "text": [
      "Error 404\r"
     ]
    },
    {
     "name": "stderr",
     "output_type": "stream",
     "text": [
      "  6%|██▍                                        | 81/1434 [05:29<1:21:04,  3.60s/it]"
     ]
    },
    {
     "name": "stdout",
     "output_type": "stream",
     "text": [
      "Error 404\r"
     ]
    },
    {
     "name": "stderr",
     "output_type": "stream",
     "text": [
      " 10%|████▏                                     | 145/1434 [09:45<1:03:56,  2.98s/it]"
     ]
    },
    {
     "name": "stdout",
     "output_type": "stream",
     "text": [
      "Error 404\r"
     ]
    },
    {
     "name": "stderr",
     "output_type": "stream",
     "text": [
      " 11%|████▋                                     | 160/1434 [10:41<1:01:55,  2.92s/it]"
     ]
    },
    {
     "name": "stdout",
     "output_type": "stream",
     "text": [
      "Error 404\r"
     ]
    },
    {
     "name": "stderr",
     "output_type": "stream",
     "text": [
      " 15%|██████▍                                     | 210/1434 [14:05<58:27,  2.87s/it]"
     ]
    },
    {
     "name": "stdout",
     "output_type": "stream",
     "text": [
      "Error 404\r"
     ]
    },
    {
     "name": "stderr",
     "output_type": "stream",
     "text": [
      " 18%|███████▉                                    | 257/1434 [17:07<56:33,  2.88s/it]"
     ]
    },
    {
     "name": "stdout",
     "output_type": "stream",
     "text": [
      "Error 404\r"
     ]
    },
    {
     "name": "stderr",
     "output_type": "stream",
     "text": [
      " 20%|████████▋                                   | 283/1434 [18:48<59:35,  3.11s/it]"
     ]
    },
    {
     "name": "stdout",
     "output_type": "stream",
     "text": [
      "Error 404\r"
     ]
    },
    {
     "name": "stderr",
     "output_type": "stream",
     "text": [
      " 32%|█████████████▊                              | 452/1434 [29:38<50:06,  3.06s/it]"
     ]
    },
    {
     "name": "stdout",
     "output_type": "stream",
     "text": [
      "Error 404\r"
     ]
    },
    {
     "name": "stderr",
     "output_type": "stream",
     "text": [
      " 34%|██████████████▊                             | 483/1434 [31:48<51:12,  3.23s/it]"
     ]
    },
    {
     "name": "stdout",
     "output_type": "stream",
     "text": [
      "Error 404\r"
     ]
    },
    {
     "name": "stderr",
     "output_type": "stream",
     "text": [
      " 36%|███████████████▉                            | 520/1434 [34:17<44:52,  2.95s/it]"
     ]
    },
    {
     "name": "stdout",
     "output_type": "stream",
     "text": [
      "Error 404\r"
     ]
    },
    {
     "name": "stderr",
     "output_type": "stream",
     "text": [
      " 38%|████████████████▋                           | 545/1434 [36:03<55:54,  3.77s/it]"
     ]
    },
    {
     "name": "stdout",
     "output_type": "stream",
     "text": [
      "Error 404\r"
     ]
    },
    {
     "name": "stderr",
     "output_type": "stream",
     "text": [
      " 40%|█████████████████▍                          | 569/1434 [37:52<48:42,  3.38s/it]"
     ]
    },
    {
     "name": "stdout",
     "output_type": "stream",
     "text": [
      "Error 404\r"
     ]
    },
    {
     "name": "stderr",
     "output_type": "stream",
     "text": [
      " 43%|██████████████████▋                         | 611/1434 [40:38<44:46,  3.26s/it]"
     ]
    },
    {
     "name": "stdout",
     "output_type": "stream",
     "text": [
      "Error 404\r"
     ]
    },
    {
     "name": "stderr",
     "output_type": "stream",
     "text": [
      " 47%|████████████████████▋                       | 673/1434 [44:51<40:08,  3.16s/it]"
     ]
    },
    {
     "name": "stdout",
     "output_type": "stream",
     "text": [
      "Error 404\r"
     ]
    },
    {
     "name": "stderr",
     "output_type": "stream",
     "text": [
      " 48%|█████████████████████▏                      | 689/1434 [45:47<32:29,  2.62s/it]"
     ]
    },
    {
     "name": "stdout",
     "output_type": "stream",
     "text": [
      "Error 404\r"
     ]
    },
    {
     "name": "stderr",
     "output_type": "stream",
     "text": [
      " 52%|██████████████████████▊                     | 744/1434 [49:18<30:47,  2.68s/it]"
     ]
    },
    {
     "name": "stdout",
     "output_type": "stream",
     "text": [
      "Error 404\r"
     ]
    },
    {
     "name": "stderr",
     "output_type": "stream",
     "text": [
      " 56%|████████████████████████▍                   | 798/1434 [53:02<38:26,  3.63s/it]"
     ]
    },
    {
     "name": "stdout",
     "output_type": "stream",
     "text": [
      "Error 404\r"
     ]
    },
    {
     "name": "stderr",
     "output_type": "stream",
     "text": [
      " 58%|█████████████████████████▌                  | 834/1434 [55:10<29:56,  2.99s/it]"
     ]
    },
    {
     "name": "stdout",
     "output_type": "stream",
     "text": [
      "Error 404\r"
     ]
    },
    {
     "name": "stderr",
     "output_type": "stream",
     "text": [
      " 68%|████████████████████████████▌             | 976/1434 [1:03:54<20:18,  2.66s/it]"
     ]
    },
    {
     "name": "stdout",
     "output_type": "stream",
     "text": [
      "Error 404\r"
     ]
    },
    {
     "name": "stderr",
     "output_type": "stream",
     "text": [
      " 71%|█████████████████████████████            | 1017/1434 [1:06:23<18:49,  2.71s/it]"
     ]
    },
    {
     "name": "stdout",
     "output_type": "stream",
     "text": [
      "Error 404\r"
     ]
    },
    {
     "name": "stderr",
     "output_type": "stream",
     "text": [
      " 71%|█████████████████████████████▎           | 1025/1434 [1:06:50<19:37,  2.88s/it]"
     ]
    },
    {
     "name": "stdout",
     "output_type": "stream",
     "text": [
      "Error 404\r"
     ]
    },
    {
     "name": "stderr",
     "output_type": "stream",
     "text": [
      " 82%|█████████████████████████████████▍       | 1170/1434 [1:15:45<12:23,  2.82s/it]"
     ]
    },
    {
     "name": "stdout",
     "output_type": "stream",
     "text": [
      "Error 404\r"
     ]
    },
    {
     "name": "stderr",
     "output_type": "stream",
     "text": [
      " 84%|██████████████████████████████████▌      | 1211/1434 [1:18:14<09:33,  2.57s/it]"
     ]
    },
    {
     "name": "stdout",
     "output_type": "stream",
     "text": [
      "Error 404\r"
     ]
    },
    {
     "name": "stderr",
     "output_type": "stream",
     "text": [
      " 87%|███████████████████████████████████▊     | 1252/1434 [1:20:44<07:45,  2.56s/it]"
     ]
    },
    {
     "name": "stdout",
     "output_type": "stream",
     "text": [
      "Error 404\r"
     ]
    },
    {
     "name": "stderr",
     "output_type": "stream",
     "text": [
      " 97%|███████████████████████████████████████▉ | 1395/1434 [1:29:18<01:45,  2.69s/it]"
     ]
    },
    {
     "name": "stdout",
     "output_type": "stream",
     "text": [
      "Error 404\r"
     ]
    },
    {
     "name": "stderr",
     "output_type": "stream",
     "text": [
      "100%|█████████████████████████████████████████| 1434/1434 [1:31:34<00:00,  3.83s/it]\n"
     ]
    },
    {
     "name": "stdout",
     "output_type": "stream",
     "text": [
      "Parsing 23 page for toyota in leningradskaya_oblast\n",
      "There are 23 pages by toyota\n"
     ]
    },
    {
     "name": "stderr",
     "output_type": "stream",
     "text": [
      "  6%|██▋                                           | 50/858 [03:30<39:10,  2.91s/it]"
     ]
    },
    {
     "name": "stdout",
     "output_type": "stream",
     "text": [
      "Error 404\r"
     ]
    },
    {
     "name": "stderr",
     "output_type": "stream",
     "text": [
      " 16%|███████▍                                     | 141/858 [09:11<34:32,  2.89s/it]"
     ]
    },
    {
     "name": "stdout",
     "output_type": "stream",
     "text": [
      "Error 404\r"
     ]
    },
    {
     "name": "stderr",
     "output_type": "stream",
     "text": [
      " 22%|█████████▊                                   | 188/858 [11:56<27:08,  2.43s/it]"
     ]
    },
    {
     "name": "stdout",
     "output_type": "stream",
     "text": [
      "Error 404\r"
     ]
    },
    {
     "name": "stderr",
     "output_type": "stream",
     "text": [
      " 31%|█████████████▊                               | 264/858 [17:19<31:05,  3.14s/it]"
     ]
    },
    {
     "name": "stdout",
     "output_type": "stream",
     "text": [
      "Error 404\r"
     ]
    },
    {
     "name": "stderr",
     "output_type": "stream",
     "text": [
      " 37%|████████████████▍                            | 314/858 [20:51<28:29,  3.14s/it]"
     ]
    },
    {
     "name": "stdout",
     "output_type": "stream",
     "text": [
      "Error 404\r"
     ]
    },
    {
     "name": "stderr",
     "output_type": "stream",
     "text": [
      " 41%|██████████████████▍                          | 351/858 [23:21<27:54,  3.30s/it]"
     ]
    },
    {
     "name": "stdout",
     "output_type": "stream",
     "text": [
      "Error 404\r"
     ]
    },
    {
     "name": "stderr",
     "output_type": "stream",
     "text": [
      " 47%|█████████████████████                        | 402/858 [26:43<21:38,  2.85s/it]"
     ]
    },
    {
     "name": "stdout",
     "output_type": "stream",
     "text": [
      "Error 404\r"
     ]
    },
    {
     "name": "stderr",
     "output_type": "stream",
     "text": [
      " 66%|█████████████████████████████▊               | 568/858 [37:31<14:18,  2.96s/it]"
     ]
    },
    {
     "name": "stdout",
     "output_type": "stream",
     "text": [
      "Error 404\r"
     ]
    },
    {
     "name": "stderr",
     "output_type": "stream",
     "text": [
      " 72%|████████████████████████████████▍            | 618/858 [40:51<12:26,  3.11s/it]"
     ]
    },
    {
     "name": "stdout",
     "output_type": "stream",
     "text": [
      "Error 404\r"
     ]
    },
    {
     "name": "stderr",
     "output_type": "stream",
     "text": [
      " 75%|█████████████████████████████████▉           | 647/858 [42:32<09:05,  2.59s/it]"
     ]
    },
    {
     "name": "stdout",
     "output_type": "stream",
     "text": [
      "Error 404\r"
     ]
    },
    {
     "name": "stderr",
     "output_type": "stream",
     "text": [
      " 89%|███████████████████████████████████████▊     | 760/858 [49:25<04:33,  2.79s/it]"
     ]
    },
    {
     "name": "stdout",
     "output_type": "stream",
     "text": [
      "Error 404\r"
     ]
    },
    {
     "name": "stderr",
     "output_type": "stream",
     "text": [
      " 93%|█████████████████████████████████████████▋   | 794/858 [51:23<02:41,  2.53s/it]"
     ]
    },
    {
     "name": "stdout",
     "output_type": "stream",
     "text": [
      "Error 404\r"
     ]
    },
    {
     "name": "stderr",
     "output_type": "stream",
     "text": [
      " 99%|████████████████████████████████████████████▋| 851/858 [54:34<00:17,  2.44s/it]"
     ]
    },
    {
     "name": "stdout",
     "output_type": "stream",
     "text": [
      "Error 404\r"
     ]
    },
    {
     "name": "stderr",
     "output_type": "stream",
     "text": [
      "100%|█████████████████████████████████████████████| 858/858 [54:56<00:00,  3.84s/it]\n"
     ]
    },
    {
     "name": "stdout",
     "output_type": "stream",
     "text": [
      "Parsing 5 page for lexus in leningradskaya_oblast\n",
      "There are 5 pages by lexus\n"
     ]
    },
    {
     "name": "stderr",
     "output_type": "stream",
     "text": [
      " 43%|███████████████████▉                          | 71/164 [04:31<04:20,  2.81s/it]"
     ]
    },
    {
     "name": "stdout",
     "output_type": "stream",
     "text": [
      "Error 404\r"
     ]
    },
    {
     "name": "stderr",
     "output_type": "stream",
     "text": [
      " 63%|████████████████████████████▎                | 103/164 [06:30<03:19,  3.26s/it]"
     ]
    },
    {
     "name": "stdout",
     "output_type": "stream",
     "text": [
      "Error 404\r"
     ]
    },
    {
     "name": "stderr",
     "output_type": "stream",
     "text": [
      " 98%|███████████████████████████████████████████▉ | 160/164 [10:12<00:11,  2.84s/it]"
     ]
    },
    {
     "name": "stdout",
     "output_type": "stream",
     "text": [
      "Error 404\r"
     ]
    },
    {
     "name": "stderr",
     "output_type": "stream",
     "text": [
      "100%|█████████████████████████████████████████████| 164/164 [10:26<00:00,  3.82s/it]\n"
     ]
    },
    {
     "name": "stdout",
     "output_type": "stream",
     "text": [
      "Parsing 40 page for volkswagen in leningradskaya_oblast\n",
      "There are 40 pages by volkswagen\n"
     ]
    },
    {
     "name": "stderr",
     "output_type": "stream",
     "text": [
      "  1%|▎                                          | 12/1490 [00:42<1:13:06,  2.97s/it]"
     ]
    },
    {
     "name": "stdout",
     "output_type": "stream",
     "text": [
      "Error 404\r"
     ]
    },
    {
     "name": "stderr",
     "output_type": "stream",
     "text": [
      "  4%|█▉                                         | 65/1490 [04:10<1:06:56,  2.82s/it]"
     ]
    },
    {
     "name": "stdout",
     "output_type": "stream",
     "text": [
      "Error 404\r"
     ]
    },
    {
     "name": "stderr",
     "output_type": "stream",
     "text": [
      "  7%|██▉                                       | 104/1490 [06:31<1:05:50,  2.85s/it]"
     ]
    },
    {
     "name": "stdout",
     "output_type": "stream",
     "text": [
      "Error 404\r"
     ]
    },
    {
     "name": "stderr",
     "output_type": "stream",
     "text": [
      "  9%|███▉                                      | 138/1490 [08:34<1:02:44,  2.78s/it]"
     ]
    },
    {
     "name": "stdout",
     "output_type": "stream",
     "text": [
      "Error 404\r"
     ]
    },
    {
     "name": "stderr",
     "output_type": "stream",
     "text": [
      " 11%|█████                                       | 171/1490 [10:38<57:33,  2.62s/it]"
     ]
    },
    {
     "name": "stdout",
     "output_type": "stream",
     "text": [
      "Error 404\r"
     ]
    },
    {
     "name": "stderr",
     "output_type": "stream",
     "text": [
      " 16%|██████▉                                     | 234/1490 [14:28<57:47,  2.76s/it]"
     ]
    },
    {
     "name": "stdout",
     "output_type": "stream",
     "text": [
      "Error 404\r"
     ]
    },
    {
     "name": "stderr",
     "output_type": "stream",
     "text": [
      " 23%|█████████▌                                | 339/1490 [21:27<1:00:00,  3.13s/it]"
     ]
    },
    {
     "name": "stdout",
     "output_type": "stream",
     "text": [
      "Error 404\r"
     ]
    },
    {
     "name": "stderr",
     "output_type": "stream",
     "text": [
      " 27%|███████████▋                                | 397/1490 [24:56<53:34,  2.94s/it]"
     ]
    },
    {
     "name": "stdout",
     "output_type": "stream",
     "text": [
      "Error 404\r"
     ]
    },
    {
     "name": "stderr",
     "output_type": "stream",
     "text": [
      " 33%|█████████████▊                            | 489/1490 [30:52<1:10:51,  4.25s/it]"
     ]
    },
    {
     "name": "stdout",
     "output_type": "stream",
     "text": [
      "Error 404\r"
     ]
    },
    {
     "name": "stderr",
     "output_type": "stream",
     "text": [
      " 35%|███████████████▍                            | 523/1490 [32:54<46:35,  2.89s/it]"
     ]
    },
    {
     "name": "stdout",
     "output_type": "stream",
     "text": [
      "Error 404\r"
     ]
    },
    {
     "name": "stderr",
     "output_type": "stream",
     "text": [
      " 36%|███████████████▊                            | 535/1490 [33:33<44:05,  2.77s/it]"
     ]
    },
    {
     "name": "stdout",
     "output_type": "stream",
     "text": [
      "Error 404\r"
     ]
    },
    {
     "name": "stderr",
     "output_type": "stream",
     "text": [
      " 40%|█████████████████▋                          | 598/1490 [37:17<40:07,  2.70s/it]"
     ]
    },
    {
     "name": "stdout",
     "output_type": "stream",
     "text": [
      "Error 404\r"
     ]
    },
    {
     "name": "stderr",
     "output_type": "stream",
     "text": [
      " 52%|██████████████████████▉                     | 778/1490 [51:08<40:26,  3.41s/it]"
     ]
    },
    {
     "name": "stdout",
     "output_type": "stream",
     "text": [
      "Error 404\r"
     ]
    },
    {
     "name": "stderr",
     "output_type": "stream",
     "text": [
      " 56%|████████████████████████▍                   | 829/1490 [55:44<33:00,  3.00s/it]"
     ]
    },
    {
     "name": "stdout",
     "output_type": "stream",
     "text": [
      "Error 404\r"
     ]
    },
    {
     "name": "stderr",
     "output_type": "stream",
     "text": [
      " 62%|████████████████████████▊               | 924/1490 [1:06:06<1:00:47,  6.44s/it]"
     ]
    },
    {
     "name": "stdout",
     "output_type": "stream",
     "text": [
      "Error 404\r"
     ]
    },
    {
     "name": "stderr",
     "output_type": "stream",
     "text": [
      " 66%|███████████████████████████▋              | 984/1490 [1:14:16<45:42,  5.42s/it]"
     ]
    },
    {
     "name": "stdout",
     "output_type": "stream",
     "text": [
      "Error 404\r"
     ]
    },
    {
     "name": "stderr",
     "output_type": "stream",
     "text": [
      " 70%|████████████████████████████▉            | 1050/1490 [1:23:47<40:29,  5.52s/it]"
     ]
    },
    {
     "name": "stdout",
     "output_type": "stream",
     "text": [
      "Error 404\r"
     ]
    },
    {
     "name": "stderr",
     "output_type": "stream",
     "text": [
      " 76%|███████████████████████████████          | 1129/1490 [1:34:00<30:30,  5.07s/it]"
     ]
    },
    {
     "name": "stdout",
     "output_type": "stream",
     "text": [
      "Error 404\r"
     ]
    },
    {
     "name": "stderr",
     "output_type": "stream",
     "text": [
      " 85%|██████████████████████████████████▋      | 1262/1490 [1:45:45<11:17,  2.97s/it]"
     ]
    },
    {
     "name": "stdout",
     "output_type": "stream",
     "text": [
      "Error 404\r"
     ]
    },
    {
     "name": "stderr",
     "output_type": "stream",
     "text": [
      " 90%|█████████████████████████████████████    | 1346/1490 [1:50:55<07:00,  2.92s/it]"
     ]
    },
    {
     "name": "stdout",
     "output_type": "stream",
     "text": [
      "Error 404\r"
     ]
    },
    {
     "name": "stderr",
     "output_type": "stream",
     "text": [
      " 94%|██████████████████████████████████████▌  | 1401/1490 [1:54:08<03:42,  2.50s/it]"
     ]
    },
    {
     "name": "stdout",
     "output_type": "stream",
     "text": [
      "Error 404\r"
     ]
    },
    {
     "name": "stderr",
     "output_type": "stream",
     "text": [
      " 98%|████████████████████████████████████████ | 1455/1490 [1:57:24<01:38,  2.82s/it]"
     ]
    },
    {
     "name": "stdout",
     "output_type": "stream",
     "text": [
      "Error 404\r"
     ]
    },
    {
     "name": "stderr",
     "output_type": "stream",
     "text": [
      " 98%|████████████████████████████████████████▎| 1467/1490 [1:58:03<00:59,  2.59s/it]"
     ]
    },
    {
     "name": "stdout",
     "output_type": "stream",
     "text": [
      "Error 404\r"
     ]
    },
    {
     "name": "stderr",
     "output_type": "stream",
     "text": [
      "100%|█████████████████████████████████████████| 1490/1490 [1:59:19<00:00,  4.81s/it]\n"
     ]
    }
   ],
   "source": [
    "if not os.path.exists('data/car_data'):\n",
    "    os.makedirs('data/car_data')\n",
    "    \n",
    "for region in regions:\n",
    "    for model in models:\n",
    "        model_urls = get_urls_for_model_in_region(model, region)\n",
    "        for url in tqdm(model_urls):\n",
    "            time.sleep(random.random())\n",
    "            try:\n",
    "                valid_data = valid_data.append(get_car_info(url), ignore_index=True)\n",
    "            except: # NoSuchElementException:\n",
    "                print('Error 404', end='\\r')\n",
    "        \n",
    "        valid_data.to_csv(f'data/car_data/{model}_{region}_car_data.csv')\n",
    "        valid_data = pd.DataFrame()"
   ]
  },
  {
   "cell_type": "markdown",
   "id": "7008f05d",
   "metadata": {},
   "source": [
    "## Getting additional information from catalog (links from main DF)"
   ]
  },
  {
   "cell_type": "code",
   "execution_count": 13,
   "id": "70116db7-ebbe-4662-9f14-56e77349d9ee",
   "metadata": {},
   "outputs": [
    {
     "data": {
      "text/plain": [
       "['.git',\n",
       " '.gitignore',\n",
       " '.ipynb_checkpoints',\n",
       " '2022-03-19_train-test_comparison.ipynb',\n",
       " '2022-03-31_train-test_EDA.ipynb',\n",
       " '20220327_model_counts.ipynb',\n",
       " 'data',\n",
       " 'lib',\n",
       " 'LICENSE',\n",
       " 'README.md',\n",
       " 'requirements.txt',\n",
       " 'UsedCars_Project_Module_6.ipynb',\n",
       " 'UsedCars_Project_Module_6_getting_spb_cars.ipynb',\n",
       " 'UsedCars_Project_Module_6_parser.ipynb',\n",
       " 'UsedCars_Project_Module_6_parser_20220401.ipynb',\n",
       " 'venv']"
      ]
     },
     "execution_count": 13,
     "metadata": {},
     "output_type": "execute_result"
    }
   ],
   "source": []
  },
  {
   "cell_type": "code",
   "execution_count": 27,
   "id": "06ed0114-0104-42c9-81f9-b767fb069f8a",
   "metadata": {},
   "outputs": [
    {
     "name": "stdout",
     "output_type": "stream",
     "text": [
      "Reading audi_leningradskaya_oblast_car_data.csv done\n",
      "Reading bmw_leningradskaya_oblast_car_data.csv done\n",
      "Reading honda_leningradskaya_oblast_car_data.csv done\n",
      "Reading infiniti_leningradskaya_oblast_car_data.csv done\n",
      "Reading lexus_leningradskaya_oblast_car_data.csv done\n",
      "Reading mercedes_leningradskaya_oblast_car_data.csv done\n",
      "Reading nissan_leningradskaya_oblast_car_data.csv done\n",
      "Reading skoda_leningradskaya_oblast_car_data.csv done\n",
      "Reading toyota_leningradskaya_oblast_car_data.csv done\n",
      "Reading volkswagen_leningradskaya_oblast_car_data.csv done\n",
      "Reading volvo_leningradskaya_oblast_car_data.csv done\n"
     ]
    },
    {
     "data": {
      "text/html": [
       "<div>\n",
       "<style scoped>\n",
       "    .dataframe tbody tr th:only-of-type {\n",
       "        vertical-align: middle;\n",
       "    }\n",
       "\n",
       "    .dataframe tbody tr th {\n",
       "        vertical-align: top;\n",
       "    }\n",
       "\n",
       "    .dataframe thead th {\n",
       "        text-align: right;\n",
       "    }\n",
       "</style>\n",
       "<table border=\"1\" class=\"dataframe\">\n",
       "  <thead>\n",
       "    <tr style=\"text-align: right;\">\n",
       "      <th></th>\n",
       "      <th>4047</th>\n",
       "      <th>8427</th>\n",
       "      <th>5484</th>\n",
       "      <th>3025</th>\n",
       "      <th>7757</th>\n",
       "    </tr>\n",
       "  </thead>\n",
       "  <tbody>\n",
       "    <tr>\n",
       "      <th>brand</th>\n",
       "      <td>Mercedes-Benz</td>\n",
       "      <td>Volvo</td>\n",
       "      <td>Skoda</td>\n",
       "      <td>Mercedes-Benz</td>\n",
       "      <td>Volkswagen</td>\n",
       "    </tr>\n",
       "    <tr>\n",
       "      <th>model</th>\n",
       "      <td>C-Класс</td>\n",
       "      <td>S60</td>\n",
       "      <td>Kodiaq</td>\n",
       "      <td>V-Класс</td>\n",
       "      <td>Passat</td>\n",
       "    </tr>\n",
       "    <tr>\n",
       "      <th>year</th>\n",
       "      <td>1994</td>\n",
       "      <td>2013</td>\n",
       "      <td>2018</td>\n",
       "      <td>2014</td>\n",
       "      <td>2021</td>\n",
       "    </tr>\n",
       "    <tr>\n",
       "      <th>bodytype</th>\n",
       "      <td>седан</td>\n",
       "      <td>седан</td>\n",
       "      <td>внедорожник 5 дв.</td>\n",
       "      <td>минивэн</td>\n",
       "      <td>седан</td>\n",
       "    </tr>\n",
       "    <tr>\n",
       "      <th>kmage</th>\n",
       "      <td>330000</td>\n",
       "      <td>123000</td>\n",
       "      <td>146425</td>\n",
       "      <td>108712</td>\n",
       "      <td>25000</td>\n",
       "    </tr>\n",
       "    <tr>\n",
       "      <th>color</th>\n",
       "      <td>чёрный</td>\n",
       "      <td>чёрный</td>\n",
       "      <td>серебристый</td>\n",
       "      <td>чёрный</td>\n",
       "      <td>чёрный</td>\n",
       "    </tr>\n",
       "    <tr>\n",
       "      <th>engineDisplacement</th>\n",
       "      <td>1.8</td>\n",
       "      <td>2.0</td>\n",
       "      <td>1.4</td>\n",
       "      <td>2.1</td>\n",
       "      <td>1.4</td>\n",
       "    </tr>\n",
       "    <tr>\n",
       "      <th>enginePower</th>\n",
       "      <td>122</td>\n",
       "      <td>180</td>\n",
       "      <td>150</td>\n",
       "      <td>163</td>\n",
       "      <td>150</td>\n",
       "    </tr>\n",
       "    <tr>\n",
       "      <th>fuelType</th>\n",
       "      <td>Бензин</td>\n",
       "      <td>Бензин</td>\n",
       "      <td>Бензин</td>\n",
       "      <td>Дизель</td>\n",
       "      <td>Бензин</td>\n",
       "    </tr>\n",
       "    <tr>\n",
       "      <th>super_gen</th>\n",
       "      <td>{'asciiCat': 'cars', 'category': 'cars', 'engi...</td>\n",
       "      <td>{'asciiCat': 'cars', 'category': 'cars', 'engi...</td>\n",
       "      <td>{'asciiCat': 'cars', 'category': 'cars', 'engi...</td>\n",
       "      <td>{'asciiCat': 'cars', 'category': 'cars', 'engi...</td>\n",
       "      <td>{'asciiCat': 'cars', 'category': 'cars', 'engi...</td>\n",
       "    </tr>\n",
       "    <tr>\n",
       "      <th>vehicleTransmission</th>\n",
       "      <td>механическая</td>\n",
       "      <td>автоматическая</td>\n",
       "      <td>роботизированная</td>\n",
       "      <td>автоматическая</td>\n",
       "      <td>роботизированная</td>\n",
       "    </tr>\n",
       "    <tr>\n",
       "      <th>drive</th>\n",
       "      <td>задний</td>\n",
       "      <td>передний</td>\n",
       "      <td>передний</td>\n",
       "      <td>задний</td>\n",
       "      <td>передний</td>\n",
       "    </tr>\n",
       "    <tr>\n",
       "      <th>wheel</th>\n",
       "      <td>Левый</td>\n",
       "      <td>Левый</td>\n",
       "      <td>Левый</td>\n",
       "      <td>Левый</td>\n",
       "      <td>Левый</td>\n",
       "    </tr>\n",
       "    <tr>\n",
       "      <th>state</th>\n",
       "      <td>Не требует ремонта</td>\n",
       "      <td>Не требует ремонта</td>\n",
       "      <td>Не требует ремонта</td>\n",
       "      <td>Не требует ремонта</td>\n",
       "      <td>Не требует ремонта</td>\n",
       "    </tr>\n",
       "    <tr>\n",
       "      <th>owner</th>\n",
       "      <td>3 или более</td>\n",
       "      <td>3 или более</td>\n",
       "      <td>2 владельца</td>\n",
       "      <td>3 или более</td>\n",
       "      <td>1 владелец</td>\n",
       "    </tr>\n",
       "    <tr>\n",
       "      <th>pts</th>\n",
       "      <td>Оригинал</td>\n",
       "      <td>Дубликат</td>\n",
       "      <td>Оригинал</td>\n",
       "      <td>Оригинал</td>\n",
       "      <td>Оригинал</td>\n",
       "    </tr>\n",
       "    <tr>\n",
       "      <th>customs</th>\n",
       "      <td>Растаможен</td>\n",
       "      <td>Растаможен</td>\n",
       "      <td>Растаможен</td>\n",
       "      <td>Растаможен</td>\n",
       "      <td>Растаможен</td>\n",
       "    </tr>\n",
       "    <tr>\n",
       "      <th>owningTime</th>\n",
       "      <td>NaN</td>\n",
       "      <td>NaN</td>\n",
       "      <td>NaN</td>\n",
       "      <td>NaN</td>\n",
       "      <td>NaN</td>\n",
       "    </tr>\n",
       "    <tr>\n",
       "      <th>description</th>\n",
       "      <td>Авто в отличном состоянии, двигатель, коробка ...</td>\n",
       "      <td>Авто в отличном состоянии. Я третий владелец (...</td>\n",
       "      <td>❗ При обмене вашего а/м скидка до 300 000 рубл...</td>\n",
       "      <td>Комплектация включает в себя дополнительные оп...</td>\n",
       "      <td>Все вопросы по телефону</td>\n",
       "    </tr>\n",
       "    <tr>\n",
       "      <th>sell_id</th>\n",
       "      <td>1106464729</td>\n",
       "      <td>1115048796</td>\n",
       "      <td>1115100160</td>\n",
       "      <td>1105687776</td>\n",
       "      <td>1114759417</td>\n",
       "    </tr>\n",
       "    <tr>\n",
       "      <th>price</th>\n",
       "      <td>215000</td>\n",
       "      <td>1530000</td>\n",
       "      <td>2089000</td>\n",
       "      <td>3355000</td>\n",
       "      <td>3900000</td>\n",
       "    </tr>\n",
       "    <tr>\n",
       "      <th>car_url</th>\n",
       "      <td>https://auto.ru/cars/used/sale/mercedes/c_klas...</td>\n",
       "      <td>https://auto.ru/cars/used/sale/volvo/s60/11150...</td>\n",
       "      <td>https://auto.ru/cars/used/sale/skoda/kodiaq/11...</td>\n",
       "      <td>https://auto.ru/cars/used/sale/mercedes/v_klas...</td>\n",
       "      <td>https://auto.ru/cars/used/sale/volkswagen/pass...</td>\n",
       "    </tr>\n",
       "    <tr>\n",
       "      <th>catalog_url</th>\n",
       "      <td>https://auto.ru/catalog/cars/mercedes/c_klasse...</td>\n",
       "      <td>https://auto.ru/catalog/cars/volvo/s60/2000872...</td>\n",
       "      <td>https://auto.ru/catalog/cars/skoda/kodiaq/2083...</td>\n",
       "      <td>https://auto.ru/catalog/cars/mercedes/v_klasse...</td>\n",
       "      <td>https://auto.ru/catalog/cars/volkswagen/passat...</td>\n",
       "    </tr>\n",
       "    <tr>\n",
       "      <th>equipment_dict</th>\n",
       "      <td>[]</td>\n",
       "      <td>['Подушка безопасности водителя', 'Подушка без...</td>\n",
       "      <td>['Подушка безопасности водителя', 'Подушка без...</td>\n",
       "      <td>['Подушка безопасности водителя', 'Подушка без...</td>\n",
       "      <td>[]</td>\n",
       "    </tr>\n",
       "  </tbody>\n",
       "</table>\n",
       "</div>"
      ],
      "text/plain": [
       "                                                                  4047  \\\n",
       "brand                                                    Mercedes-Benz   \n",
       "model                                                          C-Класс   \n",
       "year                                                              1994   \n",
       "bodytype                                                         седан   \n",
       "kmage                                                           330000   \n",
       "color                                                           чёрный   \n",
       "engineDisplacement                                                 1.8   \n",
       "enginePower                                                        122   \n",
       "fuelType                                                        Бензин   \n",
       "super_gen            {'asciiCat': 'cars', 'category': 'cars', 'engi...   \n",
       "vehicleTransmission                                       механическая   \n",
       "drive                                                           задний   \n",
       "wheel                                                            Левый   \n",
       "state                                               Не требует ремонта   \n",
       "owner                                                      3 или более   \n",
       "pts                                                           Оригинал   \n",
       "customs                                                     Растаможен   \n",
       "owningTime                                                         NaN   \n",
       "description          Авто в отличном состоянии, двигатель, коробка ...   \n",
       "sell_id                                                     1106464729   \n",
       "price                                                           215000   \n",
       "car_url              https://auto.ru/cars/used/sale/mercedes/c_klas...   \n",
       "catalog_url          https://auto.ru/catalog/cars/mercedes/c_klasse...   \n",
       "equipment_dict                                                      []   \n",
       "\n",
       "                                                                  8427  \\\n",
       "brand                                                            Volvo   \n",
       "model                                                              S60   \n",
       "year                                                              2013   \n",
       "bodytype                                                         седан   \n",
       "kmage                                                           123000   \n",
       "color                                                           чёрный   \n",
       "engineDisplacement                                                 2.0   \n",
       "enginePower                                                        180   \n",
       "fuelType                                                        Бензин   \n",
       "super_gen            {'asciiCat': 'cars', 'category': 'cars', 'engi...   \n",
       "vehicleTransmission                                     автоматическая   \n",
       "drive                                                         передний   \n",
       "wheel                                                            Левый   \n",
       "state                                               Не требует ремонта   \n",
       "owner                                                      3 или более   \n",
       "pts                                                           Дубликат   \n",
       "customs                                                     Растаможен   \n",
       "owningTime                                                         NaN   \n",
       "description          Авто в отличном состоянии. Я третий владелец (...   \n",
       "sell_id                                                     1115048796   \n",
       "price                                                          1530000   \n",
       "car_url              https://auto.ru/cars/used/sale/volvo/s60/11150...   \n",
       "catalog_url          https://auto.ru/catalog/cars/volvo/s60/2000872...   \n",
       "equipment_dict       ['Подушка безопасности водителя', 'Подушка без...   \n",
       "\n",
       "                                                                  5484  \\\n",
       "brand                                                            Skoda   \n",
       "model                                                           Kodiaq   \n",
       "year                                                              2018   \n",
       "bodytype                                             внедорожник 5 дв.   \n",
       "kmage                                                           146425   \n",
       "color                                                      серебристый   \n",
       "engineDisplacement                                                 1.4   \n",
       "enginePower                                                        150   \n",
       "fuelType                                                        Бензин   \n",
       "super_gen            {'asciiCat': 'cars', 'category': 'cars', 'engi...   \n",
       "vehicleTransmission                                   роботизированная   \n",
       "drive                                                         передний   \n",
       "wheel                                                            Левый   \n",
       "state                                               Не требует ремонта   \n",
       "owner                                                      2 владельца   \n",
       "pts                                                           Оригинал   \n",
       "customs                                                     Растаможен   \n",
       "owningTime                                                         NaN   \n",
       "description          ❗ При обмене вашего а/м скидка до 300 000 рубл...   \n",
       "sell_id                                                     1115100160   \n",
       "price                                                          2089000   \n",
       "car_url              https://auto.ru/cars/used/sale/skoda/kodiaq/11...   \n",
       "catalog_url          https://auto.ru/catalog/cars/skoda/kodiaq/2083...   \n",
       "equipment_dict       ['Подушка безопасности водителя', 'Подушка без...   \n",
       "\n",
       "                                                                  3025  \\\n",
       "brand                                                    Mercedes-Benz   \n",
       "model                                                          V-Класс   \n",
       "year                                                              2014   \n",
       "bodytype                                                       минивэн   \n",
       "kmage                                                           108712   \n",
       "color                                                           чёрный   \n",
       "engineDisplacement                                                 2.1   \n",
       "enginePower                                                        163   \n",
       "fuelType                                                        Дизель   \n",
       "super_gen            {'asciiCat': 'cars', 'category': 'cars', 'engi...   \n",
       "vehicleTransmission                                     автоматическая   \n",
       "drive                                                           задний   \n",
       "wheel                                                            Левый   \n",
       "state                                               Не требует ремонта   \n",
       "owner                                                      3 или более   \n",
       "pts                                                           Оригинал   \n",
       "customs                                                     Растаможен   \n",
       "owningTime                                                         NaN   \n",
       "description          Комплектация включает в себя дополнительные оп...   \n",
       "sell_id                                                     1105687776   \n",
       "price                                                          3355000   \n",
       "car_url              https://auto.ru/cars/used/sale/mercedes/v_klas...   \n",
       "catalog_url          https://auto.ru/catalog/cars/mercedes/v_klasse...   \n",
       "equipment_dict       ['Подушка безопасности водителя', 'Подушка без...   \n",
       "\n",
       "                                                                  7757  \n",
       "brand                                                       Volkswagen  \n",
       "model                                                           Passat  \n",
       "year                                                              2021  \n",
       "bodytype                                                         седан  \n",
       "kmage                                                            25000  \n",
       "color                                                           чёрный  \n",
       "engineDisplacement                                                 1.4  \n",
       "enginePower                                                        150  \n",
       "fuelType                                                        Бензин  \n",
       "super_gen            {'asciiCat': 'cars', 'category': 'cars', 'engi...  \n",
       "vehicleTransmission                                   роботизированная  \n",
       "drive                                                         передний  \n",
       "wheel                                                            Левый  \n",
       "state                                               Не требует ремонта  \n",
       "owner                                                       1 владелец  \n",
       "pts                                                           Оригинал  \n",
       "customs                                                     Растаможен  \n",
       "owningTime                                                         NaN  \n",
       "description                                    Все вопросы по телефону  \n",
       "sell_id                                                     1114759417  \n",
       "price                                                          3900000  \n",
       "car_url              https://auto.ru/cars/used/sale/volkswagen/pass...  \n",
       "catalog_url          https://auto.ru/catalog/cars/volkswagen/passat...  \n",
       "equipment_dict                                                      []  "
      ]
     },
     "execution_count": 27,
     "metadata": {},
     "output_type": "execute_result"
    }
   ],
   "source": [
    "car_csvs = [c for c in os.listdir(\"data/car_data/\") if c.endswith(\".csv\")]\n",
    "df = pd.DataFrame()\n",
    "\n",
    "for c in car_csvs:\n",
    "    print(\"Reading\", c, end=\" \")\n",
    "    df = df.append(pd.read_csv(f\"data/car_data/{c}\"))\n",
    "    print(\"done\")\n",
    "\n",
    "df.set_index(\"Unnamed: 0\", inplace=True)\n",
    "df.reset_index(drop=True, inplace=True)\n",
    "df.sample(5, random_state=42).T"
   ]
  },
  {
   "cell_type": "code",
   "execution_count": 33,
   "id": "42964855-521f-4383-b88e-a4d052a8389b",
   "metadata": {},
   "outputs": [
    {
     "data": {
      "text/plain": [
       "['Audi',\n",
       " 'BMW',\n",
       " 'Honda',\n",
       " 'Infiniti',\n",
       " 'Lexus',\n",
       " 'Mercedes-Benz',\n",
       " 'Nissan',\n",
       " 'Skoda',\n",
       " 'Toyota',\n",
       " 'Volkswagen',\n",
       " 'Volvo']"
      ]
     },
     "execution_count": 33,
     "metadata": {},
     "output_type": "execute_result"
    }
   ],
   "source": [
    "df.brand.unique().tolist()"
   ]
  },
  {
   "cell_type": "code",
   "execution_count": 35,
   "id": "46ca07bb",
   "metadata": {},
   "outputs": [
    {
     "name": "stdout",
     "output_type": "stream",
     "text": [
      "Processing Audi\n"
     ]
    },
    {
     "name": "stderr",
     "output_type": "stream",
     "text": [
      "100%|█████████████████████████████████████████████| 309/309 [28:22<00:00,  5.51s/it]\n"
     ]
    },
    {
     "name": "stdout",
     "output_type": "stream",
     "text": [
      "Processing BMW\n"
     ]
    },
    {
     "name": "stderr",
     "output_type": "stream",
     "text": [
      "100%|█████████████████████████████████████████████| 476/476 [40:41<00:00,  5.13s/it]\n"
     ]
    },
    {
     "name": "stdout",
     "output_type": "stream",
     "text": [
      "Processing Honda\n"
     ]
    },
    {
     "name": "stderr",
     "output_type": "stream",
     "text": [
      "100%|█████████████████████████████████████████████| 132/132 [10:13<00:00,  4.65s/it]\n"
     ]
    },
    {
     "name": "stdout",
     "output_type": "stream",
     "text": [
      "Processing Infiniti\n"
     ]
    },
    {
     "name": "stderr",
     "output_type": "stream",
     "text": [
      "100%|███████████████████████████████████████████████| 53/53 [04:44<00:00,  5.38s/it]\n"
     ]
    },
    {
     "name": "stdout",
     "output_type": "stream",
     "text": [
      "Processing Lexus\n"
     ]
    },
    {
     "name": "stderr",
     "output_type": "stream",
     "text": [
      "100%|███████████████████████████████████████████████| 90/90 [07:18<00:00,  4.87s/it]\n"
     ]
    },
    {
     "name": "stdout",
     "output_type": "stream",
     "text": [
      "Processing Mercedes-Benz\n"
     ]
    },
    {
     "name": "stderr",
     "output_type": "stream",
     "text": [
      "100%|█████████████████████████████████████████████| 517/517 [40:00<00:00,  4.64s/it]\n"
     ]
    },
    {
     "name": "stdout",
     "output_type": "stream",
     "text": [
      "Processing Nissan\n"
     ]
    },
    {
     "name": "stderr",
     "output_type": "stream",
     "text": [
      "100%|█████████████████████████████████████████████| 274/274 [20:41<00:00,  4.53s/it]\n"
     ]
    },
    {
     "name": "stdout",
     "output_type": "stream",
     "text": [
      "Processing Skoda\n"
     ]
    },
    {
     "name": "stderr",
     "output_type": "stream",
     "text": [
      "100%|█████████████████████████████████████████████| 230/230 [20:21<00:00,  5.31s/it]\n"
     ]
    },
    {
     "name": "stdout",
     "output_type": "stream",
     "text": [
      "Processing Toyota\n"
     ]
    },
    {
     "name": "stderr",
     "output_type": "stream",
     "text": [
      "100%|█████████████████████████████████████████████| 347/347 [26:21<00:00,  4.56s/it]\n"
     ]
    },
    {
     "name": "stdout",
     "output_type": "stream",
     "text": [
      "Processing Volkswagen\n"
     ]
    },
    {
     "name": "stderr",
     "output_type": "stream",
     "text": [
      "100%|█████████████████████████████████████████████| 448/448 [36:39<00:00,  4.91s/it]\n"
     ]
    },
    {
     "name": "stdout",
     "output_type": "stream",
     "text": [
      "Processing Volvo\n"
     ]
    },
    {
     "name": "stderr",
     "output_type": "stream",
     "text": [
      "100%|█████████████████████████████████████████████| 189/189 [15:51<00:00,  5.03s/it]\n"
     ]
    }
   ],
   "source": [
    "if not os.path.exists('data/catalog_car_data'):\n",
    "    os.makedirs('data/catalog_car_data')\n",
    "    \n",
    "for single_brand in df.brand.unique():\n",
    "    print(\"Processing\", single_brand)\n",
    "    for car_url in tqdm(df[df['brand'] == single_brand]['catalog_url'].value_counts().index.tolist()):\n",
    "        if car_url != 'No catalog link':\n",
    "            try:\n",
    "                catalog_data = catalog_data.append(get_dicts_from_catalog(car_url), ignore_index=True)\n",
    "            except: # NoSuchElementException:\n",
    "                print('Error 404', end='\\r')\n",
    "    catalog_data.to_csv(f'data/catalog_car_data/{single_brand}_catalog_car_data.csv')\n",
    "    catalog_data = pd.DataFrame()"
   ]
  },
  {
   "cell_type": "code",
   "execution_count": 50,
   "id": "88391eaf",
   "metadata": {},
   "outputs": [],
   "source": [
    "cars_list = glob.glob('data/car_data/*.csv')\n",
    "cars_df = pd.concat(map(pd.read_csv, cars_list))\n",
    "\n",
    "catalog_cars_list = glob.glob('data/catalog_car_data/*.csv') \n",
    "catalog_df = pd.concat(map(pd.read_csv, catalog_cars_list))"
   ]
  },
  {
   "cell_type": "code",
   "execution_count": 51,
   "id": "5ebe7b2c",
   "metadata": {},
   "outputs": [],
   "source": [
    "del cars_df['Unnamed: 0']\n",
    "del catalog_df['Unnamed: 0']\n",
    "cars_df.reset_index(drop=True, inplace=True)\n",
    "catalog_df.reset_index(drop=True, inplace=True)\n",
    "catalog_df.drop_duplicates(subset=['catalog_url'], inplace=True, ignore_index=True)"
   ]
  },
  {
   "cell_type": "code",
   "execution_count": 52,
   "id": "821ab065",
   "metadata": {},
   "outputs": [],
   "source": [
    "merged_df = pd.merge(cars_df, catalog_df, on='catalog_url', how='left')"
   ]
  },
  {
   "cell_type": "code",
   "execution_count": 53,
   "id": "94e99e43",
   "metadata": {},
   "outputs": [
    {
     "data": {
      "text/html": [
       "<div>\n",
       "<style scoped>\n",
       "    .dataframe tbody tr th:only-of-type {\n",
       "        vertical-align: middle;\n",
       "    }\n",
       "\n",
       "    .dataframe tbody tr th {\n",
       "        vertical-align: top;\n",
       "    }\n",
       "\n",
       "    .dataframe thead th {\n",
       "        text-align: right;\n",
       "    }\n",
       "</style>\n",
       "<table border=\"1\" class=\"dataframe\">\n",
       "  <thead>\n",
       "    <tr style=\"text-align: right;\">\n",
       "      <th></th>\n",
       "      <th>6254</th>\n",
       "      <th>5724</th>\n",
       "      <th>84</th>\n",
       "    </tr>\n",
       "  </thead>\n",
       "  <tbody>\n",
       "    <tr>\n",
       "      <th>brand</th>\n",
       "      <td>Toyota</td>\n",
       "      <td>Skoda</td>\n",
       "      <td>Audi</td>\n",
       "    </tr>\n",
       "    <tr>\n",
       "      <th>model</th>\n",
       "      <td>Corolla</td>\n",
       "      <td>Octavia</td>\n",
       "      <td>A6 allroad</td>\n",
       "    </tr>\n",
       "    <tr>\n",
       "      <th>year</th>\n",
       "      <td>2017</td>\n",
       "      <td>2013</td>\n",
       "      <td>2020</td>\n",
       "    </tr>\n",
       "    <tr>\n",
       "      <th>bodytype</th>\n",
       "      <td>седан</td>\n",
       "      <td>лифтбек</td>\n",
       "      <td>универсал 5 дв.</td>\n",
       "    </tr>\n",
       "    <tr>\n",
       "      <th>kmage</th>\n",
       "      <td>102100</td>\n",
       "      <td>140000</td>\n",
       "      <td>13832</td>\n",
       "    </tr>\n",
       "    <tr>\n",
       "      <th>color</th>\n",
       "      <td>чёрный</td>\n",
       "      <td>белый</td>\n",
       "      <td>коричневый</td>\n",
       "    </tr>\n",
       "    <tr>\n",
       "      <th>engineDisplacement</th>\n",
       "      <td>1.6</td>\n",
       "      <td>1.4</td>\n",
       "      <td>3.0</td>\n",
       "    </tr>\n",
       "    <tr>\n",
       "      <th>enginePower</th>\n",
       "      <td>122</td>\n",
       "      <td>140</td>\n",
       "      <td>249</td>\n",
       "    </tr>\n",
       "    <tr>\n",
       "      <th>fuelType</th>\n",
       "      <td>Бензин</td>\n",
       "      <td>Бензин</td>\n",
       "      <td>Дизель</td>\n",
       "    </tr>\n",
       "    <tr>\n",
       "      <th>super_gen</th>\n",
       "      <td>{'asciiCat': 'cars', 'category': 'cars', 'engi...</td>\n",
       "      <td>{'asciiCat': 'cars', 'category': 'cars', 'engi...</td>\n",
       "      <td>{'asciiCat': 'cars', 'category': 'cars', 'engi...</td>\n",
       "    </tr>\n",
       "    <tr>\n",
       "      <th>vehicleTransmission</th>\n",
       "      <td>вариатор</td>\n",
       "      <td>роботизированная</td>\n",
       "      <td>автоматическая</td>\n",
       "    </tr>\n",
       "    <tr>\n",
       "      <th>drive</th>\n",
       "      <td>передний</td>\n",
       "      <td>передний</td>\n",
       "      <td>полный</td>\n",
       "    </tr>\n",
       "    <tr>\n",
       "      <th>wheel</th>\n",
       "      <td>Левый</td>\n",
       "      <td>Левый</td>\n",
       "      <td>Левый</td>\n",
       "    </tr>\n",
       "    <tr>\n",
       "      <th>state</th>\n",
       "      <td>Не требует ремонта</td>\n",
       "      <td>Не требует ремонта</td>\n",
       "      <td>Не требует ремонта</td>\n",
       "    </tr>\n",
       "    <tr>\n",
       "      <th>owner</th>\n",
       "      <td>3 или более</td>\n",
       "      <td>3 или более</td>\n",
       "      <td>1 владелец</td>\n",
       "    </tr>\n",
       "    <tr>\n",
       "      <th>pts</th>\n",
       "      <td>Оригинал</td>\n",
       "      <td>Оригинал</td>\n",
       "      <td>Оригинал</td>\n",
       "    </tr>\n",
       "    <tr>\n",
       "      <th>customs</th>\n",
       "      <td>Растаможен</td>\n",
       "      <td>Растаможен</td>\n",
       "      <td>Растаможен</td>\n",
       "    </tr>\n",
       "    <tr>\n",
       "      <th>owningTime</th>\n",
       "      <td>NaN</td>\n",
       "      <td>NaN</td>\n",
       "      <td>1 год и 1 месяц</td>\n",
       "    </tr>\n",
       "    <tr>\n",
       "      <th>description</th>\n",
       "      <td>ПОКУПАЙТЕ TOYOTA COROLLA У ОФИЦИАЛЬНОГО ДИЛЕРА...</td>\n",
       "      <td>Машина в отличном состоянии,полностью обслужен...</td>\n",
       "      <td>Легендарный Audi A6 Allroad с двигателем 3.0 T...</td>\n",
       "    </tr>\n",
       "    <tr>\n",
       "      <th>sell_id</th>\n",
       "      <td>1115188557</td>\n",
       "      <td>1114741739</td>\n",
       "      <td>1106185637</td>\n",
       "    </tr>\n",
       "    <tr>\n",
       "      <th>price</th>\n",
       "      <td>1899000</td>\n",
       "      <td>900000</td>\n",
       "      <td>9500000</td>\n",
       "    </tr>\n",
       "    <tr>\n",
       "      <th>car_url</th>\n",
       "      <td>https://auto.ru/cars/used/sale/toyota/corolla/...</td>\n",
       "      <td>https://auto.ru/cars/used/sale/skoda/octavia/1...</td>\n",
       "      <td>https://auto.ru/cars/used/sale/audi/allroad/11...</td>\n",
       "    </tr>\n",
       "    <tr>\n",
       "      <th>catalog_url</th>\n",
       "      <td>https://auto.ru/catalog/cars/toyota/corolla/20...</td>\n",
       "      <td>https://auto.ru/catalog/cars/skoda/octavia/933...</td>\n",
       "      <td>https://auto.ru/catalog/cars/audi/allroad/2168...</td>\n",
       "    </tr>\n",
       "    <tr>\n",
       "      <th>equipment_dict</th>\n",
       "      <td>['Подушка безопасности водителя', 'Подушка без...</td>\n",
       "      <td>['Антиблокировочная система (ABS)', 'Система с...</td>\n",
       "      <td>['Подушка безопасности водителя', 'Подушка без...</td>\n",
       "    </tr>\n",
       "    <tr>\n",
       "      <th>super_gen_2</th>\n",
       "      <td>{'engine_type': 'GASOLINE', 'gear_type': 'FORW...</td>\n",
       "      <td>{'engine_type': 'GASOLINE', 'gear_type': 'FORW...</td>\n",
       "      <td>{'engine_type': 'DIESEL', 'gear_type': 'ALL_WH...</td>\n",
       "    </tr>\n",
       "    <tr>\n",
       "      <th>super_gen_3</th>\n",
       "      <td>{'sale-data-attributes': {'asciiCat': 'cars', ...</td>\n",
       "      <td>{'sale-data-attributes': {'asciiCat': 'cars', ...</td>\n",
       "      <td>{'sale-data-attributes': {'asciiCat': 'cars', ...</td>\n",
       "    </tr>\n",
       "    <tr>\n",
       "      <th>complectation_dict</th>\n",
       "      <td>['Мультифункциональное рулевое колесо', 'Элект...</td>\n",
       "      <td>[]</td>\n",
       "      <td>['Круиз-контроль', 'Электрорегулировка руля', ...</td>\n",
       "    </tr>\n",
       "  </tbody>\n",
       "</table>\n",
       "</div>"
      ],
      "text/plain": [
       "                                                                  6254  \\\n",
       "brand                                                           Toyota   \n",
       "model                                                          Corolla   \n",
       "year                                                              2017   \n",
       "bodytype                                                         седан   \n",
       "kmage                                                           102100   \n",
       "color                                                           чёрный   \n",
       "engineDisplacement                                                 1.6   \n",
       "enginePower                                                        122   \n",
       "fuelType                                                        Бензин   \n",
       "super_gen            {'asciiCat': 'cars', 'category': 'cars', 'engi...   \n",
       "vehicleTransmission                                           вариатор   \n",
       "drive                                                         передний   \n",
       "wheel                                                            Левый   \n",
       "state                                               Не требует ремонта   \n",
       "owner                                                      3 или более   \n",
       "pts                                                           Оригинал   \n",
       "customs                                                     Растаможен   \n",
       "owningTime                                                         NaN   \n",
       "description          ПОКУПАЙТЕ TOYOTA COROLLA У ОФИЦИАЛЬНОГО ДИЛЕРА...   \n",
       "sell_id                                                     1115188557   \n",
       "price                                                          1899000   \n",
       "car_url              https://auto.ru/cars/used/sale/toyota/corolla/...   \n",
       "catalog_url          https://auto.ru/catalog/cars/toyota/corolla/20...   \n",
       "equipment_dict       ['Подушка безопасности водителя', 'Подушка без...   \n",
       "super_gen_2          {'engine_type': 'GASOLINE', 'gear_type': 'FORW...   \n",
       "super_gen_3          {'sale-data-attributes': {'asciiCat': 'cars', ...   \n",
       "complectation_dict   ['Мультифункциональное рулевое колесо', 'Элект...   \n",
       "\n",
       "                                                                  5724  \\\n",
       "brand                                                            Skoda   \n",
       "model                                                          Octavia   \n",
       "year                                                              2013   \n",
       "bodytype                                                       лифтбек   \n",
       "kmage                                                           140000   \n",
       "color                                                            белый   \n",
       "engineDisplacement                                                 1.4   \n",
       "enginePower                                                        140   \n",
       "fuelType                                                        Бензин   \n",
       "super_gen            {'asciiCat': 'cars', 'category': 'cars', 'engi...   \n",
       "vehicleTransmission                                   роботизированная   \n",
       "drive                                                         передний   \n",
       "wheel                                                            Левый   \n",
       "state                                               Не требует ремонта   \n",
       "owner                                                      3 или более   \n",
       "pts                                                           Оригинал   \n",
       "customs                                                     Растаможен   \n",
       "owningTime                                                         NaN   \n",
       "description          Машина в отличном состоянии,полностью обслужен...   \n",
       "sell_id                                                     1114741739   \n",
       "price                                                           900000   \n",
       "car_url              https://auto.ru/cars/used/sale/skoda/octavia/1...   \n",
       "catalog_url          https://auto.ru/catalog/cars/skoda/octavia/933...   \n",
       "equipment_dict       ['Антиблокировочная система (ABS)', 'Система с...   \n",
       "super_gen_2          {'engine_type': 'GASOLINE', 'gear_type': 'FORW...   \n",
       "super_gen_3          {'sale-data-attributes': {'asciiCat': 'cars', ...   \n",
       "complectation_dict                                                  []   \n",
       "\n",
       "                                                                  84    \n",
       "brand                                                             Audi  \n",
       "model                                                       A6 allroad  \n",
       "year                                                              2020  \n",
       "bodytype                                               универсал 5 дв.  \n",
       "kmage                                                            13832  \n",
       "color                                                       коричневый  \n",
       "engineDisplacement                                                 3.0  \n",
       "enginePower                                                        249  \n",
       "fuelType                                                        Дизель  \n",
       "super_gen            {'asciiCat': 'cars', 'category': 'cars', 'engi...  \n",
       "vehicleTransmission                                     автоматическая  \n",
       "drive                                                           полный  \n",
       "wheel                                                            Левый  \n",
       "state                                               Не требует ремонта  \n",
       "owner                                                       1 владелец  \n",
       "pts                                                           Оригинал  \n",
       "customs                                                     Растаможен  \n",
       "owningTime                                             1 год и 1 месяц  \n",
       "description          Легендарный Audi A6 Allroad с двигателем 3.0 T...  \n",
       "sell_id                                                     1106185637  \n",
       "price                                                          9500000  \n",
       "car_url              https://auto.ru/cars/used/sale/audi/allroad/11...  \n",
       "catalog_url          https://auto.ru/catalog/cars/audi/allroad/2168...  \n",
       "equipment_dict       ['Подушка безопасности водителя', 'Подушка без...  \n",
       "super_gen_2          {'engine_type': 'DIESEL', 'gear_type': 'ALL_WH...  \n",
       "super_gen_3          {'sale-data-attributes': {'asciiCat': 'cars', ...  \n",
       "complectation_dict   ['Круиз-контроль', 'Электрорегулировка руля', ...  "
      ]
     },
     "execution_count": 53,
     "metadata": {},
     "output_type": "execute_result"
    }
   ],
   "source": [
    "merged_df.sample(3).T"
   ]
  },
  {
   "cell_type": "code",
   "execution_count": 54,
   "id": "d366915a-79c7-4db5-94ae-5d0c87feb850",
   "metadata": {},
   "outputs": [],
   "source": [
    "merged_df.to_pickle('data/20220401_spb_parsed_data.pkl.zip', compression='zip')"
   ]
  },
  {
   "cell_type": "code",
   "execution_count": 55,
   "id": "5652d336-8094-4edd-9ce1-5188d67a6be7",
   "metadata": {},
   "outputs": [
    {
     "data": {
      "text/plain": [
       "(8549, 27)"
      ]
     },
     "execution_count": 55,
     "metadata": {},
     "output_type": "execute_result"
    }
   ],
   "source": [
    "merged_df.shape"
   ]
  }
 ],
 "metadata": {
  "kernelspec": {
   "display_name": "Python 3 (ipykernel)",
   "language": "python",
   "name": "python3"
  },
  "language_info": {
   "codemirror_mode": {
    "name": "ipython",
    "version": 3
   },
   "file_extension": ".py",
   "mimetype": "text/x-python",
   "name": "python",
   "nbconvert_exporter": "python",
   "pygments_lexer": "ipython3",
   "version": "3.9.1"
  },
  "toc-autonumbering": false,
  "toc-showmarkdowntxt": false
 },
 "nbformat": 4,
 "nbformat_minor": 5
}
