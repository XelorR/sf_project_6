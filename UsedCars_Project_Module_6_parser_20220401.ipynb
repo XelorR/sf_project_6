{
 "cells": [
  {
   "cell_type": "code",
   "execution_count": 892,
   "id": "1cfa597c",
   "metadata": {},
   "outputs": [],
   "source": [
    "import pandas as pd\n",
    "\n",
    "from selenium import webdriver\n",
    "from selenium.webdriver.common.by import By\n",
    "from selenium.webdriver.chrome.service import Service\n",
    "from webdriver_manager.chrome import ChromeDriverManager\n",
    "from selenium.common.exceptions import NoSuchElementException\n",
    "\n",
    "from tqdm import tqdm\n",
    "\n",
    "import re\n",
    "import time\n",
    "import json\n",
    "import random\n",
    "import os\n",
    "import glob"
   ]
  },
  {
   "cell_type": "code",
   "execution_count": 194,
   "id": "3e13209a",
   "metadata": {},
   "outputs": [],
   "source": [
    "pd.set_option('display.max_rows', 100)\n",
    "pd.set_option('display.max_columns', 100)"
   ]
  },
  {
   "cell_type": "code",
   "execution_count": 473,
   "id": "55e21d5a",
   "metadata": {},
   "outputs": [],
   "source": [
    "valid_data = pd.DataFrame()\n",
    "catalog_data = pd.DataFrame()"
   ]
  },
  {
   "cell_type": "code",
   "execution_count": 686,
   "id": "6e925a45",
   "metadata": {},
   "outputs": [
    {
     "name": "stderr",
     "output_type": "stream",
     "text": [
      "\n",
      "\n",
      "====== WebDriver manager ======\n",
      "Could not get version for google-chrome with the command:  powershell \"$ErrorActionPreference='silentlycontinue' ; (Get-Item -Path \"$env:PROGRAMFILES\\Google\\Chrome\\Application\\chrome.exe\").VersionInfo.FileVersion ; if (-not $? -or $? -match $error) { (Get-Item -Path \"$env:PROGRAMFILES(x86)\\Google\\Chrome\\Application\\chrome.exe\").VersionInfo.FileVersion } if (-not $? -or $? -match $error) { (Get-Item -Path \"$env:LOCALAPPDATA\\Google\\Chrome\\Application\\chrome.exe\").VersionInfo.FileVersion } if (-not $? -or $? -match $error) { reg query \"HKCU\\SOFTWARE\\Google\\Chrome\\BLBeacon\" /v version } if (-not $? -or $? -match $error) { reg query \"HKLM\\SOFTWARE\\Wow6432Node\\Microsoft\\Windows\\CurrentVersion\\Uninstall\\Google Chrome\" /v version }\"\n",
      "Current google-chrome version is UNKNOWN\n",
      "Get LATEST chromedriver version for UNKNOWN google-chrome\n",
      "Trying to download new driver from https://chromedriver.storage.googleapis.com/99.0.4844.51/chromedriver_win32.zip\n",
      "Driver has been saved in cache [C:\\Users\\docke\\.wdm\\drivers\\chromedriver\\win32\\99.0.4844.51]\n"
     ]
    }
   ],
   "source": [
    "options = webdriver.ChromeOptions()\n",
    "driver = webdriver.Chrome(service=Service(ChromeDriverManager().install()), options=options)"
   ]
  },
  {
   "cell_type": "code",
   "execution_count": 888,
   "id": "129e0b6d",
   "metadata": {},
   "outputs": [],
   "source": [
    "regions = [\n",
    "    # \"leningradskaya_oblast\",\n",
    "    \"moskovskaya_oblast\"\n",
    "]\n",
    "models = [\n",
    "    # \"skoda\",\n",
    "    # \"audi\",\n",
    "    # \"honda\",\n",
    "    # \"volvo\",\n",
    "    \"bmw\",\n",
    "    # \"nissan\",\n",
    "    # \"infiniti\",\n",
    "    \"mercedes\",\n",
    "    # \"toyota\",\n",
    "    # \"lexus\",\n",
    "    \"volkswagen\"\n",
    "]"
   ]
  },
  {
   "cell_type": "markdown",
   "id": "412b0528",
   "metadata": {},
   "source": [
    "## Function block"
   ]
  },
  {
   "cell_type": "code",
   "execution_count": 889,
   "id": "531256b2",
   "metadata": {},
   "outputs": [],
   "source": [
    "def get_urls_for_model_in_region(model: str, region: str) -> list:\n",
    "    '''\n",
    "    Function that takes model and region and parsing urls for vehicle to list\n",
    "    '''\n",
    "    result_list = []\n",
    "    cnt = True\n",
    "    page_num = 1\n",
    "    \n",
    "    while cnt is True and page_num <= 99:\n",
    "        try:\n",
    "            driver.get(f'https://auto.ru/{region}/cars/{model}/used/?page={page_num}')\n",
    "            next_page = driver.find_element(By.CLASS_NAME, 'ListingItemTitle__link')\n",
    "            page_links = driver.find_elements(By.CLASS_NAME, 'ListingItemTitle__link')\n",
    "\n",
    "            for item in page_links:\n",
    "                result_list.append(item.get_attribute('href'))\n",
    "            print(f'Parsing {page_num} page for {model} in {region}', end='\\r')\n",
    "            page_num += 1\n",
    "        except NoSuchElementException:\n",
    "            cnt = False\n",
    "            print()\n",
    "            print(f'There are {page_num - 1} pages by {model}')\n",
    "    \n",
    "    return result_list"
   ]
  },
  {
   "cell_type": "code",
   "execution_count": 890,
   "id": "d046b803",
   "metadata": {},
   "outputs": [],
   "source": [
    "def get_car_info(url: str) -> list:\n",
    "    '''\n",
    "    Function to parse each car URL\n",
    "    '''\n",
    "    driver.get(url)\n",
    "    \n",
    "    year = int(driver.find_element(By.CLASS_NAME, 'CardInfoRow_year').text.split('\\n')[1])\n",
    "    \n",
    "    car = driver.find_elements(By.CLASS_NAME,'CardBreadcrumbs__itemText')\n",
    "    brand = car[3].text\n",
    "    model = car[4].text\n",
    "    \n",
    "    car_url = url\n",
    "    \n",
    "    bodytype = driver.find_element(By.CLASS_NAME, 'CardInfoRow_bodytype').text.split('\\n')[1]\n",
    "    kmage = int(re.sub('\\D', '', driver.find_element(By.CLASS_NAME, 'CardInfoRow_kmAge').text))\n",
    "    color = driver.find_element(By.CLASS_NAME, 'CardInfoRow_color').text.split('\\n')[1]\n",
    "    \n",
    "    engine = driver.find_element(By.CLASS_NAME, 'CardInfoRow_engine').text.split('/')\n",
    "    \n",
    "    try:\n",
    "        engineDisplacement = float(re.findall('(\\d+.\\d+)', engine[0])[0])\n",
    "        enginePower = int(re.findall('\\d+', engine[1])[0])\n",
    "        fuelType = engine[2]\n",
    "    except IndexError:\n",
    "        engineDisplacement = 0\n",
    "        enginePower = 0\n",
    "        fuelType = engine\n",
    "    \n",
    "    super_gen = json.loads(driver.find_element(By.ID, 'sale-data-attributes').get_attribute('data-bem'))['sale-data-attributes']\n",
    "    \n",
    "    vehicleTransmission = driver.find_element(By.CLASS_NAME, 'CardInfoRow_transmission').text.split('\\n')[1]\n",
    "    drive = driver.find_element(By.CLASS_NAME, 'CardInfoRow_drive').text.split('\\n')[1]\n",
    "    wheel = driver.find_element(By.CLASS_NAME, 'CardInfoRow_wheel').text.split('\\n')[1]\n",
    "    state = driver.find_element(By.CLASS_NAME, 'CardInfoRow_state').text.split('\\n')[1]\n",
    "    owner = driver.find_element(By.CLASS_NAME, 'CardInfoRow_ownersCount').text.split('\\n')[1]\n",
    "    pts = driver.find_element(By.CLASS_NAME, 'CardInfoRow_pts').text.split('\\n')[1]\n",
    "    customs = driver.find_element(By.CLASS_NAME, 'CardInfoRow_customs').text.split('\\n')[1]\n",
    "    \n",
    "    try:\n",
    "        owningTime = driver.find_element(By.CLASS_NAME, 'CardInfoRow_owningTime').text.split('\\n')[1]\n",
    "    except NoSuchElementException:\n",
    "        owningTime = None\n",
    "    \n",
    "    try:\n",
    "        description = driver.find_element(By.CLASS_NAME, 'CardDescriptionHTML').text\n",
    "    except NoSuchElementException:\n",
    "        description = None\n",
    "    \n",
    "    sell_id = int(re.findall('\\d+', driver.find_element(By.CLASS_NAME, 'CardHead__id').text)[0])\n",
    "    price = int(re.sub('\\D', '', driver.find_element(By.CLASS_NAME, 'OfferPriceCaption__price').text))\n",
    "    \n",
    "    complect_list = []\n",
    "    \n",
    "    complect_data = driver.find_elements(By.CLASS_NAME, 'ComplectationGroupsDesktop__itemList')\n",
    "\n",
    "    for item in complect_data:\n",
    "        complect_list.extend(item.text.replace('\\n', '').split('•')[1:])\n",
    "    \n",
    "    try:\n",
    "        catalog_url = driver.find_element(By.CLASS_NAME, 'CardCatalogLink').get_attribute('href')\n",
    "    except NoSuchElementException:\n",
    "        catalog_url = 'No catalog link'\n",
    "    \n",
    "    \n",
    "    data_dict = {\n",
    "        'brand': brand, 'model': model, 'year': year, 'bodytype': bodytype, 'kmage': kmage,\n",
    "        'color': color, 'engineDisplacement': engineDisplacement, 'enginePower': enginePower, \n",
    "        'fuelType': fuelType, 'super_gen': super_gen, 'vehicleTransmission': vehicleTransmission,\n",
    "        'drive': drive, 'wheel': wheel, 'state': state, 'owner': owner, 'pts': pts, 'customs': customs, \n",
    "        'owningTime': owningTime, 'description': description, 'sell_id': sell_id, 'price': price, \n",
    "        'car_url': car_url, 'catalog_url': catalog_url, 'equipment_dict': complect_list\n",
    "    }\n",
    "    \n",
    "    return data_dict"
   ]
  },
  {
   "cell_type": "code",
   "execution_count": 891,
   "id": "14b718ee",
   "metadata": {},
   "outputs": [],
   "source": [
    "def get_dicts_from_catalog(url: str) -> list:\n",
    "    '''\n",
    "    Function to parse catalog URL\n",
    "    '''\n",
    "    driver.get(url)\n",
    "\n",
    "    car_info_full = driver.find_elements(By.CLASS_NAME, 'list-values')\n",
    "    \n",
    "    car_info_dict_ru = {}\n",
    "    \n",
    "    for item in car_info_full:\n",
    "        el = item.text.split('\\n')\n",
    "        for i in range(0, len(el) - 1, 2):\n",
    "            car_info_dict_ru[el[i]] = el[i + 1]\n",
    "    \n",
    "    engine_type_dict = {'бензин': 'GASOLINE', 'дизель': 'DIESEL', \n",
    "                        'гибрид': 'HYBRID', 'электро': 'ELECTRO', 'газ': 'LPG',\n",
    "                        'СУГ': 'LPG'}\n",
    "    gear_type_dict = {'передний': 'FORWARD_CONTROL', 'полный': 'ALL_WHEEL_DRIVE', 'задний': 'REAR_DRIVE'}\n",
    "    transmission_dict = {'автомат': 'AUTOMATIC', 'робот': 'ROBOT', \n",
    "                         'механика': 'MECHANICAL', 'вариатор': 'VARIATOR'}\n",
    "    \n",
    "    if car_info_dict_ru['Тип двигателя'] not in ['электро']:\n",
    "        if car_info_dict_ru.get('Расход топлива, л город/трасса/смешанный') is not None:\n",
    "            fuel_rate = float(car_info_dict_ru['Расход топлива, л город/трасса/смешанный'].split('/')[2])\n",
    "        elif car_info_dict_ru.get('Расход топлива, л смешанный') is not None:\n",
    "            fuel_rate = float(car_info_dict_ru['Расход топлива, л смешанный'])\n",
    "        elif car_info_dict_ru.get('Расход топлива, л город/смешанный') is not None:\n",
    "            fuel_rate = float(car_info_dict_ru['Расход топлива, л город/смешанный'].split('/')[1])\n",
    "        elif car_info_dict_ru.get('Расход топлива, л город/трасса') is not None:\n",
    "            fuel_rate = sum(map(float, car_info_dict_ru['Расход топлива, л город/трасса'].split('/'))) / 2\n",
    "        else:\n",
    "            fuel_rate = None\n",
    "    else:\n",
    "        fuel_rate = float(car_info_dict_ru['Запас хода на электричестве, км'])\n",
    "        \n",
    "    try:\n",
    "        clearance_min = min(map(int, re.findall('\\d+', car_info_dict_ru['Клиренс'])))\n",
    "    except KeyError:\n",
    "        clearance_min = None\n",
    "    \n",
    "    car_info_dict_en = {\n",
    "        'engine_type': engine_type_dict[car_info_dict_ru['Тип двигателя']],\n",
    "        'gear_type': gear_type_dict[car_info_dict_ru['Привод']],\n",
    "        'transmission': transmission_dict[car_info_dict_ru['Коробка']],\n",
    "        'power': int(re.findall('\\d+', car_info_dict_ru['Мощность'])[0]),\n",
    "        'power_kvt': int(re.findall('\\d+', car_info_dict_ru['Максимальная мощность, л.с./кВт при об/мин'])[1]),\n",
    "        'acceleration': car_info_dict_ru.get('Разгон до 100 км/ч, с'),\n",
    "        'clearance_min': clearance_min,\n",
    "        'fuel_rate': fuel_rate\n",
    "    }\n",
    "    \n",
    "    url2 = url.replace('specifications', 'equipment')\n",
    "    \n",
    "    driver.get(url2)\n",
    "\n",
    "    equipment_list = []\n",
    "\n",
    "    equipment_data = driver.find_elements(By.CLASS_NAME, 'catalog__package-list-i')\n",
    "    for item in equipment_data:\n",
    "        equipment_list.append(item.text)\n",
    "    \n",
    "    car_data = json.loads(driver.find_element(By.CLASS_NAME, 'search-form-v2-mmm').get_attribute('data-bem'))\n",
    "    equip_data = json.loads(driver.find_element(By.CLASS_NAME, 'catalog__section').get_attribute('data-bem'))\n",
    "    attrib_data = json.loads(driver.find_element(By.CLASS_NAME, 'sale-data-attributes').get_attribute('data-bem'))\n",
    "    \n",
    "    return {'catalog_url': url, 'super_gen_2': car_info_dict_en, 'super_gen_3': attrib_data, 'complectation_dict': equipment_list}"
   ]
  },
  {
   "cell_type": "markdown",
   "id": "62d08824",
   "metadata": {},
   "source": [
    "## Gathering URLs from MODEL pages in Regions and getting main info from car page"
   ]
  },
  {
   "cell_type": "code",
   "execution_count": 722,
   "id": "9a953351",
   "metadata": {},
   "outputs": [
    {
     "name": "stdout",
     "output_type": "stream",
     "text": [
      "Parsing 98 page for bmw in moskovskaya_oblast\r"
     ]
    },
    {
     "name": "stderr",
     "output_type": "stream",
     "text": [
      "\r",
      "  0%|                                                                                         | 0/3719 [00:00<?, ?it/s]"
     ]
    },
    {
     "name": "stdout",
     "output_type": "stream",
     "text": [
      "Parsing 99 page for bmw in moskovskaya_oblast\r"
     ]
    },
    {
     "name": "stderr",
     "output_type": "stream",
     "text": [
      "  3%|██▍                                                                          | 118/3719 [07:27<2:52:32,  2.88s/it]"
     ]
    },
    {
     "name": "stdout",
     "output_type": "stream",
     "text": [
      "Error 404\r"
     ]
    },
    {
     "name": "stderr",
     "output_type": "stream",
     "text": [
      "  4%|███▍                                                                         | 167/3719 [10:37<3:03:01,  3.09s/it]"
     ]
    },
    {
     "name": "stdout",
     "output_type": "stream",
     "text": [
      "Error 404\r"
     ]
    },
    {
     "name": "stderr",
     "output_type": "stream",
     "text": [
      "  5%|████                                                                         | 197/3719 [12:24<2:41:34,  2.75s/it]"
     ]
    },
    {
     "name": "stdout",
     "output_type": "stream",
     "text": [
      "Error 404\r"
     ]
    },
    {
     "name": "stderr",
     "output_type": "stream",
     "text": [
      "  9%|██████▊                                                                      | 329/3719 [20:38<2:51:16,  3.03s/it]"
     ]
    },
    {
     "name": "stdout",
     "output_type": "stream",
     "text": [
      "Error 404\r"
     ]
    },
    {
     "name": "stderr",
     "output_type": "stream",
     "text": [
      " 11%|████████▍                                                                    | 405/3719 [25:22<2:27:12,  2.67s/it]"
     ]
    },
    {
     "name": "stdout",
     "output_type": "stream",
     "text": [
      "Error 404\r"
     ]
    },
    {
     "name": "stderr",
     "output_type": "stream",
     "text": [
      " 12%|█████████                                                                    | 436/3719 [27:15<2:34:45,  2.83s/it]"
     ]
    },
    {
     "name": "stdout",
     "output_type": "stream",
     "text": [
      "Error 404\r"
     ]
    },
    {
     "name": "stderr",
     "output_type": "stream",
     "text": [
      " 13%|█████████▋                                                                   | 467/3719 [29:08<2:32:00,  2.80s/it]"
     ]
    },
    {
     "name": "stdout",
     "output_type": "stream",
     "text": [
      "Error 404\r"
     ]
    },
    {
     "name": "stderr",
     "output_type": "stream",
     "text": [
      " 18%|█████████████▉                                                               | 673/3719 [42:08<2:26:43,  2.89s/it]"
     ]
    },
    {
     "name": "stdout",
     "output_type": "stream",
     "text": [
      "Error 404\r"
     ]
    },
    {
     "name": "stderr",
     "output_type": "stream",
     "text": [
      " 18%|██████████████▏                                                              | 684/3719 [42:46<2:23:28,  2.84s/it]"
     ]
    },
    {
     "name": "stdout",
     "output_type": "stream",
     "text": [
      "Error 404\r"
     ]
    },
    {
     "name": "stderr",
     "output_type": "stream",
     "text": [
      " 23%|█████████████████▋                                                           | 852/3719 [53:03<2:15:26,  2.83s/it]"
     ]
    },
    {
     "name": "stdout",
     "output_type": "stream",
     "text": [
      "Error 404\r"
     ]
    },
    {
     "name": "stderr",
     "output_type": "stream",
     "text": [
      " 26%|███████████████████▊                                                         | 954/3719 [59:17<2:02:27,  2.66s/it]"
     ]
    },
    {
     "name": "stdout",
     "output_type": "stream",
     "text": [
      "Error 404\r"
     ]
    },
    {
     "name": "stderr",
     "output_type": "stream",
     "text": [
      " 27%|████████████████████▏                                                      | 998/3719 [1:02:02<2:14:59,  2.98s/it]"
     ]
    },
    {
     "name": "stdout",
     "output_type": "stream",
     "text": [
      "Error 404\r"
     ]
    },
    {
     "name": "stderr",
     "output_type": "stream",
     "text": [
      " 27%|████████████████████▎                                                     | 1019/3719 [1:03:14<2:05:18,  2.78s/it]"
     ]
    },
    {
     "name": "stdout",
     "output_type": "stream",
     "text": [
      "Error 404\r"
     ]
    },
    {
     "name": "stderr",
     "output_type": "stream",
     "text": [
      " 28%|████████████████████▌                                                     | 1034/3719 [1:04:10<2:47:39,  3.75s/it]"
     ]
    },
    {
     "name": "stdout",
     "output_type": "stream",
     "text": [
      "Error 404\r"
     ]
    },
    {
     "name": "stderr",
     "output_type": "stream",
     "text": [
      " 30%|██████████████████████                                                    | 1108/3719 [1:08:43<1:59:50,  2.75s/it]"
     ]
    },
    {
     "name": "stdout",
     "output_type": "stream",
     "text": [
      "Error 404\r"
     ]
    },
    {
     "name": "stderr",
     "output_type": "stream",
     "text": [
      " 31%|██████████████████████▊                                                   | 1145/3719 [1:11:09<2:01:50,  2.84s/it]"
     ]
    },
    {
     "name": "stdout",
     "output_type": "stream",
     "text": [
      "Error 404\r"
     ]
    },
    {
     "name": "stderr",
     "output_type": "stream",
     "text": [
      " 31%|███████████████████████                                                   | 1158/3719 [1:11:58<2:45:03,  3.87s/it]"
     ]
    },
    {
     "name": "stdout",
     "output_type": "stream",
     "text": [
      "Error 404\r"
     ]
    },
    {
     "name": "stderr",
     "output_type": "stream",
     "text": [
      " 33%|████████████████████████▎                                                 | 1225/3719 [1:16:26<2:22:40,  3.43s/it]"
     ]
    },
    {
     "name": "stdout",
     "output_type": "stream",
     "text": [
      "Error 404\r"
     ]
    },
    {
     "name": "stderr",
     "output_type": "stream",
     "text": [
      " 34%|█████████████████████████                                                 | 1262/3719 [1:18:46<2:12:54,  3.25s/it]"
     ]
    },
    {
     "name": "stdout",
     "output_type": "stream",
     "text": [
      "Error 404\r"
     ]
    },
    {
     "name": "stderr",
     "output_type": "stream",
     "text": [
      " 35%|█████████████████████████▋                                                | 1290/3719 [1:20:34<2:01:29,  3.00s/it]"
     ]
    },
    {
     "name": "stdout",
     "output_type": "stream",
     "text": [
      "Error 404\r"
     ]
    },
    {
     "name": "stderr",
     "output_type": "stream",
     "text": [
      " 35%|██████████████████████████▏                                               | 1314/3719 [1:22:06<2:01:41,  3.04s/it]"
     ]
    },
    {
     "name": "stdout",
     "output_type": "stream",
     "text": [
      "Error 404\r"
     ]
    },
    {
     "name": "stderr",
     "output_type": "stream",
     "text": [
      " 37%|███████████████████████████                                               | 1358/3719 [1:25:03<2:04:09,  3.16s/it]"
     ]
    },
    {
     "name": "stdout",
     "output_type": "stream",
     "text": [
      "Error 404\r"
     ]
    },
    {
     "name": "stderr",
     "output_type": "stream",
     "text": [
      " 38%|███████████████████████████▉                                              | 1404/3719 [1:28:05<1:45:13,  2.73s/it]"
     ]
    },
    {
     "name": "stdout",
     "output_type": "stream",
     "text": [
      "Error 404\r"
     ]
    },
    {
     "name": "stderr",
     "output_type": "stream",
     "text": [
      " 40%|█████████████████████████████▋                                            | 1489/3719 [1:33:29<2:03:01,  3.31s/it]"
     ]
    },
    {
     "name": "stdout",
     "output_type": "stream",
     "text": [
      "Error 404\r"
     ]
    },
    {
     "name": "stderr",
     "output_type": "stream",
     "text": [
      " 40%|█████████████████████████████▉                                            | 1506/3719 [1:34:31<1:52:19,  3.05s/it]"
     ]
    },
    {
     "name": "stdout",
     "output_type": "stream",
     "text": [
      "Error 404\r"
     ]
    },
    {
     "name": "stderr",
     "output_type": "stream",
     "text": [
      " 42%|███████████████████████████████▎                                          | 1575/3719 [1:38:52<1:46:31,  2.98s/it]"
     ]
    },
    {
     "name": "stdout",
     "output_type": "stream",
     "text": [
      "Error 404\r"
     ]
    },
    {
     "name": "stderr",
     "output_type": "stream",
     "text": [
      " 43%|███████████████████████████████▊                                          | 1597/3719 [1:40:20<1:42:14,  2.89s/it]"
     ]
    },
    {
     "name": "stdout",
     "output_type": "stream",
     "text": [
      "Error 404\r"
     ]
    },
    {
     "name": "stderr",
     "output_type": "stream",
     "text": [
      " 45%|█████████████████████████████████                                         | 1659/3719 [1:44:47<2:17:15,  4.00s/it]"
     ]
    },
    {
     "name": "stdout",
     "output_type": "stream",
     "text": [
      "Error 404\r"
     ]
    },
    {
     "name": "stderr",
     "output_type": "stream",
     "text": [
      " 46%|█████████████████████████████████▊                                        | 1698/3719 [1:47:31<1:40:57,  3.00s/it]"
     ]
    },
    {
     "name": "stdout",
     "output_type": "stream",
     "text": [
      "Error 404\r"
     ]
    },
    {
     "name": "stderr",
     "output_type": "stream",
     "text": [
      " 47%|██████████████████████████████████▉                                       | 1754/3719 [1:51:13<1:37:08,  2.97s/it]"
     ]
    },
    {
     "name": "stdout",
     "output_type": "stream",
     "text": [
      "Error 404\r"
     ]
    },
    {
     "name": "stderr",
     "output_type": "stream",
     "text": [
      " 48%|███████████████████████████████████▎                                      | 1775/3719 [1:52:49<1:39:28,  3.07s/it]"
     ]
    },
    {
     "name": "stdout",
     "output_type": "stream",
     "text": [
      "Error 404\r"
     ]
    },
    {
     "name": "stderr",
     "output_type": "stream",
     "text": [
      " 49%|████████████████████████████████████▏                                     | 1816/3719 [1:55:28<1:43:16,  3.26s/it]"
     ]
    },
    {
     "name": "stdout",
     "output_type": "stream",
     "text": [
      "Error 404\r"
     ]
    },
    {
     "name": "stderr",
     "output_type": "stream",
     "text": [
      " 51%|█████████████████████████████████████▌                                    | 1889/3719 [2:00:29<1:38:48,  3.24s/it]"
     ]
    },
    {
     "name": "stdout",
     "output_type": "stream",
     "text": [
      "Error 404\r"
     ]
    },
    {
     "name": "stderr",
     "output_type": "stream",
     "text": [
      " 54%|████████████████████████████████████████▏                                 | 2020/3719 [2:10:08<1:55:34,  4.08s/it]"
     ]
    },
    {
     "name": "stdout",
     "output_type": "stream",
     "text": [
      "Error 404\r"
     ]
    },
    {
     "name": "stderr",
     "output_type": "stream",
     "text": [
      " 55%|████████████████████████████████████████▍                                 | 2035/3719 [2:11:10<1:55:46,  4.13s/it]"
     ]
    },
    {
     "name": "stdout",
     "output_type": "stream",
     "text": [
      "Error 404\r"
     ]
    },
    {
     "name": "stderr",
     "output_type": "stream",
     "text": [
      " 56%|█████████████████████████████████████████▋                                | 2094/3719 [2:15:15<1:46:13,  3.92s/it]"
     ]
    },
    {
     "name": "stdout",
     "output_type": "stream",
     "text": [
      "Error 404\r"
     ]
    },
    {
     "name": "stderr",
     "output_type": "stream",
     "text": [
      " 57%|██████████████████████████████████████████▎                               | 2127/3719 [2:17:28<1:27:47,  3.31s/it]"
     ]
    },
    {
     "name": "stdout",
     "output_type": "stream",
     "text": [
      "Error 404\r"
     ]
    },
    {
     "name": "stderr",
     "output_type": "stream",
     "text": [
      " 59%|███████████████████████████████████████████▌                              | 2189/3719 [2:21:56<1:18:21,  3.07s/it]"
     ]
    },
    {
     "name": "stdout",
     "output_type": "stream",
     "text": [
      "Error 404\r"
     ]
    },
    {
     "name": "stderr",
     "output_type": "stream",
     "text": [
      " 60%|████████████████████████████████████████████▍                             | 2235/3719 [2:24:54<1:10:57,  2.87s/it]"
     ]
    },
    {
     "name": "stdout",
     "output_type": "stream",
     "text": [
      "Error 404\r"
     ]
    },
    {
     "name": "stderr",
     "output_type": "stream",
     "text": [
      " 61%|█████████████████████████████████████████████▍                            | 2283/3719 [2:27:54<1:10:36,  2.95s/it]"
     ]
    },
    {
     "name": "stdout",
     "output_type": "stream",
     "text": [
      "Error 404\r"
     ]
    },
    {
     "name": "stderr",
     "output_type": "stream",
     "text": [
      " 63%|██████████████████████████████████████████████▍                           | 2335/3719 [2:31:15<1:05:43,  2.85s/it]"
     ]
    },
    {
     "name": "stdout",
     "output_type": "stream",
     "text": [
      "Error 404\r"
     ]
    },
    {
     "name": "stderr",
     "output_type": "stream",
     "text": [
      " 65%|████████████████████████████████████████████████▎                         | 2429/3719 [2:37:25<1:09:54,  3.25s/it]"
     ]
    },
    {
     "name": "stdout",
     "output_type": "stream",
     "text": [
      "Error 404\r"
     ]
    },
    {
     "name": "stderr",
     "output_type": "stream",
     "text": [
      " 68%|███████████████████████████████████████████████████▍                        | 2516/3719 [2:43:09<55:16,  2.76s/it]"
     ]
    },
    {
     "name": "stdout",
     "output_type": "stream",
     "text": [
      "Error 404\r"
     ]
    },
    {
     "name": "stderr",
     "output_type": "stream",
     "text": [
      " 69%|████████████████████████████████████████████████████▎                       | 2560/3719 [2:46:01<56:23,  2.92s/it]"
     ]
    },
    {
     "name": "stdout",
     "output_type": "stream",
     "text": [
      "Error 404\r"
     ]
    },
    {
     "name": "stderr",
     "output_type": "stream",
     "text": [
      " 70%|█████████████████████████████████████████████████████▏                      | 2601/3719 [2:48:43<54:19,  2.92s/it]"
     ]
    },
    {
     "name": "stdout",
     "output_type": "stream",
     "text": [
      "Error 404\r"
     ]
    },
    {
     "name": "stderr",
     "output_type": "stream",
     "text": [
      " 70%|████████████████████████████████████████████████████                      | 2618/3719 [2:49:47<1:09:50,  3.81s/it]"
     ]
    },
    {
     "name": "stdout",
     "output_type": "stream",
     "text": [
      "Error 404\r"
     ]
    },
    {
     "name": "stderr",
     "output_type": "stream",
     "text": [
      " 71%|█████████████████████████████████████████████████████▉                      | 2638/3719 [2:51:02<50:19,  2.79s/it]"
     ]
    },
    {
     "name": "stdout",
     "output_type": "stream",
     "text": [
      "Error 404\r"
     ]
    },
    {
     "name": "stderr",
     "output_type": "stream",
     "text": [
      " 72%|█████████████████████████████████████████████████████▎                    | 2680/3719 [2:53:55<1:09:09,  3.99s/it]"
     ]
    },
    {
     "name": "stdout",
     "output_type": "stream",
     "text": [
      "Error 404\r"
     ]
    },
    {
     "name": "stderr",
     "output_type": "stream",
     "text": [
      " 73%|███████████████████████████████████████████████████████▏                    | 2700/3719 [2:55:10<52:14,  3.08s/it]"
     ]
    },
    {
     "name": "stdout",
     "output_type": "stream",
     "text": [
      "Error 404\r"
     ]
    },
    {
     "name": "stderr",
     "output_type": "stream",
     "text": [
      " 73%|█████████████████████████████████████████████████████▉                    | 2711/3719 [2:55:53<1:02:15,  3.71s/it]"
     ]
    },
    {
     "name": "stdout",
     "output_type": "stream",
     "text": [
      "Error 404\r"
     ]
    },
    {
     "name": "stderr",
     "output_type": "stream",
     "text": [
      " 74%|████████████████████████████████████████████████████████                    | 2743/3719 [2:57:55<50:46,  3.12s/it]"
     ]
    },
    {
     "name": "stdout",
     "output_type": "stream",
     "text": [
      "Error 404\r"
     ]
    },
    {
     "name": "stderr",
     "output_type": "stream",
     "text": [
      " 80%|████████████████████████████████████████████████████████████▊               | 2975/3719 [3:14:01<35:41,  2.88s/it]"
     ]
    },
    {
     "name": "stdout",
     "output_type": "stream",
     "text": [
      "Error 404\r"
     ]
    },
    {
     "name": "stderr",
     "output_type": "stream",
     "text": [
      " 82%|██████████████████████████████████████████████████████████████▋             | 3066/3719 [3:20:40<39:47,  3.66s/it]"
     ]
    },
    {
     "name": "stdout",
     "output_type": "stream",
     "text": [
      "Error 404\r"
     ]
    },
    {
     "name": "stderr",
     "output_type": "stream",
     "text": [
      " 83%|███████████████████████████████████████████████████████████████▎            | 3098/3719 [3:23:04<34:39,  3.35s/it]"
     ]
    },
    {
     "name": "stdout",
     "output_type": "stream",
     "text": [
      "Error 404\r"
     ]
    },
    {
     "name": "stderr",
     "output_type": "stream",
     "text": [
      " 84%|████████████████████████████████████████████████████████████████▏           | 3138/3719 [3:26:02<33:20,  3.44s/it]"
     ]
    },
    {
     "name": "stdout",
     "output_type": "stream",
     "text": [
      "Error 404\r"
     ]
    },
    {
     "name": "stderr",
     "output_type": "stream",
     "text": [
      " 88%|██████████████████████████████████████████████████████████████████▌         | 3258/3719 [3:34:18<24:23,  3.17s/it]"
     ]
    },
    {
     "name": "stdout",
     "output_type": "stream",
     "text": [
      "Error 404\r"
     ]
    },
    {
     "name": "stderr",
     "output_type": "stream",
     "text": [
      " 88%|███████████████████████████████████████████████████████████████████▏        | 3287/3719 [3:36:14<21:18,  2.96s/it]"
     ]
    },
    {
     "name": "stdout",
     "output_type": "stream",
     "text": [
      "Error 404\r"
     ]
    },
    {
     "name": "stderr",
     "output_type": "stream",
     "text": [
      " 89%|███████████████████████████████████████████████████████████████████▉        | 3325/3719 [3:38:38<18:32,  2.82s/it]"
     ]
    },
    {
     "name": "stdout",
     "output_type": "stream",
     "text": [
      "Error 404\r"
     ]
    },
    {
     "name": "stderr",
     "output_type": "stream",
     "text": [
      " 92%|█████████████████████████████████████████████████████████████████████▌      | 3404/3719 [3:43:47<14:28,  2.76s/it]"
     ]
    },
    {
     "name": "stdout",
     "output_type": "stream",
     "text": [
      "Error 404\r"
     ]
    },
    {
     "name": "stderr",
     "output_type": "stream",
     "text": [
      " 92%|█████████████████████████████████████████████████████████████████████▉      | 3421/3719 [3:44:48<13:13,  2.66s/it]"
     ]
    },
    {
     "name": "stdout",
     "output_type": "stream",
     "text": [
      "Error 404\r"
     ]
    },
    {
     "name": "stderr",
     "output_type": "stream",
     "text": [
      " 95%|████████████████████████████████████████████████████████████████████████    | 3528/3719 [3:51:43<10:02,  3.16s/it]"
     ]
    },
    {
     "name": "stdout",
     "output_type": "stream",
     "text": [
      "Error 404\r"
     ]
    },
    {
     "name": "stderr",
     "output_type": "stream",
     "text": [
      " 95%|████████████████████████████████████████████████████████████████████████▏   | 3535/3719 [3:52:09<09:29,  3.09s/it]"
     ]
    },
    {
     "name": "stdout",
     "output_type": "stream",
     "text": [
      "Error 404\r"
     ]
    },
    {
     "name": "stderr",
     "output_type": "stream",
     "text": [
      " 97%|█████████████████████████████████████████████████████████████████████████▋  | 3605/3719 [3:56:53<05:55,  3.12s/it]"
     ]
    },
    {
     "name": "stdout",
     "output_type": "stream",
     "text": [
      "Error 404\r"
     ]
    },
    {
     "name": "stderr",
     "output_type": "stream",
     "text": [
      " 98%|██████████████████████████████████████████████████████████████████████████▋ | 3655/3719 [4:00:15<03:45,  3.52s/it]"
     ]
    },
    {
     "name": "stdout",
     "output_type": "stream",
     "text": [
      "Error 404\r"
     ]
    },
    {
     "name": "stderr",
     "output_type": "stream",
     "text": [
      "100%|████████████████████████████████████████████████████████████████████████████| 3719/3719 [4:05:05<00:00,  3.95s/it]\n"
     ]
    },
    {
     "name": "stdout",
     "output_type": "stream",
     "text": [
      "Parsing 98 page for mercedes in moskovskaya_oblast\r"
     ]
    },
    {
     "name": "stderr",
     "output_type": "stream",
     "text": [
      "\r",
      "  0%|                                                                                         | 0/3732 [00:00<?, ?it/s]"
     ]
    },
    {
     "name": "stdout",
     "output_type": "stream",
     "text": [
      "Parsing 99 page for mercedes in moskovskaya_oblast\r"
     ]
    },
    {
     "name": "stderr",
     "output_type": "stream",
     "text": [
      "  0%|▏                                                                              | 9/3732 [00:39<4:28:56,  4.33s/it]"
     ]
    },
    {
     "name": "stdout",
     "output_type": "stream",
     "text": [
      "Error 404\r"
     ]
    },
    {
     "name": "stderr",
     "output_type": "stream",
     "text": [
      "  1%|▌                                                                             | 28/3732 [01:59<3:28:44,  3.38s/it]"
     ]
    },
    {
     "name": "stdout",
     "output_type": "stream",
     "text": [
      "Error 404\r"
     ]
    },
    {
     "name": "stderr",
     "output_type": "stream",
     "text": [
      "  1%|▊                                                                             | 40/3732 [02:47<3:29:57,  3.41s/it]"
     ]
    },
    {
     "name": "stdout",
     "output_type": "stream",
     "text": [
      "Error 404\r"
     ]
    },
    {
     "name": "stderr",
     "output_type": "stream",
     "text": [
      "  2%|█▊                                                                            | 85/3732 [06:19<3:18:35,  3.27s/it]"
     ]
    },
    {
     "name": "stdout",
     "output_type": "stream",
     "text": [
      "Error 404\r"
     ]
    },
    {
     "name": "stderr",
     "output_type": "stream",
     "text": [
      "  3%|██▋                                                                          | 129/3732 [09:36<3:58:32,  3.97s/it]"
     ]
    },
    {
     "name": "stdout",
     "output_type": "stream",
     "text": [
      "Error 404\r"
     ]
    },
    {
     "name": "stderr",
     "output_type": "stream",
     "text": [
      "  5%|███▋                                                                         | 177/3732 [13:13<3:17:54,  3.34s/it]"
     ]
    },
    {
     "name": "stdout",
     "output_type": "stream",
     "text": [
      "Error 404\r"
     ]
    },
    {
     "name": "stderr",
     "output_type": "stream",
     "text": [
      "  6%|████▍                                                                        | 218/3732 [16:08<3:20:19,  3.42s/it]"
     ]
    },
    {
     "name": "stdout",
     "output_type": "stream",
     "text": [
      "Error 404\r"
     ]
    },
    {
     "name": "stderr",
     "output_type": "stream",
     "text": [
      "  7%|█████▎                                                                       | 258/3732 [19:05<3:15:40,  3.38s/it]"
     ]
    },
    {
     "name": "stdout",
     "output_type": "stream",
     "text": [
      "Error 404\r"
     ]
    },
    {
     "name": "stderr",
     "output_type": "stream",
     "text": [
      "  8%|█████▉                                                                       | 290/3732 [21:41<3:26:28,  3.60s/it]"
     ]
    },
    {
     "name": "stdout",
     "output_type": "stream",
     "text": [
      "Error 404\r"
     ]
    },
    {
     "name": "stderr",
     "output_type": "stream",
     "text": [
      "  9%|██████▌                                                                      | 318/3732 [23:36<2:53:50,  3.06s/it]"
     ]
    },
    {
     "name": "stdout",
     "output_type": "stream",
     "text": [
      "Error 404\r"
     ]
    },
    {
     "name": "stderr",
     "output_type": "stream",
     "text": [
      "  9%|███████▏                                                                     | 346/3732 [25:30<3:02:35,  3.24s/it]"
     ]
    },
    {
     "name": "stdout",
     "output_type": "stream",
     "text": [
      "Error 404\r"
     ]
    },
    {
     "name": "stderr",
     "output_type": "stream",
     "text": [
      " 12%|████████▉                                                                    | 432/3732 [31:18<2:48:48,  3.07s/it]"
     ]
    },
    {
     "name": "stdout",
     "output_type": "stream",
     "text": [
      "Error 404\r"
     ]
    },
    {
     "name": "stderr",
     "output_type": "stream",
     "text": [
      " 13%|██████████                                                                   | 487/3732 [35:02<2:50:21,  3.15s/it]"
     ]
    },
    {
     "name": "stdout",
     "output_type": "stream",
     "text": [
      "Error 404\r"
     ]
    },
    {
     "name": "stderr",
     "output_type": "stream",
     "text": [
      " 17%|████████████▋                                                                | 616/3732 [43:36<2:45:03,  3.18s/it]"
     ]
    },
    {
     "name": "stdout",
     "output_type": "stream",
     "text": [
      "Error 404\r"
     ]
    },
    {
     "name": "stderr",
     "output_type": "stream",
     "text": [
      " 18%|█████████████▊                                                               | 669/3732 [47:05<2:45:56,  3.25s/it]"
     ]
    },
    {
     "name": "stdout",
     "output_type": "stream",
     "text": [
      "Error 404\r"
     ]
    },
    {
     "name": "stderr",
     "output_type": "stream",
     "text": [
      " 19%|██████████████▎                                                              | 696/3732 [48:51<2:37:32,  3.11s/it]"
     ]
    },
    {
     "name": "stdout",
     "output_type": "stream",
     "text": [
      "Error 404\r"
     ]
    },
    {
     "name": "stderr",
     "output_type": "stream",
     "text": [
      " 20%|███████████████                                                              | 731/3732 [51:08<2:34:30,  3.09s/it]"
     ]
    },
    {
     "name": "stdout",
     "output_type": "stream",
     "text": [
      "Error 404\r"
     ]
    },
    {
     "name": "stderr",
     "output_type": "stream",
     "text": [
      " 22%|█████████████████                                                            | 830/3732 [57:44<2:30:55,  3.12s/it]"
     ]
    },
    {
     "name": "stdout",
     "output_type": "stream",
     "text": [
      "Error 404\r"
     ]
    },
    {
     "name": "stderr",
     "output_type": "stream",
     "text": [
      " 23%|█████████████████▌                                                           | 849/3732 [58:56<2:22:51,  2.97s/it]"
     ]
    },
    {
     "name": "stdout",
     "output_type": "stream",
     "text": [
      "Error 404\r"
     ]
    },
    {
     "name": "stderr",
     "output_type": "stream",
     "text": [
      " 23%|█████████████████▋                                                           | 858/3732 [59:33<3:20:45,  4.19s/it]"
     ]
    },
    {
     "name": "stdout",
     "output_type": "stream",
     "text": [
      "Error 404\r"
     ]
    },
    {
     "name": "stderr",
     "output_type": "stream",
     "text": [
      " 24%|██████████████████▎                                                        | 909/3732 [1:02:57<2:59:58,  3.83s/it]"
     ]
    },
    {
     "name": "stdout",
     "output_type": "stream",
     "text": [
      "Error 404\r"
     ]
    },
    {
     "name": "stderr",
     "output_type": "stream",
     "text": [
      " 25%|██████████████████▉                                                        | 940/3732 [1:05:06<3:20:02,  4.30s/it]"
     ]
    },
    {
     "name": "stdout",
     "output_type": "stream",
     "text": [
      "Error 404\r"
     ]
    },
    {
     "name": "stderr",
     "output_type": "stream",
     "text": [
      " 26%|███████████████████▏                                                       | 955/3732 [1:06:02<2:28:00,  3.20s/it]"
     ]
    },
    {
     "name": "stdout",
     "output_type": "stream",
     "text": [
      "Error 404\r"
     ]
    },
    {
     "name": "stderr",
     "output_type": "stream",
     "text": [
      " 26%|███████████████████▍                                                       | 969/3732 [1:07:01<3:10:22,  4.13s/it]"
     ]
    },
    {
     "name": "stdout",
     "output_type": "stream",
     "text": [
      "Error 404\r"
     ]
    },
    {
     "name": "stderr",
     "output_type": "stream",
     "text": [
      " 27%|███████████████████▊                                                      | 1001/3732 [1:09:12<2:17:32,  3.02s/it]"
     ]
    },
    {
     "name": "stdout",
     "output_type": "stream",
     "text": [
      "Error 404\r"
     ]
    },
    {
     "name": "stderr",
     "output_type": "stream",
     "text": [
      " 29%|█████████████████████▍                                                    | 1082/3732 [1:14:40<2:21:15,  3.20s/it]"
     ]
    },
    {
     "name": "stdout",
     "output_type": "stream",
     "text": [
      "Error 404\r"
     ]
    },
    {
     "name": "stderr",
     "output_type": "stream",
     "text": [
      " 30%|█████████████████████▉                                                    | 1104/3732 [1:16:21<2:44:09,  3.75s/it]"
     ]
    },
    {
     "name": "stdout",
     "output_type": "stream",
     "text": [
      "Error 404\r"
     ]
    },
    {
     "name": "stderr",
     "output_type": "stream",
     "text": [
      " 31%|██████████████████████▉                                                   | 1154/3732 [1:19:49<2:14:36,  3.13s/it]"
     ]
    },
    {
     "name": "stdout",
     "output_type": "stream",
     "text": [
      "Error 404\r"
     ]
    },
    {
     "name": "stderr",
     "output_type": "stream",
     "text": [
      " 31%|███████████████████████▎                                                  | 1175/3732 [1:21:16<2:20:08,  3.29s/it]"
     ]
    },
    {
     "name": "stdout",
     "output_type": "stream",
     "text": [
      "Error 404\r"
     ]
    },
    {
     "name": "stderr",
     "output_type": "stream",
     "text": [
      " 33%|████████████████████████▏                                                 | 1222/3732 [1:24:36<2:35:43,  3.72s/it]"
     ]
    },
    {
     "name": "stdout",
     "output_type": "stream",
     "text": [
      "Error 404\r"
     ]
    },
    {
     "name": "stderr",
     "output_type": "stream",
     "text": [
      " 34%|████████████████████████▉                                                 | 1255/3732 [1:26:55<2:20:44,  3.41s/it]"
     ]
    },
    {
     "name": "stdout",
     "output_type": "stream",
     "text": [
      "Error 404\r"
     ]
    },
    {
     "name": "stderr",
     "output_type": "stream",
     "text": [
      " 35%|█████████████████████████▉                                                | 1306/3732 [1:30:23<1:53:44,  2.81s/it]"
     ]
    },
    {
     "name": "stdout",
     "output_type": "stream",
     "text": [
      "Error 404\r"
     ]
    },
    {
     "name": "stderr",
     "output_type": "stream",
     "text": [
      " 38%|███████████████████████████▉                                              | 1406/3732 [1:38:05<2:34:37,  3.99s/it]"
     ]
    },
    {
     "name": "stdout",
     "output_type": "stream",
     "text": [
      "Error 404\r"
     ]
    },
    {
     "name": "stderr",
     "output_type": "stream",
     "text": [
      " 39%|████████████████████████████▌                                             | 1441/3732 [1:40:54<2:18:36,  3.63s/it]"
     ]
    },
    {
     "name": "stdout",
     "output_type": "stream",
     "text": [
      "Error 404\r"
     ]
    },
    {
     "name": "stderr",
     "output_type": "stream",
     "text": [
      " 40%|█████████████████████████████▎                                            | 1478/3732 [1:43:53<2:19:39,  3.72s/it]"
     ]
    },
    {
     "name": "stdout",
     "output_type": "stream",
     "text": [
      "Error 404\r"
     ]
    },
    {
     "name": "stderr",
     "output_type": "stream",
     "text": [
      " 43%|███████████████████████████████▉                                          | 1613/3732 [1:55:03<2:15:59,  3.85s/it]"
     ]
    },
    {
     "name": "stdout",
     "output_type": "stream",
     "text": [
      "Error 404\r"
     ]
    },
    {
     "name": "stderr",
     "output_type": "stream",
     "text": [
      " 44%|████████████████████████████████▊                                         | 1654/3732 [1:58:34<2:22:09,  4.10s/it]"
     ]
    },
    {
     "name": "stdout",
     "output_type": "stream",
     "text": [
      "Error 404\r"
     ]
    },
    {
     "name": "stderr",
     "output_type": "stream",
     "text": [
      " 45%|█████████████████████████████████▌                                        | 1691/3732 [2:02:14<4:17:03,  7.56s/it]"
     ]
    },
    {
     "name": "stdout",
     "output_type": "stream",
     "text": [
      "Error 404\r"
     ]
    },
    {
     "name": "stderr",
     "output_type": "stream",
     "text": [
      " 46%|█████████████████████████████████▊                                        | 1704/3732 [2:05:03<4:11:48,  7.45s/it]"
     ]
    },
    {
     "name": "stdout",
     "output_type": "stream",
     "text": [
      "Error 404\r"
     ]
    },
    {
     "name": "stderr",
     "output_type": "stream",
     "text": [
      " 47%|██████████████████████████████████▉                                       | 1762/3732 [2:10:24<2:33:36,  4.68s/it]"
     ]
    },
    {
     "name": "stdout",
     "output_type": "stream",
     "text": [
      "Error 404\r"
     ]
    },
    {
     "name": "stderr",
     "output_type": "stream",
     "text": [
      " 48%|███████████████████████████████████▏                                      | 1775/3732 [2:11:28<2:10:57,  4.01s/it]"
     ]
    },
    {
     "name": "stdout",
     "output_type": "stream",
     "text": [
      "Error 404\r"
     ]
    },
    {
     "name": "stderr",
     "output_type": "stream",
     "text": [
      " 50%|█████████████████████████████████████                                     | 1868/3732 [2:19:48<3:18:18,  6.38s/it]"
     ]
    },
    {
     "name": "stdout",
     "output_type": "stream",
     "text": [
      "Error 404\r"
     ]
    },
    {
     "name": "stderr",
     "output_type": "stream",
     "text": [
      "\r",
      " 50%|█████████████████████████████████████                                     | 1869/3732 [2:19:49<2:27:13,  4.74s/it]"
     ]
    },
    {
     "name": "stdout",
     "output_type": "stream",
     "text": [
      "Error 404\r"
     ]
    },
    {
     "name": "stderr",
     "output_type": "stream",
     "text": [
      " 51%|█████████████████████████████████████▌                                    | 1893/3732 [2:21:56<1:56:40,  3.81s/it]"
     ]
    },
    {
     "name": "stdout",
     "output_type": "stream",
     "text": [
      "Error 404\r"
     ]
    },
    {
     "name": "stderr",
     "output_type": "stream",
     "text": [
      " 53%|███████████████████████████████████████▌                                  | 1995/3732 [2:31:01<1:52:07,  3.87s/it]"
     ]
    },
    {
     "name": "stdout",
     "output_type": "stream",
     "text": [
      "Error 404\r"
     ]
    },
    {
     "name": "stderr",
     "output_type": "stream",
     "text": [
      " 55%|████████████████████████████████████████▋                                 | 2052/3732 [2:36:01<2:00:15,  4.29s/it]"
     ]
    },
    {
     "name": "stdout",
     "output_type": "stream",
     "text": [
      "Error 404\r"
     ]
    },
    {
     "name": "stderr",
     "output_type": "stream",
     "text": [
      " 57%|██████████████████████████████████████████▍                               | 2139/3732 [2:44:16<2:02:22,  4.61s/it]"
     ]
    },
    {
     "name": "stdout",
     "output_type": "stream",
     "text": [
      "Error 404\r"
     ]
    },
    {
     "name": "stderr",
     "output_type": "stream",
     "text": [
      " 59%|███████████████████████████████████████████▎                              | 2184/3732 [2:49:07<1:45:10,  4.08s/it]"
     ]
    },
    {
     "name": "stdout",
     "output_type": "stream",
     "text": [
      "Error 404\r"
     ]
    },
    {
     "name": "stderr",
     "output_type": "stream",
     "text": [
      " 59%|███████████████████████████████████████████▍                              | 2192/3732 [2:49:48<1:51:03,  4.33s/it]"
     ]
    },
    {
     "name": "stdout",
     "output_type": "stream",
     "text": [
      "Error 404\r"
     ]
    },
    {
     "name": "stderr",
     "output_type": "stream",
     "text": [
      " 61%|████████████████████████████████████████████▊                             | 2262/3732 [2:56:54<2:10:08,  5.31s/it]"
     ]
    },
    {
     "name": "stdout",
     "output_type": "stream",
     "text": [
      "Error 404\r"
     ]
    },
    {
     "name": "stderr",
     "output_type": "stream",
     "text": [
      " 61%|█████████████████████████████████████████████                             | 2270/3732 [2:57:32<1:34:02,  3.86s/it]"
     ]
    },
    {
     "name": "stdout",
     "output_type": "stream",
     "text": [
      "Error 404\r"
     ]
    },
    {
     "name": "stderr",
     "output_type": "stream",
     "text": [
      " 61%|█████████████████████████████████████████████▏                            | 2277/3732 [2:58:06<2:01:32,  5.01s/it]"
     ]
    },
    {
     "name": "stdout",
     "output_type": "stream",
     "text": [
      "Error 404\r"
     ]
    },
    {
     "name": "stderr",
     "output_type": "stream",
     "text": [
      " 63%|██████████████████████████████████████████████▎                           | 2334/3732 [3:03:34<1:49:42,  4.71s/it]"
     ]
    },
    {
     "name": "stdout",
     "output_type": "stream",
     "text": [
      "Error 404\r"
     ]
    },
    {
     "name": "stderr",
     "output_type": "stream",
     "text": [
      " 63%|██████████████████████████████████████████████▍                           | 2339/3732 [3:04:02<2:08:18,  5.53s/it]"
     ]
    },
    {
     "name": "stdout",
     "output_type": "stream",
     "text": [
      "Error 404\r"
     ]
    },
    {
     "name": "stderr",
     "output_type": "stream",
     "text": [
      " 65%|███████████████████████████████████████████████▉                          | 2418/3732 [3:11:15<1:12:25,  3.31s/it]"
     ]
    },
    {
     "name": "stdout",
     "output_type": "stream",
     "text": [
      "Error 404\r"
     ]
    },
    {
     "name": "stderr",
     "output_type": "stream",
     "text": [
      " 66%|████████████████████████████████████████████████▊                         | 2460/3732 [3:14:33<1:26:42,  4.09s/it]"
     ]
    },
    {
     "name": "stdout",
     "output_type": "stream",
     "text": [
      "Error 404\r"
     ]
    },
    {
     "name": "stderr",
     "output_type": "stream",
     "text": [
      " 68%|██████████████████████████████████████████████████▌                       | 2547/3732 [3:21:33<1:11:44,  3.63s/it]"
     ]
    },
    {
     "name": "stdout",
     "output_type": "stream",
     "text": [
      "Error 404\r"
     ]
    },
    {
     "name": "stderr",
     "output_type": "stream",
     "text": [
      " 69%|███████████████████████████████████████████████████▏                      | 2584/3732 [3:24:31<1:10:29,  3.68s/it]"
     ]
    },
    {
     "name": "stdout",
     "output_type": "stream",
     "text": [
      "Error 404\r"
     ]
    },
    {
     "name": "stderr",
     "output_type": "stream",
     "text": [
      " 71%|████████████████████████████████████████████████████▏                     | 2635/3732 [3:29:05<1:16:06,  4.16s/it]"
     ]
    },
    {
     "name": "stdout",
     "output_type": "stream",
     "text": [
      "Error 404\r"
     ]
    },
    {
     "name": "stderr",
     "output_type": "stream",
     "text": [
      " 71%|████████████████████████████████████████████████████▌                     | 2652/3732 [3:30:35<1:17:42,  4.32s/it]"
     ]
    },
    {
     "name": "stdout",
     "output_type": "stream",
     "text": [
      "Error 404\r"
     ]
    },
    {
     "name": "stderr",
     "output_type": "stream",
     "text": [
      " 73%|█████████████████████████████████████████████████████▊                    | 2714/3732 [3:35:50<1:00:27,  3.56s/it]"
     ]
    },
    {
     "name": "stdout",
     "output_type": "stream",
     "text": [
      "Error 404\r"
     ]
    },
    {
     "name": "stderr",
     "output_type": "stream",
     "text": [
      " 74%|██████████████████████████████████████████████████████▌                   | 2752/3732 [3:39:06<1:11:48,  4.40s/it]"
     ]
    },
    {
     "name": "stdout",
     "output_type": "stream",
     "text": [
      "Error 404\r"
     ]
    },
    {
     "name": "stderr",
     "output_type": "stream",
     "text": [
      " 74%|██████████████████████████████████████████████████████▊                   | 2762/3732 [3:40:11<1:22:00,  5.07s/it]"
     ]
    },
    {
     "name": "stdout",
     "output_type": "stream",
     "text": [
      "Error 404\r"
     ]
    },
    {
     "name": "stderr",
     "output_type": "stream",
     "text": [
      " 75%|███████████████████████████████████████████████████████▎                  | 2790/3732 [3:42:38<1:25:52,  5.47s/it]"
     ]
    },
    {
     "name": "stdout",
     "output_type": "stream",
     "text": [
      "Error 404\r"
     ]
    },
    {
     "name": "stderr",
     "output_type": "stream",
     "text": [
      " 75%|███████████████████████████████████████████████████████▌                  | 2801/3732 [3:43:39<1:16:54,  4.96s/it]"
     ]
    },
    {
     "name": "stdout",
     "output_type": "stream",
     "text": [
      "Error 404\r"
     ]
    },
    {
     "name": "stderr",
     "output_type": "stream",
     "text": [
      " 76%|████████████████████████████████████████████████████████                  | 2830/3732 [3:46:16<1:00:41,  4.04s/it]"
     ]
    },
    {
     "name": "stdout",
     "output_type": "stream",
     "text": [
      "Error 404\r"
     ]
    },
    {
     "name": "stderr",
     "output_type": "stream",
     "text": [
      " 77%|██████████████████████████████████████████████████████████▍                 | 2868/3732 [3:49:03<52:57,  3.68s/it]"
     ]
    },
    {
     "name": "stdout",
     "output_type": "stream",
     "text": [
      "Error 404\r"
     ]
    },
    {
     "name": "stderr",
     "output_type": "stream",
     "text": [
      " 80%|████████████████████████████████████████████████████████████▌               | 2976/3732 [3:57:32<59:16,  4.70s/it]"
     ]
    },
    {
     "name": "stdout",
     "output_type": "stream",
     "text": [
      "Error 404\r"
     ]
    },
    {
     "name": "stderr",
     "output_type": "stream",
     "text": [
      " 80%|█████████████████████████████████████████████████████████████               | 2996/3732 [3:59:16<50:02,  4.08s/it]"
     ]
    },
    {
     "name": "stdout",
     "output_type": "stream",
     "text": [
      "Error 404\r"
     ]
    },
    {
     "name": "stderr",
     "output_type": "stream",
     "text": [
      " 83%|███████████████████████████████████████████████████████████████▎            | 3110/3732 [4:07:32<31:51,  3.07s/it]"
     ]
    },
    {
     "name": "stdout",
     "output_type": "stream",
     "text": [
      "Error 404\r"
     ]
    },
    {
     "name": "stderr",
     "output_type": "stream",
     "text": [
      " 84%|███████████████████████████████████████████████████████████████▌            | 3124/3732 [4:08:37<50:43,  5.01s/it]"
     ]
    },
    {
     "name": "stdout",
     "output_type": "stream",
     "text": [
      "Error 404\r"
     ]
    },
    {
     "name": "stderr",
     "output_type": "stream",
     "text": [
      " 84%|███████████████████████████████████████████████████████████████▉            | 3140/3732 [4:09:48<46:35,  4.72s/it]"
     ]
    },
    {
     "name": "stdout",
     "output_type": "stream",
     "text": [
      "Error 404\r"
     ]
    },
    {
     "name": "stderr",
     "output_type": "stream",
     "text": [
      " 84%|████████████████████████████████████████████████████████████████▏           | 3149/3732 [4:10:31<39:57,  4.11s/it]"
     ]
    },
    {
     "name": "stdout",
     "output_type": "stream",
     "text": [
      "Error 404\r"
     ]
    },
    {
     "name": "stderr",
     "output_type": "stream",
     "text": [
      " 87%|██████████████████████████████████████████████████████████████████          | 3242/3732 [4:17:52<34:41,  4.25s/it]"
     ]
    },
    {
     "name": "stdout",
     "output_type": "stream",
     "text": [
      "Error 404\r"
     ]
    },
    {
     "name": "stderr",
     "output_type": "stream",
     "text": [
      " 87%|██████████████████████████████████████████████████████████████████▏         | 3248/3732 [4:18:24<42:13,  5.24s/it]"
     ]
    },
    {
     "name": "stdout",
     "output_type": "stream",
     "text": [
      "Error 404\r"
     ]
    },
    {
     "name": "stderr",
     "output_type": "stream",
     "text": [
      " 89%|███████████████████████████████████████████████████████████████████▉        | 3337/3732 [4:27:17<32:56,  5.00s/it]"
     ]
    },
    {
     "name": "stdout",
     "output_type": "stream",
     "text": [
      "Error 404\r"
     ]
    },
    {
     "name": "stderr",
     "output_type": "stream",
     "text": [
      " 90%|████████████████████████████████████████████████████████████████████▎       | 3352/3732 [4:28:53<44:01,  6.95s/it]"
     ]
    },
    {
     "name": "stdout",
     "output_type": "stream",
     "text": [
      "Error 404\r"
     ]
    },
    {
     "name": "stderr",
     "output_type": "stream",
     "text": [
      " 90%|████████████████████████████████████████████████████████████████████▌       | 3367/3732 [4:30:42<33:15,  5.47s/it]"
     ]
    },
    {
     "name": "stdout",
     "output_type": "stream",
     "text": [
      "Error 404\r"
     ]
    },
    {
     "name": "stderr",
     "output_type": "stream",
     "text": [
      " 90%|████████████████████████████████████████████████████████████████████▌       | 3369/3732 [4:30:58<41:55,  6.93s/it]"
     ]
    },
    {
     "name": "stdout",
     "output_type": "stream",
     "text": [
      "Error 404\r"
     ]
    },
    {
     "name": "stderr",
     "output_type": "stream",
     "text": [
      " 91%|█████████████████████████████████████████████████████████████████████▏      | 3399/3732 [4:34:39<29:28,  5.31s/it]"
     ]
    },
    {
     "name": "stdout",
     "output_type": "stream",
     "text": [
      "Error 404\r"
     ]
    },
    {
     "name": "stderr",
     "output_type": "stream",
     "text": [
      " 92%|█████████████████████████████████████████████████████████████████████▋      | 3419/3732 [4:36:27<22:32,  4.32s/it]"
     ]
    },
    {
     "name": "stdout",
     "output_type": "stream",
     "text": [
      "Error 404\r"
     ]
    },
    {
     "name": "stderr",
     "output_type": "stream",
     "text": [
      " 92%|█████████████████████████████████████████████████████████████████████▉      | 3433/3732 [4:37:52<24:35,  4.94s/it]"
     ]
    },
    {
     "name": "stdout",
     "output_type": "stream",
     "text": [
      "Error 404\r"
     ]
    },
    {
     "name": "stderr",
     "output_type": "stream",
     "text": [
      " 94%|███████████████████████████████████████████████████████████████████████▎    | 3502/3732 [4:44:03<15:20,  4.00s/it]"
     ]
    },
    {
     "name": "stdout",
     "output_type": "stream",
     "text": [
      "Error 404\r"
     ]
    },
    {
     "name": "stderr",
     "output_type": "stream",
     "text": [
      " 94%|███████████████████████████████████████████████████████████████████████▋    | 3522/3732 [4:45:42<13:35,  3.88s/it]"
     ]
    },
    {
     "name": "stdout",
     "output_type": "stream",
     "text": [
      "Error 404\r"
     ]
    },
    {
     "name": "stderr",
     "output_type": "stream",
     "text": [
      " 97%|█████████████████████████████████████████████████████████████████████████▌  | 3611/3732 [4:53:42<07:16,  3.61s/it]"
     ]
    },
    {
     "name": "stdout",
     "output_type": "stream",
     "text": [
      "Error 404\r"
     ]
    },
    {
     "name": "stderr",
     "output_type": "stream",
     "text": [
      " 99%|██████████████████████████████████████████████████████████████████████████▉ | 3681/3732 [4:58:46<02:56,  3.45s/it]"
     ]
    },
    {
     "name": "stdout",
     "output_type": "stream",
     "text": [
      "Error 404\r"
     ]
    },
    {
     "name": "stderr",
     "output_type": "stream",
     "text": [
      "100%|████████████████████████████████████████████████████████████████████████████| 3732/3732 [5:02:27<00:00,  4.86s/it]\n"
     ]
    },
    {
     "name": "stdout",
     "output_type": "stream",
     "text": [
      "Parsing 98 page for volkswagen in moskovskaya_oblast\r"
     ]
    },
    {
     "name": "stderr",
     "output_type": "stream",
     "text": [
      "\r",
      "  0%|                                                                                         | 0/3723 [00:00<?, ?it/s]"
     ]
    },
    {
     "name": "stdout",
     "output_type": "stream",
     "text": [
      "Parsing 99 page for volkswagen in moskovskaya_oblast\r"
     ]
    },
    {
     "name": "stderr",
     "output_type": "stream",
     "text": [
      "  3%|█▉                                                                            | 95/3723 [06:50<3:18:13,  3.28s/it]"
     ]
    },
    {
     "name": "stdout",
     "output_type": "stream",
     "text": [
      "Error 404\r"
     ]
    },
    {
     "name": "stderr",
     "output_type": "stream",
     "text": [
      "  3%|██▍                                                                          | 117/3723 [08:20<3:22:49,  3.37s/it]"
     ]
    },
    {
     "name": "stdout",
     "output_type": "stream",
     "text": [
      "Error 404\r"
     ]
    },
    {
     "name": "stderr",
     "output_type": "stream",
     "text": [
      "  4%|███▏                                                                         | 152/3723 [11:05<3:41:48,  3.73s/it]"
     ]
    },
    {
     "name": "stdout",
     "output_type": "stream",
     "text": [
      "Error 404\r"
     ]
    },
    {
     "name": "stderr",
     "output_type": "stream",
     "text": [
      "  6%|████▋                                                                        | 229/3723 [16:47<4:14:58,  4.38s/it]"
     ]
    },
    {
     "name": "stdout",
     "output_type": "stream",
     "text": [
      "Error 404\r"
     ]
    },
    {
     "name": "stderr",
     "output_type": "stream",
     "text": [
      "  7%|█████                                                                        | 242/3723 [17:41<3:23:01,  3.50s/it]"
     ]
    },
    {
     "name": "stdout",
     "output_type": "stream",
     "text": [
      "Error 404\r"
     ]
    },
    {
     "name": "stderr",
     "output_type": "stream",
     "text": [
      "  8%|██████                                                                       | 293/3723 [21:25<3:17:09,  3.45s/it]"
     ]
    },
    {
     "name": "stdout",
     "output_type": "stream",
     "text": [
      "Error 404\r"
     ]
    },
    {
     "name": "stderr",
     "output_type": "stream",
     "text": [
      "  9%|██████▉                                                                      | 335/3723 [24:16<2:51:26,  3.04s/it]"
     ]
    },
    {
     "name": "stdout",
     "output_type": "stream",
     "text": [
      "Error 404\r"
     ]
    },
    {
     "name": "stderr",
     "output_type": "stream",
     "text": [
      " 10%|███████▊                                                                     | 375/3723 [27:00<2:57:38,  3.18s/it]"
     ]
    },
    {
     "name": "stdout",
     "output_type": "stream",
     "text": [
      "Error 404\r"
     ]
    },
    {
     "name": "stderr",
     "output_type": "stream",
     "text": [
      " 10%|███████▉                                                                     | 386/3723 [27:43<2:54:03,  3.13s/it]"
     ]
    },
    {
     "name": "stdout",
     "output_type": "stream",
     "text": [
      "Error 404\r"
     ]
    },
    {
     "name": "stderr",
     "output_type": "stream",
     "text": [
      " 12%|█████████▎                                                                   | 449/3723 [32:05<2:51:15,  3.14s/it]"
     ]
    },
    {
     "name": "stdout",
     "output_type": "stream",
     "text": [
      "Error 404\r"
     ]
    },
    {
     "name": "stderr",
     "output_type": "stream",
     "text": [
      " 12%|█████████▍                                                                   | 457/3723 [32:34<2:47:16,  3.07s/it]"
     ]
    },
    {
     "name": "stdout",
     "output_type": "stream",
     "text": [
      "Error 404\r"
     ]
    },
    {
     "name": "stderr",
     "output_type": "stream",
     "text": [
      " 17%|████████████▉                                                                | 624/3723 [44:13<2:49:53,  3.29s/it]"
     ]
    },
    {
     "name": "stdout",
     "output_type": "stream",
     "text": [
      "Error 404\r"
     ]
    },
    {
     "name": "stderr",
     "output_type": "stream",
     "text": [
      " 17%|█████████████▎                                                               | 644/3723 [45:33<2:31:28,  2.95s/it]"
     ]
    },
    {
     "name": "stdout",
     "output_type": "stream",
     "text": [
      "Error 404\r"
     ]
    },
    {
     "name": "stderr",
     "output_type": "stream",
     "text": [
      " 20%|███████████████▍                                                             | 745/3723 [52:44<2:30:31,  3.03s/it]"
     ]
    },
    {
     "name": "stdout",
     "output_type": "stream",
     "text": [
      "Error 404\r"
     ]
    },
    {
     "name": "stderr",
     "output_type": "stream",
     "text": [
      " 22%|████████████████▉                                                            | 817/3723 [57:42<2:23:22,  2.96s/it]"
     ]
    },
    {
     "name": "stdout",
     "output_type": "stream",
     "text": [
      "Error 404\r"
     ]
    },
    {
     "name": "stderr",
     "output_type": "stream",
     "text": [
      " 25%|██████████████████▊                                                        | 934/3723 [1:05:46<2:22:42,  3.07s/it]"
     ]
    },
    {
     "name": "stdout",
     "output_type": "stream",
     "text": [
      "Error 404\r"
     ]
    },
    {
     "name": "stderr",
     "output_type": "stream",
     "text": [
      " 25%|███████████████████                                                        | 944/3723 [1:06:23<2:19:08,  3.00s/it]"
     ]
    },
    {
     "name": "stdout",
     "output_type": "stream",
     "text": [
      "Error 404\r"
     ]
    },
    {
     "name": "stderr",
     "output_type": "stream",
     "text": [
      " 26%|███████████████████▌                                                       | 973/3723 [1:08:22<2:25:36,  3.18s/it]"
     ]
    },
    {
     "name": "stdout",
     "output_type": "stream",
     "text": [
      "Error 404\r"
     ]
    },
    {
     "name": "stderr",
     "output_type": "stream",
     "text": [
      " 27%|████████████████████                                                       | 999/3723 [1:10:09<2:30:33,  3.32s/it]"
     ]
    },
    {
     "name": "stdout",
     "output_type": "stream",
     "text": [
      "Error 404\r"
     ]
    },
    {
     "name": "stderr",
     "output_type": "stream",
     "text": [
      " 28%|████████████████████▍                                                     | 1029/3723 [1:12:07<2:12:18,  2.95s/it]"
     ]
    },
    {
     "name": "stdout",
     "output_type": "stream",
     "text": [
      "Error 404\r"
     ]
    },
    {
     "name": "stderr",
     "output_type": "stream",
     "text": [
      " 30%|██████████████████████▏                                                   | 1115/3723 [1:18:00<2:22:30,  3.28s/it]"
     ]
    },
    {
     "name": "stdout",
     "output_type": "stream",
     "text": [
      "Error 404\r"
     ]
    },
    {
     "name": "stderr",
     "output_type": "stream",
     "text": [
      " 31%|███████████████████████▏                                                  | 1168/3723 [1:21:37<2:54:19,  4.09s/it]"
     ]
    },
    {
     "name": "stdout",
     "output_type": "stream",
     "text": [
      "Error 404\r"
     ]
    },
    {
     "name": "stderr",
     "output_type": "stream",
     "text": [
      " 33%|████████████████████████▋                                                 | 1244/3723 [1:26:51<2:17:20,  3.32s/it]"
     ]
    },
    {
     "name": "stdout",
     "output_type": "stream",
     "text": [
      "Error 404\r"
     ]
    },
    {
     "name": "stderr",
     "output_type": "stream",
     "text": [
      " 37%|███████████████████████████                                               | 1360/3723 [1:34:47<2:01:16,  3.08s/it]"
     ]
    },
    {
     "name": "stdout",
     "output_type": "stream",
     "text": [
      "Error 404\r"
     ]
    },
    {
     "name": "stderr",
     "output_type": "stream",
     "text": [
      " 38%|███████████████████████████▊                                              | 1400/3723 [1:37:33<1:56:30,  3.01s/it]"
     ]
    },
    {
     "name": "stdout",
     "output_type": "stream",
     "text": [
      "Error 404\r"
     ]
    },
    {
     "name": "stderr",
     "output_type": "stream",
     "text": [
      " 39%|████████████████████████████▌                                             | 1437/3723 [1:40:10<2:04:47,  3.28s/it]"
     ]
    },
    {
     "name": "stdout",
     "output_type": "stream",
     "text": [
      "Error 404\r"
     ]
    },
    {
     "name": "stderr",
     "output_type": "stream",
     "text": [
      " 40%|█████████████████████████████▌                                            | 1489/3723 [1:44:08<2:09:20,  3.47s/it]"
     ]
    },
    {
     "name": "stdout",
     "output_type": "stream",
     "text": [
      "Error 404\r"
     ]
    },
    {
     "name": "stderr",
     "output_type": "stream",
     "text": [
      " 41%|██████████████████████████████                                            | 1510/3723 [1:45:38<2:33:07,  4.15s/it]"
     ]
    },
    {
     "name": "stdout",
     "output_type": "stream",
     "text": [
      "Error 404\r"
     ]
    },
    {
     "name": "stderr",
     "output_type": "stream",
     "text": [
      " 43%|███████████████████████████████▉                                          | 1604/3723 [1:51:59<1:58:15,  3.35s/it]"
     ]
    },
    {
     "name": "stdout",
     "output_type": "stream",
     "text": [
      "Error 404\r"
     ]
    },
    {
     "name": "stderr",
     "output_type": "stream",
     "text": [
      " 46%|██████████████████████████████████                                        | 1716/3723 [1:59:46<2:00:19,  3.60s/it]"
     ]
    },
    {
     "name": "stdout",
     "output_type": "stream",
     "text": [
      "Error 404\r"
     ]
    },
    {
     "name": "stderr",
     "output_type": "stream",
     "text": [
      " 47%|██████████████████████████████████▌                                       | 1738/3723 [2:01:12<1:40:54,  3.05s/it]"
     ]
    },
    {
     "name": "stdout",
     "output_type": "stream",
     "text": [
      "Error 404\r"
     ]
    },
    {
     "name": "stderr",
     "output_type": "stream",
     "text": [
      " 47%|██████████████████████████████████▋                                       | 1743/3723 [2:01:34<2:11:41,  3.99s/it]"
     ]
    },
    {
     "name": "stdout",
     "output_type": "stream",
     "text": [
      "Error 404\r"
     ]
    },
    {
     "name": "stderr",
     "output_type": "stream",
     "text": [
      " 48%|███████████████████████████████████▊                                      | 1802/3723 [2:05:36<1:38:58,  3.09s/it]"
     ]
    },
    {
     "name": "stdout",
     "output_type": "stream",
     "text": [
      "Error 404\r"
     ]
    },
    {
     "name": "stderr",
     "output_type": "stream",
     "text": [
      " 48%|███████████████████████████████████▉                                      | 1805/3723 [2:05:47<1:41:26,  3.17s/it]"
     ]
    },
    {
     "name": "stdout",
     "output_type": "stream",
     "text": [
      "Error 404\r"
     ]
    },
    {
     "name": "stderr",
     "output_type": "stream",
     "text": [
      " 49%|████████████████████████████████████▏                                     | 1818/3723 [2:06:39<2:08:42,  4.05s/it]"
     ]
    },
    {
     "name": "stdout",
     "output_type": "stream",
     "text": [
      "Error 404\r"
     ]
    },
    {
     "name": "stderr",
     "output_type": "stream",
     "text": [
      " 50%|████████████████████████████████████▊                                     | 1854/3723 [2:09:07<2:11:59,  4.24s/it]"
     ]
    },
    {
     "name": "stdout",
     "output_type": "stream",
     "text": [
      "Error 404\r"
     ]
    },
    {
     "name": "stderr",
     "output_type": "stream",
     "text": [
      " 50%|█████████████████████████████████████▏                                    | 1871/3723 [2:10:15<1:29:36,  2.90s/it]"
     ]
    },
    {
     "name": "stdout",
     "output_type": "stream",
     "text": [
      "Error 404\r"
     ]
    },
    {
     "name": "stderr",
     "output_type": "stream",
     "text": [
      " 51%|█████████████████████████████████████▋                                    | 1895/3723 [2:11:56<2:03:22,  4.05s/it]"
     ]
    },
    {
     "name": "stdout",
     "output_type": "stream",
     "text": [
      "Error 404\r"
     ]
    },
    {
     "name": "stderr",
     "output_type": "stream",
     "text": [
      " 51%|█████████████████████████████████████▉                                    | 1909/3723 [2:12:57<1:45:27,  3.49s/it]"
     ]
    },
    {
     "name": "stdout",
     "output_type": "stream",
     "text": [
      "Error 404\r"
     ]
    },
    {
     "name": "stderr",
     "output_type": "stream",
     "text": [
      " 52%|██████████████████████████████████████▍                                   | 1932/3723 [2:14:27<1:22:54,  2.78s/it]"
     ]
    },
    {
     "name": "stdout",
     "output_type": "stream",
     "text": [
      "Error 404\r"
     ]
    },
    {
     "name": "stderr",
     "output_type": "stream",
     "text": [
      " 54%|████████████████████████████████████████▎                                 | 2026/3723 [2:20:53<1:31:47,  3.25s/it]"
     ]
    },
    {
     "name": "stdout",
     "output_type": "stream",
     "text": [
      "Error 404\r"
     ]
    },
    {
     "name": "stderr",
     "output_type": "stream",
     "text": [
      " 55%|████████████████████████████████████████▊                                 | 2055/3723 [2:22:52<1:29:37,  3.22s/it]"
     ]
    },
    {
     "name": "stdout",
     "output_type": "stream",
     "text": [
      "Error 404\r"
     ]
    },
    {
     "name": "stderr",
     "output_type": "stream",
     "text": [
      " 57%|██████████████████████████████████████████▍                               | 2137/3723 [2:28:29<1:22:52,  3.14s/it]"
     ]
    },
    {
     "name": "stdout",
     "output_type": "stream",
     "text": [
      "Error 404\r"
     ]
    },
    {
     "name": "stderr",
     "output_type": "stream",
     "text": [
      " 58%|███████████████████████████████████████████▎                              | 2177/3723 [2:31:12<1:23:15,  3.23s/it]"
     ]
    },
    {
     "name": "stdout",
     "output_type": "stream",
     "text": [
      "Error 404\r"
     ]
    },
    {
     "name": "stderr",
     "output_type": "stream",
     "text": [
      " 59%|███████████████████████████████████████████▎                              | 2179/3723 [2:31:20<1:34:45,  3.68s/it]"
     ]
    },
    {
     "name": "stdout",
     "output_type": "stream",
     "text": [
      "Error 404\r"
     ]
    },
    {
     "name": "stderr",
     "output_type": "stream",
     "text": [
      " 60%|████████████████████████████████████████████▎                             | 2231/3723 [2:34:51<1:18:54,  3.17s/it]"
     ]
    },
    {
     "name": "stdout",
     "output_type": "stream",
     "text": [
      "Error 404\r"
     ]
    },
    {
     "name": "stderr",
     "output_type": "stream",
     "text": [
      " 63%|██████████████████████████████████████████████▍                           | 2334/3723 [2:41:43<1:16:11,  3.29s/it]"
     ]
    },
    {
     "name": "stdout",
     "output_type": "stream",
     "text": [
      "Error 404\r"
     ]
    },
    {
     "name": "stderr",
     "output_type": "stream",
     "text": [
      " 65%|███████████████████████████████████████████████▊                          | 2403/3723 [2:46:22<1:03:00,  2.86s/it]"
     ]
    },
    {
     "name": "stdout",
     "output_type": "stream",
     "text": [
      "Error 404\r"
     ]
    },
    {
     "name": "stderr",
     "output_type": "stream",
     "text": [
      " 65%|███████████████████████████████████████████████▉                          | 2412/3723 [2:46:56<1:08:00,  3.11s/it]"
     ]
    },
    {
     "name": "stdout",
     "output_type": "stream",
     "text": [
      "Error 404\r"
     ]
    },
    {
     "name": "stderr",
     "output_type": "stream",
     "text": [
      " 66%|████████████████████████████████████████████████▉                         | 2459/3723 [2:50:16<1:07:54,  3.22s/it]"
     ]
    },
    {
     "name": "stdout",
     "output_type": "stream",
     "text": [
      "Error 404\r"
     ]
    },
    {
     "name": "stderr",
     "output_type": "stream",
     "text": [
      " 67%|█████████████████████████████████████████████████▊                        | 2508/3723 [2:53:40<1:10:36,  3.49s/it]"
     ]
    },
    {
     "name": "stdout",
     "output_type": "stream",
     "text": [
      "Error 404\r"
     ]
    },
    {
     "name": "stderr",
     "output_type": "stream",
     "text": [
      " 68%|██████████████████████████████████████████████████▋                       | 2548/3723 [2:56:25<1:02:29,  3.19s/it]"
     ]
    },
    {
     "name": "stdout",
     "output_type": "stream",
     "text": [
      "Error 404\r"
     ]
    },
    {
     "name": "stderr",
     "output_type": "stream",
     "text": [
      " 69%|███████████████████████████████████████████████████                       | 2569/3723 [2:57:48<1:02:38,  3.26s/it]"
     ]
    },
    {
     "name": "stdout",
     "output_type": "stream",
     "text": [
      "Error 404\r"
     ]
    },
    {
     "name": "stderr",
     "output_type": "stream",
     "text": [
      " 71%|█████████████████████████████████████████████████████▋                      | 2631/3723 [3:02:01<57:51,  3.18s/it]"
     ]
    },
    {
     "name": "stdout",
     "output_type": "stream",
     "text": [
      "Error 404\r"
     ]
    },
    {
     "name": "stderr",
     "output_type": "stream",
     "text": [
      " 73%|███████████████████████████████████████████████████████▋                    | 2731/3723 [3:09:01<55:55,  3.38s/it]"
     ]
    },
    {
     "name": "stdout",
     "output_type": "stream",
     "text": [
      "Error 404\r"
     ]
    },
    {
     "name": "stderr",
     "output_type": "stream",
     "text": [
      " 74%|██████████████████████████████████████████████████████▉                   | 2766/3723 [3:11:25<1:06:09,  4.15s/it]"
     ]
    },
    {
     "name": "stdout",
     "output_type": "stream",
     "text": [
      "Error 404\r"
     ]
    },
    {
     "name": "stderr",
     "output_type": "stream",
     "text": [
      " 74%|████████████████████████████████████████████████████████▌                   | 2771/3723 [3:11:42<49:03,  3.09s/it]"
     ]
    },
    {
     "name": "stdout",
     "output_type": "stream",
     "text": [
      "Error 404\r"
     ]
    },
    {
     "name": "stderr",
     "output_type": "stream",
     "text": [
      " 75%|█████████████████████████████████████████████████████████▏                  | 2801/3723 [3:13:44<53:32,  3.48s/it]"
     ]
    },
    {
     "name": "stdout",
     "output_type": "stream",
     "text": [
      "Error 404\r"
     ]
    },
    {
     "name": "stderr",
     "output_type": "stream",
     "text": [
      " 76%|██████████████████████████████████████████████████████████                  | 2846/3723 [3:16:47<44:49,  3.07s/it]"
     ]
    },
    {
     "name": "stdout",
     "output_type": "stream",
     "text": [
      "Error 404\r"
     ]
    },
    {
     "name": "stderr",
     "output_type": "stream",
     "text": [
      " 77%|██████████████████████████████████████████████████████████▌                 | 2869/3723 [3:18:21<47:10,  3.31s/it]"
     ]
    },
    {
     "name": "stdout",
     "output_type": "stream",
     "text": [
      "Error 404\r"
     ]
    },
    {
     "name": "stderr",
     "output_type": "stream",
     "text": [
      " 80%|████████████████████████████████████████████████████████████▌               | 2968/3723 [3:25:08<39:20,  3.13s/it]"
     ]
    },
    {
     "name": "stdout",
     "output_type": "stream",
     "text": [
      "Error 404\r"
     ]
    },
    {
     "name": "stderr",
     "output_type": "stream",
     "text": [
      " 82%|██████████████████████████████████████████████████████████████              | 3042/3723 [3:30:11<45:57,  4.05s/it]"
     ]
    },
    {
     "name": "stdout",
     "output_type": "stream",
     "text": [
      "Error 404\r"
     ]
    },
    {
     "name": "stderr",
     "output_type": "stream",
     "text": [
      " 82%|██████████████████████████████████████████████████████████████▏             | 3045/3723 [3:30:20<34:09,  3.02s/it]"
     ]
    },
    {
     "name": "stdout",
     "output_type": "stream",
     "text": [
      "Error 404\r"
     ]
    },
    {
     "name": "stderr",
     "output_type": "stream",
     "text": [
      " 82%|██████████████████████████████████████████████████████████████▍             | 3058/3723 [3:31:14<44:38,  4.03s/it]"
     ]
    },
    {
     "name": "stdout",
     "output_type": "stream",
     "text": [
      "Error 404\r"
     ]
    },
    {
     "name": "stderr",
     "output_type": "stream",
     "text": [
      " 83%|██████████████████████████████████████████████████████████████▉             | 3085/3723 [3:33:01<33:49,  3.18s/it]"
     ]
    },
    {
     "name": "stdout",
     "output_type": "stream",
     "text": [
      "Error 404\r"
     ]
    },
    {
     "name": "stderr",
     "output_type": "stream",
     "text": [
      " 85%|████████████████████████████████████████████████████████████████▊           | 3177/3723 [3:39:13<26:38,  2.93s/it]"
     ]
    },
    {
     "name": "stdout",
     "output_type": "stream",
     "text": [
      "Error 404\r"
     ]
    },
    {
     "name": "stderr",
     "output_type": "stream",
     "text": [
      " 90%|████████████████████████████████████████████████████████████████████▌       | 3359/3723 [3:51:52<21:15,  3.50s/it]"
     ]
    },
    {
     "name": "stdout",
     "output_type": "stream",
     "text": [
      "Error 404\r"
     ]
    },
    {
     "name": "stderr",
     "output_type": "stream",
     "text": [
      " 91%|█████████████████████████████████████████████████████████████████████▌      | 3406/3723 [3:55:02<16:16,  3.08s/it]"
     ]
    },
    {
     "name": "stdout",
     "output_type": "stream",
     "text": [
      "Error 404\r"
     ]
    },
    {
     "name": "stderr",
     "output_type": "stream",
     "text": [
      " 93%|██████████████████████████████████████████████████████████████████████▋     | 3464/3723 [3:58:55<12:49,  2.97s/it]"
     ]
    },
    {
     "name": "stdout",
     "output_type": "stream",
     "text": [
      "Error 404\r"
     ]
    },
    {
     "name": "stderr",
     "output_type": "stream",
     "text": [
      " 95%|████████████████████████████████████████████████████████████████████████▏   | 3537/3723 [4:03:55<10:15,  3.31s/it]"
     ]
    },
    {
     "name": "stdout",
     "output_type": "stream",
     "text": [
      "Error 404\r"
     ]
    },
    {
     "name": "stderr",
     "output_type": "stream",
     "text": [
      " 95%|████████████████████████████████████████████████████████████████████████▍   | 3548/3723 [4:04:39<11:15,  3.86s/it]"
     ]
    },
    {
     "name": "stdout",
     "output_type": "stream",
     "text": [
      "Error 404\r"
     ]
    },
    {
     "name": "stderr",
     "output_type": "stream",
     "text": [
      " 96%|████████████████████████████████████████████████████████████████████████▌   | 3557/3723 [4:05:15<11:01,  3.99s/it]"
     ]
    },
    {
     "name": "stdout",
     "output_type": "stream",
     "text": [
      "Error 404\r"
     ]
    },
    {
     "name": "stderr",
     "output_type": "stream",
     "text": [
      " 96%|████████████████████████████████████████████████████████████████████████▉   | 3576/3723 [4:06:30<07:38,  3.12s/it]"
     ]
    },
    {
     "name": "stdout",
     "output_type": "stream",
     "text": [
      "Error 404\r"
     ]
    },
    {
     "name": "stderr",
     "output_type": "stream",
     "text": [
      " 99%|██████████████████████████████████████████████████████████████████████████▉ | 3673/3723 [4:12:59<02:40,  3.20s/it]"
     ]
    },
    {
     "name": "stdout",
     "output_type": "stream",
     "text": [
      "Error 404\r"
     ]
    },
    {
     "name": "stderr",
     "output_type": "stream",
     "text": [
      "100%|████████████████████████████████████████████████████████████████████████████| 3723/3723 [4:16:10<00:00,  4.13s/it]\n"
     ]
    }
   ],
   "source": [
    "if not os.path.exists('data/car_data'):\n",
    "    os.makedirs('data/car_data')\n",
    "    \n",
    "for region in regions:\n",
    "    for model in models:\n",
    "        model_urls = get_urls_for_model_in_region(model, region)\n",
    "        for url in tqdm(model_urls):\n",
    "            time.sleep(random.random())\n",
    "            try:\n",
    "                valid_data = valid_data.append(get_car_info(url), ignore_index=True)\n",
    "            except NoSuchElementException:\n",
    "                print('Error 404', end='\\r')\n",
    "        \n",
    "        valid_data.to_csv(f'data/car_data/{model}_{region}_car_data.csv')\n",
    "        valid_data = pd.DataFrame()"
   ]
  },
  {
   "cell_type": "markdown",
   "id": "7008f05d",
   "metadata": {},
   "source": [
    "## Getting additional information from catalog (links from main DF)"
   ]
  },
  {
   "cell_type": "code",
   "execution_count": 811,
   "id": "46ca07bb",
   "metadata": {},
   "outputs": [
    {
     "name": "stderr",
     "output_type": "stream",
     "text": [
      "100%|████████████████████████████████████████████████████████████████████████████████| 552/552 [42:50<00:00,  4.66s/it]\n"
     ]
    }
   ],
   "source": [
    "if not os.path.exists('data/catalog_car_data'):\n",
    "    os.makedirs('data/catalog_car_data')\n",
    "    \n",
    "for single_brand in models:\n",
    "    for car_url in tqdm(df[df['brand'] == single_brand]['catalog_url'].value_counts().index.tolist()):\n",
    "        if car_url != 'No catalog link':\n",
    "            try:\n",
    "                catalog_data = catalog_data.append(get_dicts_from_catalog(car_url), ignore_index=True)\n",
    "            except NoSuchElementException:\n",
    "                print('Error 404', end='\\r')\n",
    "    catalog_data.to_csv(f'data/catalog_car_data/{single_brand}_catalog_car_data.csv')\n",
    "    catalog_data = pd.DataFrame()"
   ]
  },
  {
   "cell_type": "code",
   "execution_count": 950,
   "id": "88391eaf",
   "metadata": {},
   "outputs": [],
   "source": [
    "cars_list = glob.glob('C:\\PyProjects\\skillfactory_rds\\module_6\\data\\car_data\\*.csv') \n",
    "cars_df = pd.concat(map(pd.read_csv, cars_list))\n",
    "\n",
    "catalog_cars_list = glob.glob('C:\\PyProjects\\skillfactory_rds\\module_6\\data\\catalog_car_data\\*.csv') \n",
    "catalog_df = pd.concat(map(pd.read_csv, catalog_cars_list))"
   ]
  },
  {
   "cell_type": "code",
   "execution_count": 951,
   "id": "5ebe7b2c",
   "metadata": {},
   "outputs": [],
   "source": [
    "del cars_df['Unnamed: 0']\n",
    "del catalog_df['Unnamed: 0']\n",
    "cars_df.reset_index(drop=True, inplace=True)\n",
    "catalog_df.reset_index(drop=True, inplace=True)\n",
    "catalog_df.drop_duplicates(subset=['catalog_url'], inplace=True, ignore_index=True)"
   ]
  },
  {
   "cell_type": "code",
   "execution_count": 952,
   "id": "821ab065",
   "metadata": {},
   "outputs": [],
   "source": [
    "merged_df = pd.merge(cars_df, catalog_df, on='catalog_url', how='left')"
   ]
  },
  {
   "cell_type": "code",
   "execution_count": 957,
   "id": "38492342",
   "metadata": {},
   "outputs": [],
   "source": [
    "merged_df.to_pickle('data/20220401_msk_parsed_data.pkl', compression='zip')"
   ]
  },
  {
   "cell_type": "code",
   "execution_count": 956,
   "id": "94e99e43",
   "metadata": {},
   "outputs": [
    {
     "data": {
      "text/html": [
       "<div>\n",
       "<style scoped>\n",
       "    .dataframe tbody tr th:only-of-type {\n",
       "        vertical-align: middle;\n",
       "    }\n",
       "\n",
       "    .dataframe tbody tr th {\n",
       "        vertical-align: top;\n",
       "    }\n",
       "\n",
       "    .dataframe thead th {\n",
       "        text-align: right;\n",
       "    }\n",
       "</style>\n",
       "<table border=\"1\" class=\"dataframe\">\n",
       "  <thead>\n",
       "    <tr style=\"text-align: right;\">\n",
       "      <th></th>\n",
       "      <th>23299</th>\n",
       "      <th>10050</th>\n",
       "      <th>16386</th>\n",
       "    </tr>\n",
       "  </thead>\n",
       "  <tbody>\n",
       "    <tr>\n",
       "      <th>bodytype</th>\n",
       "      <td>лифтбек</td>\n",
       "      <td>седан</td>\n",
       "      <td>хэтчбек 5 дв.</td>\n",
       "    </tr>\n",
       "    <tr>\n",
       "      <th>brand</th>\n",
       "      <td>Volkswagen</td>\n",
       "      <td>Mercedes-Benz</td>\n",
       "      <td>Skoda</td>\n",
       "    </tr>\n",
       "    <tr>\n",
       "      <th>car_url</th>\n",
       "      <td>https://auto.ru/cars/used/sale/volkswagen/polo...</td>\n",
       "      <td>https://auto.ru/cars/used/sale/mercedes/s_klas...</td>\n",
       "      <td>https://auto.ru/cars/used/sale/skoda/fabia/111...</td>\n",
       "    </tr>\n",
       "    <tr>\n",
       "      <th>catalog_url</th>\n",
       "      <td>https://auto.ru/catalog/cars/volkswagen/polo/2...</td>\n",
       "      <td>https://auto.ru/catalog/cars/mercedes/s_klasse...</td>\n",
       "      <td>https://auto.ru/catalog/cars/skoda/fabia/62233...</td>\n",
       "    </tr>\n",
       "    <tr>\n",
       "      <th>color</th>\n",
       "      <td>чёрный</td>\n",
       "      <td>синий</td>\n",
       "      <td>синий</td>\n",
       "    </tr>\n",
       "    <tr>\n",
       "      <th>customs</th>\n",
       "      <td>Растаможен</td>\n",
       "      <td>Растаможен</td>\n",
       "      <td>Растаможен</td>\n",
       "    </tr>\n",
       "    <tr>\n",
       "      <th>description</th>\n",
       "      <td>Машина в состонии новой.\\nВозможна продажа в л...</td>\n",
       "      <td>Оригинал ПТС, По факту один владелец, сейчас а...</td>\n",
       "      <td>Автомобиль в очень хорошем состоянии, техничес...</td>\n",
       "    </tr>\n",
       "    <tr>\n",
       "      <th>drive</th>\n",
       "      <td>передний</td>\n",
       "      <td>полный</td>\n",
       "      <td>передний</td>\n",
       "    </tr>\n",
       "    <tr>\n",
       "      <th>engineDisplacement</th>\n",
       "      <td>1.4</td>\n",
       "      <td>2.9</td>\n",
       "      <td>1.4</td>\n",
       "    </tr>\n",
       "    <tr>\n",
       "      <th>enginePower</th>\n",
       "      <td>125.0</td>\n",
       "      <td>249.0</td>\n",
       "      <td>86.0</td>\n",
       "    </tr>\n",
       "    <tr>\n",
       "      <th>equipment_dict</th>\n",
       "      <td>['Подушка безопасности водителя', 'Подушка без...</td>\n",
       "      <td>[]</td>\n",
       "      <td>[]</td>\n",
       "    </tr>\n",
       "    <tr>\n",
       "      <th>fuelType</th>\n",
       "      <td>Бензин</td>\n",
       "      <td>Дизель</td>\n",
       "      <td>Бензин</td>\n",
       "    </tr>\n",
       "    <tr>\n",
       "      <th>kmage</th>\n",
       "      <td>30000.0</td>\n",
       "      <td>11366.0</td>\n",
       "      <td>165000.0</td>\n",
       "    </tr>\n",
       "    <tr>\n",
       "      <th>model</th>\n",
       "      <td>Polo</td>\n",
       "      <td>S-Класс</td>\n",
       "      <td>Fabia</td>\n",
       "    </tr>\n",
       "    <tr>\n",
       "      <th>owner</th>\n",
       "      <td>1 владелец</td>\n",
       "      <td>1 владелец</td>\n",
       "      <td>2 владельца</td>\n",
       "    </tr>\n",
       "    <tr>\n",
       "      <th>owningTime</th>\n",
       "      <td>NaN</td>\n",
       "      <td>NaN</td>\n",
       "      <td>NaN</td>\n",
       "    </tr>\n",
       "    <tr>\n",
       "      <th>price</th>\n",
       "      <td>1900000.0</td>\n",
       "      <td>21729000.0</td>\n",
       "      <td>439000.0</td>\n",
       "    </tr>\n",
       "    <tr>\n",
       "      <th>pts</th>\n",
       "      <td>Оригинал</td>\n",
       "      <td>Оригинал</td>\n",
       "      <td>Оригинал</td>\n",
       "    </tr>\n",
       "    <tr>\n",
       "      <th>sell_id</th>\n",
       "      <td>1115079574.0</td>\n",
       "      <td>1106708332.0</td>\n",
       "      <td>1115189810.0</td>\n",
       "    </tr>\n",
       "    <tr>\n",
       "      <th>state</th>\n",
       "      <td>Не требует ремонта</td>\n",
       "      <td>Не требует ремонта</td>\n",
       "      <td>Не требует ремонта</td>\n",
       "    </tr>\n",
       "    <tr>\n",
       "      <th>super_gen</th>\n",
       "      <td>{'asciiCat': 'cars', 'category': 'cars', 'engi...</td>\n",
       "      <td>{'asciiCat': 'cars', 'category': 'cars', 'engi...</td>\n",
       "      <td>{'asciiCat': 'cars', 'category': 'cars', 'engi...</td>\n",
       "    </tr>\n",
       "    <tr>\n",
       "      <th>vehicleTransmission</th>\n",
       "      <td>роботизированная</td>\n",
       "      <td>автоматическая</td>\n",
       "      <td>механическая</td>\n",
       "    </tr>\n",
       "    <tr>\n",
       "      <th>wheel</th>\n",
       "      <td>Левый</td>\n",
       "      <td>Левый</td>\n",
       "      <td>Левый</td>\n",
       "    </tr>\n",
       "    <tr>\n",
       "      <th>year</th>\n",
       "      <td>2021.0</td>\n",
       "      <td>2021.0</td>\n",
       "      <td>2011.0</td>\n",
       "    </tr>\n",
       "    <tr>\n",
       "      <th>complectation_dict</th>\n",
       "      <td>['Круиз-контроль', 'Мультифункциональное рулев...</td>\n",
       "      <td>['Мультифункциональное рулевое колесо', 'Систе...</td>\n",
       "      <td>['Круиз-контроль – платная опция', 'Электропри...</td>\n",
       "    </tr>\n",
       "    <tr>\n",
       "      <th>super_gen_2</th>\n",
       "      <td>{'engine_type': 'GASOLINE', 'gear_type': 'FORW...</td>\n",
       "      <td>{'engine_type': 'DIESEL', 'gear_type': 'ALL_WH...</td>\n",
       "      <td>{'engine_type': 'GASOLINE', 'gear_type': 'FORW...</td>\n",
       "    </tr>\n",
       "    <tr>\n",
       "      <th>super_gen_3</th>\n",
       "      <td>{'sale-data-attributes': {'asciiCat': 'cars', ...</td>\n",
       "      <td>{'sale-data-attributes': {'asciiCat': 'cars', ...</td>\n",
       "      <td>{'sale-data-attributes': {'asciiCat': 'cars', ...</td>\n",
       "    </tr>\n",
       "    <tr>\n",
       "      <th>Unnamed: 0.1</th>\n",
       "      <td>NaN</td>\n",
       "      <td>81.0</td>\n",
       "      <td>NaN</td>\n",
       "    </tr>\n",
       "  </tbody>\n",
       "</table>\n",
       "</div>"
      ],
      "text/plain": [
       "                                                                 23299  \\\n",
       "bodytype                                                       лифтбек   \n",
       "brand                                                       Volkswagen   \n",
       "car_url              https://auto.ru/cars/used/sale/volkswagen/polo...   \n",
       "catalog_url          https://auto.ru/catalog/cars/volkswagen/polo/2...   \n",
       "color                                                           чёрный   \n",
       "customs                                                     Растаможен   \n",
       "description          Машина в состонии новой.\\nВозможна продажа в л...   \n",
       "drive                                                         передний   \n",
       "engineDisplacement                                                 1.4   \n",
       "enginePower                                                      125.0   \n",
       "equipment_dict       ['Подушка безопасности водителя', 'Подушка без...   \n",
       "fuelType                                                        Бензин   \n",
       "kmage                                                          30000.0   \n",
       "model                                                             Polo   \n",
       "owner                                                       1 владелец   \n",
       "owningTime                                                         NaN   \n",
       "price                                                        1900000.0   \n",
       "pts                                                           Оригинал   \n",
       "sell_id                                                   1115079574.0   \n",
       "state                                               Не требует ремонта   \n",
       "super_gen            {'asciiCat': 'cars', 'category': 'cars', 'engi...   \n",
       "vehicleTransmission                                   роботизированная   \n",
       "wheel                                                            Левый   \n",
       "year                                                            2021.0   \n",
       "complectation_dict   ['Круиз-контроль', 'Мультифункциональное рулев...   \n",
       "super_gen_2          {'engine_type': 'GASOLINE', 'gear_type': 'FORW...   \n",
       "super_gen_3          {'sale-data-attributes': {'asciiCat': 'cars', ...   \n",
       "Unnamed: 0.1                                                       NaN   \n",
       "\n",
       "                                                                 10050  \\\n",
       "bodytype                                                         седан   \n",
       "brand                                                    Mercedes-Benz   \n",
       "car_url              https://auto.ru/cars/used/sale/mercedes/s_klas...   \n",
       "catalog_url          https://auto.ru/catalog/cars/mercedes/s_klasse...   \n",
       "color                                                            синий   \n",
       "customs                                                     Растаможен   \n",
       "description          Оригинал ПТС, По факту один владелец, сейчас а...   \n",
       "drive                                                           полный   \n",
       "engineDisplacement                                                 2.9   \n",
       "enginePower                                                      249.0   \n",
       "equipment_dict                                                      []   \n",
       "fuelType                                                        Дизель   \n",
       "kmage                                                          11366.0   \n",
       "model                                                          S-Класс   \n",
       "owner                                                       1 владелец   \n",
       "owningTime                                                         NaN   \n",
       "price                                                       21729000.0   \n",
       "pts                                                           Оригинал   \n",
       "sell_id                                                   1106708332.0   \n",
       "state                                               Не требует ремонта   \n",
       "super_gen            {'asciiCat': 'cars', 'category': 'cars', 'engi...   \n",
       "vehicleTransmission                                     автоматическая   \n",
       "wheel                                                            Левый   \n",
       "year                                                            2021.0   \n",
       "complectation_dict   ['Мультифункциональное рулевое колесо', 'Систе...   \n",
       "super_gen_2          {'engine_type': 'DIESEL', 'gear_type': 'ALL_WH...   \n",
       "super_gen_3          {'sale-data-attributes': {'asciiCat': 'cars', ...   \n",
       "Unnamed: 0.1                                                      81.0   \n",
       "\n",
       "                                                                 16386  \n",
       "bodytype                                                 хэтчбек 5 дв.  \n",
       "brand                                                            Skoda  \n",
       "car_url              https://auto.ru/cars/used/sale/skoda/fabia/111...  \n",
       "catalog_url          https://auto.ru/catalog/cars/skoda/fabia/62233...  \n",
       "color                                                            синий  \n",
       "customs                                                     Растаможен  \n",
       "description          Автомобиль в очень хорошем состоянии, техничес...  \n",
       "drive                                                         передний  \n",
       "engineDisplacement                                                 1.4  \n",
       "enginePower                                                       86.0  \n",
       "equipment_dict                                                      []  \n",
       "fuelType                                                        Бензин  \n",
       "kmage                                                         165000.0  \n",
       "model                                                            Fabia  \n",
       "owner                                                      2 владельца  \n",
       "owningTime                                                         NaN  \n",
       "price                                                         439000.0  \n",
       "pts                                                           Оригинал  \n",
       "sell_id                                                   1115189810.0  \n",
       "state                                               Не требует ремонта  \n",
       "super_gen            {'asciiCat': 'cars', 'category': 'cars', 'engi...  \n",
       "vehicleTransmission                                       механическая  \n",
       "wheel                                                            Левый  \n",
       "year                                                            2011.0  \n",
       "complectation_dict   ['Круиз-контроль – платная опция', 'Электропри...  \n",
       "super_gen_2          {'engine_type': 'GASOLINE', 'gear_type': 'FORW...  \n",
       "super_gen_3          {'sale-data-attributes': {'asciiCat': 'cars', ...  \n",
       "Unnamed: 0.1                                                       NaN  "
      ]
     },
     "execution_count": 956,
     "metadata": {},
     "output_type": "execute_result"
    }
   ],
   "source": [
    "merged_df.sample(3).T"
   ]
  }
 ],
 "metadata": {
  "kernelspec": {
   "display_name": "Python 3",
   "language": "python",
   "name": "python3"
  },
  "language_info": {
   "codemirror_mode": {
    "name": "ipython",
    "version": 3
   },
   "file_extension": ".py",
   "mimetype": "text/x-python",
   "name": "python",
   "nbconvert_exporter": "python",
   "pygments_lexer": "ipython3",
   "version": "3.8.8"
  }
 },
 "nbformat": 4,
 "nbformat_minor": 5
}
