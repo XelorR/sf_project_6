{
 "cells": [
  {
   "cell_type": "markdown",
   "metadata": {},
   "source": [
    "- [previous file - EDA](2022-03-31_train-test_EDA.ipynb)\n",
    "- [next tile - models with pre-tuned parameters and ensembles](2022-04-15_ensemble.ipynb)\n",
    "\n",
    "## imports"
   ]
  },
  {
   "cell_type": "code",
   "execution_count": 7,
   "metadata": {},
   "outputs": [],
   "source": [
    "from warnings import filterwarnings\n",
    "\n",
    "import pandas as pd\n",
    "import numpy as np\n",
    "import seaborn as sns\n",
    "import matplotlib.pyplot as plt\n",
    "from sklearn.preprocessing import RobustScaler, LabelEncoder\n",
    "from sklearn.ensemble import RandomForestRegressor, ExtraTreesRegressor, StackingRegressor\n",
    "from catboost import CatBoostRegressor\n",
    "from lightgbm import LGBMRegressor\n",
    "import xgboost as xgb\n",
    "from sklearn.linear_model import LinearRegression\n",
    "from sklearn.neighbors import KNeighborsRegressor\n",
    "import optuna\n",
    "from sklearn.model_selection import train_test_split, cross_val_score\n",
    "from sklearn.metrics import mean_absolute_percentage_error\n",
    "\n",
    "from lib.model_related import *\n",
    "\n",
    "sns.set()\n",
    "filterwarnings(\"ignore\")"
   ]
  },
  {
   "cell_type": "markdown",
   "metadata": {},
   "source": [
    "## reading data"
   ]
  },
  {
   "cell_type": "code",
   "execution_count": 8,
   "metadata": {},
   "outputs": [
    {
     "data": {
      "text/plain": [
       "((115367, 30), (34686, 28))"
      ]
     },
     "execution_count": 8,
     "metadata": {},
     "output_type": "execute_result"
    }
   ],
   "source": [
    "train_raw = pd.read_parquet(\"data/2022-04-08_train_pre-model.parquet\")\n",
    "test_raw = pd.read_parquet(\"data/2022-04-08_test_pre-model.parquet\")\n",
    "\n",
    "train_raw.shape, test_raw.shape"
   ]
  },
  {
   "cell_type": "code",
   "execution_count": 9,
   "metadata": {},
   "outputs": [],
   "source": [
    "def submit(hold_out: pd.DataFrame, model, name=\"submission\"):\n",
    "    preds = model.predict(hold_out)\n",
    "    submission = pd.read_csv(\"data/sample_submission.csv\")\n",
    "    submission[\"price\"] = preds\n",
    "    submission.to_csv(f\"{name}.csv\", index=False)\n",
    "    \n",
    "    \n",
    "def submit_log(hold_out: pd.DataFrame, model, name=\"submission\"):\n",
    "    preds = model.predict(hold_out)\n",
    "    submission = pd.read_csv(\"data/sample_submission.csv\")\n",
    "    submission[\"price\"] = np.exp(preds)\n",
    "    submission.to_csv(f\"{name}.csv\", index=False)"
   ]
  },
  {
   "cell_type": "markdown",
   "metadata": {},
   "source": [
    "## encoding"
   ]
  },
  {
   "cell_type": "code",
   "execution_count": 10,
   "metadata": {},
   "outputs": [],
   "source": [
    "train_raw[\"train/test\"] = \"train\"\n",
    "test_raw[\"train/test\"] = \"test\"\n",
    "\n",
    "data = train_raw.append(test_raw)\n",
    "data[\"ptc\"].fillna(\"Оригинал\", inplace=True)\n",
    "\n",
    "data[data.select_dtypes(\"object\").columns.tolist()] = data[\n",
    "    data.select_dtypes(\"object\").columns.tolist()\n",
    "].astype(str)\n",
    "\n",
    "for col in set(data.select_dtypes(exclude=(\"object\")).columns) - {\"price\"}:\n",
    "    data[col] = (\n",
    "        RobustScaler().fit_transform(data[col].values.reshape(-1, 1)).reshape(-1, 1)\n",
    "    )\n",
    "\n",
    "for col in [\"model_name\"]:\n",
    "    data[col] = LabelEncoder().fit_transform(data[col].astype(\"str\"))\n",
    "\n",
    "data = pd.get_dummies(\n",
    "    data,\n",
    "    columns=[\n",
    "        \"vehicle_transmission\",\n",
    "        \"vendor\",\n",
    "        \"brand\",\n",
    "        \"fuel_type\",\n",
    "        \"body_type\",\n",
    "        \"color\",\n",
    "        \"ptc\",\n",
    "        \"drive\",\n",
    "        \"wheel\",\n",
    "        \"age_cat\",\n",
    "    ],\n",
    ")\n",
    "\n",
    "train = data.loc[data[\"train/test\"] == \"train\"]\n",
    "\n",
    "train_jane = train.loc[train[\"sample\"] == \"jane\"]\n",
    "train_sokolov = train.loc[train[\"sample\"] == \"sokolov\"]\n",
    "train_jane[\"price\"] = train_jane[\"price\"] * 0.86\n",
    "train = train_jane.append(train_sokolov)\n",
    "\n",
    "train.drop(columns=[\"sample\", \"description\", \"train/test\"], inplace=True)\n",
    "test = data.loc[data[\"train/test\"] == \"test\"].drop(\n",
    "    columns=[\"sample\", \"description\", \"train/test\", \"price\"]\n",
    ")"
   ]
  },
  {
   "cell_type": "markdown",
   "metadata": {},
   "source": [
    "## modelling"
   ]
  },
  {
   "cell_type": "code",
   "execution_count": 11,
   "metadata": {},
   "outputs": [
    {
     "data": {
      "text/plain": [
       "((86525, 112), (86525,), (28842, 112), (28842,))"
      ]
     },
     "execution_count": 11,
     "metadata": {},
     "output_type": "execute_result"
    }
   ],
   "source": [
    "X_train, X_valid, y_train, y_valid = train_test_split(train.drop(columns=\"price\"), train[\"price\"], random_state = 42, shuffle=True)\n",
    "X_train.shape, y_train.shape, X_valid.shape, y_valid.shape"
   ]
  },
  {
   "cell_type": "markdown",
   "metadata": {},
   "source": [
    "## model tuning"
   ]
  },
  {
   "cell_type": "markdown",
   "metadata": {},
   "source": [
    "### Extra Tree Regressor"
   ]
  },
  {
   "cell_type": "code",
   "execution_count": null,
   "metadata": {
    "scrolled": true,
    "tags": []
   },
   "outputs": [
    {
     "name": "stderr",
     "output_type": "stream",
     "text": [
      "\u001b[32m[I 2022-04-14 11:02:52,619]\u001b[0m Using an existing study with name 'ETRRegressor' instead of creating a new one.\u001b[0m\n",
      "\u001b[32m[I 2022-04-14 11:20:48,809]\u001b[0m Trial 44 finished with value: -0.14031671545863925 and parameters: {'n_estimators': 950, 'min_samples_split': 3, 'min_samples_leaf': 2, 'max_samples': 0.9666845348937461, 'max_features': 'auto'}. Best is trial 25 with value: -0.1397990866734321.\u001b[0m\n",
      "\u001b[32m[I 2022-04-14 11:34:15,964]\u001b[0m Trial 45 finished with value: -0.1427228867461674 and parameters: {'n_estimators': 829, 'min_samples_split': 5, 'min_samples_leaf': 3, 'max_samples': 0.9302304299278186, 'max_features': 'auto'}. Best is trial 25 with value: -0.1397990866734321.\u001b[0m\n",
      "\u001b[32m[I 2022-04-14 11:35:58,464]\u001b[0m Trial 46 finished with value: -0.1419002199476845 and parameters: {'n_estimators': 105, 'min_samples_split': 2, 'min_samples_leaf': 1, 'max_samples': 0.635460897607993, 'max_features': 'auto'}. Best is trial 25 with value: -0.1397990866734321.\u001b[0m\n",
      "\u001b[32m[I 2022-04-14 11:37:49,319]\u001b[0m Trial 47 finished with value: -0.2595879798664651 and parameters: {'n_estimators': 949, 'min_samples_split': 3, 'min_samples_leaf': 3, 'max_samples': 0.9891701465840957, 'max_features': 'log2'}. Best is trial 25 with value: -0.1397990866734321.\u001b[0m\n",
      "\u001b[32m[I 2022-04-14 11:52:06,317]\u001b[0m Trial 48 finished with value: -0.14089433449138838 and parameters: {'n_estimators': 892, 'min_samples_split': 5, 'min_samples_leaf': 2, 'max_samples': 0.8745209279661367, 'max_features': 'auto'}. Best is trial 25 with value: -0.1397990866734321.\u001b[0m\n",
      "\u001b[32m[I 2022-04-14 11:54:01,462]\u001b[0m Trial 49 finished with value: -0.2564346569330365 and parameters: {'n_estimators': 838, 'min_samples_split': 6, 'min_samples_leaf': 9, 'max_samples': 0.8319838954462071, 'max_features': 'sqrt'}. Best is trial 25 with value: -0.1397990866734321.\u001b[0m\n",
      "\u001b[32m[I 2022-04-14 12:06:57,752]\u001b[0m Trial 50 finished with value: -0.14007377447225552 and parameters: {'n_estimators': 790, 'min_samples_split': 4, 'min_samples_leaf': 1, 'max_samples': 0.8936316243274866, 'max_features': 'auto'}. Best is trial 25 with value: -0.1397990866734321.\u001b[0m\n",
      "\u001b[32m[I 2022-04-14 12:14:01,845]\u001b[0m Trial 51 finished with value: -0.1418942012271324 and parameters: {'n_estimators': 514, 'min_samples_split': 2, 'min_samples_leaf': 2, 'max_samples': 0.6878814948960403, 'max_features': 'auto'}. Best is trial 25 with value: -0.1397990866734321.\u001b[0m\n",
      "\u001b[32m[I 2022-04-14 12:29:42,967]\u001b[0m Trial 52 finished with value: -0.14006165637062792 and parameters: {'n_estimators': 905, 'min_samples_split': 4, 'min_samples_leaf': 1, 'max_samples': 0.9273222953371656, 'max_features': 'auto'}. Best is trial 25 with value: -0.1397990866734321.\u001b[0m\n",
      "\u001b[32m[I 2022-04-14 12:47:40,915]\u001b[0m Trial 53 finished with value: -0.13996593557803097 and parameters: {'n_estimators': 969, 'min_samples_split': 3, 'min_samples_leaf': 1, 'max_samples': 0.8964817605165449, 'max_features': 'auto'}. Best is trial 25 with value: -0.1397990866734321.\u001b[0m\n",
      "\u001b[32m[I 2022-04-14 13:04:35,526]\u001b[0m Trial 54 finished with value: -0.13993890147224805 and parameters: {'n_estimators': 971, 'min_samples_split': 3, 'min_samples_leaf': 1, 'max_samples': 0.8941134860273983, 'max_features': 'auto'}. Best is trial 25 with value: -0.1397990866734321.\u001b[0m\n",
      "\u001b[32m[I 2022-04-14 13:21:08,595]\u001b[0m Trial 55 finished with value: -0.14411737619015091 and parameters: {'n_estimators': 973, 'min_samples_split': 13, 'min_samples_leaf': 2, 'max_samples': 0.9533632135517428, 'max_features': 'auto'}. Best is trial 25 with value: -0.1397990866734321.\u001b[0m\n",
      "\u001b[32m[I 2022-04-14 13:35:30,230]\u001b[0m Trial 56 finished with value: -0.14288362817650657 and parameters: {'n_estimators': 851, 'min_samples_split': 3, 'min_samples_leaf': 3, 'max_samples': 0.8993280215872888, 'max_features': 'auto'}. Best is trial 25 with value: -0.1397990866734321.\u001b[0m\n",
      "\u001b[32m[I 2022-04-14 13:51:53,694]\u001b[0m Trial 57 finished with value: -0.13991691920007593 and parameters: {'n_estimators': 932, 'min_samples_split': 3, 'min_samples_leaf': 1, 'max_samples': 0.9237242595565909, 'max_features': 'auto'}. Best is trial 25 with value: -0.1397990866734321.\u001b[0m\n",
      "\u001b[32m[I 2022-04-14 14:07:47,341]\u001b[0m Trial 58 finished with value: -0.14164252624904589 and parameters: {'n_estimators': 941, 'min_samples_split': 10, 'min_samples_leaf': 1, 'max_samples': 0.9710821930047945, 'max_features': 'auto'}. Best is trial 25 with value: -0.1397990866734321.\u001b[0m\n",
      "\u001b[32m[I 2022-04-14 14:09:27,277]\u001b[0m Trial 59 finished with value: -0.23178395595181023 and parameters: {'n_estimators': 968, 'min_samples_split': 3, 'min_samples_leaf': 2, 'max_samples': 0.943032227394155, 'max_features': 'log2'}. Best is trial 25 with value: -0.1397990866734321.\u001b[0m\n",
      "\u001b[32m[I 2022-04-14 14:24:08,068]\u001b[0m Trial 60 finished with value: -0.14536028196541806 and parameters: {'n_estimators': 913, 'min_samples_split': 6, 'min_samples_leaf': 4, 'max_samples': 0.9246431047694932, 'max_features': 'auto'}. Best is trial 25 with value: -0.1397990866734321.\u001b[0m\n",
      "\u001b[32m[I 2022-04-14 14:25:52,041]\u001b[0m Trial 61 finished with value: -0.2675915118546491 and parameters: {'n_estimators': 857, 'min_samples_split': 4, 'min_samples_leaf': 12, 'max_samples': 0.9766398413241889, 'max_features': 'sqrt'}. Best is trial 25 with value: -0.1397990866734321.\u001b[0m\n",
      "\u001b[32m[I 2022-04-14 14:42:40,808]\u001b[0m Trial 62 finished with value: -0.14017129447436524 and parameters: {'n_estimators': 969, 'min_samples_split': 3, 'min_samples_leaf': 1, 'max_samples': 0.8693706769791172, 'max_features': 'auto'}. Best is trial 25 with value: -0.1397990866734321.\u001b[0m\n",
      "\u001b[32m[I 2022-04-14 14:59:21,781]\u001b[0m Trial 63 finished with value: -0.14009006601572413 and parameters: {'n_estimators': 920, 'min_samples_split': 2, 'min_samples_leaf': 1, 'max_samples': 0.8844757415130194, 'max_features': 'auto'}. Best is trial 25 with value: -0.1397990866734321.\u001b[0m\n",
      "\u001b[32m[I 2022-04-14 15:11:33,924]\u001b[0m Trial 64 finished with value: -0.14063360133180938 and parameters: {'n_estimators': 870, 'min_samples_split': 3, 'min_samples_leaf': 2, 'max_samples': 0.9009515526203669, 'max_features': 'auto'}. Best is trial 25 with value: -0.1397990866734321.\u001b[0m\n",
      "\u001b[32m[I 2022-04-14 15:23:16,599]\u001b[0m Trial 65 finished with value: -0.13998077127258618 and parameters: {'n_estimators': 804, 'min_samples_split': 2, 'min_samples_leaf': 1, 'max_samples': 0.9192178573478638, 'max_features': 'auto'}. Best is trial 25 with value: -0.1397990866734321.\u001b[0m\n",
      "\u001b[32m[I 2022-04-14 15:35:48,723]\u001b[0m Trial 66 finished with value: -0.1399763649664251 and parameters: {'n_estimators': 757, 'min_samples_split': 2, 'min_samples_leaf': 1, 'max_samples': 0.9536007042607311, 'max_features': 'auto'}. Best is trial 25 with value: -0.1397990866734321.\u001b[0m\n",
      "\u001b[32m[I 2022-04-14 15:49:03,534]\u001b[0m Trial 67 finished with value: -0.1427135122862874 and parameters: {'n_estimators': 760, 'min_samples_split': 4, 'min_samples_leaf': 3, 'max_samples': 0.9474524302597436, 'max_features': 'auto'}. Best is trial 25 with value: -0.1397990866734321.\u001b[0m\n",
      "\u001b[32m[I 2022-04-14 16:06:19,277]\u001b[0m Trial 68 finished with value: -0.1405062642549834 and parameters: {'n_estimators': 936, 'min_samples_split': 3, 'min_samples_leaf': 2, 'max_samples': 0.9632194482399544, 'max_features': 'auto'}. Best is trial 25 with value: -0.1397990866734321.\u001b[0m\n",
      "\u001b[32m[I 2022-04-14 16:14:19,468]\u001b[0m Trial 69 finished with value: -0.14034345362094555 and parameters: {'n_estimators': 442, 'min_samples_split': 5, 'min_samples_leaf': 1, 'max_samples': 0.9366670224365926, 'max_features': 'auto'}. Best is trial 25 with value: -0.1397990866734321.\u001b[0m\n",
      "\u001b[32m[I 2022-04-14 16:25:36,827]\u001b[0m Trial 70 finished with value: -0.14053154357074052 and parameters: {'n_estimators': 603, 'min_samples_split': 2, 'min_samples_leaf': 2, 'max_samples': 0.9578549054724731, 'max_features': 'auto'}. Best is trial 25 with value: -0.1397990866734321.\u001b[0m\n",
      "\u001b[32m[I 2022-04-14 16:27:37,153]\u001b[0m Trial 71 finished with value: -0.26052377848449654 and parameters: {'n_estimators': 981, 'min_samples_split': 4, 'min_samples_leaf': 3, 'max_samples': 0.9765902787694396, 'max_features': 'log2'}. Best is trial 25 with value: -0.1397990866734321.\u001b[0m\n",
      "\u001b[32m[I 2022-04-14 16:41:38,164]\u001b[0m Trial 72 finished with value: -0.14000610571802471 and parameters: {'n_estimators': 717, 'min_samples_split': 2, 'min_samples_leaf': 1, 'max_samples': 0.9179375562603285, 'max_features': 'auto'}. Best is trial 25 with value: -0.1397990866734321.\u001b[0m\n",
      "\u001b[32m[I 2022-04-14 16:57:58,781]\u001b[0m Trial 73 finished with value: -0.13999356931629484 and parameters: {'n_estimators': 803, 'min_samples_split': 2, 'min_samples_leaf': 1, 'max_samples': 0.9174021621627724, 'max_features': 'auto'}. Best is trial 25 with value: -0.1397990866734321.\u001b[0m\n",
      "\u001b[32m[I 2022-04-14 17:13:28,705]\u001b[0m Trial 74 finished with value: -0.14055320359523948 and parameters: {'n_estimators': 883, 'min_samples_split': 3, 'min_samples_leaf': 2, 'max_samples': 0.9362942284955262, 'max_features': 'auto'}. Best is trial 25 with value: -0.1397990866734321.\u001b[0m\n",
      "\u001b[32m[I 2022-04-14 17:30:38,170]\u001b[0m Trial 75 finished with value: -0.13996438280739043 and parameters: {'n_estimators': 823, 'min_samples_split': 2, 'min_samples_leaf': 1, 'max_samples': 0.9509987926046393, 'max_features': 'auto'}. Best is trial 25 with value: -0.1397990866734321.\u001b[0m\n",
      "\u001b[32m[I 2022-04-14 17:48:41,757]\u001b[0m Trial 76 finished with value: -0.13981520740869655 and parameters: {'n_estimators': 934, 'min_samples_split': 3, 'min_samples_leaf': 1, 'max_samples': 0.9535340279440764, 'max_features': 'auto'}. Best is trial 25 with value: -0.1397990866734321.\u001b[0m\n",
      "\u001b[32m[I 2022-04-14 18:06:11,951]\u001b[0m Trial 77 finished with value: -0.1404155051194483 and parameters: {'n_estimators': 998, 'min_samples_split': 4, 'min_samples_leaf': 2, 'max_samples': 0.9747288799086186, 'max_features': 'auto'}. Best is trial 25 with value: -0.1397990866734321.\u001b[0m\n",
      "\u001b[32m[I 2022-04-14 18:23:44,825]\u001b[0m Trial 78 finished with value: -0.13977216199292827 and parameters: {'n_estimators': 936, 'min_samples_split': 3, 'min_samples_leaf': 1, 'max_samples': 0.9894458395539251, 'max_features': 'auto'}. Best is trial 78 with value: -0.13977216199292827.\u001b[0m\n",
      "\u001b[32m[I 2022-04-14 18:27:29,296]\u001b[0m Trial 79 finished with value: -0.18553531137162718 and parameters: {'n_estimators': 922, 'min_samples_split': 3, 'min_samples_leaf': 2, 'max_samples': 0.9654913965074379, 'max_features': 'sqrt'}. Best is trial 78 with value: -0.13977216199292827.\u001b[0m\n"
     ]
    }
   ],
   "source": [
    "def objective(trial):\n",
    "    param = {\n",
    "        'n_estimators': trial.suggest_int('n_estimators', 100, 1000),\n",
    "        'min_samples_split': trial.suggest_int('min_samples_split', 2, 14),\n",
    "        'min_samples_leaf': trial.suggest_int('min_samples_leaf', 1, 14),\n",
    "        'max_samples': trial.suggest_uniform('max_samples', 0.6, 0.99),\n",
    "        'max_features': trial.suggest_categorical(\"max_features\", [\"auto\", \"sqrt\", 'log2']),\n",
    "        'max_depth': None,\n",
    "        'bootstrap': True,\n",
    "        'random_state': 42\n",
    "    }\n",
    "\n",
    "    etr_o = ExtraTreesRegressor(**param)\n",
    "    cv_roc_auc = cross_val_score(etr_o, X_train, y_train, cv=3, scoring=\"neg_mean_absolute_percentage_error\", n_jobs=-1)\n",
    "\n",
    "    return np.mean(cv_roc_auc)\n",
    "\n",
    "\n",
    "study = optuna.create_study(\n",
    "    direction=\"maximize\",\n",
    "    storage=\"sqlite:///ETRRegressor.db\",\n",
    "    study_name=\"ETRRegressor\",\n",
    "    load_if_exists=True,\n",
    ")\n",
    "study.optimize(objective, n_trials=200)"
   ]
  },
  {
   "cell_type": "markdown",
   "metadata": {},
   "source": [
    "#### Version 1 (tuned by hand)"
   ]
  },
  {
   "cell_type": "code",
   "execution_count": 34,
   "metadata": {},
   "outputs": [
    {
     "name": "stderr",
     "output_type": "stream",
     "text": [
      "[Parallel(n_jobs=-1)]: Using backend ThreadingBackend with 4 concurrent workers.\n",
      "[Parallel(n_jobs=-1)]: Done  42 tasks      | elapsed:   18.0s\n",
      "[Parallel(n_jobs=-1)]: Done 192 tasks      | elapsed:  1.2min\n",
      "[Parallel(n_jobs=-1)]: Done 442 tasks      | elapsed:  2.8min\n",
      "[Parallel(n_jobs=-1)]: Done 792 tasks      | elapsed:  5.0min\n",
      "[Parallel(n_jobs=-1)]: Done 800 out of 800 | elapsed:  5.1min finished\n"
     ]
    }
   ],
   "source": [
    "etr_cust = ExtraTreesRegressor(\n",
    "    n_estimators=800,\n",
    "    min_samples_split=2,\n",
    "    min_samples_leaf=1,\n",
    "    max_features='auto',\n",
    "    max_depth=15,\n",
    "    bootstrap=True,\n",
    "    random_state=42, \n",
    "    n_jobs=-1,\n",
    "    verbose=0\n",
    ").fit(X_train, np.log(y_train))\n",
    "\n",
    "print(\"etr_cust_log\", mean_absolute_percentage_error(y_valid, np.exp(etr_cust.predict(X_valid))))\n",
    "submit_log(test, etr_cust, \"etr_cust_log\")\n",
    "# etr_cust_log 0.1376278076519815"
   ]
  },
  {
   "cell_type": "markdown",
   "metadata": {},
   "source": [
    "#### Version 2 (optuna)"
   ]
  },
  {
   "cell_type": "code",
   "execution_count": 13,
   "metadata": {},
   "outputs": [
    {
     "name": "stdout",
     "output_type": "stream",
     "text": [
      "etr_tuned_78_log 0.1243004166689037\n"
     ]
    }
   ],
   "source": [
    "etr_tuned_78 = ExtraTreesRegressor(\n",
    "    **{\n",
    "        'n_estimators': 936, \n",
    "        'min_samples_split': 3, \n",
    "        'min_samples_leaf': 1, \n",
    "        'max_samples': 0.9894458395539251, \n",
    "        'max_features': 'auto',\n",
    "        'max_depth': None,\n",
    "        'bootstrap': True,\n",
    "        'random_state': 42,\n",
    "        'n_jobs': -1,\n",
    "        'verbose': 0\n",
    "    }\n",
    ").fit(X_train, np.log(y_train))\n",
    "\n",
    "print(\"etr_tuned_78_log\", mean_absolute_percentage_error(y_valid, np.exp(etr_tuned_78.predict(X_valid))))\n",
    "submit_log(test, etr_tuned_78, \"etr_tuned_78_log\")"
   ]
  }
 ],
 "metadata": {
  "interpreter": {
   "hash": "326a131e1315163df5847284d7bac20ddee532ca1eaccb72a712d33a5c79e104"
  },
  "kernelspec": {
   "display_name": "Python 3 (ipykernel)",
   "language": "python",
   "name": "python3"
  },
  "language_info": {
   "codemirror_mode": {
    "name": "ipython",
    "version": 3
   },
   "file_extension": ".py",
   "mimetype": "text/x-python",
   "name": "python",
   "nbconvert_exporter": "python",
   "pygments_lexer": "ipython3",
   "version": "3.9.1"
  }
 },
 "nbformat": 4,
 "nbformat_minor": 4
}
