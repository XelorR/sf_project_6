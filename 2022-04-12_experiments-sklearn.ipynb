{
 "cells": [
  {
   "cell_type": "markdown",
   "metadata": {},
   "source": [
    "## imports"
   ]
  },
  {
   "cell_type": "code",
   "execution_count": 2,
   "metadata": {},
   "outputs": [],
   "source": [
    "from warnings import filterwarnings\n",
    "\n",
    "import pandas as pd\n",
    "import numpy as np\n",
    "import seaborn as sns\n",
    "import matplotlib.pyplot as plt\n",
    "from sklearn.preprocessing import RobustScaler, LabelEncoder\n",
    "from sklearn.ensemble import RandomForestRegressor, StackingRegressor\n",
    "from catboost import CatBoostRegressor\n",
    "from lightgbm import LGBMRegressor\n",
    "from sklearn.linear_model import LinearRegression\n",
    "from sklearn.neighbors import KNeighborsRegressor\n",
    "import optuna\n",
    "from sklearn.model_selection import train_test_split, cross_val_score\n",
    "from sklearn.metrics import mean_absolute_percentage_error\n",
    "\n",
    "from lib.model_related import *\n",
    "\n",
    "sns.set()\n",
    "filterwarnings(\"ignore\")"
   ]
  },
  {
   "cell_type": "markdown",
   "metadata": {},
   "source": [
    "## reading data"
   ]
  },
  {
   "cell_type": "code",
   "execution_count": 5,
   "metadata": {},
   "outputs": [
    {
     "data": {
      "text/plain": [
       "((115367, 30), (34686, 28))"
      ]
     },
     "execution_count": 5,
     "metadata": {},
     "output_type": "execute_result"
    }
   ],
   "source": [
    "train_raw = pd.read_parquet(\"data/2022-04-08_train_pre-model.parquet\")\n",
    "test_raw = pd.read_parquet(\"data/2022-04-08_test_pre-model.parquet\")\n",
    "\n",
    "train_raw.shape, test_raw.shape"
   ]
  },
  {
   "cell_type": "code",
   "execution_count": 6,
   "metadata": {},
   "outputs": [],
   "source": [
    "currency_dict = {\n",
    "    \"2020-10-20\": 77.9241,\n",
    "    \"2020-10-19\": 77.9644,\n",
    "    \"2020-10-21\": 77.7780,\n",
    "    \"2020-10-25\": 76.4667,\n",
    "    \"2020-10-24\": 76.4667,\n",
    "    \"2020-10-26\": 76.4667,\n",
    "    \"2020-09-09\": 75.9645,\n",
    "    \"2021-09-27\": 73.0081,\n",
    "    \"2021-09-30\": 72.7608,\n",
    "    \"2021-09-26\": 73.0081,\n",
    "    \"2021-09-28\": 72.6613,\n",
    "    \"2021-09-29\": 72.5083,\n",
    "    \"2021-10-01\": 72.6642,\n",
    "}\n",
    "\n",
    "\n",
    "def submit(hold_out: pd.DataFrame, model, name=\"submission\"):\n",
    "    preds = model.predict(hold_out)\n",
    "    submission = pd.read_csv(\"data/sample_submission.csv\")\n",
    "    submission[\"price\"] = preds\n",
    "    submission.to_csv(f\"{name}.csv\", index=False)"
   ]
  },
  {
   "cell_type": "code",
   "execution_count": 7,
   "metadata": {},
   "outputs": [
    {
     "data": {
      "text/plain": [
       "158409758714.0"
      ]
     },
     "execution_count": 7,
     "metadata": {},
     "output_type": "execute_result"
    }
   ],
   "source": [
    "train_raw[\"price\"].sum()"
   ]
  },
  {
   "cell_type": "markdown",
   "metadata": {},
   "source": [
    "## encoding"
   ]
  },
  {
   "cell_type": "code",
   "execution_count": 8,
   "metadata": {},
   "outputs": [],
   "source": [
    "train_raw[\"train/test\"] = \"train\"\n",
    "test_raw[\"train/test\"] = \"test\"\n",
    "\n",
    "data = train_raw.append(test_raw)\n",
    "data[\"ptc\"].fillna(\"Оригинал\", inplace=True)\n",
    "\n",
    "data[data.select_dtypes(\"object\").columns.tolist()] = data[\n",
    "    data.select_dtypes(\"object\").columns.tolist()\n",
    "].astype(str)\n",
    "\n",
    "for col in set(data.select_dtypes(exclude=(\"object\")).columns) - {\"price\"}:\n",
    "    data[col] = (\n",
    "        RobustScaler().fit_transform(data[col].values.reshape(-1, 1)).reshape(-1, 1)\n",
    "    )\n",
    "\n",
    "for col in [\"model_name\"]:\n",
    "    data[col] = LabelEncoder().fit_transform(data[col].astype(\"str\"))\n",
    "\n",
    "data = pd.get_dummies(\n",
    "    data,\n",
    "    columns=[\n",
    "        \"vehicle_transmission\",\n",
    "        \"vendor\",\n",
    "        \"brand\",\n",
    "        \"fuel_type\",\n",
    "        \"body_type\",\n",
    "        \"color\",\n",
    "        \"ptc\",\n",
    "        \"drive\",\n",
    "        \"wheel\",\n",
    "        \"age_cat\",\n",
    "    ],\n",
    ")\n",
    "\n",
    "train = data.loc[data[\"train/test\"] == \"train\"]\n",
    "\n",
    "train_jane = train.loc[train[\"sample\"] == \"jane\"]\n",
    "train_sokolov = train.loc[train[\"sample\"] == \"sokolov\"]\n",
    "train_jane[\"price\"] = train_jane[\"price\"] * 0.86\n",
    "train = train_jane.append(train_sokolov)\n",
    "\n",
    "train.drop(columns=[\"sample\", \"description\", \"train/test\"], inplace=True)\n",
    "test = data.loc[data[\"train/test\"] == \"test\"].drop(\n",
    "    columns=[\"sample\", \"description\", \"train/test\", \"price\"]\n",
    ")\n"
   ]
  },
  {
   "cell_type": "code",
   "execution_count": 9,
   "metadata": {},
   "outputs": [
    {
     "data": {
      "text/plain": [
       "151033359642.84"
      ]
     },
     "execution_count": 9,
     "metadata": {},
     "output_type": "execute_result"
    }
   ],
   "source": [
    "train[\"price\"].sum()"
   ]
  },
  {
   "cell_type": "markdown",
   "metadata": {},
   "source": [
    "## modelling"
   ]
  },
  {
   "cell_type": "code",
   "execution_count": 10,
   "metadata": {},
   "outputs": [
    {
     "data": {
      "text/plain": [
       "((86525, 112), (86525,), (28842, 112), (28842,))"
      ]
     },
     "execution_count": 10,
     "metadata": {},
     "output_type": "execute_result"
    }
   ],
   "source": [
    "X_train, X_valid, y_train, y_valid = train_test_split(train.drop(columns=\"price\"), train[\"price\"], random_state = 42, shuffle=True)\n",
    "X_train.shape, y_train.shape, X_valid.shape, y_valid.shape"
   ]
  },
  {
   "cell_type": "code",
   "execution_count": 11,
   "metadata": {},
   "outputs": [],
   "source": [
    "lr = LinearRegression().fit(X_train, y_train)\n",
    "knn = KNeighborsRegressor().fit(X_train, y_train)\n",
    "lightgbm = LGBMRegressor(random_state=42, silent=True).fit(X_train, y_train)\n",
    "catboost = CatBoostRegressor(random_state=42, silent=True).fit(X_train, y_train)\n",
    "rf = RandomForestRegressor(random_state=42).fit(X_train, y_train)"
   ]
  },
  {
   "cell_type": "code",
   "execution_count": 12,
   "metadata": {},
   "outputs": [
    {
     "name": "stdout",
     "output_type": "stream",
     "text": [
      "lr 0.7946185682561607\n",
      "knn 0.16951330279094057\n",
      "lightgbm 0.19102466397466208\n",
      "catboost 0.1584574973807607\n",
      "rf 0.13804863667174702\n"
     ]
    }
   ],
   "source": [
    "print(\"lr\", mean_absolute_percentage_error(y_valid, lr.predict(X_valid)))\n",
    "print(\"knn\", mean_absolute_percentage_error(y_valid, knn.predict(X_valid)))\n",
    "print(\"lightgbm\", mean_absolute_percentage_error(y_valid, lightgbm.predict(X_valid)))\n",
    "print(\"catboost\", mean_absolute_percentage_error(y_valid, catboost.predict(X_valid)))\n",
    "print(\"rf\", mean_absolute_percentage_error(y_valid, rf.predict(X_valid)))"
   ]
  },
  {
   "cell_type": "markdown",
   "metadata": {},
   "source": [
    "## dumb model submission"
   ]
  },
  {
   "cell_type": "code",
   "execution_count": 13,
   "metadata": {},
   "outputs": [],
   "source": [
    "submit(test, lr, \"lr\")\n",
    "submit(test, knn, \"knn\")\n",
    "submit(test, lightgbm, \"lightgbm\")\n",
    "submit(test, catboost, \"catboost\")\n",
    "submit(test, rf, \"rf\")"
   ]
  },
  {
   "cell_type": "markdown",
   "metadata": {},
   "source": [
    "## model tuning"
   ]
  },
  {
   "cell_type": "markdown",
   "metadata": {},
   "source": [
    "### lightgbm"
   ]
  },
  {
   "cell_type": "code",
   "execution_count": 17,
   "metadata": {},
   "outputs": [
    {
     "name": "stderr",
     "output_type": "stream",
     "text": [
      "\u001b[32m[I 2022-04-12 22:35:33,204]\u001b[0m Using an existing study with name 'LGBMClassifier' instead of creating a new one.\u001b[0m\n",
      "/home/user/Documents/sf_project_6/venv/lib64/python3.10/site-packages/lightgbm/sklearn.py:598: UserWarning: 'silent' argument is deprecated and will be removed in a future release of LightGBM. Pass 'verbose' parameter via keyword arguments instead.\n",
      "  _log_warning(\"'silent' argument is deprecated and will be removed in a future release of LightGBM. \"\n",
      "/home/user/Documents/sf_project_6/venv/lib64/python3.10/site-packages/lightgbm/sklearn.py:598: UserWarning: 'silent' argument is deprecated and will be removed in a future release of LightGBM. Pass 'verbose' parameter via keyword arguments instead.\n",
      "  _log_warning(\"'silent' argument is deprecated and will be removed in a future release of LightGBM. \"\n",
      "/home/user/Documents/sf_project_6/venv/lib64/python3.10/site-packages/lightgbm/sklearn.py:598: UserWarning: 'silent' argument is deprecated and will be removed in a future release of LightGBM. Pass 'verbose' parameter via keyword arguments instead.\n",
      "  _log_warning(\"'silent' argument is deprecated and will be removed in a future release of LightGBM. \"\n",
      "/home/user/Documents/sf_project_6/venv/lib64/python3.10/site-packages/lightgbm/sklearn.py:598: UserWarning: 'silent' argument is deprecated and will be removed in a future release of LightGBM. Pass 'verbose' parameter via keyword arguments instead.\n",
      "  _log_warning(\"'silent' argument is deprecated and will be removed in a future release of LightGBM. \"\n",
      "/home/user/Documents/sf_project_6/venv/lib64/python3.10/site-packages/lightgbm/sklearn.py:598: UserWarning: 'silent' argument is deprecated and will be removed in a future release of LightGBM. Pass 'verbose' parameter via keyword arguments instead.\n",
      "  _log_warning(\"'silent' argument is deprecated and will be removed in a future release of LightGBM. \"\n",
      "/home/user/Documents/sf_project_6/venv/lib64/python3.10/site-packages/lightgbm/sklearn.py:598: UserWarning: 'silent' argument is deprecated and will be removed in a future release of LightGBM. Pass 'verbose' parameter via keyword arguments instead.\n",
      "  _log_warning(\"'silent' argument is deprecated and will be removed in a future release of LightGBM. \"\n",
      "/home/user/Documents/sf_project_6/venv/lib64/python3.10/site-packages/lightgbm/sklearn.py:598: UserWarning: 'silent' argument is deprecated and will be removed in a future release of LightGBM. Pass 'verbose' parameter via keyword arguments instead.\n",
      "  _log_warning(\"'silent' argument is deprecated and will be removed in a future release of LightGBM. \"\n",
      "/home/user/Documents/sf_project_6/venv/lib64/python3.10/site-packages/lightgbm/sklearn.py:598: UserWarning: 'silent' argument is deprecated and will be removed in a future release of LightGBM. Pass 'verbose' parameter via keyword arguments instead.\n",
      "  _log_warning(\"'silent' argument is deprecated and will be removed in a future release of LightGBM. \"\n"
     ]
    },
    {
     "name": "stdout",
     "output_type": "stream",
     "text": [
      "[LightGBM] [Warning] bagging_fraction is set=0.8695690383435876, subsample=1.0 will be ignored. Current value: bagging_fraction=0.8695690383435876\n",
      "[LightGBM] [Warning] lambda_l2 is set=0.012791850966944924, reg_lambda=0.0 will be ignored. Current value: lambda_l2=0.012791850966944924\n",
      "[LightGBM] [Warning] lambda_l1 is set=1.8270468476213303e-05, reg_alpha=0.0 will be ignored. Current value: lambda_l1=1.8270468476213303e-05\n",
      "[LightGBM] [Warning] bagging_freq is set=2, subsample_freq=0 will be ignored. Current value: bagging_freq=2\n",
      "[LightGBM] [Warning] feature_fraction is set=0.7698606143353843, colsample_bytree=1.0 will be ignored. Current value: feature_fraction=0.7698606143353843\n",
      "[LightGBM] [Warning] bagging_fraction is set=0.8695690383435876, subsample=1.0 will be ignored. Current value: bagging_fraction=0.8695690383435876\n",
      "[LightGBM] [Warning] lambda_l2 is set=0.012791850966944924, reg_lambda=0.0 will be ignored. Current value: lambda_l2=0.012791850966944924\n",
      "[LightGBM] [Warning] lambda_l1 is set=1.8270468476213303e-05, reg_alpha=0.0 will be ignored. Current value: lambda_l1=1.8270468476213303e-05\n",
      "[LightGBM] [Warning] bagging_freq is set=2, subsample_freq=0 will be ignored. Current value: bagging_freq=2\n",
      "[LightGBM] [Warning] feature_fraction is set=0.7698606143353843, colsample_bytree=1.0 will be ignored. Current value: feature_fraction=0.7698606143353843\n",
      "[LightGBM] [Warning] bagging_fraction is set=0.8695690383435876, subsample=1.0 will be ignored. Current value: bagging_fraction=0.8695690383435876\n",
      "[LightGBM] [Warning] lambda_l2 is set=0.012791850966944924, reg_lambda=0.0 will be ignored. Current value: lambda_l2=0.012791850966944924\n",
      "[LightGBM] [Warning] lambda_l1 is set=1.8270468476213303e-05, reg_alpha=0.0 will be ignored. Current value: lambda_l1=1.8270468476213303e-05\n",
      "[LightGBM] [Warning] bagging_freq is set=2, subsample_freq=0 will be ignored. Current value: bagging_freq=2\n",
      "[LightGBM] [Warning] feature_fraction is set=0.7698606143353843, colsample_bytree=1.0 will be ignored. Current value: feature_fraction=0.7698606143353843\n",
      "[LightGBM] [Warning] bagging_fraction is set=0.8695690383435876, subsample=1.0 will be ignored. Current value: bagging_fraction=0.8695690383435876\n",
      "[LightGBM] [Warning] lambda_l2 is set=0.012791850966944924, reg_lambda=0.0 will be ignored. Current value: lambda_l2=0.012791850966944924[LightGBM] [Warning] bagging_fraction is set=0.8695690383435876, subsample=1.0 will be ignored. Current value: bagging_fraction=0.8695690383435876\n",
      "[LightGBM] [Warning] lambda_l1 is set=1.8270468476213303e-05, reg_alpha=0.0 will be ignored. Current value: lambda_l1=1.8270468476213303e-05\n",
      "[LightGBM] [Warning] bagging_freq is set=2, subsample_freq=0 will be ignored. Current value: bagging_freq=2\n",
      "[LightGBM] [Warning] feature_fraction is set=0.7698606143353843, colsample_bytree=1.0 will be ignored. Current value: feature_fraction=0.7698606143353843\n",
      "\n",
      "[LightGBM] [Warning] lambda_l2 is set=0.012791850966944924, reg_lambda=0.0 will be ignored. Current value: lambda_l2=0.012791850966944924\n",
      "[LightGBM] [Warning] lambda_l1 is set=1.8270468476213303e-05, reg_alpha=0.0 will be ignored. Current value: lambda_l1=1.8270468476213303e-05\n",
      "[LightGBM] [Warning] bagging_freq is set=2, subsample_freq=0 will be ignored. Current value: bagging_freq=2\n",
      "[LightGBM] [Warning] feature_fraction is set=0.7698606143353843, colsample_bytree=1.0 will be ignored. Current value: feature_fraction=0.7698606143353843\n",
      "[LightGBM] [Warning] bagging_fraction is set=0.8695690383435876, subsample=1.0 will be ignored. Current value: bagging_fraction=0.8695690383435876\n",
      "[LightGBM] [Warning] lambda_l2 is set=0.012791850966944924, reg_lambda=0.0 will be ignored. Current value: lambda_l2=0.012791850966944924\n",
      "[LightGBM] [Warning] lambda_l1 is set=1.8270468476213303e-05, reg_alpha=0.0 will be ignored. Current value: lambda_l1=1.8270468476213303e-05\n",
      "[LightGBM] [Warning] bagging_freq is set=2, subsample_freq=0 will be ignored. Current value: bagging_freq=2\n",
      "[LightGBM] [Warning] feature_fraction is set=0.7698606143353843, colsample_bytree=1.0 will be ignored. Current value: feature_fraction=0.7698606143353843\n",
      "[LightGBM] [Warning] bagging_fraction is set=0.8695690383435876, subsample=1.0 will be ignored. Current value: bagging_fraction=0.8695690383435876\n",
      "[LightGBM] [Warning] lambda_l2 is set=0.012791850966944924, reg_lambda=0.0 will be ignored. Current value: lambda_l2=0.012791850966944924\n",
      "[LightGBM] [Warning] lambda_l1 is set=1.8270468476213303e-05, reg_alpha=0.0 will be ignored. Current value: lambda_l1=1.8270468476213303e-05\n",
      "[LightGBM] [Warning] bagging_freq is set=2, subsample_freq=0 will be ignored. Current value: bagging_freq=2\n",
      "[LightGBM] [Warning] feature_fraction is set=0.7698606143353843, colsample_bytree=1.0 will be ignored. Current value: feature_fraction=0.7698606143353843\n",
      "[LightGBM] [Warning] bagging_fraction is set=0.8695690383435876, subsample=1.0 will be ignored. Current value: bagging_fraction=0.8695690383435876\n",
      "[LightGBM] [Warning] lambda_l2 is set=0.012791850966944924, reg_lambda=0.0 will be ignored. Current value: lambda_l2=0.012791850966944924\n",
      "[LightGBM] [Warning] lambda_l1 is set=1.8270468476213303e-05, reg_alpha=0.0 will be ignored. Current value: lambda_l1=1.8270468476213303e-05\n",
      "[LightGBM] [Warning] bagging_freq is set=2, subsample_freq=0 will be ignored. Current value: bagging_freq=2\n",
      "[LightGBM] [Warning] feature_fraction is set=0.7698606143353843, colsample_bytree=1.0 will be ignored. Current value: feature_fraction=0.7698606143353843\n"
     ]
    },
    {
     "name": "stderr",
     "output_type": "stream",
     "text": [
      "\u001b[32m[I 2022-04-12 22:35:47,095]\u001b[0m Trial 5 finished with value: -0.20253670583254396 and parameters: {'learning_rate': 0.07992724445501892, 'lambda_l1': 1.8270468476213303e-05, 'lambda_l2': 0.012791850966944924, 'num_leaves': 28, 'feature_fraction': 0.7698606143353843, 'bagging_fraction': 0.8695690383435876, 'bagging_freq': 2, 'min_child_samples': 48}. Best is trial 5 with value: -0.20253670583254396.\u001b[0m\n",
      "/home/user/Documents/sf_project_6/venv/lib64/python3.10/site-packages/lightgbm/sklearn.py:598: UserWarning: 'silent' argument is deprecated and will be removed in a future release of LightGBM. Pass 'verbose' parameter via keyword arguments instead.\n",
      "  _log_warning(\"'silent' argument is deprecated and will be removed in a future release of LightGBM. \"\n",
      "/home/user/Documents/sf_project_6/venv/lib64/python3.10/site-packages/lightgbm/sklearn.py:598: UserWarning: 'silent' argument is deprecated and will be removed in a future release of LightGBM. Pass 'verbose' parameter via keyword arguments instead.\n",
      "  _log_warning(\"'silent' argument is deprecated and will be removed in a future release of LightGBM. \"\n",
      "/home/user/Documents/sf_project_6/venv/lib64/python3.10/site-packages/lightgbm/sklearn.py:598: UserWarning: 'silent' argument is deprecated and will be removed in a future release of LightGBM. Pass 'verbose' parameter via keyword arguments instead.\n",
      "  _log_warning(\"'silent' argument is deprecated and will be removed in a future release of LightGBM. \"\n",
      "/home/user/Documents/sf_project_6/venv/lib64/python3.10/site-packages/lightgbm/sklearn.py:598: UserWarning: 'silent' argument is deprecated and will be removed in a future release of LightGBM. Pass 'verbose' parameter via keyword arguments instead.\n",
      "  _log_warning(\"'silent' argument is deprecated and will be removed in a future release of LightGBM. \"\n",
      "/home/user/Documents/sf_project_6/venv/lib64/python3.10/site-packages/lightgbm/sklearn.py:598: UserWarning: 'silent' argument is deprecated and will be removed in a future release of LightGBM. Pass 'verbose' parameter via keyword arguments instead.\n",
      "  _log_warning(\"'silent' argument is deprecated and will be removed in a future release of LightGBM. \"\n",
      "/home/user/Documents/sf_project_6/venv/lib64/python3.10/site-packages/lightgbm/sklearn.py:598: UserWarning: 'silent' argument is deprecated and will be removed in a future release of LightGBM. Pass 'verbose' parameter via keyword arguments instead.\n",
      "  _log_warning(\"'silent' argument is deprecated and will be removed in a future release of LightGBM. \"\n",
      "/home/user/Documents/sf_project_6/venv/lib64/python3.10/site-packages/lightgbm/sklearn.py:598: UserWarning: 'silent' argument is deprecated and will be removed in a future release of LightGBM. Pass 'verbose' parameter via keyword arguments instead.\n",
      "  _log_warning(\"'silent' argument is deprecated and will be removed in a future release of LightGBM. \"\n",
      "/home/user/Documents/sf_project_6/venv/lib64/python3.10/site-packages/lightgbm/sklearn.py:598: UserWarning: 'silent' argument is deprecated and will be removed in a future release of LightGBM. Pass 'verbose' parameter via keyword arguments instead.\n",
      "  _log_warning(\"'silent' argument is deprecated and will be removed in a future release of LightGBM. \"\n"
     ]
    },
    {
     "name": "stdout",
     "output_type": "stream",
     "text": [
      "[LightGBM] [Warning] bagging_fraction is set=0.6079090066839168, subsample=1.0 will be ignored. Current value: bagging_fraction=0.6079090066839168\n",
      "[LightGBM] [Warning] lambda_l2 is set=1.9963207632140944e-05, reg_lambda=0.0 will be ignored. Current value: lambda_l2=1.9963207632140944e-05\n",
      "[LightGBM] [Warning] lambda_l1 is set=7.552664420954056e-07, reg_alpha=0.0 will be ignored. Current value: lambda_l1=7.552664420954056e-07\n",
      "[LightGBM] [Warning] bagging_freq is set=1, subsample_freq=0 will be ignored. Current value: bagging_freq=1\n",
      "[LightGBM] [Warning] feature_fraction is set=0.7340966128567723, colsample_bytree=1.0 will be ignored. Current value: feature_fraction=0.7340966128567723\n",
      "[LightGBM] [Warning] bagging_fraction is set=0.6079090066839168, subsample=1.0 will be ignored. Current value: bagging_fraction=0.6079090066839168\n",
      "[LightGBM] [Warning] lambda_l2 is set=1.9963207632140944e-05, reg_lambda=0.0 will be ignored. Current value: lambda_l2=1.9963207632140944e-05\n",
      "[LightGBM] [Warning] lambda_l1 is set=7.552664420954056e-07, reg_alpha=0.0 will be ignored. Current value: lambda_l1=7.552664420954056e-07\n",
      "[LightGBM] [Warning] bagging_freq is set=1, subsample_freq=0 will be ignored. Current value: bagging_freq=1\n",
      "[LightGBM] [Warning] feature_fraction is set=0.7340966128567723, colsample_bytree=1.0 will be ignored. Current value: feature_fraction=0.7340966128567723\n",
      "[LightGBM] [Warning] bagging_fraction is set=0.6079090066839168, subsample=1.0 will be ignored. Current value: bagging_fraction=0.6079090066839168\n",
      "[LightGBM] [Warning] lambda_l2 is set=1.9963207632140944e-05, reg_lambda=0.0 will be ignored. Current value: lambda_l2=1.9963207632140944e-05\n",
      "[LightGBM] [Warning] lambda_l1 is set=7.552664420954056e-07, reg_alpha=0.0 will be ignored. Current value: lambda_l1=7.552664420954056e-07\n",
      "[LightGBM] [Warning] bagging_freq is set=1, subsample_freq=0 will be ignored. Current value: bagging_freq=1\n",
      "[LightGBM] [Warning] feature_fraction is set=0.7340966128567723, colsample_bytree=1.0 will be ignored. Current value: feature_fraction=0.7340966128567723\n",
      "[LightGBM] [Warning] bagging_fraction is set=0.6079090066839168, subsample=1.0 will be ignored. Current value: bagging_fraction=0.6079090066839168\n",
      "[LightGBM] [Warning] lambda_l2 is set=1.9963207632140944e-05, reg_lambda=0.0 will be ignored. Current value: lambda_l2=1.9963207632140944e-05\n",
      "[LightGBM] [Warning] lambda_l1 is set=7.552664420954056e-07, reg_alpha=0.0 will be ignored. Current value: lambda_l1=7.552664420954056e-07\n",
      "[LightGBM] [Warning] bagging_freq is set=1, subsample_freq=0 will be ignored. Current value: bagging_freq=1\n",
      "[LightGBM] [Warning] feature_fraction is set=0.7340966128567723, colsample_bytree=1.0 will be ignored. Current value: feature_fraction=0.7340966128567723\n",
      "[LightGBM] [Warning] bagging_fraction is set=0.6079090066839168, subsample=1.0 will be ignored. Current value: bagging_fraction=0.6079090066839168\n",
      "[LightGBM] [Warning] lambda_l2 is set=1.9963207632140944e-05, reg_lambda=0.0 will be ignored. Current value: lambda_l2=1.9963207632140944e-05\n",
      "[LightGBM] [Warning] lambda_l1 is set=7.552664420954056e-07, reg_alpha=0.0 will be ignored. Current value: lambda_l1=7.552664420954056e-07\n",
      "[LightGBM] [Warning] bagging_freq is set=1, subsample_freq=0 will be ignored. Current value: bagging_freq=1\n",
      "[LightGBM] [Warning] feature_fraction is set=0.7340966128567723, colsample_bytree=1.0 will be ignored. Current value: feature_fraction=0.7340966128567723\n",
      "[LightGBM] [Warning] bagging_fraction is set=0.6079090066839168, subsample=1.0 will be ignored. Current value: bagging_fraction=0.6079090066839168\n",
      "[LightGBM] [Warning] lambda_l2 is set=1.9963207632140944e-05, reg_lambda=0.0 will be ignored. Current value: lambda_l2=1.9963207632140944e-05\n",
      "[LightGBM] [Warning] lambda_l1 is set=7.552664420954056e-07, reg_alpha=0.0 will be ignored. Current value: lambda_l1=7.552664420954056e-07\n",
      "[LightGBM] [Warning] bagging_freq is set=1, subsample_freq=0 will be ignored. Current value: bagging_freq=1\n",
      "[LightGBM] [Warning] feature_fraction is set=0.7340966128567723, colsample_bytree=1.0 will be ignored. Current value: feature_fraction=0.7340966128567723\n",
      "[LightGBM] [Warning] bagging_fraction is set=0.6079090066839168, subsample=1.0 will be ignored. Current value: bagging_fraction=0.6079090066839168\n",
      "[LightGBM] [Warning] lambda_l2 is set=1.9963207632140944e-05, reg_lambda=0.0 will be ignored. Current value: lambda_l2=1.9963207632140944e-05\n",
      "[LightGBM] [Warning] lambda_l1 is set=7.552664420954056e-07, reg_alpha=0.0 will be ignored. Current value: lambda_l1=7.552664420954056e-07\n",
      "[LightGBM] [Warning] bagging_freq is set=1, subsample_freq=0 will be ignored. Current value: bagging_freq=1\n",
      "[LightGBM] [Warning] feature_fraction is set=0.7340966128567723, colsample_bytree=1.0 will be ignored. Current value: feature_fraction=0.7340966128567723\n",
      "[LightGBM] [Warning] bagging_fraction is set=0.6079090066839168, subsample=1.0 will be ignored. Current value: bagging_fraction=0.6079090066839168\n",
      "[LightGBM] [Warning] lambda_l2 is set=1.9963207632140944e-05, reg_lambda=0.0 will be ignored. Current value: lambda_l2=1.9963207632140944e-05\n",
      "[LightGBM] [Warning] lambda_l1 is set=7.552664420954056e-07, reg_alpha=0.0 will be ignored. Current value: lambda_l1=7.552664420954056e-07\n",
      "[LightGBM] [Warning] bagging_freq is set=1, subsample_freq=0 will be ignored. Current value: bagging_freq=1\n",
      "[LightGBM] [Warning] feature_fraction is set=0.7340966128567723, colsample_bytree=1.0 will be ignored. Current value: feature_fraction=0.7340966128567723\n"
     ]
    },
    {
     "name": "stderr",
     "output_type": "stream",
     "text": [
      "\u001b[32m[I 2022-04-12 22:35:59,590]\u001b[0m Trial 6 finished with value: -0.257565168367874 and parameters: {'learning_rate': 0.744263685304623, 'lambda_l1': 7.552664420954056e-07, 'lambda_l2': 1.9963207632140944e-05, 'num_leaves': 201, 'feature_fraction': 0.7340966128567723, 'bagging_fraction': 0.6079090066839168, 'bagging_freq': 1, 'min_child_samples': 52}. Best is trial 5 with value: -0.20253670583254396.\u001b[0m\n",
      "/home/user/Documents/sf_project_6/venv/lib64/python3.10/site-packages/lightgbm/sklearn.py:598: UserWarning: 'silent' argument is deprecated and will be removed in a future release of LightGBM. Pass 'verbose' parameter via keyword arguments instead.\n",
      "  _log_warning(\"'silent' argument is deprecated and will be removed in a future release of LightGBM. \"\n",
      "/home/user/Documents/sf_project_6/venv/lib64/python3.10/site-packages/lightgbm/sklearn.py:598: UserWarning: 'silent' argument is deprecated and will be removed in a future release of LightGBM. Pass 'verbose' parameter via keyword arguments instead.\n",
      "  _log_warning(\"'silent' argument is deprecated and will be removed in a future release of LightGBM. \"\n",
      "/home/user/Documents/sf_project_6/venv/lib64/python3.10/site-packages/lightgbm/sklearn.py:598: UserWarning: 'silent' argument is deprecated and will be removed in a future release of LightGBM. Pass 'verbose' parameter via keyword arguments instead.\n",
      "  _log_warning(\"'silent' argument is deprecated and will be removed in a future release of LightGBM. \"\n",
      "/home/user/Documents/sf_project_6/venv/lib64/python3.10/site-packages/lightgbm/sklearn.py:598: UserWarning: 'silent' argument is deprecated and will be removed in a future release of LightGBM. Pass 'verbose' parameter via keyword arguments instead.\n",
      "  _log_warning(\"'silent' argument is deprecated and will be removed in a future release of LightGBM. \"\n",
      "/home/user/Documents/sf_project_6/venv/lib64/python3.10/site-packages/lightgbm/sklearn.py:598: UserWarning: 'silent' argument is deprecated and will be removed in a future release of LightGBM. Pass 'verbose' parameter via keyword arguments instead.\n",
      "  _log_warning(\"'silent' argument is deprecated and will be removed in a future release of LightGBM. \"\n",
      "/home/user/Documents/sf_project_6/venv/lib64/python3.10/site-packages/lightgbm/sklearn.py:598: UserWarning: 'silent' argument is deprecated and will be removed in a future release of LightGBM. Pass 'verbose' parameter via keyword arguments instead.\n",
      "  _log_warning(\"'silent' argument is deprecated and will be removed in a future release of LightGBM. \"\n",
      "/home/user/Documents/sf_project_6/venv/lib64/python3.10/site-packages/lightgbm/sklearn.py:598: UserWarning: 'silent' argument is deprecated and will be removed in a future release of LightGBM. Pass 'verbose' parameter via keyword arguments instead.\n",
      "  _log_warning(\"'silent' argument is deprecated and will be removed in a future release of LightGBM. \"\n",
      "/home/user/Documents/sf_project_6/venv/lib64/python3.10/site-packages/lightgbm/sklearn.py:598: UserWarning: 'silent' argument is deprecated and will be removed in a future release of LightGBM. Pass 'verbose' parameter via keyword arguments instead.\n",
      "  _log_warning(\"'silent' argument is deprecated and will be removed in a future release of LightGBM. \"\n"
     ]
    },
    {
     "name": "stdout",
     "output_type": "stream",
     "text": [
      "[LightGBM] [Warning] bagging_fraction is set=0.6354145080468188, subsample=1.0 will be ignored. Current value: bagging_fraction=0.6354145080468188\n",
      "[LightGBM] [Warning] lambda_l2 is set=0.49107163604631077, reg_lambda=0.0 will be ignored. Current value: lambda_l2=0.49107163604631077\n",
      "[LightGBM] [Warning] lambda_l1 is set=5.529044942764546e-08, reg_alpha=0.0 will be ignored. Current value: lambda_l1=5.529044942764546e-08\n",
      "[LightGBM] [Warning] bagging_freq is set=3, subsample_freq=0 will be ignored. Current value: bagging_freq=3\n",
      "[LightGBM] [Warning] feature_fraction is set=0.5426396065593337, colsample_bytree=1.0 will be ignored. Current value: feature_fraction=0.5426396065593337\n",
      "[LightGBM] [Warning] bagging_fraction is set=0.6354145080468188, subsample=1.0 will be ignored. Current value: bagging_fraction=0.6354145080468188\n",
      "[LightGBM] [Warning] lambda_l2 is set=0.49107163604631077, reg_lambda=0.0 will be ignored. Current value: lambda_l2=0.49107163604631077\n",
      "[LightGBM] [Warning] lambda_l1 is set=5.529044942764546e-08, reg_alpha=0.0 will be ignored. Current value: lambda_l1=5.529044942764546e-08\n",
      "[LightGBM] [Warning] bagging_freq is set=3, subsample_freq=0 will be ignored. Current value: bagging_freq=3\n",
      "[LightGBM] [Warning] feature_fraction is set=0.5426396065593337, colsample_bytree=1.0 will be ignored. Current value: feature_fraction=0.5426396065593337\n",
      "[LightGBM] [Warning] bagging_fraction is set=0.6354145080468188, subsample=1.0 will be ignored. Current value: bagging_fraction=0.6354145080468188\n",
      "[LightGBM] [Warning] lambda_l2 is set=0.49107163604631077, reg_lambda=0.0 will be ignored. Current value: lambda_l2=0.49107163604631077\n",
      "[LightGBM] [Warning] lambda_l1 is set=5.529044942764546e-08, reg_alpha=0.0 will be ignored. Current value: lambda_l1=5.529044942764546e-08\n",
      "[LightGBM] [Warning] bagging_freq is set=3, subsample_freq=0 will be ignored. Current value: bagging_freq=3\n",
      "[LightGBM] [Warning] feature_fraction is set=0.5426396065593337, colsample_bytree=1.0 will be ignored. Current value: feature_fraction=0.5426396065593337\n",
      "[LightGBM] [Warning] bagging_fraction is set=0.6354145080468188, subsample=1.0 will be ignored. Current value: bagging_fraction=0.6354145080468188\n",
      "[LightGBM] [Warning] lambda_l2 is set=0.49107163604631077, reg_lambda=0.0 will be ignored. Current value: lambda_l2=0.49107163604631077\n",
      "[LightGBM] [Warning] lambda_l1 is set=5.529044942764546e-08, reg_alpha=0.0 will be ignored. Current value: lambda_l1=5.529044942764546e-08\n",
      "[LightGBM] [Warning] bagging_freq is set=3, subsample_freq=0 will be ignored. Current value: bagging_freq=3\n",
      "[LightGBM] [Warning] feature_fraction is set=0.5426396065593337, colsample_bytree=1.0 will be ignored. Current value: feature_fraction=0.5426396065593337\n",
      "[LightGBM] [Warning] bagging_fraction is set=0.6354145080468188, subsample=1.0 will be ignored. Current value: bagging_fraction=0.6354145080468188\n",
      "[LightGBM] [Warning] lambda_l2 is set=0.49107163604631077, reg_lambda=0.0 will be ignored. Current value: lambda_l2=0.49107163604631077\n",
      "[LightGBM] [Warning] lambda_l1 is set=5.529044942764546e-08, reg_alpha=0.0 will be ignored. Current value: lambda_l1=5.529044942764546e-08\n",
      "[LightGBM] [Warning] bagging_freq is set=3, subsample_freq=0 will be ignored. Current value: bagging_freq=3\n",
      "[LightGBM] [Warning] feature_fraction is set=0.5426396065593337, colsample_bytree=1.0 will be ignored. Current value: feature_fraction=0.5426396065593337\n",
      "[LightGBM] [Warning] bagging_fraction is set=0.6354145080468188, subsample=1.0 will be ignored. Current value: bagging_fraction=0.6354145080468188\n",
      "[LightGBM] [Warning] lambda_l2 is set=0.49107163604631077, reg_lambda=0.0 will be ignored. Current value: lambda_l2=0.49107163604631077\n",
      "[LightGBM] [Warning] lambda_l1 is set=5.529044942764546e-08, reg_alpha=0.0 will be ignored. Current value: lambda_l1=5.529044942764546e-08\n",
      "[LightGBM] [Warning] bagging_freq is set=3, subsample_freq=0 will be ignored. Current value: bagging_freq=3\n",
      "[LightGBM] [Warning] feature_fraction is set=0.5426396065593337, colsample_bytree=1.0 will be ignored. Current value: feature_fraction=0.5426396065593337\n",
      "[LightGBM] [Warning] bagging_fraction is set=0.6354145080468188, subsample=1.0 will be ignored. Current value: bagging_fraction=0.6354145080468188\n",
      "[LightGBM] [Warning] lambda_l2 is set=0.49107163604631077, reg_lambda=0.0 will be ignored. Current value: lambda_l2=0.49107163604631077\n",
      "[LightGBM] [Warning] lambda_l1 is set=5.529044942764546e-08, reg_alpha=0.0 will be ignored. Current value: lambda_l1=5.529044942764546e-08\n",
      "[LightGBM] [Warning] bagging_freq is set=3, subsample_freq=0 will be ignored. Current value: bagging_freq=3\n",
      "[LightGBM] [Warning] feature_fraction is set=0.5426396065593337, colsample_bytree=1.0 will be ignored. Current value: feature_fraction=0.5426396065593337\n",
      "[LightGBM] [Warning] bagging_fraction is set=0.6354145080468188, subsample=1.0 will be ignored. Current value: bagging_fraction=0.6354145080468188\n",
      "[LightGBM] [Warning] lambda_l2 is set=0.49107163604631077, reg_lambda=0.0 will be ignored. Current value: lambda_l2=0.49107163604631077\n",
      "[LightGBM] [Warning] lambda_l1 is set=5.529044942764546e-08, reg_alpha=0.0 will be ignored. Current value: lambda_l1=5.529044942764546e-08\n",
      "[LightGBM] [Warning] bagging_freq is set=3, subsample_freq=0 will be ignored. Current value: bagging_freq=3\n",
      "[LightGBM] [Warning] feature_fraction is set=0.5426396065593337, colsample_bytree=1.0 will be ignored. Current value: feature_fraction=0.5426396065593337\n"
     ]
    },
    {
     "name": "stderr",
     "output_type": "stream",
     "text": [
      "\u001b[32m[I 2022-04-12 22:36:08,280]\u001b[0m Trial 7 finished with value: -0.1745456552518454 and parameters: {'learning_rate': 0.4216546930140595, 'lambda_l1': 5.529044942764546e-08, 'lambda_l2': 0.49107163604631077, 'num_leaves': 142, 'feature_fraction': 0.5426396065593337, 'bagging_fraction': 0.6354145080468188, 'bagging_freq': 3, 'min_child_samples': 12}. Best is trial 7 with value: -0.1745456552518454.\u001b[0m\n",
      "/home/user/Documents/sf_project_6/venv/lib64/python3.10/site-packages/lightgbm/sklearn.py:598: UserWarning: 'silent' argument is deprecated and will be removed in a future release of LightGBM. Pass 'verbose' parameter via keyword arguments instead.\n",
      "  _log_warning(\"'silent' argument is deprecated and will be removed in a future release of LightGBM. \"\n",
      "/home/user/Documents/sf_project_6/venv/lib64/python3.10/site-packages/lightgbm/sklearn.py:598: UserWarning: 'silent' argument is deprecated and will be removed in a future release of LightGBM. Pass 'verbose' parameter via keyword arguments instead.\n",
      "  _log_warning(\"'silent' argument is deprecated and will be removed in a future release of LightGBM. \"\n",
      "/home/user/Documents/sf_project_6/venv/lib64/python3.10/site-packages/lightgbm/sklearn.py:598: UserWarning: 'silent' argument is deprecated and will be removed in a future release of LightGBM. Pass 'verbose' parameter via keyword arguments instead.\n",
      "  _log_warning(\"'silent' argument is deprecated and will be removed in a future release of LightGBM. \"\n",
      "/home/user/Documents/sf_project_6/venv/lib64/python3.10/site-packages/lightgbm/sklearn.py:598: UserWarning: 'silent' argument is deprecated and will be removed in a future release of LightGBM. Pass 'verbose' parameter via keyword arguments instead.\n",
      "  _log_warning(\"'silent' argument is deprecated and will be removed in a future release of LightGBM. \"\n",
      "/home/user/Documents/sf_project_6/venv/lib64/python3.10/site-packages/lightgbm/sklearn.py:598: UserWarning: 'silent' argument is deprecated and will be removed in a future release of LightGBM. Pass 'verbose' parameter via keyword arguments instead.\n",
      "  _log_warning(\"'silent' argument is deprecated and will be removed in a future release of LightGBM. \"\n",
      "/home/user/Documents/sf_project_6/venv/lib64/python3.10/site-packages/lightgbm/sklearn.py:598: UserWarning: 'silent' argument is deprecated and will be removed in a future release of LightGBM. Pass 'verbose' parameter via keyword arguments instead.\n",
      "  _log_warning(\"'silent' argument is deprecated and will be removed in a future release of LightGBM. \"\n",
      "/home/user/Documents/sf_project_6/venv/lib64/python3.10/site-packages/lightgbm/sklearn.py:598: UserWarning: 'silent' argument is deprecated and will be removed in a future release of LightGBM. Pass 'verbose' parameter via keyword arguments instead.\n",
      "  _log_warning(\"'silent' argument is deprecated and will be removed in a future release of LightGBM. \"\n",
      "/home/user/Documents/sf_project_6/venv/lib64/python3.10/site-packages/lightgbm/sklearn.py:598: UserWarning: 'silent' argument is deprecated and will be removed in a future release of LightGBM. Pass 'verbose' parameter via keyword arguments instead.\n",
      "  _log_warning(\"'silent' argument is deprecated and will be removed in a future release of LightGBM. \"\n"
     ]
    },
    {
     "name": "stdout",
     "output_type": "stream",
     "text": [
      "[LightGBM] [Warning] bagging_fraction is set=0.6779233529792716, subsample=1.0 will be ignored. Current value: bagging_fraction=0.6779233529792716\n",
      "[LightGBM] [Warning] lambda_l2 is set=3.9449322532268776e-08, reg_lambda=0.0 will be ignored. Current value: lambda_l2=3.9449322532268776e-08\n",
      "[LightGBM] [Warning] lambda_l1 is set=5.858478690290897e-06, reg_alpha=0.0 will be ignored. Current value: lambda_l1=5.858478690290897e-06\n",
      "[LightGBM] [Warning] bagging_freq is set=4, subsample_freq=0 will be ignored. Current value: bagging_freq=4\n",
      "[LightGBM] [Warning] feature_fraction is set=0.679286165875125, colsample_bytree=1.0 will be ignored. Current value: feature_fraction=0.679286165875125\n",
      "[LightGBM] [Warning] bagging_fraction is set=0.6779233529792716, subsample=1.0 will be ignored. Current value: bagging_fraction=0.6779233529792716\n",
      "[LightGBM] [Warning] lambda_l2 is set=3.9449322532268776e-08, reg_lambda=0.0 will be ignored. Current value: lambda_l2=3.9449322532268776e-08\n",
      "[LightGBM] [Warning] lambda_l1 is set=5.858478690290897e-06, reg_alpha=0.0 will be ignored. Current value: lambda_l1=5.858478690290897e-06\n",
      "[LightGBM] [Warning] bagging_freq is set=4, subsample_freq=0 will be ignored. Current value: bagging_freq=4\n",
      "[LightGBM] [Warning] feature_fraction is set=0.679286165875125, colsample_bytree=1.0 will be ignored. Current value: feature_fraction=0.679286165875125\n",
      "[LightGBM] [Warning] bagging_fraction is set=0.6779233529792716, subsample=1.0 will be ignored. Current value: bagging_fraction=0.6779233529792716\n",
      "[LightGBM] [Warning] lambda_l2 is set=3.9449322532268776e-08, reg_lambda=0.0 will be ignored. Current value: lambda_l2=3.9449322532268776e-08\n",
      "[LightGBM] [Warning] lambda_l1 is set=5.858478690290897e-06, reg_alpha=0.0 will be ignored. Current value: lambda_l1=5.858478690290897e-06\n",
      "[LightGBM] [Warning] bagging_freq is set=4, subsample_freq=0 will be ignored. Current value: bagging_freq=4\n",
      "[LightGBM] [Warning] feature_fraction is set=0.679286165875125, colsample_bytree=1.0 will be ignored. Current value: feature_fraction=0.679286165875125\n",
      "[LightGBM] [Warning] bagging_fraction is set=0.6779233529792716, subsample=1.0 will be ignored. Current value: bagging_fraction=0.6779233529792716\n",
      "[LightGBM] [Warning] lambda_l2 is set=3.9449322532268776e-08, reg_lambda=0.0 will be ignored. Current value: lambda_l2=3.9449322532268776e-08\n",
      "[LightGBM] [Warning] lambda_l1 is set=5.858478690290897e-06, reg_alpha=0.0 will be ignored. Current value: lambda_l1=5.858478690290897e-06\n",
      "[LightGBM] [Warning] bagging_freq is set=4, subsample_freq=0 will be ignored. Current value: bagging_freq=4\n",
      "[LightGBM] [Warning] feature_fraction is set=0.679286165875125, colsample_bytree=1.0 will be ignored. Current value: feature_fraction=0.679286165875125\n",
      "[LightGBM] [Warning] bagging_fraction is set=0.6779233529792716, subsample=1.0 will be ignored. Current value: bagging_fraction=0.6779233529792716\n",
      "[LightGBM] [Warning] lambda_l2 is set=3.9449322532268776e-08, reg_lambda=0.0 will be ignored. Current value: lambda_l2=3.9449322532268776e-08\n",
      "[LightGBM] [Warning] lambda_l1 is set=5.858478690290897e-06, reg_alpha=0.0 will be ignored. Current value: lambda_l1=5.858478690290897e-06\n",
      "[LightGBM] [Warning] bagging_freq is set=4, subsample_freq=0 will be ignored. Current value: bagging_freq=4\n",
      "[LightGBM] [Warning] feature_fraction is set=0.679286165875125, colsample_bytree=1.0 will be ignored. Current value: feature_fraction=0.679286165875125\n",
      "[LightGBM] [Warning] bagging_fraction is set=0.6779233529792716, subsample=1.0 will be ignored. Current value: bagging_fraction=0.6779233529792716\n",
      "[LightGBM] [Warning] lambda_l2 is set=3.9449322532268776e-08, reg_lambda=0.0 will be ignored. Current value: lambda_l2=3.9449322532268776e-08\n",
      "[LightGBM] [Warning] lambda_l1 is set=5.858478690290897e-06, reg_alpha=0.0 will be ignored. Current value: lambda_l1=5.858478690290897e-06\n",
      "[LightGBM] [Warning] bagging_freq is set=4, subsample_freq=0 will be ignored. Current value: bagging_freq=4\n",
      "[LightGBM] [Warning] feature_fraction is set=0.679286165875125, colsample_bytree=1.0 will be ignored. Current value: feature_fraction=0.679286165875125\n",
      "[LightGBM] [Warning] bagging_fraction is set=0.6779233529792716, subsample=1.0 will be ignored. Current value: bagging_fraction=0.6779233529792716\n",
      "[LightGBM] [Warning] lambda_l2 is set=3.9449322532268776e-08, reg_lambda=0.0 will be ignored. Current value: lambda_l2=3.9449322532268776e-08\n",
      "[LightGBM] [Warning] lambda_l1 is set=5.858478690290897e-06, reg_alpha=0.0 will be ignored. Current value: lambda_l1=5.858478690290897e-06\n",
      "[LightGBM] [Warning] bagging_freq is set=4, subsample_freq=0 will be ignored. Current value: bagging_freq=4\n",
      "[LightGBM] [Warning] feature_fraction is set=0.679286165875125, colsample_bytree=1.0 will be ignored. Current value: feature_fraction=0.679286165875125\n",
      "[LightGBM] [Warning] bagging_fraction is set=0.6779233529792716, subsample=1.0 will be ignored. Current value: bagging_fraction=0.6779233529792716\n",
      "[LightGBM] [Warning] lambda_l2 is set=3.9449322532268776e-08, reg_lambda=0.0 will be ignored. Current value: lambda_l2=3.9449322532268776e-08\n",
      "[LightGBM] [Warning] lambda_l1 is set=5.858478690290897e-06, reg_alpha=0.0 will be ignored. Current value: lambda_l1=5.858478690290897e-06\n",
      "[LightGBM] [Warning] bagging_freq is set=4, subsample_freq=0 will be ignored. Current value: bagging_freq=4\n",
      "[LightGBM] [Warning] feature_fraction is set=0.679286165875125, colsample_bytree=1.0 will be ignored. Current value: feature_fraction=0.679286165875125\n"
     ]
    },
    {
     "name": "stderr",
     "output_type": "stream",
     "text": [
      "\u001b[32m[I 2022-04-12 22:36:18,834]\u001b[0m Trial 8 finished with value: -0.2432717613049581 and parameters: {'learning_rate': 0.7172956964597691, 'lambda_l1': 5.858478690290897e-06, 'lambda_l2': 3.9449322532268776e-08, 'num_leaves': 154, 'feature_fraction': 0.679286165875125, 'bagging_fraction': 0.6779233529792716, 'bagging_freq': 4, 'min_child_samples': 70}. Best is trial 7 with value: -0.1745456552518454.\u001b[0m\n",
      "/home/user/Documents/sf_project_6/venv/lib64/python3.10/site-packages/lightgbm/sklearn.py:598: UserWarning: 'silent' argument is deprecated and will be removed in a future release of LightGBM. Pass 'verbose' parameter via keyword arguments instead.\n",
      "  _log_warning(\"'silent' argument is deprecated and will be removed in a future release of LightGBM. \"\n",
      "/home/user/Documents/sf_project_6/venv/lib64/python3.10/site-packages/lightgbm/sklearn.py:598: UserWarning: 'silent' argument is deprecated and will be removed in a future release of LightGBM. Pass 'verbose' parameter via keyword arguments instead.\n",
      "  _log_warning(\"'silent' argument is deprecated and will be removed in a future release of LightGBM. \"\n",
      "/home/user/Documents/sf_project_6/venv/lib64/python3.10/site-packages/lightgbm/sklearn.py:598: UserWarning: 'silent' argument is deprecated and will be removed in a future release of LightGBM. Pass 'verbose' parameter via keyword arguments instead.\n",
      "  _log_warning(\"'silent' argument is deprecated and will be removed in a future release of LightGBM. \"\n",
      "/home/user/Documents/sf_project_6/venv/lib64/python3.10/site-packages/lightgbm/sklearn.py:598: UserWarning: 'silent' argument is deprecated and will be removed in a future release of LightGBM. Pass 'verbose' parameter via keyword arguments instead.\n",
      "  _log_warning(\"'silent' argument is deprecated and will be removed in a future release of LightGBM. \"\n",
      "/home/user/Documents/sf_project_6/venv/lib64/python3.10/site-packages/lightgbm/sklearn.py:598: UserWarning: 'silent' argument is deprecated and will be removed in a future release of LightGBM. Pass 'verbose' parameter via keyword arguments instead.\n",
      "  _log_warning(\"'silent' argument is deprecated and will be removed in a future release of LightGBM. \"\n",
      "/home/user/Documents/sf_project_6/venv/lib64/python3.10/site-packages/lightgbm/sklearn.py:598: UserWarning: 'silent' argument is deprecated and will be removed in a future release of LightGBM. Pass 'verbose' parameter via keyword arguments instead.\n",
      "  _log_warning(\"'silent' argument is deprecated and will be removed in a future release of LightGBM. \"\n",
      "/home/user/Documents/sf_project_6/venv/lib64/python3.10/site-packages/lightgbm/sklearn.py:598: UserWarning: 'silent' argument is deprecated and will be removed in a future release of LightGBM. Pass 'verbose' parameter via keyword arguments instead.\n",
      "  _log_warning(\"'silent' argument is deprecated and will be removed in a future release of LightGBM. \"\n",
      "/home/user/Documents/sf_project_6/venv/lib64/python3.10/site-packages/lightgbm/sklearn.py:598: UserWarning: 'silent' argument is deprecated and will be removed in a future release of LightGBM. Pass 'verbose' parameter via keyword arguments instead.\n",
      "  _log_warning(\"'silent' argument is deprecated and will be removed in a future release of LightGBM. \"\n"
     ]
    },
    {
     "name": "stdout",
     "output_type": "stream",
     "text": [
      "[LightGBM] [Warning] bagging_fraction is set=0.9079273070338828, subsample=1.0 will be ignored. Current value: bagging_fraction=0.9079273070338828\n",
      "[LightGBM] [Warning] lambda_l2 is set=1.4991431139899208e-08, reg_lambda=0.0 will be ignored. Current value: lambda_l2=1.4991431139899208e-08\n",
      "[LightGBM] [Warning] lambda_l1 is set=0.0007127314011370048, reg_alpha=0.0 will be ignored. Current value: lambda_l1=0.0007127314011370048\n",
      "[LightGBM] [Warning] bagging_freq is set=4, subsample_freq=0 will be ignored. Current value: bagging_freq=4\n",
      "[LightGBM] [Warning] feature_fraction is set=0.716472706585253, colsample_bytree=1.0 will be ignored. Current value: feature_fraction=0.716472706585253\n",
      "[LightGBM] [Warning] bagging_fraction is set=0.9079273070338828, subsample=1.0 will be ignored. Current value: bagging_fraction=0.9079273070338828\n",
      "[LightGBM] [Warning] lambda_l2 is set=1.4991431139899208e-08, reg_lambda=0.0 will be ignored. Current value: lambda_l2=1.4991431139899208e-08\n",
      "[LightGBM] [Warning] lambda_l1 is set=0.0007127314011370048, reg_alpha=0.0 will be ignored. Current value: lambda_l1=0.0007127314011370048\n",
      "[LightGBM] [Warning] bagging_freq is set=4, subsample_freq=0 will be ignored. Current value: bagging_freq=4\n",
      "[LightGBM] [Warning] feature_fraction is set=0.716472706585253, colsample_bytree=1.0 will be ignored. Current value: feature_fraction=0.716472706585253\n",
      "[LightGBM] [Warning] bagging_fraction is set=0.9079273070338828, subsample=1.0 will be ignored. Current value: bagging_fraction=0.9079273070338828\n",
      "[LightGBM] [Warning] lambda_l2 is set=1.4991431139899208e-08, reg_lambda=0.0 will be ignored. Current value: lambda_l2=1.4991431139899208e-08\n",
      "[LightGBM] [Warning] lambda_l1 is set=0.0007127314011370048, reg_alpha=0.0 will be ignored. Current value: lambda_l1=0.0007127314011370048\n",
      "[LightGBM] [Warning] bagging_freq is set=4, subsample_freq=0 will be ignored. Current value: bagging_freq=4\n",
      "[LightGBM] [Warning] feature_fraction is set=0.716472706585253, colsample_bytree=1.0 will be ignored. Current value: feature_fraction=0.716472706585253\n",
      "[LightGBM] [Warning] bagging_fraction is set=0.9079273070338828, subsample=1.0 will be ignored. Current value: bagging_fraction=0.9079273070338828\n",
      "[LightGBM] [Warning] lambda_l2 is set=1.4991431139899208e-08, reg_lambda=0.0 will be ignored. Current value: lambda_l2=1.4991431139899208e-08\n",
      "[LightGBM] [Warning] lambda_l1 is set=0.0007127314011370048, reg_alpha=0.0 will be ignored. Current value: lambda_l1=0.0007127314011370048\n",
      "[LightGBM] [Warning] bagging_freq is set=4, subsample_freq=0 will be ignored. Current value: bagging_freq=4\n",
      "[LightGBM] [Warning] feature_fraction is set=0.716472706585253, colsample_bytree=1.0 will be ignored. Current value: feature_fraction=0.716472706585253\n",
      "[LightGBM] [Warning] bagging_fraction is set=0.9079273070338828, subsample=1.0 will be ignored. Current value: bagging_fraction=0.9079273070338828\n",
      "[LightGBM] [Warning] lambda_l2 is set=1.4991431139899208e-08, reg_lambda=0.0 will be ignored. Current value: lambda_l2=1.4991431139899208e-08\n",
      "[LightGBM] [Warning] lambda_l1 is set=0.0007127314011370048, reg_alpha=0.0 will be ignored. Current value: lambda_l1=0.0007127314011370048\n",
      "[LightGBM] [Warning] bagging_freq is set=4, subsample_freq=0 will be ignored. Current value: bagging_freq=4\n",
      "[LightGBM] [Warning] feature_fraction is set=0.716472706585253, colsample_bytree=1.0 will be ignored. Current value: feature_fraction=0.716472706585253\n",
      "[LightGBM] [Warning] bagging_fraction is set=0.9079273070338828, subsample=1.0 will be ignored. Current value: bagging_fraction=0.9079273070338828\n",
      "[LightGBM] [Warning] lambda_l2 is set=1.4991431139899208e-08, reg_lambda=0.0 will be ignored. Current value: lambda_l2=1.4991431139899208e-08\n",
      "[LightGBM] [Warning] lambda_l1 is set=0.0007127314011370048, reg_alpha=0.0 will be ignored. Current value: lambda_l1=0.0007127314011370048\n",
      "[LightGBM] [Warning] bagging_freq is set=4, subsample_freq=0 will be ignored. Current value: bagging_freq=4\n",
      "[LightGBM] [Warning] feature_fraction is set=0.716472706585253, colsample_bytree=1.0 will be ignored. Current value: feature_fraction=0.716472706585253\n",
      "[LightGBM] [Warning] bagging_fraction is set=0.9079273070338828, subsample=1.0 will be ignored. Current value: bagging_fraction=0.9079273070338828\n",
      "[LightGBM] [Warning] lambda_l2 is set=1.4991431139899208e-08, reg_lambda=0.0 will be ignored. Current value: lambda_l2=1.4991431139899208e-08\n",
      "[LightGBM] [Warning] lambda_l1 is set=0.0007127314011370048, reg_alpha=0.0 will be ignored. Current value: lambda_l1=0.0007127314011370048\n",
      "[LightGBM] [Warning] bagging_freq is set=4, subsample_freq=0 will be ignored. Current value: bagging_freq=4\n",
      "[LightGBM] [Warning] feature_fraction is set=0.716472706585253, colsample_bytree=1.0 will be ignored. Current value: feature_fraction=0.716472706585253\n",
      "[LightGBM] [Warning] bagging_fraction is set=0.9079273070338828, subsample=1.0 will be ignored. Current value: bagging_fraction=0.9079273070338828\n",
      "[LightGBM] [Warning] lambda_l2 is set=1.4991431139899208e-08, reg_lambda=0.0 will be ignored. Current value: lambda_l2=1.4991431139899208e-08\n",
      "[LightGBM] [Warning] lambda_l1 is set=0.0007127314011370048, reg_alpha=0.0 will be ignored. Current value: lambda_l1=0.0007127314011370048\n",
      "[LightGBM] [Warning] bagging_freq is set=4, subsample_freq=0 will be ignored. Current value: bagging_freq=4\n",
      "[LightGBM] [Warning] feature_fraction is set=0.716472706585253, colsample_bytree=1.0 will be ignored. Current value: feature_fraction=0.716472706585253\n"
     ]
    },
    {
     "name": "stderr",
     "output_type": "stream",
     "text": [
      "\u001b[32m[I 2022-04-12 22:36:28,581]\u001b[0m Trial 9 finished with value: -0.1567960005144171 and parameters: {'learning_rate': 0.24273738931459424, 'lambda_l1': 0.0007127314011370048, 'lambda_l2': 1.4991431139899208e-08, 'num_leaves': 129, 'feature_fraction': 0.716472706585253, 'bagging_fraction': 0.9079273070338828, 'bagging_freq': 4, 'min_child_samples': 27}. Best is trial 9 with value: -0.1567960005144171.\u001b[0m\n",
      "/home/user/Documents/sf_project_6/venv/lib64/python3.10/site-packages/lightgbm/sklearn.py:598: UserWarning: 'silent' argument is deprecated and will be removed in a future release of LightGBM. Pass 'verbose' parameter via keyword arguments instead.\n",
      "  _log_warning(\"'silent' argument is deprecated and will be removed in a future release of LightGBM. \"\n",
      "/home/user/Documents/sf_project_6/venv/lib64/python3.10/site-packages/lightgbm/sklearn.py:598: UserWarning: 'silent' argument is deprecated and will be removed in a future release of LightGBM. Pass 'verbose' parameter via keyword arguments instead.\n",
      "  _log_warning(\"'silent' argument is deprecated and will be removed in a future release of LightGBM. \"\n",
      "/home/user/Documents/sf_project_6/venv/lib64/python3.10/site-packages/lightgbm/sklearn.py:598: UserWarning: 'silent' argument is deprecated and will be removed in a future release of LightGBM. Pass 'verbose' parameter via keyword arguments instead.\n",
      "  _log_warning(\"'silent' argument is deprecated and will be removed in a future release of LightGBM. \"\n",
      "/home/user/Documents/sf_project_6/venv/lib64/python3.10/site-packages/lightgbm/sklearn.py:598: UserWarning: 'silent' argument is deprecated and will be removed in a future release of LightGBM. Pass 'verbose' parameter via keyword arguments instead.\n",
      "  _log_warning(\"'silent' argument is deprecated and will be removed in a future release of LightGBM. \"\n",
      "/home/user/Documents/sf_project_6/venv/lib64/python3.10/site-packages/lightgbm/sklearn.py:598: UserWarning: 'silent' argument is deprecated and will be removed in a future release of LightGBM. Pass 'verbose' parameter via keyword arguments instead.\n",
      "  _log_warning(\"'silent' argument is deprecated and will be removed in a future release of LightGBM. \"\n",
      "/home/user/Documents/sf_project_6/venv/lib64/python3.10/site-packages/lightgbm/sklearn.py:598: UserWarning: 'silent' argument is deprecated and will be removed in a future release of LightGBM. Pass 'verbose' parameter via keyword arguments instead.\n",
      "  _log_warning(\"'silent' argument is deprecated and will be removed in a future release of LightGBM. \"\n",
      "/home/user/Documents/sf_project_6/venv/lib64/python3.10/site-packages/lightgbm/sklearn.py:598: UserWarning: 'silent' argument is deprecated and will be removed in a future release of LightGBM. Pass 'verbose' parameter via keyword arguments instead.\n",
      "  _log_warning(\"'silent' argument is deprecated and will be removed in a future release of LightGBM. \"\n",
      "/home/user/Documents/sf_project_6/venv/lib64/python3.10/site-packages/lightgbm/sklearn.py:598: UserWarning: 'silent' argument is deprecated and will be removed in a future release of LightGBM. Pass 'verbose' parameter via keyword arguments instead.\n",
      "  _log_warning(\"'silent' argument is deprecated and will be removed in a future release of LightGBM. \"\n"
     ]
    },
    {
     "name": "stdout",
     "output_type": "stream",
     "text": [
      "[LightGBM] [Warning] bagging_fraction is set=0.52462564650187, subsample=1.0 will be ignored. Current value: bagging_fraction=0.52462564650187\n",
      "[LightGBM] [Warning] lambda_l2 is set=0.00024184845376432643, reg_lambda=0.0 will be ignored. Current value: lambda_l2=0.00024184845376432643\n",
      "[LightGBM] [Warning] lambda_l1 is set=8.976874193475037e-05, reg_alpha=0.0 will be ignored. Current value: lambda_l1=8.976874193475037e-05\n",
      "[LightGBM] [Warning] bagging_freq is set=5, subsample_freq=0 will be ignored. Current value: bagging_freq=5\n",
      "[LightGBM] [Warning] feature_fraction is set=0.6342281343794924, colsample_bytree=1.0 will be ignored. Current value: feature_fraction=0.6342281343794924\n",
      "[LightGBM] [Warning] bagging_fraction is set=0.52462564650187, subsample=1.0 will be ignored. Current value: bagging_fraction=0.52462564650187\n",
      "[LightGBM] [Warning] lambda_l2 is set=0.00024184845376432643, reg_lambda=0.0 will be ignored. Current value: lambda_l2=0.00024184845376432643\n",
      "[LightGBM] [Warning] lambda_l1 is set=8.976874193475037e-05, reg_alpha=0.0 will be ignored. Current value: lambda_l1=8.976874193475037e-05\n",
      "[LightGBM] [Warning] bagging_freq is set=5, subsample_freq=0 will be ignored. Current value: bagging_freq=5\n",
      "[LightGBM] [Warning] feature_fraction is set=0.6342281343794924, colsample_bytree=1.0 will be ignored. Current value: feature_fraction=0.6342281343794924\n",
      "[LightGBM] [Warning] bagging_fraction is set=0.52462564650187, subsample=1.0 will be ignored. Current value: bagging_fraction=0.52462564650187\n",
      "[LightGBM] [Warning] lambda_l2 is set=0.00024184845376432643, reg_lambda=0.0 will be ignored. Current value: lambda_l2=0.00024184845376432643\n",
      "[LightGBM] [Warning] lambda_l1 is set=8.976874193475037e-05, reg_alpha=0.0 will be ignored. Current value: lambda_l1=8.976874193475037e-05\n",
      "[LightGBM] [Warning] bagging_freq is set=5, subsample_freq=0 will be ignored. Current value: bagging_freq=5\n",
      "[LightGBM] [Warning] feature_fraction is set=0.6342281343794924, colsample_bytree=1.0 will be ignored. Current value: feature_fraction=0.6342281343794924\n",
      "[LightGBM] [Warning] bagging_fraction is set=0.52462564650187, subsample=1.0 will be ignored. Current value: bagging_fraction=0.52462564650187\n",
      "[LightGBM] [Warning] lambda_l2 is set=0.00024184845376432643, reg_lambda=0.0 will be ignored. Current value: lambda_l2=0.00024184845376432643\n",
      "[LightGBM] [Warning] lambda_l1 is set=8.976874193475037e-05, reg_alpha=0.0 will be ignored. Current value: lambda_l1=8.976874193475037e-05\n",
      "[LightGBM] [Warning] bagging_freq is set=5, subsample_freq=0 will be ignored. Current value: bagging_freq=5\n",
      "[LightGBM] [Warning] feature_fraction is set=0.6342281343794924, colsample_bytree=1.0 will be ignored. Current value: feature_fraction=0.6342281343794924\n",
      "[LightGBM] [Warning] bagging_fraction is set=0.52462564650187, subsample=1.0 will be ignored. Current value: bagging_fraction=0.52462564650187\n",
      "[LightGBM] [Warning] lambda_l2 is set=0.00024184845376432643, reg_lambda=0.0 will be ignored. Current value: lambda_l2=0.00024184845376432643\n",
      "[LightGBM] [Warning] lambda_l1 is set=8.976874193475037e-05, reg_alpha=0.0 will be ignored. Current value: lambda_l1=8.976874193475037e-05\n",
      "[LightGBM] [Warning] bagging_freq is set=5, subsample_freq=0 will be ignored. Current value: bagging_freq=5\n",
      "[LightGBM] [Warning] feature_fraction is set=0.6342281343794924, colsample_bytree=1.0 will be ignored. Current value: feature_fraction=0.6342281343794924\n",
      "[LightGBM] [Warning] bagging_fraction is set=0.52462564650187, subsample=1.0 will be ignored. Current value: bagging_fraction=0.52462564650187\n",
      "[LightGBM] [Warning] lambda_l2 is set=0.00024184845376432643, reg_lambda=0.0 will be ignored. Current value: lambda_l2=0.00024184845376432643\n",
      "[LightGBM] [Warning] lambda_l1 is set=8.976874193475037e-05, reg_alpha=0.0 will be ignored. Current value: lambda_l1=8.976874193475037e-05\n",
      "[LightGBM] [Warning] bagging_freq is set=5, subsample_freq=0 will be ignored. Current value: bagging_freq=5\n",
      "[LightGBM] [Warning] feature_fraction is set=0.6342281343794924, colsample_bytree=1.0 will be ignored. Current value: feature_fraction=0.6342281343794924\n",
      "[LightGBM] [Warning] bagging_fraction is set=0.52462564650187, subsample=1.0 will be ignored. Current value: bagging_fraction=0.52462564650187\n",
      "[LightGBM] [Warning] lambda_l2 is set=0.00024184845376432643, reg_lambda=0.0 will be ignored. Current value: lambda_l2=0.00024184845376432643\n",
      "[LightGBM] [Warning] lambda_l1 is set=8.976874193475037e-05, reg_alpha=0.0 will be ignored. Current value: lambda_l1=8.976874193475037e-05\n",
      "[LightGBM] [Warning] bagging_freq is set=5, subsample_freq=0 will be ignored. Current value: bagging_freq=5\n",
      "[LightGBM] [Warning] feature_fraction is set=0.6342281343794924, colsample_bytree=1.0 will be ignored. Current value: feature_fraction=0.6342281343794924\n",
      "[LightGBM] [Warning] bagging_fraction is set=0.52462564650187, subsample=1.0 will be ignored. Current value: bagging_fraction=0.52462564650187\n",
      "[LightGBM] [Warning] lambda_l2 is set=0.00024184845376432643, reg_lambda=0.0 will be ignored. Current value: lambda_l2=0.00024184845376432643\n",
      "[LightGBM] [Warning] lambda_l1 is set=8.976874193475037e-05, reg_alpha=0.0 will be ignored. Current value: lambda_l1=8.976874193475037e-05\n",
      "[LightGBM] [Warning] bagging_freq is set=5, subsample_freq=0 will be ignored. Current value: bagging_freq=5\n",
      "[LightGBM] [Warning] feature_fraction is set=0.6342281343794924, colsample_bytree=1.0 will be ignored. Current value: feature_fraction=0.6342281343794924\n"
     ]
    },
    {
     "name": "stderr",
     "output_type": "stream",
     "text": [
      "\u001b[32m[I 2022-04-12 22:36:38,610]\u001b[0m Trial 10 finished with value: -0.3571169344261295 and parameters: {'learning_rate': 0.9494423379774705, 'lambda_l1': 8.976874193475037e-05, 'lambda_l2': 0.00024184845376432643, 'num_leaves': 160, 'feature_fraction': 0.6342281343794924, 'bagging_fraction': 0.52462564650187, 'bagging_freq': 5, 'min_child_samples': 74}. Best is trial 9 with value: -0.1567960005144171.\u001b[0m\n",
      "/home/user/Documents/sf_project_6/venv/lib64/python3.10/site-packages/lightgbm/sklearn.py:598: UserWarning: 'silent' argument is deprecated and will be removed in a future release of LightGBM. Pass 'verbose' parameter via keyword arguments instead.\n",
      "  _log_warning(\"'silent' argument is deprecated and will be removed in a future release of LightGBM. \"\n",
      "/home/user/Documents/sf_project_6/venv/lib64/python3.10/site-packages/lightgbm/sklearn.py:598: UserWarning: 'silent' argument is deprecated and will be removed in a future release of LightGBM. Pass 'verbose' parameter via keyword arguments instead.\n",
      "  _log_warning(\"'silent' argument is deprecated and will be removed in a future release of LightGBM. \"\n",
      "/home/user/Documents/sf_project_6/venv/lib64/python3.10/site-packages/lightgbm/sklearn.py:598: UserWarning: 'silent' argument is deprecated and will be removed in a future release of LightGBM. Pass 'verbose' parameter via keyword arguments instead.\n",
      "  _log_warning(\"'silent' argument is deprecated and will be removed in a future release of LightGBM. \"\n",
      "/home/user/Documents/sf_project_6/venv/lib64/python3.10/site-packages/lightgbm/sklearn.py:598: UserWarning: 'silent' argument is deprecated and will be removed in a future release of LightGBM. Pass 'verbose' parameter via keyword arguments instead.\n",
      "  _log_warning(\"'silent' argument is deprecated and will be removed in a future release of LightGBM. \"\n",
      "/home/user/Documents/sf_project_6/venv/lib64/python3.10/site-packages/lightgbm/sklearn.py:598: UserWarning: 'silent' argument is deprecated and will be removed in a future release of LightGBM. Pass 'verbose' parameter via keyword arguments instead.\n",
      "  _log_warning(\"'silent' argument is deprecated and will be removed in a future release of LightGBM. \"\n",
      "/home/user/Documents/sf_project_6/venv/lib64/python3.10/site-packages/lightgbm/sklearn.py:598: UserWarning: 'silent' argument is deprecated and will be removed in a future release of LightGBM. Pass 'verbose' parameter via keyword arguments instead.\n",
      "  _log_warning(\"'silent' argument is deprecated and will be removed in a future release of LightGBM. \"\n",
      "/home/user/Documents/sf_project_6/venv/lib64/python3.10/site-packages/lightgbm/sklearn.py:598: UserWarning: 'silent' argument is deprecated and will be removed in a future release of LightGBM. Pass 'verbose' parameter via keyword arguments instead.\n",
      "  _log_warning(\"'silent' argument is deprecated and will be removed in a future release of LightGBM. \"\n",
      "/home/user/Documents/sf_project_6/venv/lib64/python3.10/site-packages/lightgbm/sklearn.py:598: UserWarning: 'silent' argument is deprecated and will be removed in a future release of LightGBM. Pass 'verbose' parameter via keyword arguments instead.\n",
      "  _log_warning(\"'silent' argument is deprecated and will be removed in a future release of LightGBM. \"\n"
     ]
    },
    {
     "name": "stdout",
     "output_type": "stream",
     "text": [
      "[LightGBM] [Warning] bagging_fraction is set=0.7728914806928449, subsample=1.0 will be ignored. Current value: bagging_fraction=0.7728914806928449\n",
      "[LightGBM] [Warning] lambda_l2 is set=5.646369546324295e-07, reg_lambda=0.0 will be ignored. Current value: lambda_l2=5.646369546324295e-07\n",
      "[LightGBM] [Warning] lambda_l1 is set=1.8437884236649082, reg_alpha=0.0 will be ignored. Current value: lambda_l1=1.8437884236649082\n",
      "[LightGBM] [Warning] bagging_freq is set=6, subsample_freq=0 will be ignored. Current value: bagging_freq=6\n",
      "[LightGBM] [Warning] feature_fraction is set=0.6137958863887523, colsample_bytree=1.0 will be ignored. Current value: feature_fraction=0.6137958863887523\n",
      "[LightGBM] [Warning] bagging_fraction is set=0.7728914806928449, subsample=1.0 will be ignored. Current value: bagging_fraction=0.7728914806928449\n",
      "[LightGBM] [Warning] lambda_l2 is set=5.646369546324295e-07, reg_lambda=0.0 will be ignored. Current value: lambda_l2=5.646369546324295e-07\n",
      "[LightGBM] [Warning] lambda_l1 is set=1.8437884236649082, reg_alpha=0.0 will be ignored. Current value: lambda_l1=1.8437884236649082\n",
      "[LightGBM] [Warning] bagging_freq is set=6, subsample_freq=0 will be ignored. Current value: bagging_freq=6\n",
      "[LightGBM] [Warning] feature_fraction is set=0.6137958863887523, colsample_bytree=1.0 will be ignored. Current value: feature_fraction=0.6137958863887523\n",
      "[LightGBM] [Warning] bagging_fraction is set=0.7728914806928449, subsample=1.0 will be ignored. Current value: bagging_fraction=0.7728914806928449\n",
      "[LightGBM] [Warning] lambda_l2 is set=5.646369546324295e-07, reg_lambda=0.0 will be ignored. Current value: lambda_l2=5.646369546324295e-07\n",
      "[LightGBM] [Warning] lambda_l1 is set=1.8437884236649082, reg_alpha=0.0 will be ignored. Current value: lambda_l1=1.8437884236649082\n",
      "[LightGBM] [Warning] bagging_freq is set=6, subsample_freq=0 will be ignored. Current value: bagging_freq=6\n",
      "[LightGBM] [Warning] feature_fraction is set=0.6137958863887523, colsample_bytree=1.0 will be ignored. Current value: feature_fraction=0.6137958863887523\n",
      "[LightGBM] [Warning] bagging_fraction is set=0.7728914806928449, subsample=1.0 will be ignored. Current value: bagging_fraction=0.7728914806928449\n",
      "[LightGBM] [Warning] lambda_l2 is set=5.646369546324295e-07, reg_lambda=0.0 will be ignored. Current value: lambda_l2=5.646369546324295e-07\n",
      "[LightGBM] [Warning] lambda_l1 is set=1.8437884236649082, reg_alpha=0.0 will be ignored. Current value: lambda_l1=1.8437884236649082\n",
      "[LightGBM] [Warning] bagging_freq is set=6, subsample_freq=0 will be ignored. Current value: bagging_freq=6\n",
      "[LightGBM] [Warning] feature_fraction is set=0.6137958863887523, colsample_bytree=1.0 will be ignored. Current value: feature_fraction=0.6137958863887523\n",
      "[LightGBM] [Warning] bagging_fraction is set=0.7728914806928449, subsample=1.0 will be ignored. Current value: bagging_fraction=0.7728914806928449\n",
      "[LightGBM] [Warning] lambda_l2 is set=5.646369546324295e-07, reg_lambda=0.0 will be ignored. Current value: lambda_l2=5.646369546324295e-07\n",
      "[LightGBM] [Warning] lambda_l1 is set=1.8437884236649082, reg_alpha=0.0 will be ignored. Current value: lambda_l1=1.8437884236649082\n",
      "[LightGBM] [Warning] bagging_freq is set=6, subsample_freq=0 will be ignored. Current value: bagging_freq=6\n",
      "[LightGBM] [Warning] feature_fraction is set=0.6137958863887523, colsample_bytree=1.0 will be ignored. Current value: feature_fraction=0.6137958863887523\n",
      "[LightGBM] [Warning] bagging_fraction is set=0.7728914806928449, subsample=1.0 will be ignored. Current value: bagging_fraction=0.7728914806928449\n",
      "[LightGBM] [Warning] lambda_l2 is set=5.646369546324295e-07, reg_lambda=0.0 will be ignored. Current value: lambda_l2=5.646369546324295e-07\n",
      "[LightGBM] [Warning] lambda_l1 is set=1.8437884236649082, reg_alpha=0.0 will be ignored. Current value: lambda_l1=1.8437884236649082\n",
      "[LightGBM] [Warning] bagging_freq is set=6, subsample_freq=0 will be ignored. Current value: bagging_freq=6\n",
      "[LightGBM] [Warning] feature_fraction is set=0.6137958863887523, colsample_bytree=1.0 will be ignored. Current value: feature_fraction=0.6137958863887523\n",
      "[LightGBM] [Warning] bagging_fraction is set=0.7728914806928449, subsample=1.0 will be ignored. Current value: bagging_fraction=0.7728914806928449\n",
      "[LightGBM] [Warning] lambda_l2 is set=5.646369546324295e-07, reg_lambda=0.0 will be ignored. Current value: lambda_l2=5.646369546324295e-07\n",
      "[LightGBM] [Warning] lambda_l1 is set=1.8437884236649082, reg_alpha=0.0 will be ignored. Current value: lambda_l1=1.8437884236649082\n",
      "[LightGBM] [Warning] bagging_freq is set=6, subsample_freq=0 will be ignored. Current value: bagging_freq=6\n",
      "[LightGBM] [Warning] feature_fraction is set=0.6137958863887523, colsample_bytree=1.0 will be ignored. Current value: feature_fraction=0.6137958863887523\n",
      "[LightGBM] [Warning] bagging_fraction is set=0.7728914806928449, subsample=1.0 will be ignored. Current value: bagging_fraction=0.7728914806928449\n",
      "[LightGBM] [Warning] lambda_l2 is set=5.646369546324295e-07, reg_lambda=0.0 will be ignored. Current value: lambda_l2=5.646369546324295e-07\n",
      "[LightGBM] [Warning] lambda_l1 is set=1.8437884236649082, reg_alpha=0.0 will be ignored. Current value: lambda_l1=1.8437884236649082\n",
      "[LightGBM] [Warning] bagging_freq is set=6, subsample_freq=0 will be ignored. Current value: bagging_freq=6\n",
      "[LightGBM] [Warning] feature_fraction is set=0.6137958863887523, colsample_bytree=1.0 will be ignored. Current value: feature_fraction=0.6137958863887523\n"
     ]
    },
    {
     "name": "stderr",
     "output_type": "stream",
     "text": [
      "\u001b[32m[I 2022-04-12 22:36:50,387]\u001b[0m Trial 11 finished with value: -0.22698765690534695 and parameters: {'learning_rate': 0.773164422222387, 'lambda_l1': 1.8437884236649082, 'lambda_l2': 5.646369546324295e-07, 'num_leaves': 225, 'feature_fraction': 0.6137958863887523, 'bagging_fraction': 0.7728914806928449, 'bagging_freq': 6, 'min_child_samples': 22}. Best is trial 9 with value: -0.1567960005144171.\u001b[0m\n",
      "/home/user/Documents/sf_project_6/venv/lib64/python3.10/site-packages/lightgbm/sklearn.py:598: UserWarning: 'silent' argument is deprecated and will be removed in a future release of LightGBM. Pass 'verbose' parameter via keyword arguments instead.\n",
      "  _log_warning(\"'silent' argument is deprecated and will be removed in a future release of LightGBM. \"\n",
      "/home/user/Documents/sf_project_6/venv/lib64/python3.10/site-packages/lightgbm/sklearn.py:598: UserWarning: 'silent' argument is deprecated and will be removed in a future release of LightGBM. Pass 'verbose' parameter via keyword arguments instead.\n",
      "  _log_warning(\"'silent' argument is deprecated and will be removed in a future release of LightGBM. \"\n",
      "/home/user/Documents/sf_project_6/venv/lib64/python3.10/site-packages/lightgbm/sklearn.py:598: UserWarning: 'silent' argument is deprecated and will be removed in a future release of LightGBM. Pass 'verbose' parameter via keyword arguments instead.\n",
      "  _log_warning(\"'silent' argument is deprecated and will be removed in a future release of LightGBM. \"\n",
      "/home/user/Documents/sf_project_6/venv/lib64/python3.10/site-packages/lightgbm/sklearn.py:598: UserWarning: 'silent' argument is deprecated and will be removed in a future release of LightGBM. Pass 'verbose' parameter via keyword arguments instead.\n",
      "  _log_warning(\"'silent' argument is deprecated and will be removed in a future release of LightGBM. \"\n",
      "/home/user/Documents/sf_project_6/venv/lib64/python3.10/site-packages/lightgbm/sklearn.py:598: UserWarning: 'silent' argument is deprecated and will be removed in a future release of LightGBM. Pass 'verbose' parameter via keyword arguments instead.\n",
      "  _log_warning(\"'silent' argument is deprecated and will be removed in a future release of LightGBM. \"\n",
      "/home/user/Documents/sf_project_6/venv/lib64/python3.10/site-packages/lightgbm/sklearn.py:598: UserWarning: 'silent' argument is deprecated and will be removed in a future release of LightGBM. Pass 'verbose' parameter via keyword arguments instead.\n",
      "  _log_warning(\"'silent' argument is deprecated and will be removed in a future release of LightGBM. \"\n",
      "/home/user/Documents/sf_project_6/venv/lib64/python3.10/site-packages/lightgbm/sklearn.py:598: UserWarning: 'silent' argument is deprecated and will be removed in a future release of LightGBM. Pass 'verbose' parameter via keyword arguments instead.\n",
      "  _log_warning(\"'silent' argument is deprecated and will be removed in a future release of LightGBM. \"\n",
      "/home/user/Documents/sf_project_6/venv/lib64/python3.10/site-packages/lightgbm/sklearn.py:598: UserWarning: 'silent' argument is deprecated and will be removed in a future release of LightGBM. Pass 'verbose' parameter via keyword arguments instead.\n",
      "  _log_warning(\"'silent' argument is deprecated and will be removed in a future release of LightGBM. \"\n"
     ]
    },
    {
     "name": "stdout",
     "output_type": "stream",
     "text": [
      "[LightGBM] [Warning] bagging_fraction is set=0.4972661166651129, subsample=1.0 will be ignored. Current value: bagging_fraction=0.4972661166651129\n",
      "[LightGBM] [Warning] lambda_l2 is set=3.8521960471096605e-07, reg_lambda=0.0 will be ignored. Current value: lambda_l2=3.8521960471096605e-07\n",
      "[LightGBM] [Warning] lambda_l1 is set=0.655717669029221, reg_alpha=0.0 will be ignored. Current value: lambda_l1=0.655717669029221\n",
      "[LightGBM] [Warning] bagging_freq is set=2, subsample_freq=0 will be ignored. Current value: bagging_freq=2\n",
      "[LightGBM] [Warning] feature_fraction is set=0.7442760753734905, colsample_bytree=1.0 will be ignored. Current value: feature_fraction=0.7442760753734905\n",
      "[LightGBM] [Warning] bagging_fraction is set=0.4972661166651129, subsample=1.0 will be ignored. Current value: bagging_fraction=0.4972661166651129[LightGBM] [Warning] bagging_fraction is set=0.4972661166651129, subsample=1.0 will be ignored. Current value: bagging_fraction=0.4972661166651129\n",
      "[LightGBM] [Warning] lambda_l2 is set=3.8521960471096605e-07, reg_lambda=0.0 will be ignored. Current value: lambda_l2=3.8521960471096605e-07\n",
      "[LightGBM] [Warning] lambda_l1 is set=0.655717669029221, reg_alpha=0.0 will be ignored. Current value: lambda_l1=0.655717669029221\n",
      "[LightGBM] [Warning] bagging_freq is set=2, subsample_freq=0 will be ignored. Current value: bagging_freq=2\n",
      "[LightGBM] [Warning] feature_fraction is set=0.7442760753734905, colsample_bytree=1.0 will be ignored. Current value: feature_fraction=0.7442760753734905\n",
      "\n",
      "[LightGBM] [Warning] lambda_l2 is set=3.8521960471096605e-07, reg_lambda=0.0 will be ignored. Current value: lambda_l2=3.8521960471096605e-07\n",
      "[LightGBM] [Warning] lambda_l1 is set=0.655717669029221, reg_alpha=0.0 will be ignored. Current value: lambda_l1=0.655717669029221\n",
      "[LightGBM] [Warning] bagging_freq is set=2, subsample_freq=0 will be ignored. Current value: bagging_freq=2\n",
      "[LightGBM] [Warning] feature_fraction is set=0.7442760753734905, colsample_bytree=1.0 will be ignored. Current value: feature_fraction=0.7442760753734905\n",
      "[LightGBM] [Warning] bagging_fraction is set=0.4972661166651129, subsample=1.0 will be ignored. Current value: bagging_fraction=0.4972661166651129\n",
      "[LightGBM] [Warning] lambda_l2 is set=3.8521960471096605e-07, reg_lambda=0.0 will be ignored. Current value: lambda_l2=3.8521960471096605e-07\n",
      "[LightGBM] [Warning] lambda_l1 is set=0.655717669029221, reg_alpha=0.0 will be ignored. Current value: lambda_l1=0.655717669029221\n",
      "[LightGBM] [Warning] bagging_freq is set=2, subsample_freq=0 will be ignored. Current value: bagging_freq=2\n",
      "[LightGBM] [Warning] feature_fraction is set=0.7442760753734905, colsample_bytree=1.0 will be ignored. Current value: feature_fraction=0.7442760753734905\n",
      "[LightGBM] [Warning] bagging_fraction is set=0.4972661166651129, subsample=1.0 will be ignored. Current value: bagging_fraction=0.4972661166651129\n",
      "[LightGBM] [Warning] lambda_l2 is set=3.8521960471096605e-07, reg_lambda=0.0 will be ignored. Current value: lambda_l2=3.8521960471096605e-07\n",
      "[LightGBM] [Warning] lambda_l1 is set=0.655717669029221, reg_alpha=0.0 will be ignored. Current value: lambda_l1=0.655717669029221\n",
      "[LightGBM] [Warning] bagging_freq is set=2, subsample_freq=0 will be ignored. Current value: bagging_freq=2\n",
      "[LightGBM] [Warning] feature_fraction is set=0.7442760753734905, colsample_bytree=1.0 will be ignored. Current value: feature_fraction=0.7442760753734905\n",
      "[LightGBM] [Warning] bagging_fraction is set=0.4972661166651129, subsample=1.0 will be ignored. Current value: bagging_fraction=0.4972661166651129\n",
      "[LightGBM] [Warning] lambda_l2 is set=3.8521960471096605e-07, reg_lambda=0.0 will be ignored. Current value: lambda_l2=3.8521960471096605e-07\n",
      "[LightGBM] [Warning] lambda_l1 is set=0.655717669029221, reg_alpha=0.0 will be ignored. Current value: lambda_l1=0.655717669029221\n",
      "[LightGBM] [Warning] bagging_freq is set=2, subsample_freq=0 will be ignored. Current value: bagging_freq=2\n",
      "[LightGBM] [Warning] feature_fraction is set=0.7442760753734905, colsample_bytree=1.0 will be ignored. Current value: feature_fraction=0.7442760753734905\n",
      "[LightGBM] [Warning] bagging_fraction is set=0.4972661166651129, subsample=1.0 will be ignored. Current value: bagging_fraction=0.4972661166651129\n",
      "[LightGBM] [Warning] lambda_l2 is set=3.8521960471096605e-07, reg_lambda=0.0 will be ignored. Current value: lambda_l2=3.8521960471096605e-07\n",
      "[LightGBM] [Warning] lambda_l1 is set=0.655717669029221, reg_alpha=0.0 will be ignored. Current value: lambda_l1=0.655717669029221\n",
      "[LightGBM] [Warning] bagging_freq is set=2, subsample_freq=0 will be ignored. Current value: bagging_freq=2\n",
      "[LightGBM] [Warning] feature_fraction is set=0.7442760753734905, colsample_bytree=1.0 will be ignored. Current value: feature_fraction=0.7442760753734905\n",
      "[LightGBM] [Warning] bagging_fraction is set=0.4972661166651129, subsample=1.0 will be ignored. Current value: bagging_fraction=0.4972661166651129\n",
      "[LightGBM] [Warning] lambda_l2 is set=3.8521960471096605e-07, reg_lambda=0.0 will be ignored. Current value: lambda_l2=3.8521960471096605e-07\n",
      "[LightGBM] [Warning] lambda_l1 is set=0.655717669029221, reg_alpha=0.0 will be ignored. Current value: lambda_l1=0.655717669029221\n",
      "[LightGBM] [Warning] bagging_freq is set=2, subsample_freq=0 will be ignored. Current value: bagging_freq=2\n",
      "[LightGBM] [Warning] feature_fraction is set=0.7442760753734905, colsample_bytree=1.0 will be ignored. Current value: feature_fraction=0.7442760753734905\n"
     ]
    },
    {
     "name": "stderr",
     "output_type": "stream",
     "text": [
      "\u001b[32m[I 2022-04-12 22:37:03,343]\u001b[0m Trial 12 finished with value: -0.25967795465332394 and parameters: {'learning_rate': 0.02716689002528746, 'lambda_l1': 0.655717669029221, 'lambda_l2': 3.8521960471096605e-07, 'num_leaves': 225, 'feature_fraction': 0.7442760753734905, 'bagging_fraction': 0.4972661166651129, 'bagging_freq': 2, 'min_child_samples': 78}. Best is trial 9 with value: -0.1567960005144171.\u001b[0m\n",
      "/home/user/Documents/sf_project_6/venv/lib64/python3.10/site-packages/lightgbm/sklearn.py:598: UserWarning: 'silent' argument is deprecated and will be removed in a future release of LightGBM. Pass 'verbose' parameter via keyword arguments instead.\n",
      "  _log_warning(\"'silent' argument is deprecated and will be removed in a future release of LightGBM. \"\n",
      "/home/user/Documents/sf_project_6/venv/lib64/python3.10/site-packages/lightgbm/sklearn.py:598: UserWarning: 'silent' argument is deprecated and will be removed in a future release of LightGBM. Pass 'verbose' parameter via keyword arguments instead.\n",
      "  _log_warning(\"'silent' argument is deprecated and will be removed in a future release of LightGBM. \"\n",
      "/home/user/Documents/sf_project_6/venv/lib64/python3.10/site-packages/lightgbm/sklearn.py:598: UserWarning: 'silent' argument is deprecated and will be removed in a future release of LightGBM. Pass 'verbose' parameter via keyword arguments instead.\n",
      "  _log_warning(\"'silent' argument is deprecated and will be removed in a future release of LightGBM. \"\n",
      "/home/user/Documents/sf_project_6/venv/lib64/python3.10/site-packages/lightgbm/sklearn.py:598: UserWarning: 'silent' argument is deprecated and will be removed in a future release of LightGBM. Pass 'verbose' parameter via keyword arguments instead.\n",
      "  _log_warning(\"'silent' argument is deprecated and will be removed in a future release of LightGBM. \"\n",
      "/home/user/Documents/sf_project_6/venv/lib64/python3.10/site-packages/lightgbm/sklearn.py:598: UserWarning: 'silent' argument is deprecated and will be removed in a future release of LightGBM. Pass 'verbose' parameter via keyword arguments instead.\n",
      "  _log_warning(\"'silent' argument is deprecated and will be removed in a future release of LightGBM. \"\n",
      "/home/user/Documents/sf_project_6/venv/lib64/python3.10/site-packages/lightgbm/sklearn.py:598: UserWarning: 'silent' argument is deprecated and will be removed in a future release of LightGBM. Pass 'verbose' parameter via keyword arguments instead.\n",
      "  _log_warning(\"'silent' argument is deprecated and will be removed in a future release of LightGBM. \"\n",
      "/home/user/Documents/sf_project_6/venv/lib64/python3.10/site-packages/lightgbm/sklearn.py:598: UserWarning: 'silent' argument is deprecated and will be removed in a future release of LightGBM. Pass 'verbose' parameter via keyword arguments instead.\n",
      "  _log_warning(\"'silent' argument is deprecated and will be removed in a future release of LightGBM. \"\n",
      "/home/user/Documents/sf_project_6/venv/lib64/python3.10/site-packages/lightgbm/sklearn.py:598: UserWarning: 'silent' argument is deprecated and will be removed in a future release of LightGBM. Pass 'verbose' parameter via keyword arguments instead.\n",
      "  _log_warning(\"'silent' argument is deprecated and will be removed in a future release of LightGBM. \"\n"
     ]
    },
    {
     "name": "stdout",
     "output_type": "stream",
     "text": [
      "[LightGBM] [Warning] bagging_fraction is set=0.9710703037180636, subsample=1.0 will be ignored. Current value: bagging_fraction=0.9710703037180636\n",
      "[LightGBM] [Warning] lambda_l2 is set=5.616679588596495e-07, reg_lambda=0.0 will be ignored. Current value: lambda_l2=5.616679588596495e-07\n",
      "[LightGBM] [Warning] lambda_l1 is set=5.5278340137009336e-08, reg_alpha=0.0 will be ignored. Current value: lambda_l1=5.5278340137009336e-08\n",
      "[LightGBM] [Warning] bagging_freq is set=4, subsample_freq=0 will be ignored. Current value: bagging_freq=4\n",
      "[LightGBM] [Warning] feature_fraction is set=0.7415789372960532, colsample_bytree=1.0 will be ignored. Current value: feature_fraction=0.7415789372960532\n",
      "[LightGBM] [Warning] bagging_fraction is set=0.9710703037180636, subsample=1.0 will be ignored. Current value: bagging_fraction=0.9710703037180636\n",
      "[LightGBM] [Warning] lambda_l2 is set=5.616679588596495e-07, reg_lambda=0.0 will be ignored. Current value: lambda_l2=5.616679588596495e-07\n",
      "[LightGBM] [Warning] lambda_l1 is set=5.5278340137009336e-08, reg_alpha=0.0 will be ignored. Current value: lambda_l1=5.5278340137009336e-08\n",
      "[LightGBM] [Warning] bagging_freq is set=4, subsample_freq=0 will be ignored. Current value: bagging_freq=4\n",
      "[LightGBM] [Warning] feature_fraction is set=0.7415789372960532, colsample_bytree=1.0 will be ignored. Current value: feature_fraction=0.7415789372960532\n",
      "[LightGBM] [Warning] bagging_fraction is set=0.9710703037180636, subsample=1.0 will be ignored. Current value: bagging_fraction=0.9710703037180636\n",
      "[LightGBM] [Warning] lambda_l2 is set=5.616679588596495e-07, reg_lambda=0.0 will be ignored. Current value: lambda_l2=5.616679588596495e-07\n",
      "[LightGBM] [Warning] lambda_l1 is set=5.5278340137009336e-08, reg_alpha=0.0 will be ignored. Current value: lambda_l1=5.5278340137009336e-08\n",
      "[LightGBM] [Warning] bagging_freq is set=4, subsample_freq=0 will be ignored. Current value: bagging_freq=4\n",
      "[LightGBM] [Warning] feature_fraction is set=0.7415789372960532, colsample_bytree=1.0 will be ignored. Current value: feature_fraction=0.7415789372960532\n",
      "[LightGBM] [Warning] bagging_fraction is set=0.9710703037180636, subsample=1.0 will be ignored. Current value: bagging_fraction=0.9710703037180636\n",
      "[LightGBM] [Warning] lambda_l2 is set=5.616679588596495e-07, reg_lambda=0.0 will be ignored. Current value: lambda_l2=5.616679588596495e-07\n",
      "[LightGBM] [Warning] lambda_l1 is set=5.5278340137009336e-08, reg_alpha=0.0 will be ignored. Current value: lambda_l1=5.5278340137009336e-08\n",
      "[LightGBM] [Warning] bagging_freq is set=4, subsample_freq=0 will be ignored. Current value: bagging_freq=4\n",
      "[LightGBM] [Warning] feature_fraction is set=0.7415789372960532, colsample_bytree=1.0 will be ignored. Current value: feature_fraction=0.7415789372960532\n",
      "[LightGBM] [Warning] bagging_fraction is set=0.9710703037180636, subsample=1.0 will be ignored. Current value: bagging_fraction=0.9710703037180636\n",
      "[LightGBM] [Warning] lambda_l2 is set=5.616679588596495e-07, reg_lambda=0.0 will be ignored. Current value: lambda_l2=5.616679588596495e-07\n",
      "[LightGBM] [Warning] lambda_l1 is set=5.5278340137009336e-08, reg_alpha=0.0 will be ignored. Current value: lambda_l1=5.5278340137009336e-08\n",
      "[LightGBM] [Warning] bagging_freq is set=4, subsample_freq=0 will be ignored. Current value: bagging_freq=4\n",
      "[LightGBM] [Warning] feature_fraction is set=0.7415789372960532, colsample_bytree=1.0 will be ignored. Current value: feature_fraction=0.7415789372960532\n",
      "[LightGBM] [Warning] bagging_fraction is set=0.9710703037180636, subsample=1.0 will be ignored. Current value: bagging_fraction=0.9710703037180636\n",
      "[LightGBM] [Warning] lambda_l2 is set=5.616679588596495e-07, reg_lambda=0.0 will be ignored. Current value: lambda_l2=5.616679588596495e-07\n",
      "[LightGBM] [Warning] lambda_l1 is set=5.5278340137009336e-08, reg_alpha=0.0 will be ignored. Current value: lambda_l1=5.5278340137009336e-08\n",
      "[LightGBM] [Warning] bagging_freq is set=4, subsample_freq=0 will be ignored. Current value: bagging_freq=4\n",
      "[LightGBM] [Warning] feature_fraction is set=0.7415789372960532, colsample_bytree=1.0 will be ignored. Current value: feature_fraction=0.7415789372960532\n",
      "[LightGBM] [Warning] bagging_fraction is set=0.9710703037180636, subsample=1.0 will be ignored. Current value: bagging_fraction=0.9710703037180636[LightGBM] [Warning] bagging_fraction is set=0.9710703037180636, subsample=1.0 will be ignored. Current value: bagging_fraction=0.9710703037180636\n",
      "[LightGBM] [Warning] lambda_l2 is set=5.616679588596495e-07, reg_lambda=0.0 will be ignored. Current value: lambda_l2=5.616679588596495e-07\n",
      "[LightGBM] [Warning] lambda_l1 is set=5.5278340137009336e-08, reg_alpha=0.0 will be ignored. Current value: lambda_l1=5.5278340137009336e-08\n",
      "[LightGBM] [Warning] bagging_freq is set=4, subsample_freq=0 will be ignored. Current value: bagging_freq=4\n",
      "[LightGBM] [Warning] feature_fraction is set=0.7415789372960532, colsample_bytree=1.0 will be ignored. Current value: feature_fraction=0.7415789372960532\n",
      "\n",
      "[LightGBM] [Warning] lambda_l2 is set=5.616679588596495e-07, reg_lambda=0.0 will be ignored. Current value: lambda_l2=5.616679588596495e-07\n",
      "[LightGBM] [Warning] lambda_l1 is set=5.5278340137009336e-08, reg_alpha=0.0 will be ignored. Current value: lambda_l1=5.5278340137009336e-08\n",
      "[LightGBM] [Warning] bagging_freq is set=4, subsample_freq=0 will be ignored. Current value: bagging_freq=4\n",
      "[LightGBM] [Warning] feature_fraction is set=0.7415789372960532, colsample_bytree=1.0 will be ignored. Current value: feature_fraction=0.7415789372960532\n"
     ]
    },
    {
     "name": "stderr",
     "output_type": "stream",
     "text": [
      "\u001b[32m[I 2022-04-12 22:37:13,613]\u001b[0m Trial 13 finished with value: -0.15895263105959045 and parameters: {'learning_rate': 0.25542847231451854, 'lambda_l1': 5.5278340137009336e-08, 'lambda_l2': 5.616679588596495e-07, 'num_leaves': 112, 'feature_fraction': 0.7415789372960532, 'bagging_fraction': 0.9710703037180636, 'bagging_freq': 4, 'min_child_samples': 42}. Best is trial 9 with value: -0.1567960005144171.\u001b[0m\n",
      "/home/user/Documents/sf_project_6/venv/lib64/python3.10/site-packages/lightgbm/sklearn.py:598: UserWarning: 'silent' argument is deprecated and will be removed in a future release of LightGBM. Pass 'verbose' parameter via keyword arguments instead.\n",
      "  _log_warning(\"'silent' argument is deprecated and will be removed in a future release of LightGBM. \"\n",
      "/home/user/Documents/sf_project_6/venv/lib64/python3.10/site-packages/lightgbm/sklearn.py:598: UserWarning: 'silent' argument is deprecated and will be removed in a future release of LightGBM. Pass 'verbose' parameter via keyword arguments instead.\n",
      "  _log_warning(\"'silent' argument is deprecated and will be removed in a future release of LightGBM. \"\n",
      "/home/user/Documents/sf_project_6/venv/lib64/python3.10/site-packages/lightgbm/sklearn.py:598: UserWarning: 'silent' argument is deprecated and will be removed in a future release of LightGBM. Pass 'verbose' parameter via keyword arguments instead.\n",
      "  _log_warning(\"'silent' argument is deprecated and will be removed in a future release of LightGBM. \"\n",
      "/home/user/Documents/sf_project_6/venv/lib64/python3.10/site-packages/lightgbm/sklearn.py:598: UserWarning: 'silent' argument is deprecated and will be removed in a future release of LightGBM. Pass 'verbose' parameter via keyword arguments instead.\n",
      "  _log_warning(\"'silent' argument is deprecated and will be removed in a future release of LightGBM. \"\n",
      "/home/user/Documents/sf_project_6/venv/lib64/python3.10/site-packages/lightgbm/sklearn.py:598: UserWarning: 'silent' argument is deprecated and will be removed in a future release of LightGBM. Pass 'verbose' parameter via keyword arguments instead.\n",
      "  _log_warning(\"'silent' argument is deprecated and will be removed in a future release of LightGBM. \"\n"
     ]
    },
    {
     "name": "stdout",
     "output_type": "stream",
     "text": [
      "[LightGBM] [Warning] bagging_fraction is set=0.8175936493895224, subsample=1.0 will be ignored. Current value: bagging_fraction=0.8175936493895224\n",
      "[LightGBM] [Warning] lambda_l2 is set=0.001308364765353021, reg_lambda=0.0 will be ignored. Current value: lambda_l2=0.001308364765353021\n",
      "[LightGBM] [Warning] lambda_l1 is set=1.31641269168062e-07, reg_alpha=0.0 will be ignored. Current value: lambda_l1=1.31641269168062e-07\n",
      "[LightGBM] [Warning] bagging_freq is set=6, subsample_freq=0 will be ignored. Current value: bagging_freq=6\n",
      "[LightGBM] [Warning] feature_fraction is set=0.814929774720756, colsample_bytree=1.0 will be ignored. Current value: feature_fraction=0.814929774720756\n"
     ]
    },
    {
     "name": "stderr",
     "output_type": "stream",
     "text": [
      "/home/user/Documents/sf_project_6/venv/lib64/python3.10/site-packages/lightgbm/sklearn.py:598: UserWarning: 'silent' argument is deprecated and will be removed in a future release of LightGBM. Pass 'verbose' parameter via keyword arguments instead.\n",
      "  _log_warning(\"'silent' argument is deprecated and will be removed in a future release of LightGBM. \"\n",
      "/home/user/Documents/sf_project_6/venv/lib64/python3.10/site-packages/lightgbm/sklearn.py:598: UserWarning: 'silent' argument is deprecated and will be removed in a future release of LightGBM. Pass 'verbose' parameter via keyword arguments instead.\n",
      "  _log_warning(\"'silent' argument is deprecated and will be removed in a future release of LightGBM. \"\n",
      "/home/user/Documents/sf_project_6/venv/lib64/python3.10/site-packages/lightgbm/sklearn.py:598: UserWarning: 'silent' argument is deprecated and will be removed in a future release of LightGBM. Pass 'verbose' parameter via keyword arguments instead.\n",
      "  _log_warning(\"'silent' argument is deprecated and will be removed in a future release of LightGBM. \"\n"
     ]
    },
    {
     "name": "stdout",
     "output_type": "stream",
     "text": [
      "[LightGBM] [Warning] bagging_fraction is set=0.8175936493895224, subsample=1.0 will be ignored. Current value: bagging_fraction=0.8175936493895224\n",
      "[LightGBM] [Warning] lambda_l2 is set=0.001308364765353021, reg_lambda=0.0 will be ignored. Current value: lambda_l2=0.001308364765353021\n",
      "[LightGBM] [Warning] lambda_l1 is set=1.31641269168062e-07, reg_alpha=0.0 will be ignored. Current value: lambda_l1=1.31641269168062e-07\n",
      "[LightGBM] [Warning] bagging_freq is set=6, subsample_freq=0 will be ignored. Current value: bagging_freq=6\n",
      "[LightGBM] [Warning] feature_fraction is set=0.814929774720756, colsample_bytree=1.0 will be ignored. Current value: feature_fraction=0.814929774720756\n",
      "[LightGBM] [Warning] bagging_fraction is set=0.8175936493895224, subsample=1.0 will be ignored. Current value: bagging_fraction=0.8175936493895224\n",
      "[LightGBM] [Warning] lambda_l2 is set=0.001308364765353021, reg_lambda=0.0 will be ignored. Current value: lambda_l2=0.001308364765353021\n",
      "[LightGBM] [Warning] lambda_l1 is set=1.31641269168062e-07, reg_alpha=0.0 will be ignored. Current value: lambda_l1=1.31641269168062e-07\n",
      "[LightGBM] [Warning] bagging_freq is set=6, subsample_freq=0 will be ignored. Current value: bagging_freq=6\n",
      "[LightGBM] [Warning] feature_fraction is set=0.814929774720756, colsample_bytree=1.0 will be ignored. Current value: feature_fraction=0.814929774720756\n",
      "[LightGBM] [Warning] bagging_fraction is set=0.8175936493895224, subsample=1.0 will be ignored. Current value: bagging_fraction=0.8175936493895224\n",
      "[LightGBM] [Warning] lambda_l2 is set=0.001308364765353021, reg_lambda=0.0 will be ignored. Current value: lambda_l2=0.001308364765353021\n",
      "[LightGBM] [Warning] lambda_l1 is set=1.31641269168062e-07, reg_alpha=0.0 will be ignored. Current value: lambda_l1=1.31641269168062e-07\n",
      "[LightGBM] [Warning] bagging_freq is set=6, subsample_freq=0 will be ignored. Current value: bagging_freq=6\n",
      "[LightGBM] [Warning] feature_fraction is set=0.814929774720756, colsample_bytree=1.0 will be ignored. Current value: feature_fraction=0.814929774720756\n",
      "[LightGBM] [Warning] bagging_fraction is set=0.8175936493895224, subsample=1.0 will be ignored. Current value: bagging_fraction=0.8175936493895224\n",
      "[LightGBM] [Warning] lambda_l2 is set=0.001308364765353021, reg_lambda=0.0 will be ignored. Current value: lambda_l2=0.001308364765353021\n",
      "[LightGBM] [Warning] lambda_l1 is set=1.31641269168062e-07, reg_alpha=0.0 will be ignored. Current value: lambda_l1=1.31641269168062e-07\n",
      "[LightGBM] [Warning] bagging_freq is set=6, subsample_freq=0 will be ignored. Current value: bagging_freq=6\n",
      "[LightGBM] [Warning] feature_fraction is set=0.814929774720756, colsample_bytree=1.0 will be ignored. Current value: feature_fraction=0.814929774720756\n",
      "[LightGBM] [Warning] bagging_fraction is set=0.8175936493895224, subsample=1.0 will be ignored. Current value: bagging_fraction=0.8175936493895224\n",
      "[LightGBM] [Warning] lambda_l2 is set=0.001308364765353021, reg_lambda=0.0 will be ignored. Current value: lambda_l2=0.001308364765353021\n",
      "[LightGBM] [Warning] lambda_l1 is set=1.31641269168062e-07, reg_alpha=0.0 will be ignored. Current value: lambda_l1=1.31641269168062e-07\n",
      "[LightGBM] [Warning] bagging_freq is set=6, subsample_freq=0 will be ignored. Current value: bagging_freq=6\n",
      "[LightGBM] [Warning] feature_fraction is set=0.814929774720756, colsample_bytree=1.0 will be ignored. Current value: feature_fraction=0.814929774720756\n",
      "[LightGBM] [Warning] bagging_fraction is set=0.8175936493895224, subsample=1.0 will be ignored. Current value: bagging_fraction=0.8175936493895224\n",
      "[LightGBM] [Warning] lambda_l2 is set=0.001308364765353021, reg_lambda=0.0 will be ignored. Current value: lambda_l2=0.001308364765353021\n",
      "[LightGBM] [Warning] lambda_l1 is set=1.31641269168062e-07, reg_alpha=0.0 will be ignored. Current value: lambda_l1=1.31641269168062e-07\n",
      "[LightGBM] [Warning] bagging_freq is set=6, subsample_freq=0 will be ignored. Current value: bagging_freq=6\n",
      "[LightGBM] [Warning] feature_fraction is set=0.814929774720756, colsample_bytree=1.0 will be ignored. Current value: feature_fraction=0.814929774720756\n",
      "[LightGBM] [Warning] bagging_fraction is set=0.8175936493895224, subsample=1.0 will be ignored. Current value: bagging_fraction=0.8175936493895224\n",
      "[LightGBM] [Warning] lambda_l2 is set=0.001308364765353021, reg_lambda=0.0 will be ignored. Current value: lambda_l2=0.001308364765353021\n",
      "[LightGBM] [Warning] lambda_l1 is set=1.31641269168062e-07, reg_alpha=0.0 will be ignored. Current value: lambda_l1=1.31641269168062e-07\n",
      "[LightGBM] [Warning] bagging_freq is set=6, subsample_freq=0 will be ignored. Current value: bagging_freq=6\n",
      "[LightGBM] [Warning] feature_fraction is set=0.814929774720756, colsample_bytree=1.0 will be ignored. Current value: feature_fraction=0.814929774720756\n"
     ]
    },
    {
     "name": "stderr",
     "output_type": "stream",
     "text": [
      "\u001b[32m[I 2022-04-12 22:37:24,776]\u001b[0m Trial 14 finished with value: -0.25642212193797126 and parameters: {'learning_rate': 0.9889916200650344, 'lambda_l1': 1.31641269168062e-07, 'lambda_l2': 0.001308364765353021, 'num_leaves': 181, 'feature_fraction': 0.814929774720756, 'bagging_fraction': 0.8175936493895224, 'bagging_freq': 6, 'min_child_samples': 21}. Best is trial 9 with value: -0.1567960005144171.\u001b[0m\n"
     ]
    }
   ],
   "source": [
    "def objective(trial):\n",
    "\n",
    "    param = {\n",
    "        \"objective\": \"regression\",\n",
    "        \"metric\": \"mape\",\n",
    "        \"learning_rate\": trial.suggest_uniform(\"learning_rate\", 0.001, 1.0),\n",
    "        \"lambda_l1\": trial.suggest_loguniform(\"lambda_l1\", 1e-8, 10.0),\n",
    "        \"lambda_l2\": trial.suggest_loguniform(\"lambda_l2\", 1e-8, 10.0),\n",
    "        \"num_leaves\": trial.suggest_int(\"num_leaves\", 2, 256),\n",
    "        \"feature_fraction\": trial.suggest_uniform(\"feature_fraction\", 0.4, 1.0),\n",
    "        \"bagging_fraction\": trial.suggest_uniform(\"bagging_fraction\", 0.4, 1.0),\n",
    "        \"bagging_freq\": trial.suggest_int(\"bagging_freq\", 1, 7),\n",
    "        \"min_child_samples\": trial.suggest_int(\"min_child_samples\", 5, 100),\n",
    "        \"verbosity\": -1,\n",
    "    }\n",
    "\n",
    "    gbm = LGBMRegressor(**param, silent=True)\n",
    "    cv_roc_auc = cross_val_score(gbm, X_train, y_train, cv=8, scoring=\"neg_mean_absolute_percentage_error\", n_jobs=-1)\n",
    "\n",
    "    return np.mean(cv_roc_auc)\n",
    "\n",
    "\n",
    "study = optuna.create_study(\n",
    "    direction=\"maximize\",\n",
    "    storage=\"sqlite:///LGBMClassifier.db\",\n",
    "    study_name=\"LGBMClassifier\",\n",
    "    load_if_exists=True,\n",
    ")\n",
    "study.optimize(objective, timeout=600, n_trials=10)"
   ]
  },
  {
   "cell_type": "code",
   "execution_count": 18,
   "metadata": {},
   "outputs": [
    {
     "data": {
      "text/plain": [
       "{'bagging_fraction': 0.9079273070338828,\n",
       " 'bagging_freq': 4,\n",
       " 'feature_fraction': 0.716472706585253,\n",
       " 'lambda_l1': 0.0007127314011370048,\n",
       " 'lambda_l2': 1.4991431139899208e-08,\n",
       " 'learning_rate': 0.24273738931459424,\n",
       " 'min_child_samples': 27,\n",
       " 'num_leaves': 129}"
      ]
     },
     "execution_count": 18,
     "metadata": {},
     "output_type": "execute_result"
    }
   ],
   "source": [
    "study.best_params"
   ]
  },
  {
   "cell_type": "code",
   "execution_count": 19,
   "metadata": {},
   "outputs": [
    {
     "name": "stdout",
     "output_type": "stream",
     "text": [
      "[LightGBM] [Warning] lambda_l1 is set=0.0007127314011370048, reg_alpha=0.0 will be ignored. Current value: lambda_l1=0.0007127314011370048\n",
      "[LightGBM] [Warning] bagging_fraction is set=0.9079273070338828, subsample=1.0 will be ignored. Current value: bagging_fraction=0.9079273070338828\n",
      "[LightGBM] [Warning] feature_fraction is set=0.716472706585253, colsample_bytree=1.0 will be ignored. Current value: feature_fraction=0.716472706585253\n",
      "[LightGBM] [Warning] bagging_freq is set=4, subsample_freq=0 will be ignored. Current value: bagging_freq=4\n",
      "[LightGBM] [Warning] lambda_l2 is set=1.4991431139899208e-08, reg_lambda=0.0 will be ignored. Current value: lambda_l2=1.4991431139899208e-08\n",
      "lightgbm_optuned 0.1562352982059385\n"
     ]
    }
   ],
   "source": [
    "lightgbm_optuned = LGBMRegressor(\n",
    "    **{\n",
    "        \"bagging_fraction\": 0.9079273070338828,\n",
    "        \"bagging_freq\": 4,\n",
    "        \"feature_fraction\": 0.716472706585253,\n",
    "        \"lambda_l1\": 0.0007127314011370048,\n",
    "        \"lambda_l2\": 1.4991431139899208e-08,\n",
    "        \"learning_rate\": 0.24273738931459424,\n",
    "        \"min_child_samples\": 27,\n",
    "        \"num_leaves\": 129,\n",
    "        \"random_state\": 42,\n",
    "        \"silent\": True,\n",
    "    }\n",
    ").fit(X_train, y_train)\n",
    "\n",
    "print(\"lightgbm_optuned\", mean_absolute_percentage_error(y_valid, lightgbm_optuned.predict(X_valid)))\n",
    "submit(test, lightgbm_optuned, \"lightgbm_optuned\")"
   ]
  },
  {
   "cell_type": "markdown",
   "metadata": {},
   "source": [
    "## Ensemble models"
   ]
  },
  {
   "cell_type": "code",
   "execution_count": 20,
   "metadata": {},
   "outputs": [],
   "source": [
    "estimators = (\n",
    "    (\"lr\", lr),\n",
    "    (\"knn\", knn),\n",
    "    (\"lightgbm\", lightgbm),\n",
    "    (\"catboost\", catboost),\n",
    "    (\"rf\", rf),\n",
    ")\n",
    "\n",
    "meta = StackingRegressor(estimators=estimators, final_estimator=CatBoostRegressor(), n_jobs=-1)\n",
    "meta.fit(X_train, y_train)\n",
    "\n",
    "print(\"meta\", mean_absolute_percentage_error(y_valid, meta.predict(X_valid)))\n",
    "submit(test, meta, \"meta\")"
   ]
  }
 ],
 "metadata": {
  "interpreter": {
   "hash": "326a131e1315163df5847284d7bac20ddee532ca1eaccb72a712d33a5c79e104"
  },
  "kernelspec": {
   "display_name": "Python 3.7.13 ('env_ml': venv)",
   "language": "python",
   "name": "python3"
  },
  "language_info": {
   "codemirror_mode": {
    "name": "ipython",
    "version": 3
   },
   "file_extension": ".py",
   "mimetype": "text/x-python",
   "name": "python",
   "nbconvert_exporter": "python",
   "pygments_lexer": "ipython3",
   "version": "3.10.4"
  },
  "orig_nbformat": 4
 },
 "nbformat": 4,
 "nbformat_minor": 2
}
