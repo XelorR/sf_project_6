{
 "cells": [
  {
   "cell_type": "markdown",
   "metadata": {},
   "source": [
    "# Making all trains and test similar and compatible\n",
    "\n",
    "Rework of [this](2022-03-19_train-test_comparison.ipynb) notebook"
   ]
  },
  {
   "cell_type": "markdown",
   "metadata": {},
   "source": [
    "## imports and reading data"
   ]
  },
  {
   "cell_type": "code",
   "execution_count": 1,
   "metadata": {},
   "outputs": [],
   "source": [
    "from datetime import datetime\n",
    "import re\n",
    "import json\n",
    "import pandas as pd\n",
    "import numpy as np\n",
    "from lib.data_viz_functions import *\n"
   ]
  },
  {
   "cell_type": "code",
   "execution_count": 2,
   "metadata": {},
   "outputs": [],
   "source": [
    "train_jane = pd.read_pickle(\"data/train_df_full_part1.pkl.zip\", compression=\"zip\")\n",
    "train_baseline = pd.read_pickle(\"data/all_auto_ru_09_09_2020.pkl.zip\", compression=\"zip\")\n",
    "test = pd.read_pickle(\"data/test.pkl.zip\", compression=\"zip\")\n"
   ]
  },
  {
   "cell_type": "markdown",
   "metadata": {},
   "source": [
    "## functions and vocs for preprocessing"
   ]
  },
  {
   "cell_type": "code",
   "execution_count": 3,
   "metadata": {},
   "outputs": [],
   "source": [
    "colors_dict = {\n",
    "    \"040001\": \"чёрный\",\n",
    "    \"EE1D19\": \"красный\",\n",
    "    \"0000CC\": \"синий\",\n",
    "    \"CACECB\": \"серый\",\n",
    "    \"007F00\": \"зелёный\",\n",
    "    \"FAFBFB\": \"белый\",\n",
    "    \"97948F\": \"серый\",\n",
    "    \"22A0F8\": \"синий\",\n",
    "    \"660099\": \"фиолетовый\",\n",
    "    \"200204\": \"коричневый\",\n",
    "    \"C49648\": \"коричневый\",\n",
    "    \"DEA522\": \"золотистый\",\n",
    "    \"4A2197\": \"фиолетовый\",\n",
    "    \"FFD600\": \"жёлтый\",\n",
    "    \"FF8649\": \"оранжевый\",\n",
    "    \"FFC0CB\": \"розовый\",\n",
    "}\n",
    "\n",
    "vendor_voc_additional = {\n",
    "    \"CADILLAC\": \"AMERICAN\",\n",
    "    \"CHERY\": \"CHINESE\",\n",
    "    \"CHEVROLET\": \"AMERICAN\",\n",
    "    \"CHRYSLER\": \"AMERICAN\",\n",
    "    \"CITROEN\": \"EUROPEAN\",\n",
    "    \"DAEWOO\": \"KOREAN\",\n",
    "    \"DODGE\": \"AMERICAN\",\n",
    "    \"FORD\": \"AMERICAN\",\n",
    "    \"GEELY\": \"CHINEESE\",\n",
    "    \"HYUNDAI\": \"KOREAN\",\n",
    "    \"JAGUAR\": \"EUROPEAN\",\n",
    "    \"JEEP\": \"AMERICAN\",\n",
    "    \"KIA\": \"KOREAN\",\n",
    "    \"MAZDA\": \"JAPANESE\",\n",
    "    \"MINI\": \"EUROPEAN\",\n",
    "    \"OPEL\": \"EUROPEAN\",\n",
    "    \"PEUGEOT\": \"EUROPEAN\",\n",
    "    \"PORSCHE\": \"EUROPEAN\",\n",
    "    \"RENAULT\": \"EUROPEAN\",\n",
    "    \"SUBARU\": \"JAPANESE\",\n",
    "    \"SUZUKI\": \"JAPANESE\",\n",
    "    \"GREAT_WALL\": \"CHINESE\",\n",
    "    \"LAND_ROVER\": \"EUROPEAN\",\n",
    "    \"SSANG_YONG\": \"KOREAN\",\n",
    "}\n",
    "\n",
    "transmission_dict = {\n",
    "    \"роботизированная\": \"ROBOT\",\n",
    "    \"автоматическая\": \"AUTOMATIC\",\n",
    "    \"механическая\": \"MECHANICAL\",\n",
    "    \"вариатор\": \"VARIATOR\",\n",
    "}\n"
   ]
  },
  {
   "cell_type": "code",
   "execution_count": 4,
   "metadata": {},
   "outputs": [],
   "source": [
    "def parse_ownership_duration(train_str: str) -> int:\n",
    "    \"\"\"\n",
    "    Processing \"Владение\" column\n",
    "    Returns ownership duration in days (integer)\n",
    "    \"\"\"\n",
    "    baseline_str = \"{'year': 2020, 'month': 9}\"\n",
    "    if not isinstance(train_str, str):\n",
    "        return np.nan\n",
    "    elif \"year\" in str(train_str):\n",
    "        baseline_dict = json.loads(baseline_str.replace(\"'\", '\"'))\n",
    "        train_dict = json.loads(train_str.replace(\"'\", '\"'))\n",
    "        baseline_date = datetime.strptime(\n",
    "            f\"{baseline_dict['year']}-{baseline_dict['month']}-1\", \"%Y-%m-%d\"\n",
    "        )\n",
    "        train_date = datetime.strptime(\n",
    "            f\"{train_dict['year']}-{train_dict['month']}-1\", \"%Y-%m-%d\"\n",
    "        )\n",
    "        return (baseline_date - train_date).days\n",
    "    elif \" и \" in str(train_str):\n",
    "        return (\n",
    "            int(train_str.split(\" \")[0]) * 365\n",
    "            + int(train_str.split(\" и \")[1].split(\" \")[0]) * 30\n",
    "        )\n",
    "    else:\n",
    "        return int(train_str.split(\" \")[0]) * 365\n",
    "\n",
    "\n",
    "def get_number_of_owners_from_owners(in_str):\n",
    "    \"\"\"\n",
    "    Processing \"Владельцы\" column\n",
    "    Extracting numbers from text\n",
    "    \"\"\"\n",
    "    if not isinstance(in_str, str):\n",
    "        return None\n",
    "    else:\n",
    "        result = in_str.replace(\"\\xa0\", \"\")\n",
    "        return int(re.sub(\"\\D\", \"\", result))\n",
    "\n",
    "\n",
    "def get_volume_from_vehicleConfiguration(in_str: str) -> str:\n",
    "    \"\"\"\n",
    "    Processing \"engineDisplacement\"\n",
    "    Extracting numbers but resurns as str: to convers using .astype method after\n",
    "    \"\"\"\n",
    "    if not pd.isna(in_str):\n",
    "        engine_volume = re.findall(\"[\\d]*[.][\\d]+\", in_str)\n",
    "        if len(engine_volume) >= 1:\n",
    "            return engine_volume[0]\n",
    "        else:\n",
    "            return np.nan\n",
    "    else:\n",
    "        return np.nan\n"
   ]
  },
  {
   "cell_type": "markdown",
   "metadata": {},
   "source": [
    "## cleanup start"
   ]
  },
  {
   "cell_type": "markdown",
   "metadata": {},
   "source": [
    "### enginePower, engineDisplacement and name"
   ]
  },
  {
   "cell_type": "code",
   "execution_count": 5,
   "metadata": {},
   "outputs": [],
   "source": [
    "train_jane[\"enginePower\"] = train_jane[\"enginePower\"].replace(\"undefined N12\", None)\n",
    "train_jane[\"enginePower\"] = (\n",
    "    train_jane[~pd.isna(train_jane[\"enginePower\"])][\"enginePower\"]\n",
    "    .str.split()\n",
    "    .str.get(0)\n",
    "    .astype(\"int\")\n",
    ")"
   ]
  },
  {
   "cell_type": "code",
   "execution_count": 6,
   "metadata": {},
   "outputs": [],
   "source": [
    "test[\"enginePower\"] = test[\"enginePower\"].replace(\"undefined N12\", None)\n",
    "test[\"enginePower\"] = (\n",
    "    test[~pd.isna(test[\"enginePower\"])][\"enginePower\"]\n",
    "    .str.split()\n",
    "    .str.get(0)\n",
    "    .astype(\"int\")\n",
    ")"
   ]
  },
  {
   "cell_type": "code",
   "execution_count": 7,
   "metadata": {},
   "outputs": [],
   "source": [
    "train_jane[\"engineDisplacement\"] = train_jane[\"engineDisplacement\"].replace(\n",
    "    \" LTR\", None\n",
    ")\n",
    "train_jane[\"engineDisplacement\"] = (\n",
    "    train_jane[~pd.isna(train_jane[\"engineDisplacement\"])][\"engineDisplacement\"]\n",
    "    .str.split()\n",
    "    .str.get(0)\n",
    "    .astype(\"float\")\n",
    ")"
   ]
  },
  {
   "cell_type": "code",
   "execution_count": 8,
   "metadata": {},
   "outputs": [],
   "source": [
    "train_baseline[\"engineDisplacement\"] = (\n",
    "    train_baseline[\"name\"].apply(get_volume_from_vehicleConfiguration).astype(\"float64\")\n",
    ")"
   ]
  },
  {
   "cell_type": "code",
   "execution_count": 9,
   "metadata": {},
   "outputs": [],
   "source": [
    "test[\"engineDisplacement\"] = test[\"engineDisplacement\"].replace(\" LTR\", None)\n",
    "test[\"engineDisplacement\"] = (\n",
    "    test[~pd.isna(test[\"engineDisplacement\"])][\"engineDisplacement\"]\n",
    "    .str.split()\n",
    "    .str.get(0)\n",
    "    .astype(\"float\")\n",
    ")"
   ]
  },
  {
   "cell_type": "markdown",
   "metadata": {},
   "source": [
    "### generating \"used\" col"
   ]
  },
  {
   "cell_type": "code",
   "execution_count": 10,
   "metadata": {},
   "outputs": [],
   "source": [
    "train_jane[\"used\"] = train_jane[\"car_url\"].str.contains(\"used\")"
   ]
  },
  {
   "cell_type": "code",
   "execution_count": 11,
   "metadata": {},
   "outputs": [],
   "source": [
    "test[\"Владельцы\"] = test[\"Владельцы\"].apply(get_number_of_owners_from_owners)\n",
    "train_jane[\"Владельцы\"] = train_jane[\"Владельцы\"].apply(\n",
    "    get_number_of_owners_from_owners\n",
    ")"
   ]
  },
  {
   "cell_type": "code",
   "execution_count": 12,
   "metadata": {},
   "outputs": [],
   "source": [
    "train_jane[\"model_name\"] = train_jane.model_name.apply(\n",
    "    lambda x: x.lower() if not pd.isna(x) else x\n",
    ")\n",
    "test[\"model_name\"] = test.model_name.apply(lambda x: x.lower() if not pd.isna(x) else x)"
   ]
  },
  {
   "cell_type": "markdown",
   "metadata": {},
   "source": [
    "### vendor -- fillna"
   ]
  },
  {
   "cell_type": "code",
   "execution_count": 13,
   "metadata": {},
   "outputs": [],
   "source": [
    "vendor_voc = (\n",
    "    test[[\"brand\", \"vendor\"]].drop_duplicates().set_index(\"brand\").to_dict()[\"vendor\"]\n",
    ") | vendor_voc_additional"
   ]
  },
  {
   "cell_type": "code",
   "execution_count": 14,
   "metadata": {},
   "outputs": [],
   "source": [
    "train_jane[\"vendor\"] = train_jane[\"brand\"].map(vendor_voc)\n",
    "train_baseline[\"vendor\"] = train_baseline[\"brand\"].map(vendor_voc)"
   ]
  },
  {
   "cell_type": "markdown",
   "metadata": {},
   "source": [
    "### dropna by vendor"
   ]
  },
  {
   "cell_type": "code",
   "execution_count": 15,
   "metadata": {},
   "outputs": [],
   "source": [
    "train_jane.dropna(subset=[\"vendor\"], axis=\"rows\", inplace=True)"
   ]
  },
  {
   "cell_type": "markdown",
   "metadata": {},
   "source": [
    "## deleting cols which can not be used by some reason. At least for now"
   ]
  },
  {
   "cell_type": "code",
   "execution_count": 16,
   "metadata": {},
   "outputs": [],
   "source": [
    "del test[\"car_url\"]\n",
    "del test[\"complectation_dict\"]\n",
    "del test[\"equipment_dict\"]\n",
    "del test[\"image\"]\n",
    "del test[\"model_info\"]\n",
    "del test[\"name\"]\n",
    "del test[\"parsing_unixtime\"]\n",
    "del test[\"priceCurrency\"]\n",
    "del test[\"sell_id\"]\n",
    "del test[\"vehicleConfiguration\"]\n",
    "del test[\"Состояние\"]\n",
    "del test[\"Таможня\"]\n",
    "del test[\"super_gen\"]\n",
    "del test[\"model_name\"]\n",
    "del train_baseline[\"hidden\"]\n",
    "del train_baseline[\"name\"]\n",
    "del train_baseline[\"start_date\"]\n",
    "del train_baseline[\"vehicleConfiguration\"]\n",
    "del train_baseline[\"Комплектация\"]\n",
    "del train_baseline[\"Состояние\"]\n",
    "del train_baseline[\"Таможня\"]\n",
    "del train_baseline[\"model\"]\n",
    "del train_jane[\"car_url\"]\n",
    "del train_jane[\"complectation_dict\"]\n",
    "del train_jane[\"date_added\"]\n",
    "del train_jane[\"equipment_dict\"]\n",
    "del train_jane[\"image\"]\n",
    "del train_jane[\"model_info\"]\n",
    "del train_jane[\"name\"]\n",
    "del train_jane[\"parsing_unixtime\"]\n",
    "del train_jane[\"priceCurrency\"]\n",
    "del train_jane[\"region\"]\n",
    "del train_jane[\"sell_id\"]\n",
    "del train_jane[\"vehicleConfiguration\"]\n",
    "del train_jane[\"views\"]\n",
    "del train_jane[\"Состояние\"]\n",
    "del train_jane[\"Таможня\"]\n",
    "del train_jane[\"super_gen\"]\n",
    "del train_jane[\"used\"]\n",
    "del train_jane[\"model_name\"]"
   ]
  },
  {
   "cell_type": "markdown",
   "metadata": {},
   "source": [
    "## appending trains and further cleanup"
   ]
  },
  {
   "cell_type": "code",
   "execution_count": 17,
   "metadata": {},
   "outputs": [],
   "source": [
    "train_jane[\"sample\"] = \"jane\"\n",
    "train_baseline[\"sample\"] = \"baseline\"\n",
    "train = pd.concat([train_jane, train_baseline])"
   ]
  },
  {
   "cell_type": "code",
   "execution_count": 18,
   "metadata": {},
   "outputs": [],
   "source": [
    "train.drop_duplicates(inplace=True)\n",
    "train.dropna(subset=[\"price\"], inplace=True)\n",
    "train.reset_index(drop=True, inplace=True)"
   ]
  },
  {
   "cell_type": "code",
   "execution_count": 19,
   "metadata": {},
   "outputs": [
    {
     "data": {
      "text/html": [
       "<div>\n",
       "<style scoped>\n",
       "    .dataframe tbody tr th:only-of-type {\n",
       "        vertical-align: middle;\n",
       "    }\n",
       "\n",
       "    .dataframe tbody tr th {\n",
       "        vertical-align: top;\n",
       "    }\n",
       "\n",
       "    .dataframe thead th {\n",
       "        text-align: right;\n",
       "    }\n",
       "</style>\n",
       "<table border=\"1\" class=\"dataframe\">\n",
       "  <thead>\n",
       "    <tr style=\"text-align: right;\">\n",
       "      <th></th>\n",
       "      <th>bodyType</th>\n",
       "      <th>brand</th>\n",
       "      <th>color</th>\n",
       "      <th>description</th>\n",
       "      <th>engineDisplacement</th>\n",
       "      <th>enginePower</th>\n",
       "      <th>fuelType</th>\n",
       "      <th>mileage</th>\n",
       "      <th>modelDate</th>\n",
       "      <th>numberOfDoors</th>\n",
       "      <th>productionDate</th>\n",
       "      <th>vehicleTransmission</th>\n",
       "      <th>vendor</th>\n",
       "      <th>Владельцы</th>\n",
       "      <th>Владение</th>\n",
       "      <th>ПТС</th>\n",
       "      <th>Привод</th>\n",
       "      <th>Руль</th>\n",
       "      <th>price</th>\n",
       "      <th>sample</th>\n",
       "    </tr>\n",
       "  </thead>\n",
       "  <tbody>\n",
       "    <tr>\n",
       "      <th>9723</th>\n",
       "      <td>NaN</td>\n",
       "      <td>HONDA</td>\n",
       "      <td>пурпурный</td>\n",
       "      <td>В хорошем состоянии на ходу</td>\n",
       "      <td>NaN</td>\n",
       "      <td>NaN</td>\n",
       "      <td>NaN</td>\n",
       "      <td>220000.0</td>\n",
       "      <td>NaN</td>\n",
       "      <td>NaN</td>\n",
       "      <td>1989.0</td>\n",
       "      <td>NaN</td>\n",
       "      <td>JAPANESE</td>\n",
       "      <td>3.0</td>\n",
       "      <td>NaN</td>\n",
       "      <td>Оригинал</td>\n",
       "      <td>NaN</td>\n",
       "      <td>Левый</td>\n",
       "      <td>110000.0</td>\n",
       "      <td>jane</td>\n",
       "    </tr>\n",
       "    <tr>\n",
       "      <th>59745</th>\n",
       "      <td>NaN</td>\n",
       "      <td>HONDA</td>\n",
       "      <td>CACECB</td>\n",
       "      <td>Продаю Honda Civic Suttle 1989 г. выпуска, неу...</td>\n",
       "      <td>NaN</td>\n",
       "      <td>NaN</td>\n",
       "      <td>универсал</td>\n",
       "      <td>400000.0</td>\n",
       "      <td>NaN</td>\n",
       "      <td>NaN</td>\n",
       "      <td>1989.0</td>\n",
       "      <td>NaN</td>\n",
       "      <td>JAPANESE</td>\n",
       "      <td>3.0</td>\n",
       "      <td>NaN</td>\n",
       "      <td>ORIGINAL</td>\n",
       "      <td>NaN</td>\n",
       "      <td>LEFT</td>\n",
       "      <td>120000.0</td>\n",
       "      <td>baseline</td>\n",
       "    </tr>\n",
       "  </tbody>\n",
       "</table>\n",
       "</div>"
      ],
      "text/plain": [
       "      bodyType  brand      color  \\\n",
       "9723       NaN  HONDA  пурпурный   \n",
       "59745      NaN  HONDA     CACECB   \n",
       "\n",
       "                                             description  engineDisplacement  \\\n",
       "9723                         В хорошем состоянии на ходу                 NaN   \n",
       "59745  Продаю Honda Civic Suttle 1989 г. выпуска, неу...                 NaN   \n",
       "\n",
       "       enginePower   fuelType   mileage  modelDate  numberOfDoors  \\\n",
       "9723           NaN        NaN  220000.0        NaN            NaN   \n",
       "59745          NaN  универсал  400000.0        NaN            NaN   \n",
       "\n",
       "       productionDate vehicleTransmission    vendor  Владельцы Владение  \\\n",
       "9723           1989.0                 NaN  JAPANESE        3.0      NaN   \n",
       "59745          1989.0                 NaN  JAPANESE        3.0      NaN   \n",
       "\n",
       "            ПТС Привод   Руль     price    sample  \n",
       "9723   Оригинал    NaN  Левый  110000.0      jane  \n",
       "59745  ORIGINAL    NaN   LEFT  120000.0  baseline  "
      ]
     },
     "execution_count": 19,
     "metadata": {},
     "output_type": "execute_result"
    }
   ],
   "source": [
    "train.loc[train.bodyType.isna()]"
   ]
  },
  {
   "cell_type": "code",
   "execution_count": 20,
   "metadata": {},
   "outputs": [],
   "source": [
    "train.dropna(subset=\"bodyType\", inplace=True)"
   ]
  },
  {
   "cell_type": "markdown",
   "metadata": {},
   "source": [
    "### Владение"
   ]
  },
  {
   "cell_type": "code",
   "execution_count": 21,
   "metadata": {},
   "outputs": [],
   "source": [
    "train[\"Владение\"] = train[\"Владение\"].apply(parse_ownership_duration)\n",
    "test[\"Владение\"] = test[\"Владение\"].apply(parse_ownership_duration)"
   ]
  },
  {
   "cell_type": "markdown",
   "metadata": {},
   "source": [
    "### bodyType"
   ]
  },
  {
   "cell_type": "code",
   "execution_count": 22,
   "metadata": {},
   "outputs": [],
   "source": [
    "train[\"bodyType\"] = train[\"bodyType\"].str.replace(\"-\", \" \")\n",
    "train[\"bodyType\"] = train[\"bodyType\"].str.lower()"
   ]
  },
  {
   "cell_type": "code",
   "execution_count": 23,
   "metadata": {},
   "outputs": [],
   "source": [
    "train[\"bodyType\"] = train[\"bodyType\"].str.replace(\"-\", \" \")\n",
    "test[\"bodyType\"] = test[\"bodyType\"].str.replace(\"-\", \" \")"
   ]
  },
  {
   "cell_type": "code",
   "execution_count": 24,
   "metadata": {},
   "outputs": [],
   "source": [
    "train[\"bodyType\"] = train[\"bodyType\"].apply(\n",
    "    lambda x: x.split()[0] if not pd.isna(x) else x\n",
    ")\n",
    "test[\"bodyType\"] = test[\"bodyType\"].apply(\n",
    "    lambda x: x.split()[0] if not pd.isna(x) else x\n",
    ")"
   ]
  },
  {
   "cell_type": "markdown",
   "metadata": {},
   "source": [
    "### color"
   ]
  },
  {
   "cell_type": "code",
   "execution_count": 25,
   "metadata": {},
   "outputs": [],
   "source": [
    "train[\"color\"].replace(colors_dict, inplace=True)"
   ]
  },
  {
   "cell_type": "markdown",
   "metadata": {},
   "source": [
    "### vehicleTransmission"
   ]
  },
  {
   "cell_type": "code",
   "execution_count": 26,
   "metadata": {},
   "outputs": [],
   "source": [
    "test[\"vehicleTransmission\"] = test[\"vehicleTransmission\"].replace(transmission_dict)\n",
    "train[\"vehicleTransmission\"] = train[\"vehicleTransmission\"].replace(transmission_dict)"
   ]
  },
  {
   "cell_type": "markdown",
   "metadata": {},
   "source": [
    "### ПТС and Руль"
   ]
  },
  {
   "cell_type": "code",
   "execution_count": 27,
   "metadata": {},
   "outputs": [],
   "source": [
    "train[\"ПТС\"].replace({\"ORIGINAL\": \"Оригинал\", \"DUPLICATE\": \"Дубликат\"}, inplace=True)\n",
    "train[\"Руль\"].replace({\"LEFT\": \"Левый\", \"RIGHT\": \"Правый\"}, inplace=True)"
   ]
  },
  {
   "cell_type": "markdown",
   "metadata": {},
   "source": [
    "### description"
   ]
  },
  {
   "cell_type": "code",
   "execution_count": 28,
   "metadata": {},
   "outputs": [],
   "source": [
    "train[\"description\"] = train[\"description\"].str.lower()\n",
    "test[\"description\"] = test[\"description\"].str.lower()"
   ]
  },
  {
   "cell_type": "code",
   "execution_count": 29,
   "metadata": {},
   "outputs": [],
   "source": [
    "r = re.compile(\"[\\W_]+\")"
   ]
  },
  {
   "cell_type": "code",
   "execution_count": 30,
   "metadata": {},
   "outputs": [],
   "source": [
    "train[\"description\"] = train[\"description\"].apply(\n",
    "    lambda x: r.sub(\" \", x) if not pd.isna(x) else x\n",
    ")\n",
    "test[\"description\"] = test[\"description\"].apply(\n",
    "    lambda x: r.sub(\" \", x) if not pd.isna(x) else x\n",
    ")"
   ]
  },
  {
   "cell_type": "markdown",
   "metadata": {},
   "source": [
    "### converting types"
   ]
  },
  {
   "cell_type": "code",
   "execution_count": 31,
   "metadata": {},
   "outputs": [],
   "source": [
    "train.loc[train[\"bodyType\"].isna() == False, \"bodyType\"] = train[\"bodyType\"].astype(\"str\")\n",
    "train.loc[train[\"brand\"].isna() == False, \"brand\"] = train[\"brand\"].astype(\"str\")\n",
    "train.loc[train[\"color\"].isna() == False, \"color\"] = train[\"color\"].astype(\"str\")\n",
    "train.loc[train[\"description\"].isna() == False, \"description\"] = train[\"description\"].astype(\"str\")\n",
    "train.loc[train[\"engineDisplacement\"].isna() == False, \"engineDisplacement\"] = train[\"engineDisplacement\"].astype(\"float32\")\n",
    "train.loc[train[\"enginePower\"].isna() == False, \"enginePower\"] = train[\"enginePower\"].astype(\"float32\")\n",
    "train.loc[train[\"fuelType\"].isna() == False, \"fuelType\"] = train[\"fuelType\"].astype(\"str\")\n",
    "train.loc[train[\"mileage\"].isna() == False, \"mileage\"] = train[\"mileage\"].astype(\"float32\")\n",
    "train.loc[train[\"modelDate\"].isna() == False, \"modelDate\"] = train[\"modelDate\"].astype(\"float32\")\n",
    "train.loc[train[\"numberOfDoors\"].isna() == False, \"numberOfDoors\"] = train[\"numberOfDoors\"].astype(\"float32\")\n",
    "train.loc[train[\"productionDate\"].isna() == False, \"productionDate\"] = train[\"productionDate\"].astype(\"float32\")\n",
    "train.loc[train[\"vehicleTransmission\"].isna() == False, \"vehicleTransmission\"] = train[\"vehicleTransmission\"].astype(\"str\")\n",
    "train.loc[train[\"vendor\"].isna() == False, \"vendor\"] = train[\"vendor\"].astype(\"str\")\n",
    "train.loc[train[\"Владельцы\"].isna() == False, \"Владельцы\"] = train[\"Владельцы\"].astype(\"float32\")\n",
    "train.loc[train[\"Владение\"].isna() == False, \"Владение\"] = train[\"Владение\"].astype(\"float32\")\n",
    "train.loc[train[\"ПТС\"].isna() == False, \"ПТС\"] = train[\"ПТС\"].astype(\"str\")\n",
    "train.loc[train[\"Привод\"].isna() == False, \"Привод\"] = train[\"Привод\"].astype(\"str\")\n",
    "train.loc[train[\"Руль\"].isna() == False, \"Руль\"] = train[\"Руль\"].astype(\"str\")\n",
    "\n",
    "train.loc[train[\"price\"].isna() == False, \"price\"] = train[\"price\"].astype(\"float64\")\n",
    "\n",
    "test.loc[test[\"bodyType\"].isna() == False, \"bodyType\"] = test[\"bodyType\"].astype(\"str\")\n",
    "test.loc[test[\"brand\"].isna() == False, \"brand\"] = test[\"brand\"].astype(\"str\")\n",
    "test.loc[test[\"color\"].isna() == False, \"color\"] = test[\"color\"].astype(\"str\")\n",
    "test.loc[test[\"description\"].isna() == False, \"description\"] = test[\"description\"].astype(\"str\")\n",
    "test.loc[test[\"engineDisplacement\"].isna() == False, \"engineDisplacement\"] = test[\"engineDisplacement\"].astype(\"float32\")\n",
    "test.loc[test[\"enginePower\"].isna() == False, \"enginePower\"] = test[\"enginePower\"].astype(\"float32\")\n",
    "test.loc[test[\"fuelType\"].isna() == False, \"fuelType\"] = test[\"fuelType\"].astype(\"str\")\n",
    "test.loc[test[\"mileage\"].isna() == False, \"mileage\"] = test[\"mileage\"].astype(\"float32\")\n",
    "test.loc[test[\"modelDate\"].isna() == False, \"modelDate\"] = test[\"modelDate\"].astype(\"float32\")\n",
    "test.loc[test[\"numberOfDoors\"].isna() == False, \"numberOfDoors\"] = test[\"numberOfDoors\"].astype(\"float32\")\n",
    "test.loc[test[\"productionDate\"].isna() == False, \"productionDate\"] = test[\"productionDate\"].astype(\"float32\")\n",
    "test.loc[test[\"vehicleTransmission\"].isna() == False, \"vehicleTransmission\"] = test[\"vehicleTransmission\"].astype(\"str\")\n",
    "test.loc[test[\"vendor\"].isna() == False, \"vendor\"] = test[\"vendor\"].astype(\"str\")\n",
    "test.loc[test[\"Владельцы\"].isna() == False, \"Владельцы\"] = test[\"Владельцы\"].astype(\"float32\")\n",
    "test.loc[test[\"Владение\"].isna() == False, \"Владение\"] = test[\"Владение\"].astype(\"float32\")\n",
    "test.loc[test[\"ПТС\"].isna() == False, \"ПТС\"] = test[\"ПТС\"].astype(\"str\")\n",
    "test.loc[test[\"Привод\"].isna() == False, \"Привод\"] = test[\"Привод\"].astype(\"str\")\n",
    "test.loc[test[\"Руль\"].isna() == False, \"Руль\"] = test[\"Руль\"].astype(\"str\")"
   ]
  },
  {
   "cell_type": "code",
   "execution_count": 32,
   "metadata": {},
   "outputs": [
    {
     "data": {
      "text/plain": [
       "['bodyType',\n",
       " 'brand',\n",
       " 'color',\n",
       " 'description',\n",
       " 'engineDisplacement',\n",
       " 'enginePower',\n",
       " 'fuelType',\n",
       " 'mileage',\n",
       " 'modelDate',\n",
       " 'numberOfDoors',\n",
       " 'productionDate',\n",
       " 'vehicleTransmission',\n",
       " 'vendor',\n",
       " 'Владельцы',\n",
       " 'Владение',\n",
       " 'ПТС',\n",
       " 'Привод',\n",
       " 'Руль',\n",
       " 'price',\n",
       " 'sample']"
      ]
     },
     "execution_count": 32,
     "metadata": {},
     "output_type": "execute_result"
    }
   ],
   "source": [
    "train.columns.tolist()"
   ]
  },
  {
   "cell_type": "markdown",
   "metadata": {},
   "source": [
    "## reviewing before write"
   ]
  },
  {
   "cell_type": "code",
   "execution_count": 33,
   "metadata": {},
   "outputs": [
    {
     "data": {
      "text/html": [
       "<div>\n",
       "<style scoped>\n",
       "    .dataframe tbody tr th:only-of-type {\n",
       "        vertical-align: middle;\n",
       "    }\n",
       "\n",
       "    .dataframe tbody tr th {\n",
       "        vertical-align: top;\n",
       "    }\n",
       "\n",
       "    .dataframe thead th {\n",
       "        text-align: right;\n",
       "    }\n",
       "</style>\n",
       "<table border=\"1\" class=\"dataframe\">\n",
       "  <thead>\n",
       "    <tr style=\"text-align: right;\">\n",
       "      <th></th>\n",
       "      <th>100912</th>\n",
       "      <th>7187</th>\n",
       "      <th>89066</th>\n",
       "      <th>103550</th>\n",
       "      <th>107137</th>\n",
       "    </tr>\n",
       "  </thead>\n",
       "  <tbody>\n",
       "    <tr>\n",
       "      <th>bodyType</th>\n",
       "      <td>внедорожник</td>\n",
       "      <td>внедорожник</td>\n",
       "      <td>хэтчбек</td>\n",
       "      <td>хэтчбек</td>\n",
       "      <td>минивэн</td>\n",
       "    </tr>\n",
       "    <tr>\n",
       "      <th>brand</th>\n",
       "      <td>TOYOTA</td>\n",
       "      <td>HONDA</td>\n",
       "      <td>PEUGEOT</td>\n",
       "      <td>VOLKSWAGEN</td>\n",
       "      <td>VOLKSWAGEN</td>\n",
       "    </tr>\n",
       "    <tr>\n",
       "      <th>color</th>\n",
       "      <td>зелёный</td>\n",
       "      <td>чёрный</td>\n",
       "      <td>красный</td>\n",
       "      <td>зелёный</td>\n",
       "      <td>серый</td>\n",
       "    </tr>\n",
       "    <tr>\n",
       "      <th>description</th>\n",
       "      <td>в хорошем состоянии номера все читаются салон ...</td>\n",
       "      <td>лот 01281758 skoda фаворит моторс юг особеннос...</td>\n",
       "      <td>состояние нового авто пробег родной 64500 в од...</td>\n",
       "      <td>легендарный и единственный в своем роде golf r...</td>\n",
       "      <td>продаю фольксваген шаран в моих руках с 2003 г...</td>\n",
       "    </tr>\n",
       "    <tr>\n",
       "      <th>engineDisplacement</th>\n",
       "      <td>4.0</td>\n",
       "      <td>2.0</td>\n",
       "      <td>1.6</td>\n",
       "      <td>2.0</td>\n",
       "      <td>2.8</td>\n",
       "    </tr>\n",
       "    <tr>\n",
       "      <th>enginePower</th>\n",
       "      <td>249.0</td>\n",
       "      <td>150.0</td>\n",
       "      <td>120.0</td>\n",
       "      <td>256.0</td>\n",
       "      <td>174.0</td>\n",
       "    </tr>\n",
       "    <tr>\n",
       "      <th>fuelType</th>\n",
       "      <td>бензин</td>\n",
       "      <td>бензин</td>\n",
       "      <td>бензин</td>\n",
       "      <td>бензин</td>\n",
       "      <td>бензин</td>\n",
       "    </tr>\n",
       "    <tr>\n",
       "      <th>mileage</th>\n",
       "      <td>320260.0</td>\n",
       "      <td>266394.0</td>\n",
       "      <td>64500.0</td>\n",
       "      <td>195311.0</td>\n",
       "      <td>360000.0</td>\n",
       "    </tr>\n",
       "    <tr>\n",
       "      <th>modelDate</th>\n",
       "      <td>2002.0</td>\n",
       "      <td>2009.0</td>\n",
       "      <td>2007.0</td>\n",
       "      <td>2009.0</td>\n",
       "      <td>1995.0</td>\n",
       "    </tr>\n",
       "    <tr>\n",
       "      <th>numberOfDoors</th>\n",
       "      <td>5.0</td>\n",
       "      <td>5.0</td>\n",
       "      <td>5.0</td>\n",
       "      <td>5.0</td>\n",
       "      <td>5.0</td>\n",
       "    </tr>\n",
       "    <tr>\n",
       "      <th>price</th>\n",
       "      <td>870000.0</td>\n",
       "      <td>1080000.0</td>\n",
       "      <td>450000.0</td>\n",
       "      <td>1080000.0</td>\n",
       "      <td>210000.0</td>\n",
       "    </tr>\n",
       "    <tr>\n",
       "      <th>productionDate</th>\n",
       "      <td>2003.0</td>\n",
       "      <td>2011.0</td>\n",
       "      <td>2009.0</td>\n",
       "      <td>2012.0</td>\n",
       "      <td>1998.0</td>\n",
       "    </tr>\n",
       "    <tr>\n",
       "      <th>sample</th>\n",
       "      <td>baseline</td>\n",
       "      <td>jane</td>\n",
       "      <td>baseline</td>\n",
       "      <td>baseline</td>\n",
       "      <td>baseline</td>\n",
       "    </tr>\n",
       "    <tr>\n",
       "      <th>vehicleTransmission</th>\n",
       "      <td>AUTOMATIC</td>\n",
       "      <td>MECHANICAL</td>\n",
       "      <td>AUTOMATIC</td>\n",
       "      <td>ROBOT</td>\n",
       "      <td>AUTOMATIC</td>\n",
       "    </tr>\n",
       "    <tr>\n",
       "      <th>vendor</th>\n",
       "      <td>JAPANESE</td>\n",
       "      <td>JAPANESE</td>\n",
       "      <td>EUROPEAN</td>\n",
       "      <td>EUROPEAN</td>\n",
       "      <td>EUROPEAN</td>\n",
       "    </tr>\n",
       "    <tr>\n",
       "      <th>Владельцы</th>\n",
       "      <td>3.0</td>\n",
       "      <td>2.0</td>\n",
       "      <td>2.0</td>\n",
       "      <td>3.0</td>\n",
       "      <td>2.0</td>\n",
       "    </tr>\n",
       "    <tr>\n",
       "      <th>Владение</th>\n",
       "      <td>NaN</td>\n",
       "      <td>NaN</td>\n",
       "      <td>NaN</td>\n",
       "      <td>1280.0</td>\n",
       "      <td>6210.0</td>\n",
       "    </tr>\n",
       "    <tr>\n",
       "      <th>ПТС</th>\n",
       "      <td>Оригинал</td>\n",
       "      <td>Оригинал</td>\n",
       "      <td>Оригинал</td>\n",
       "      <td>Дубликат</td>\n",
       "      <td>Оригинал</td>\n",
       "    </tr>\n",
       "    <tr>\n",
       "      <th>Привод</th>\n",
       "      <td>полный</td>\n",
       "      <td>полный</td>\n",
       "      <td>передний</td>\n",
       "      <td>полный</td>\n",
       "      <td>передний</td>\n",
       "    </tr>\n",
       "    <tr>\n",
       "      <th>Руль</th>\n",
       "      <td>Левый</td>\n",
       "      <td>Левый</td>\n",
       "      <td>Левый</td>\n",
       "      <td>Левый</td>\n",
       "      <td>Левый</td>\n",
       "    </tr>\n",
       "  </tbody>\n",
       "</table>\n",
       "</div>"
      ],
      "text/plain": [
       "                                                                100912  \\\n",
       "bodyType                                                   внедорожник   \n",
       "brand                                                           TOYOTA   \n",
       "color                                                          зелёный   \n",
       "description          в хорошем состоянии номера все читаются салон ...   \n",
       "engineDisplacement                                                 4.0   \n",
       "enginePower                                                      249.0   \n",
       "fuelType                                                        бензин   \n",
       "mileage                                                       320260.0   \n",
       "modelDate                                                       2002.0   \n",
       "numberOfDoors                                                      5.0   \n",
       "price                                                         870000.0   \n",
       "productionDate                                                  2003.0   \n",
       "sample                                                        baseline   \n",
       "vehicleTransmission                                          AUTOMATIC   \n",
       "vendor                                                        JAPANESE   \n",
       "Владельцы                                                          3.0   \n",
       "Владение                                                           NaN   \n",
       "ПТС                                                           Оригинал   \n",
       "Привод                                                          полный   \n",
       "Руль                                                             Левый   \n",
       "\n",
       "                                                                7187    \\\n",
       "bodyType                                                   внедорожник   \n",
       "brand                                                            HONDA   \n",
       "color                                                           чёрный   \n",
       "description          лот 01281758 skoda фаворит моторс юг особеннос...   \n",
       "engineDisplacement                                                 2.0   \n",
       "enginePower                                                      150.0   \n",
       "fuelType                                                        бензин   \n",
       "mileage                                                       266394.0   \n",
       "modelDate                                                       2009.0   \n",
       "numberOfDoors                                                      5.0   \n",
       "price                                                        1080000.0   \n",
       "productionDate                                                  2011.0   \n",
       "sample                                                            jane   \n",
       "vehicleTransmission                                         MECHANICAL   \n",
       "vendor                                                        JAPANESE   \n",
       "Владельцы                                                          2.0   \n",
       "Владение                                                           NaN   \n",
       "ПТС                                                           Оригинал   \n",
       "Привод                                                          полный   \n",
       "Руль                                                             Левый   \n",
       "\n",
       "                                                                89066   \\\n",
       "bodyType                                                       хэтчбек   \n",
       "brand                                                          PEUGEOT   \n",
       "color                                                          красный   \n",
       "description          состояние нового авто пробег родной 64500 в од...   \n",
       "engineDisplacement                                                 1.6   \n",
       "enginePower                                                      120.0   \n",
       "fuelType                                                        бензин   \n",
       "mileage                                                        64500.0   \n",
       "modelDate                                                       2007.0   \n",
       "numberOfDoors                                                      5.0   \n",
       "price                                                         450000.0   \n",
       "productionDate                                                  2009.0   \n",
       "sample                                                        baseline   \n",
       "vehicleTransmission                                          AUTOMATIC   \n",
       "vendor                                                        EUROPEAN   \n",
       "Владельцы                                                          2.0   \n",
       "Владение                                                           NaN   \n",
       "ПТС                                                           Оригинал   \n",
       "Привод                                                        передний   \n",
       "Руль                                                             Левый   \n",
       "\n",
       "                                                                103550  \\\n",
       "bodyType                                                       хэтчбек   \n",
       "brand                                                       VOLKSWAGEN   \n",
       "color                                                          зелёный   \n",
       "description          легендарный и единственный в своем роде golf r...   \n",
       "engineDisplacement                                                 2.0   \n",
       "enginePower                                                      256.0   \n",
       "fuelType                                                        бензин   \n",
       "mileage                                                       195311.0   \n",
       "modelDate                                                       2009.0   \n",
       "numberOfDoors                                                      5.0   \n",
       "price                                                        1080000.0   \n",
       "productionDate                                                  2012.0   \n",
       "sample                                                        baseline   \n",
       "vehicleTransmission                                              ROBOT   \n",
       "vendor                                                        EUROPEAN   \n",
       "Владельцы                                                          3.0   \n",
       "Владение                                                        1280.0   \n",
       "ПТС                                                           Дубликат   \n",
       "Привод                                                          полный   \n",
       "Руль                                                             Левый   \n",
       "\n",
       "                                                                107137  \n",
       "bodyType                                                       минивэн  \n",
       "brand                                                       VOLKSWAGEN  \n",
       "color                                                            серый  \n",
       "description          продаю фольксваген шаран в моих руках с 2003 г...  \n",
       "engineDisplacement                                                 2.8  \n",
       "enginePower                                                      174.0  \n",
       "fuelType                                                        бензин  \n",
       "mileage                                                       360000.0  \n",
       "modelDate                                                       1995.0  \n",
       "numberOfDoors                                                      5.0  \n",
       "price                                                         210000.0  \n",
       "productionDate                                                  1998.0  \n",
       "sample                                                        baseline  \n",
       "vehicleTransmission                                          AUTOMATIC  \n",
       "vendor                                                        EUROPEAN  \n",
       "Владельцы                                                          2.0  \n",
       "Владение                                                        6210.0  \n",
       "ПТС                                                           Оригинал  \n",
       "Привод                                                        передний  \n",
       "Руль                                                             Левый  "
      ]
     },
     "execution_count": 33,
     "metadata": {},
     "output_type": "execute_result"
    }
   ],
   "source": [
    "train[train.columns.sort_values().tolist()].sample(5, random_state=42).T"
   ]
  },
  {
   "cell_type": "code",
   "execution_count": 34,
   "metadata": {},
   "outputs": [
    {
     "data": {
      "text/html": [
       "<div>\n",
       "<style scoped>\n",
       "    .dataframe tbody tr th:only-of-type {\n",
       "        vertical-align: middle;\n",
       "    }\n",
       "\n",
       "    .dataframe tbody tr th {\n",
       "        vertical-align: top;\n",
       "    }\n",
       "\n",
       "    .dataframe thead th {\n",
       "        text-align: right;\n",
       "    }\n",
       "</style>\n",
       "<table border=\"1\" class=\"dataframe\">\n",
       "  <thead>\n",
       "    <tr style=\"text-align: right;\">\n",
       "      <th></th>\n",
       "      <th>19026</th>\n",
       "      <th>3337</th>\n",
       "      <th>11807</th>\n",
       "      <th>18661</th>\n",
       "      <th>11783</th>\n",
       "    </tr>\n",
       "  </thead>\n",
       "  <tbody>\n",
       "    <tr>\n",
       "      <th>bodyType</th>\n",
       "      <td>внедорожник</td>\n",
       "      <td>седан</td>\n",
       "      <td>внедорожник</td>\n",
       "      <td>кабриолет</td>\n",
       "      <td>внедорожник</td>\n",
       "    </tr>\n",
       "    <tr>\n",
       "      <th>brand</th>\n",
       "      <td>TOYOTA</td>\n",
       "      <td>AUDI</td>\n",
       "      <td>NISSAN</td>\n",
       "      <td>MERCEDES</td>\n",
       "      <td>NISSAN</td>\n",
       "    </tr>\n",
       "    <tr>\n",
       "      <th>color</th>\n",
       "      <td>чёрный</td>\n",
       "      <td>синий</td>\n",
       "      <td>белый</td>\n",
       "      <td>серый</td>\n",
       "      <td>серебристый</td>\n",
       "    </tr>\n",
       "    <tr>\n",
       "      <th>description</th>\n",
       "      <td>лот 01215604 фаворит хофф вы можете получить с...</td>\n",
       "      <td>авто в идеальном состоянии проблем нет смотрит...</td>\n",
       "      <td>комфорт 6 безопасность 4 обзор 2 салон 2</td>\n",
       "      <td>покупал автомобиль весной у дилера мв измайлов...</td>\n",
       "      <td>система удаленного запуска двигателя</td>\n",
       "    </tr>\n",
       "    <tr>\n",
       "      <th>engineDisplacement</th>\n",
       "      <td>2.0</td>\n",
       "      <td>1.8</td>\n",
       "      <td>2.0</td>\n",
       "      <td>1.8</td>\n",
       "      <td>2.0</td>\n",
       "    </tr>\n",
       "    <tr>\n",
       "      <th>enginePower</th>\n",
       "      <td>150.0</td>\n",
       "      <td>125.0</td>\n",
       "      <td>141.0</td>\n",
       "      <td>184.0</td>\n",
       "      <td>141.0</td>\n",
       "    </tr>\n",
       "    <tr>\n",
       "      <th>fuelType</th>\n",
       "      <td>бензин</td>\n",
       "      <td>бензин</td>\n",
       "      <td>бензин</td>\n",
       "      <td>бензин</td>\n",
       "      <td>бензин</td>\n",
       "    </tr>\n",
       "    <tr>\n",
       "      <th>mileage</th>\n",
       "      <td>121490.0</td>\n",
       "      <td>240000.0</td>\n",
       "      <td>104842.0</td>\n",
       "      <td>68000.0</td>\n",
       "      <td>170000.0</td>\n",
       "    </tr>\n",
       "    <tr>\n",
       "      <th>modelDate</th>\n",
       "      <td>2000.0</td>\n",
       "      <td>1994.0</td>\n",
       "      <td>2010.0</td>\n",
       "      <td>2009.0</td>\n",
       "      <td>2010.0</td>\n",
       "    </tr>\n",
       "    <tr>\n",
       "      <th>numberOfDoors</th>\n",
       "      <td>5.0</td>\n",
       "      <td>4.0</td>\n",
       "      <td>5.0</td>\n",
       "      <td>2.0</td>\n",
       "      <td>5.0</td>\n",
       "    </tr>\n",
       "    <tr>\n",
       "      <th>productionDate</th>\n",
       "      <td>2001.0</td>\n",
       "      <td>1997.0</td>\n",
       "      <td>2014.0</td>\n",
       "      <td>2010.0</td>\n",
       "      <td>2013.0</td>\n",
       "    </tr>\n",
       "    <tr>\n",
       "      <th>vehicleTransmission</th>\n",
       "      <td>AUTOMATIC</td>\n",
       "      <td>MECHANICAL</td>\n",
       "      <td>VARIATOR</td>\n",
       "      <td>AUTOMATIC</td>\n",
       "      <td>MECHANICAL</td>\n",
       "    </tr>\n",
       "    <tr>\n",
       "      <th>vendor</th>\n",
       "      <td>JAPANESE</td>\n",
       "      <td>EUROPEAN</td>\n",
       "      <td>JAPANESE</td>\n",
       "      <td>EUROPEAN</td>\n",
       "      <td>JAPANESE</td>\n",
       "    </tr>\n",
       "    <tr>\n",
       "      <th>Владельцы</th>\n",
       "      <td>3.0</td>\n",
       "      <td>2.0</td>\n",
       "      <td>2.0</td>\n",
       "      <td>3.0</td>\n",
       "      <td>2.0</td>\n",
       "    </tr>\n",
       "    <tr>\n",
       "      <th>Владение</th>\n",
       "      <td>NaN</td>\n",
       "      <td>515.0</td>\n",
       "      <td>NaN</td>\n",
       "      <td>NaN</td>\n",
       "      <td>695.0</td>\n",
       "    </tr>\n",
       "    <tr>\n",
       "      <th>ПТС</th>\n",
       "      <td>Оригинал</td>\n",
       "      <td>Оригинал</td>\n",
       "      <td>Оригинал</td>\n",
       "      <td>Дубликат</td>\n",
       "      <td>Оригинал</td>\n",
       "    </tr>\n",
       "    <tr>\n",
       "      <th>Привод</th>\n",
       "      <td>полный</td>\n",
       "      <td>передний</td>\n",
       "      <td>полный</td>\n",
       "      <td>задний</td>\n",
       "      <td>полный</td>\n",
       "    </tr>\n",
       "    <tr>\n",
       "      <th>Руль</th>\n",
       "      <td>Левый</td>\n",
       "      <td>Левый</td>\n",
       "      <td>Левый</td>\n",
       "      <td>Левый</td>\n",
       "      <td>Левый</td>\n",
       "    </tr>\n",
       "  </tbody>\n",
       "</table>\n",
       "</div>"
      ],
      "text/plain": [
       "                                                                 19026  \\\n",
       "bodyType                                                   внедорожник   \n",
       "brand                                                           TOYOTA   \n",
       "color                                                           чёрный   \n",
       "description          лот 01215604 фаворит хофф вы можете получить с...   \n",
       "engineDisplacement                                                 2.0   \n",
       "enginePower                                                      150.0   \n",
       "fuelType                                                        бензин   \n",
       "mileage                                                       121490.0   \n",
       "modelDate                                                       2000.0   \n",
       "numberOfDoors                                                      5.0   \n",
       "productionDate                                                  2001.0   \n",
       "vehicleTransmission                                          AUTOMATIC   \n",
       "vendor                                                        JAPANESE   \n",
       "Владельцы                                                          3.0   \n",
       "Владение                                                           NaN   \n",
       "ПТС                                                           Оригинал   \n",
       "Привод                                                          полный   \n",
       "Руль                                                             Левый   \n",
       "\n",
       "                                                                 3337   \\\n",
       "bodyType                                                         седан   \n",
       "brand                                                             AUDI   \n",
       "color                                                            синий   \n",
       "description          авто в идеальном состоянии проблем нет смотрит...   \n",
       "engineDisplacement                                                 1.8   \n",
       "enginePower                                                      125.0   \n",
       "fuelType                                                        бензин   \n",
       "mileage                                                       240000.0   \n",
       "modelDate                                                       1994.0   \n",
       "numberOfDoors                                                      4.0   \n",
       "productionDate                                                  1997.0   \n",
       "vehicleTransmission                                         MECHANICAL   \n",
       "vendor                                                        EUROPEAN   \n",
       "Владельцы                                                          2.0   \n",
       "Владение                                                         515.0   \n",
       "ПТС                                                           Оригинал   \n",
       "Привод                                                        передний   \n",
       "Руль                                                             Левый   \n",
       "\n",
       "                                                         11807  \\\n",
       "bodyType                                           внедорожник   \n",
       "brand                                                   NISSAN   \n",
       "color                                                    белый   \n",
       "description          комфорт 6 безопасность 4 обзор 2 салон 2    \n",
       "engineDisplacement                                         2.0   \n",
       "enginePower                                              141.0   \n",
       "fuelType                                                бензин   \n",
       "mileage                                               104842.0   \n",
       "modelDate                                               2010.0   \n",
       "numberOfDoors                                              5.0   \n",
       "productionDate                                          2014.0   \n",
       "vehicleTransmission                                   VARIATOR   \n",
       "vendor                                                JAPANESE   \n",
       "Владельцы                                                  2.0   \n",
       "Владение                                                   NaN   \n",
       "ПТС                                                   Оригинал   \n",
       "Привод                                                  полный   \n",
       "Руль                                                     Левый   \n",
       "\n",
       "                                                                 18661  \\\n",
       "bodyType                                                     кабриолет   \n",
       "brand                                                         MERCEDES   \n",
       "color                                                            серый   \n",
       "description          покупал автомобиль весной у дилера мв измайлов...   \n",
       "engineDisplacement                                                 1.8   \n",
       "enginePower                                                      184.0   \n",
       "fuelType                                                        бензин   \n",
       "mileage                                                        68000.0   \n",
       "modelDate                                                       2009.0   \n",
       "numberOfDoors                                                      2.0   \n",
       "productionDate                                                  2010.0   \n",
       "vehicleTransmission                                          AUTOMATIC   \n",
       "vendor                                                        EUROPEAN   \n",
       "Владельцы                                                          3.0   \n",
       "Владение                                                           NaN   \n",
       "ПТС                                                           Дубликат   \n",
       "Привод                                                          задний   \n",
       "Руль                                                             Левый   \n",
       "\n",
       "                                                    11783  \n",
       "bodyType                                      внедорожник  \n",
       "brand                                              NISSAN  \n",
       "color                                         серебристый  \n",
       "description          система удаленного запуска двигателя  \n",
       "engineDisplacement                                    2.0  \n",
       "enginePower                                         141.0  \n",
       "fuelType                                           бензин  \n",
       "mileage                                          170000.0  \n",
       "modelDate                                          2010.0  \n",
       "numberOfDoors                                         5.0  \n",
       "productionDate                                     2013.0  \n",
       "vehicleTransmission                            MECHANICAL  \n",
       "vendor                                           JAPANESE  \n",
       "Владельцы                                             2.0  \n",
       "Владение                                            695.0  \n",
       "ПТС                                              Оригинал  \n",
       "Привод                                             полный  \n",
       "Руль                                                Левый  "
      ]
     },
     "execution_count": 34,
     "metadata": {},
     "output_type": "execute_result"
    }
   ],
   "source": [
    "test[test.columns.sort_values().tolist()].sample(5, random_state=42).T"
   ]
  },
  {
   "cell_type": "markdown",
   "metadata": {},
   "source": [
    "### bodyType"
   ]
  },
  {
   "cell_type": "code",
   "execution_count": 35,
   "metadata": {},
   "outputs": [
    {
     "data": {
      "text/plain": [
       "внедорожник    48273\n",
       "седан          40795\n",
       "хэтчбек        12625\n",
       "лифтбек         6089\n",
       "универсал       4502\n",
       "минивэн         2990\n",
       "компактвэн      2554\n",
       "купе            2103\n",
       "пикап            803\n",
       "кабриолет        242\n",
       "родстер          194\n",
       "фургон           175\n",
       "микровэн          54\n",
       "тарга              9\n",
       "лимузин            7\n",
       "фастбек            3\n",
       "Name: bodyType, dtype: int64"
      ]
     },
     "execution_count": 35,
     "metadata": {},
     "output_type": "execute_result"
    }
   ],
   "source": [
    "train.bodyType.value_counts(dropna=False)"
   ]
  },
  {
   "cell_type": "code",
   "execution_count": 36,
   "metadata": {},
   "outputs": [
    {
     "data": {
      "text/plain": [
       "седан          13165\n",
       "внедорожник    12346\n",
       "хэтчбек         2609\n",
       "лифтбек         2232\n",
       "универсал       1276\n",
       "минивэн          995\n",
       "купе             982\n",
       "компактвэн       489\n",
       "пикап            290\n",
       "родстер           99\n",
       "фургон            97\n",
       "кабриолет         90\n",
       "микровэн           7\n",
       "лимузин            6\n",
       "тарга              2\n",
       "фастбек            1\n",
       "Name: bodyType, dtype: int64"
      ]
     },
     "execution_count": 36,
     "metadata": {},
     "output_type": "execute_result"
    }
   ],
   "source": [
    "test.bodyType.value_counts(dropna=False)"
   ]
  },
  {
   "cell_type": "markdown",
   "metadata": {},
   "source": [
    "### brand"
   ]
  },
  {
   "cell_type": "code",
   "execution_count": 37,
   "metadata": {},
   "outputs": [
    {
     "data": {
      "text/plain": [
       "MERCEDES      10793\n",
       "BMW           10476\n",
       "VOLKSWAGEN     9586\n",
       "NISSAN         8503\n",
       "TOYOTA         7481\n",
       "AUDI           7185\n",
       "SKODA          6266\n",
       "MITSUBISHI     5797\n",
       "HYUNDAI        5543\n",
       "KIA            5486\n",
       "VOLVO          5136\n",
       "FORD           4763\n",
       "HONDA          4486\n",
       "LEXUS          4019\n",
       "CHEVROLET      3588\n",
       "OPEL           3092\n",
       "RENAULT        2682\n",
       "INFINITI       2425\n",
       "MAZDA          2278\n",
       "PEUGEOT        1603\n",
       "LAND_ROVER     1565\n",
       "CITROEN        1120\n",
       "DAEWOO         1028\n",
       "SUBARU          927\n",
       "SUZUKI          842\n",
       "SSANG_YONG      707\n",
       "PORSCHE         699\n",
       "CHERY           559\n",
       "JEEP            456\n",
       "GREAT_WALL      416\n",
       "DODGE           412\n",
       "CADILLAC        317\n",
       "CHRYSLER        316\n",
       "MINI            303\n",
       "JAGUAR          294\n",
       "GEELY           269\n",
       "Name: brand, dtype: int64"
      ]
     },
     "execution_count": 37,
     "metadata": {},
     "output_type": "execute_result"
    }
   ],
   "source": [
    "train.brand.value_counts(dropna=False)"
   ]
  },
  {
   "cell_type": "code",
   "execution_count": 38,
   "metadata": {},
   "outputs": [
    {
     "data": {
      "text/plain": [
       "BMW           4473\n",
       "VOLKSWAGEN    4404\n",
       "NISSAN        4393\n",
       "MERCEDES      4180\n",
       "TOYOTA        3913\n",
       "AUDI          3421\n",
       "MITSUBISHI    2843\n",
       "SKODA         2741\n",
       "VOLVO         1463\n",
       "HONDA         1150\n",
       "INFINITI       871\n",
       "LEXUS          834\n",
       "Name: brand, dtype: int64"
      ]
     },
     "execution_count": 38,
     "metadata": {},
     "output_type": "execute_result"
    }
   ],
   "source": [
    "test.brand.value_counts(dropna=False)"
   ]
  },
  {
   "cell_type": "markdown",
   "metadata": {},
   "source": [
    "### color"
   ]
  },
  {
   "cell_type": "code",
   "execution_count": 39,
   "metadata": {},
   "outputs": [
    {
     "data": {
      "text/plain": [
       "чёрный         34299\n",
       "серый          26211\n",
       "белый          23262\n",
       "синий          13041\n",
       "коричневый      6889\n",
       "красный         6060\n",
       "зелёный         3273\n",
       "серебристый     3232\n",
       "фиолетовый      1517\n",
       "золотистый       944\n",
       "жёлтый           812\n",
       "бежевый          687\n",
       "оранжевый        625\n",
       "голубой          355\n",
       "пурпурный        173\n",
       "розовый           38\n",
       "Name: color, dtype: int64"
      ]
     },
     "execution_count": 39,
     "metadata": {},
     "output_type": "execute_result"
    }
   ],
   "source": [
    "train.color.value_counts(dropna=False)"
   ]
  },
  {
   "cell_type": "code",
   "execution_count": 40,
   "metadata": {},
   "outputs": [
    {
     "data": {
      "text/plain": [
       "чёрный         11010\n",
       "белый           6133\n",
       "серебристый     4113\n",
       "серый           3984\n",
       "синий           3289\n",
       "красный         1531\n",
       "коричневый      1501\n",
       "зелёный          952\n",
       "бежевый          639\n",
       "голубой          457\n",
       "золотистый       266\n",
       "пурпурный        254\n",
       "фиолетовый       219\n",
       "жёлтый           194\n",
       "оранжевый        131\n",
       "розовый           13\n",
       "Name: color, dtype: int64"
      ]
     },
     "execution_count": 40,
     "metadata": {},
     "output_type": "execute_result"
    }
   ],
   "source": [
    "test.color.value_counts(dropna=False)"
   ]
  },
  {
   "cell_type": "markdown",
   "metadata": {},
   "source": [
    "### description"
   ]
  },
  {
   "cell_type": "code",
   "execution_count": 41,
   "metadata": {},
   "outputs": [
    {
     "data": {
      "text/plain": [
       "'при покупке данного автомобиля в кредит вы получите дополнительную скидку до 100 000 рублей а также воспользовавшись нашей программой trade in получите помимо выгодной цены за ваш старый автомобиль скидку до 50 000 рублей скидки суммируются поэтому вы можете получить выгоду до 150 000 рублей воспользовавшись обеими предложениями все автомобили представленные в продаже проходят диагностику так же была осуществлена полная предпродажная подготовка и полировка кузова предоставляем гарантию юридической чистоты а так же год технической гарантии на двигатель и кпп в письменной форме каждому нашему клиенту мы дарим на выбор комплект новой резины полное комплексное то страховой полис осаго сроком на 3 месяца действует программа льготного автокредитования со ставкой по кредиту от 4 9 помимо покупки за наличные или обмена по trade in вы можете воспользоваться одной из нескольких выгодных программ автокредитования от наших банков партнеров минимальный пакет документов быстрое решение низкая процентная ставка ац plaza один из лидеров по продажам автомобилей с пробегом в санкт петербурге преимущества автокредитования кредитная ставка от 4 9 годовых взнос от 0 документы паспорт и водительское удостоверение около 30 программ кредитования лимит кредитования от 50 000 до 2 500 000 рублей без оформления каско срок кредитования от 6 месяцев до 7 лет возможность досрочного погашения без комиссий и штрафов приглашаем на бесплатный тест драйв более подробную информацию можно получить по указанному номеру телефона '"
      ]
     },
     "execution_count": 41,
     "metadata": {},
     "output_type": "execute_result"
    }
   ],
   "source": [
    "train.description[42]"
   ]
  },
  {
   "cell_type": "markdown",
   "metadata": {},
   "source": [
    "### engineDisplacement"
   ]
  },
  {
   "cell_type": "code",
   "execution_count": 42,
   "metadata": {},
   "outputs": [
    {
     "data": {
      "text/plain": [
       "2.0    30066\n",
       "1.6    22866\n",
       "3.0    10005\n",
       "1.8     7778\n",
       "1.4     7700\n",
       "       ...  \n",
       "6.5        1\n",
       "8.1        1\n",
       "8.2        1\n",
       "8.4        1\n",
       "7.3        1\n",
       "Name: engineDisplacement, Length: 69, dtype: int64"
      ]
     },
     "execution_count": 42,
     "metadata": {},
     "output_type": "execute_result"
    }
   ],
   "source": [
    "train.engineDisplacement.value_counts(dropna=False)"
   ]
  },
  {
   "cell_type": "code",
   "execution_count": 43,
   "metadata": {},
   "outputs": [
    {
     "data": {
      "text/plain": [
       "2.0    7391\n",
       "1.6    4973\n",
       "3.0    3915\n",
       "1.8    3349\n",
       "2.5    2477\n",
       "2.4    1745\n",
       "3.5    1710\n",
       "1.4    1635\n",
       "1.5     725\n",
       "1.2     485\n",
       "4.4     447\n",
       "2.8     384\n",
       "4.7     377\n",
       "1.3     365\n",
       "5.5     361\n",
       "4.0     356\n",
       "3.2     348\n",
       "4.5     346\n",
       "2.1     271\n",
       "3.7     242\n",
       "2.2     236\n",
       "4.2     228\n",
       "1.9     221\n",
       "2.3     203\n",
       "2.7     189\n",
       "3.6     183\n",
       "5.6     170\n",
       "5.0     158\n",
       "5.7     135\n",
       "2.9     131\n",
       "4.6     108\n",
       "3.1      88\n",
       "4.8      84\n",
       "1.7      59\n",
       "1.0      57\n",
       "3.8      57\n",
       "2.6      55\n",
       "NaN      55\n",
       "6.0      53\n",
       "0.7      53\n",
       "3.3      44\n",
       "3.4      36\n",
       "4.1      35\n",
       "4.3      32\n",
       "5.4      31\n",
       "6.2      28\n",
       "5.2      12\n",
       "5.9      12\n",
       "6.3       8\n",
       "5.8       7\n",
       "6.6       6\n",
       "4.9       4\n",
       "1.1       4\n",
       "3.9       1\n",
       "5.3       1\n",
       "Name: engineDisplacement, dtype: int64"
      ]
     },
     "execution_count": 43,
     "metadata": {},
     "output_type": "execute_result"
    }
   ],
   "source": [
    "test.engineDisplacement.value_counts(dropna=False)"
   ]
  },
  {
   "cell_type": "markdown",
   "metadata": {},
   "source": [
    "### enginePower"
   ]
  },
  {
   "cell_type": "code",
   "execution_count": 44,
   "metadata": {},
   "outputs": [
    {
     "data": {
      "text/plain": [
       "150.0    9520\n",
       "249.0    6865\n",
       "140.0    3697\n",
       "110.0    3587\n",
       "190.0    3216\n",
       "         ... \n",
       "251.0       1\n",
       "492.0       1\n",
       "702.0       1\n",
       "526.0       1\n",
       "466.0       1\n",
       "Name: enginePower, Length: 408, dtype: int64"
      ]
     },
     "execution_count": 44,
     "metadata": {},
     "output_type": "execute_result"
    }
   ],
   "source": [
    "train.enginePower.value_counts(dropna=False)"
   ]
  },
  {
   "cell_type": "code",
   "execution_count": 45,
   "metadata": {},
   "outputs": [
    {
     "data": {
      "text/plain": [
       "249.0    1708\n",
       "150.0    1699\n",
       "110.0    1039\n",
       "170.0     977\n",
       "105.0     955\n",
       "         ... \n",
       "514.0       1\n",
       "626.0       1\n",
       "38.0        1\n",
       "32.0        1\n",
       "301.0       1\n",
       "Name: enginePower, Length: 315, dtype: int64"
      ]
     },
     "execution_count": 45,
     "metadata": {},
     "output_type": "execute_result"
    }
   ],
   "source": [
    "test.enginePower.value_counts(dropna=False)"
   ]
  },
  {
   "cell_type": "markdown",
   "metadata": {},
   "source": [
    "### fuelType"
   ]
  },
  {
   "cell_type": "code",
   "execution_count": 46,
   "metadata": {},
   "outputs": [
    {
     "data": {
      "text/plain": [
       "бензин     101135\n",
       "дизель      19170\n",
       "гибрид        920\n",
       "электро       181\n",
       "газ            12\n",
       "Name: fuelType, dtype: int64"
      ]
     },
     "execution_count": 46,
     "metadata": {},
     "output_type": "execute_result"
    }
   ],
   "source": [
    "train.fuelType.value_counts(dropna=False)"
   ]
  },
  {
   "cell_type": "code",
   "execution_count": 47,
   "metadata": {},
   "outputs": [
    {
     "data": {
      "text/plain": [
       "бензин     28601\n",
       "дизель      5800\n",
       "гибрид       223\n",
       "электро       55\n",
       "газ            7\n",
       "Name: fuelType, dtype: int64"
      ]
     },
     "execution_count": 47,
     "metadata": {},
     "output_type": "execute_result"
    }
   ],
   "source": [
    "test.fuelType.value_counts(dropna=False)"
   ]
  },
  {
   "cell_type": "markdown",
   "metadata": {},
   "source": [
    "### mileage"
   ]
  },
  {
   "cell_type": "code",
   "execution_count": 48,
   "metadata": {},
   "outputs": [
    {
     "data": {
      "text/plain": [
       "0.0         10535\n",
       "NaN          5777\n",
       "200000.0     1410\n",
       "150000.0     1244\n",
       "180000.0     1091\n",
       "            ...  \n",
       "80760.0         1\n",
       "150039.0        1\n",
       "36164.0         1\n",
       "40089.0         1\n",
       "191768.0        1\n",
       "Name: mileage, Length: 28799, dtype: int64"
      ]
     },
     "execution_count": 48,
     "metadata": {},
     "output_type": "execute_result"
    }
   ],
   "source": [
    "train.mileage.value_counts(dropna=False)"
   ]
  },
  {
   "cell_type": "code",
   "execution_count": 49,
   "metadata": {},
   "outputs": [
    {
     "data": {
      "text/plain": [
       "200000.0    436\n",
       "150000.0    382\n",
       "300000.0    381\n",
       "180000.0    347\n",
       "250000.0    346\n",
       "           ... \n",
       "140237.0      1\n",
       "121449.0      1\n",
       "210311.0      1\n",
       "121363.0      1\n",
       "157965.0      1\n",
       "Name: mileage, Length: 11268, dtype: int64"
      ]
     },
     "execution_count": 49,
     "metadata": {},
     "output_type": "execute_result"
    }
   ],
   "source": [
    "test.mileage.value_counts(dropna=False)"
   ]
  },
  {
   "cell_type": "markdown",
   "metadata": {},
   "source": [
    "### modelDate"
   ]
  },
  {
   "cell_type": "code",
   "execution_count": 50,
   "metadata": {},
   "outputs": [
    {
     "data": {
      "text/plain": [
       "2017.0    8221\n",
       "2010.0    7803\n",
       "2006.0    7536\n",
       "2009.0    6914\n",
       "2012.0    6462\n",
       "          ... \n",
       "1969.0       1\n",
       "1934.0       1\n",
       "1950.0       1\n",
       "1953.0       1\n",
       "1904.0       1\n",
       "Name: modelDate, Length: 80, dtype: int64"
      ]
     },
     "execution_count": 50,
     "metadata": {},
     "output_type": "execute_result"
    }
   ],
   "source": [
    "train.modelDate.value_counts(dropna=False)"
   ]
  },
  {
   "cell_type": "code",
   "execution_count": 51,
   "metadata": {},
   "outputs": [
    {
     "data": {
      "text/plain": [
       "2010.0    2503\n",
       "2013.0    2275\n",
       "2008.0    2243\n",
       "2011.0    2173\n",
       "2006.0    2169\n",
       "          ... \n",
       "1973.0       1\n",
       "1965.0       1\n",
       "1969.0       1\n",
       "1934.0       1\n",
       "1960.0       1\n",
       "Name: modelDate, Length: 66, dtype: int64"
      ]
     },
     "execution_count": 51,
     "metadata": {},
     "output_type": "execute_result"
    }
   ],
   "source": [
    "test.modelDate.value_counts(dropna=False)"
   ]
  },
  {
   "cell_type": "markdown",
   "metadata": {},
   "source": [
    "### numberOfDoors"
   ]
  },
  {
   "cell_type": "code",
   "execution_count": 52,
   "metadata": {},
   "outputs": [
    {
     "data": {
      "text/plain": [
       "5.0    73367\n",
       "4.0    42897\n",
       "2.0     2628\n",
       "3.0     2525\n",
       "0.0        1\n",
       "Name: numberOfDoors, dtype: int64"
      ]
     },
     "execution_count": 52,
     "metadata": {},
     "output_type": "execute_result"
    }
   ],
   "source": [
    "train.numberOfDoors.value_counts(dropna=False)"
   ]
  },
  {
   "cell_type": "code",
   "execution_count": 53,
   "metadata": {},
   "outputs": [
    {
     "data": {
      "text/plain": [
       "5.0    18703\n",
       "4.0    14126\n",
       "2.0     1206\n",
       "3.0      650\n",
       "0.0        1\n",
       "Name: numberOfDoors, dtype: int64"
      ]
     },
     "execution_count": 53,
     "metadata": {},
     "output_type": "execute_result"
    }
   ],
   "source": [
    "test.numberOfDoors.value_counts(dropna=False)"
   ]
  },
  {
   "cell_type": "markdown",
   "metadata": {},
   "source": [
    "### productionDate"
   ]
  },
  {
   "cell_type": "code",
   "execution_count": 54,
   "metadata": {},
   "outputs": [
    {
     "data": {
      "text/plain": [
       "2020.0    11144\n",
       "2012.0     8777\n",
       "2008.0     8639\n",
       "2011.0     7999\n",
       "2013.0     7642\n",
       "          ...  \n",
       "1931.0        1\n",
       "1971.0        1\n",
       "1955.0        1\n",
       "1948.0        1\n",
       "1936.0        1\n",
       "Name: productionDate, Length: 81, dtype: int64"
      ]
     },
     "execution_count": 54,
     "metadata": {},
     "output_type": "execute_result"
    }
   ],
   "source": [
    "train.productionDate.value_counts(dropna=False)"
   ]
  },
  {
   "cell_type": "code",
   "execution_count": 55,
   "metadata": {},
   "outputs": [
    {
     "data": {
      "text/plain": [
       "2012.0    2798\n",
       "2008.0    2606\n",
       "2011.0    2589\n",
       "2013.0    2488\n",
       "2014.0    2134\n",
       "          ... \n",
       "1904.0       1\n",
       "1936.0       1\n",
       "1968.0       1\n",
       "1939.0       1\n",
       "1948.0       1\n",
       "Name: productionDate, Length: 69, dtype: int64"
      ]
     },
     "execution_count": 55,
     "metadata": {},
     "output_type": "execute_result"
    }
   ],
   "source": [
    "test.productionDate.value_counts(dropna=False)"
   ]
  },
  {
   "cell_type": "markdown",
   "metadata": {},
   "source": [
    "### vehicleTransmission"
   ]
  },
  {
   "cell_type": "code",
   "execution_count": 56,
   "metadata": {},
   "outputs": [
    {
     "data": {
      "text/plain": [
       "AUTOMATIC     67906\n",
       "MECHANICAL    30233\n",
       "ROBOT         11910\n",
       "VARIATOR      11369\n",
       "Name: vehicleTransmission, dtype: int64"
      ]
     },
     "execution_count": 56,
     "metadata": {},
     "output_type": "execute_result"
    }
   ],
   "source": [
    "train.vehicleTransmission.value_counts(dropna=False)"
   ]
  },
  {
   "cell_type": "code",
   "execution_count": 57,
   "metadata": {},
   "outputs": [
    {
     "data": {
      "text/plain": [
       "AUTOMATIC     19596\n",
       "MECHANICAL     7209\n",
       "VARIATOR       3999\n",
       "ROBOT          3882\n",
       "Name: vehicleTransmission, dtype: int64"
      ]
     },
     "execution_count": 57,
     "metadata": {},
     "output_type": "execute_result"
    }
   ],
   "source": [
    "test.vehicleTransmission.value_counts(dropna=False)"
   ]
  },
  {
   "cell_type": "markdown",
   "metadata": {},
   "source": [
    "### vendor"
   ]
  },
  {
   "cell_type": "code",
   "execution_count": 58,
   "metadata": {},
   "outputs": [
    {
     "data": {
      "text/plain": [
       "EUROPEAN    60800\n",
       "JAPANESE    36758\n",
       "KOREAN      12764\n",
       "AMERICAN     9852\n",
       "CHINESE       975\n",
       "CHINEESE      269\n",
       "Name: vendor, dtype: int64"
      ]
     },
     "execution_count": 58,
     "metadata": {},
     "output_type": "execute_result"
    }
   ],
   "source": [
    "train.vendor.value_counts(dropna=False)"
   ]
  },
  {
   "cell_type": "code",
   "execution_count": 59,
   "metadata": {},
   "outputs": [
    {
     "data": {
      "text/plain": [
       "EUROPEAN    20682\n",
       "JAPANESE    14004\n",
       "Name: vendor, dtype: int64"
      ]
     },
     "execution_count": 59,
     "metadata": {},
     "output_type": "execute_result"
    }
   ],
   "source": [
    "test.vendor.value_counts(dropna=False)"
   ]
  },
  {
   "cell_type": "markdown",
   "metadata": {},
   "source": [
    "### Владельцы"
   ]
  },
  {
   "cell_type": "code",
   "execution_count": 60,
   "metadata": {},
   "outputs": [
    {
     "data": {
      "text/plain": [
       "3.0    48553\n",
       "1.0    28413\n",
       "2.0    28140\n",
       "NaN    16312\n",
       "Name: Владельцы, dtype: int64"
      ]
     },
     "execution_count": 60,
     "metadata": {},
     "output_type": "execute_result"
    }
   ],
   "source": [
    "train.Владельцы.value_counts(dropna=False)"
   ]
  },
  {
   "cell_type": "code",
   "execution_count": 61,
   "metadata": {},
   "outputs": [
    {
     "data": {
      "text/plain": [
       "3.0    15957\n",
       "1.0     9459\n",
       "2.0     9270\n",
       "Name: Владельцы, dtype: int64"
      ]
     },
     "execution_count": 61,
     "metadata": {},
     "output_type": "execute_result"
    }
   ],
   "source": [
    "test.Владельцы.value_counts(dropna=False)"
   ]
  },
  {
   "cell_type": "markdown",
   "metadata": {},
   "source": [
    "### Владение"
   ]
  },
  {
   "cell_type": "code",
   "execution_count": 62,
   "metadata": {},
   "outputs": [
    {
     "data": {
      "text/plain": [
       "NaN       86489\n",
       "701.0       492\n",
       "397.0       491\n",
       "762.0       486\n",
       "731.0       470\n",
       "          ...  \n",
       "6295.0        1\n",
       "6690.0        1\n",
       "5380.0        1\n",
       "9790.0        1\n",
       "8463.0        1\n",
       "Name: Владение, Length: 537, dtype: int64"
      ]
     },
     "execution_count": 62,
     "metadata": {},
     "output_type": "execute_result"
    }
   ],
   "source": [
    "train.Владение.value_counts(dropna=False)"
   ]
  },
  {
   "cell_type": "code",
   "execution_count": 63,
   "metadata": {},
   "outputs": [
    {
     "data": {
      "text/plain": [
       "NaN        22691\n",
       "730.0        267\n",
       "365.0        259\n",
       "1460.0       231\n",
       "1095.0       228\n",
       "           ...  \n",
       "9580.0         1\n",
       "15630.0        1\n",
       "8455.0         1\n",
       "12470.0        1\n",
       "8300.0         1\n",
       "Name: Владение, Length: 265, dtype: int64"
      ]
     },
     "execution_count": 63,
     "metadata": {},
     "output_type": "execute_result"
    }
   ],
   "source": [
    "test.Владение.value_counts(dropna=False)"
   ]
  },
  {
   "cell_type": "markdown",
   "metadata": {},
   "source": [
    "### ПТС"
   ]
  },
  {
   "cell_type": "code",
   "execution_count": 64,
   "metadata": {},
   "outputs": [
    {
     "data": {
      "text/plain": [
       "Оригинал    100888\n",
       "Дубликат     14405\n",
       "NaN           6125\n",
       "Name: ПТС, dtype: int64"
      ]
     },
     "execution_count": 64,
     "metadata": {},
     "output_type": "execute_result"
    }
   ],
   "source": [
    "train.ПТС.value_counts(dropna=False)"
   ]
  },
  {
   "cell_type": "code",
   "execution_count": 65,
   "metadata": {},
   "outputs": [
    {
     "data": {
      "text/plain": [
       "Оригинал    30098\n",
       "Дубликат     4587\n",
       "NaN             1\n",
       "Name: ПТС, dtype: int64"
      ]
     },
     "execution_count": 65,
     "metadata": {},
     "output_type": "execute_result"
    }
   ],
   "source": [
    "test.ПТС.value_counts(dropna=False)"
   ]
  },
  {
   "cell_type": "markdown",
   "metadata": {},
   "source": [
    "### Привод"
   ]
  },
  {
   "cell_type": "code",
   "execution_count": 66,
   "metadata": {},
   "outputs": [
    {
     "data": {
      "text/plain": [
       "передний    58354\n",
       "полный      48261\n",
       "задний       9026\n",
       "NaN          5777\n",
       "Name: Привод, dtype: int64"
      ]
     },
     "execution_count": 66,
     "metadata": {},
     "output_type": "execute_result"
    }
   ],
   "source": [
    "train.Привод.value_counts(dropna=False)"
   ]
  },
  {
   "cell_type": "code",
   "execution_count": 67,
   "metadata": {},
   "outputs": [
    {
     "data": {
      "text/plain": [
       "передний    15565\n",
       "полный      15020\n",
       "задний       4101\n",
       "Name: Привод, dtype: int64"
      ]
     },
     "execution_count": 67,
     "metadata": {},
     "output_type": "execute_result"
    }
   ],
   "source": [
    "test.Привод.value_counts(dropna=False)"
   ]
  },
  {
   "cell_type": "markdown",
   "metadata": {},
   "source": [
    "### Руль"
   ]
  },
  {
   "cell_type": "code",
   "execution_count": 68,
   "metadata": {},
   "outputs": [
    {
     "data": {
      "text/plain": [
       "Левый     111645\n",
       "NaN         5778\n",
       "Правый      3995\n",
       "Name: Руль, dtype: int64"
      ]
     },
     "execution_count": 68,
     "metadata": {},
     "output_type": "execute_result"
    }
   ],
   "source": [
    "train.Руль.value_counts(dropna=False)"
   ]
  },
  {
   "cell_type": "code",
   "execution_count": 69,
   "metadata": {},
   "outputs": [
    {
     "data": {
      "text/plain": [
       "Левый     33287\n",
       "Правый     1399\n",
       "Name: Руль, dtype: int64"
      ]
     },
     "execution_count": 69,
     "metadata": {},
     "output_type": "execute_result"
    }
   ],
   "source": [
    "test.Руль.value_counts(dropna=False)"
   ]
  },
  {
   "cell_type": "markdown",
   "metadata": {},
   "source": [
    "### price"
   ]
  },
  {
   "cell_type": "code",
   "execution_count": 70,
   "metadata": {},
   "outputs": [
    {
     "name": "stdout",
     "output_type": "stream",
     "text": [
      "Unique values count: 12511 \n",
      "Q1: 400000.0\n",
      "Q3: 1760000.0\n",
      "IQR: 1360000.0 \n",
      "Outliers borders: [-1640000.0, 3800000.0]\n"
     ]
    },
    {
     "data": {
      "image/png": "[encoded data removed]",
      "text/plain": [
       "<Figure size 1152x432 with 2 Axes>"
      ]
     },
     "metadata": {
      "needs_background": "light"
     },
     "output_type": "display_data"
    }
   ],
   "source": [
    "show_IQR(train.query(\"price < 10_000_000\").price)"
   ]
  },
  {
   "cell_type": "code",
   "execution_count": 71,
   "metadata": {},
   "outputs": [
    {
     "data": {
      "image/png": "[encoded data removed]",
      "text/plain": [
       "<Figure size 864x432 with 1 Axes>"
      ]
     },
     "metadata": {
      "needs_background": "light"
     },
     "output_type": "display_data"
    }
   ],
   "source": [
    "show_boxplots(train.query(\"price < 10_000_000\"), \"sample\", \"price\")"
   ]
  },
  {
   "cell_type": "markdown",
   "metadata": {},
   "source": [
    "## writing results to files"
   ]
  },
  {
   "cell_type": "code",
   "execution_count": 72,
   "metadata": {},
   "outputs": [],
   "source": [
    "train.to_pickle(\"data/2022-03-30_train_preprocessed.pkl.zip\", compression=\"zip\")\n",
    "test.to_pickle(\"data/2022-03-30_test_preprocessed.pkl.zip\", compression=\"zip\")"
   ]
  }
 ],
 "metadata": {
  "interpreter": {
   "hash": "af40d2546ec2efa4c732ac64d9ceeb689fcabfcbf7d5fda2b704ee62c439694f"
  },
  "kernelspec": {
   "display_name": "Python 3.10.4 ('venv': venv)",
   "language": "python",
   "name": "python3"
  },
  "language_info": {
   "codemirror_mode": {
    "name": "ipython",
    "version": 3
   },
   "file_extension": ".py",
   "mimetype": "text/x-python",
   "name": "python",
   "nbconvert_exporter": "python",
   "pygments_lexer": "ipython3",
   "version": "3.10.4"
  },
  "orig_nbformat": 4
 },
 "nbformat": 4,
 "nbformat_minor": 2
}
