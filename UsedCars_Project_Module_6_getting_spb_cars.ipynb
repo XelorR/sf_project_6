{
 "cells": [
  {
   "cell_type": "code",
   "execution_count": 1,
   "id": "1cfa597c",
   "metadata": {},
   "outputs": [],
   "source": [
    "from warnings import filterwarnings\n",
    "\n",
    "import pandas as pd\n",
    "import requests\n",
    "from bs4 import BeautifulSoup\n",
    "from selenium import webdriver\n",
    "from selenium.webdriver.common.by import By\n",
    "from selenium.webdriver.chrome.service import Service\n",
    "from webdriver_manager.chrome import ChromeDriverManager\n",
    "from selenium.common.exceptions import NoSuchElementException\n",
    "\n",
    "from tqdm import tqdm\n",
    "\n",
    "import re\n",
    "import time\n",
    "import json\n",
    "\n",
    "filterwarnings(\"ignore\")"
   ]
  },
  {
   "cell_type": "code",
   "execution_count": 2,
   "id": "3e13209a",
   "metadata": {},
   "outputs": [],
   "source": [
    "pd.set_option('display.max_rows', 100)\n",
    "pd.set_option('display.max_columns', 100)"
   ]
  },
  {
   "cell_type": "code",
   "execution_count": 3,
   "id": "d025ce41",
   "metadata": {},
   "outputs": [],
   "source": [
    "test_data = pd.read_pickle(\"data/test.pkl.zip\", compression=\"zip\")"
   ]
  },
  {
   "cell_type": "code",
   "execution_count": 4,
   "id": "dd718aa1",
   "metadata": {},
   "outputs": [
    {
     "data": {
      "text/plain": [
       "'Машина в отличном состоянии!!17.10.2020 было сделано Т.О заменено масло в коробке передач в двигателе,так же заменены все фильтра.Почти максимальная комплектация кроме люка!!! Без ключевой доступ. В ДТП не была не билась.Красился капот и передний бампер так как от времени были сколы.Капот фары туманки затянуты броне пленкой.Делали для себя супруга не ездит вся причина продажи.. Новая летняя резина. Продаю не спеша. '"
      ]
     },
     "execution_count": 4,
     "metadata": {},
     "output_type": "execute_result"
    }
   ],
   "source": [
    "test_data.iloc[12561]['description']"
   ]
  },
  {
   "cell_type": "code",
   "execution_count": 5,
   "id": "7fd15057",
   "metadata": {},
   "outputs": [],
   "source": [
    "valid_data = pd.DataFrame()\n",
    "catalog_data = pd.DataFrame()"
   ]
  },
  {
   "cell_type": "code",
   "execution_count": 6,
   "id": "13727dc1",
   "metadata": {},
   "outputs": [
    {
     "data": {
      "text/plain": [
       "array(['лифтбек', 'внедорожник 5 дв.', 'хэтчбек 5 дв.', 'седан',\n",
       "       'компактвэн', 'универсал 5 дв.', 'пикап одинарная кабина',\n",
       "       'хэтчбек 3 дв.', 'купе', 'кабриолет', 'минивэн',\n",
       "       'пикап двойная кабина', 'внедорожник 3 дв.', 'родстер', 'микровэн',\n",
       "       'седан 2 дв.', 'купе-хардтоп', 'фастбек', 'тарга',\n",
       "       'внедорожник открытый', 'лимузин', 'пикап полуторная кабина',\n",
       "       'седан-хардтоп', 'фургон'], dtype=object)"
      ]
     },
     "execution_count": 6,
     "metadata": {},
     "output_type": "execute_result"
    }
   ],
   "source": [
    "test_data['bodyType'].unique()"
   ]
  },
  {
   "cell_type": "code",
   "execution_count": 7,
   "id": "6e925a45",
   "metadata": {},
   "outputs": [
    {
     "name": "stderr",
     "output_type": "stream",
     "text": [
      "\n",
      "\n",
      "====== WebDriver manager ======\n",
      "Current google-chrome version is 99.0.4844\n",
      "Get LATEST chromedriver version for 99.0.4844 google-chrome\n",
      "Driver [/home/user/.wdm/drivers/chromedriver/linux64/99.0.4844.51/chromedriver] found in cache\n"
     ]
    }
   ],
   "source": [
    "options = webdriver.ChromeOptions()\n",
    "driver = webdriver.Chrome(service=Service(ChromeDriverManager().install()), options=options)\n",
    "# driver = webdriver.Chrome(\"./chromedriver\", options=options)"
   ]
  },
  {
   "cell_type": "code",
   "execution_count": 8,
   "id": "d2221eab",
   "metadata": {},
   "outputs": [],
   "source": [
    "regions = [\n",
    "    \"leningradskaya_oblast\",\n",
    "    # \"moskovskaya_oblast\",\n",
    "]\n",
    "models = [\n",
    "    \"skoda\",\n",
    "    \"audi\",\n",
    "    \"honda\",\n",
    "    \"volvo\",\n",
    "    # \"bmw\",\n",
    "    # \"nissan\",\n",
    "    # \"infiniti\",\n",
    "    # \"mercedes\",\n",
    "    # \"toyota\",\n",
    "    # \"lexus\",\n",
    "    # \"volkswagen\",\n",
    "    # \"mitsubishi\",\n",
    "]\n"
   ]
  },
  {
   "cell_type": "code",
   "execution_count": 9,
   "id": "957cf756",
   "metadata": {},
   "outputs": [],
   "source": [
    "urls_list = []"
   ]
  },
  {
   "cell_type": "code",
   "execution_count": 10,
   "id": "531256b2",
   "metadata": {},
   "outputs": [],
   "source": [
    "def get_urls_for_model_in_region(model, region):\n",
    "    \n",
    "    result_list = []\n",
    "    cnt = True\n",
    "    page_num = 1\n",
    "    \n",
    "    while cnt is True:\n",
    "        try:\n",
    "            driver.get(f'https://auto.ru/{region}/cars/{model}/used/?page={page_num}')\n",
    "            next_page = driver.find_element(By.CLASS_NAME, 'ListingItemTitle__link')\n",
    "            page_links = driver.find_elements(By.CLASS_NAME, 'ListingItemTitle__link')\n",
    "\n",
    "            for item in page_links:\n",
    "                result_list.append(item.get_attribute('href'))\n",
    "            print(f'Parsing {page_num} page for {model} in {region}', end='\\r')\n",
    "            page_num += 1\n",
    "        except NoSuchElementException:\n",
    "            cnt = False\n",
    "            print()\n",
    "            print(f'There are {page_num} pages by {model}')\n",
    "    \n",
    "    return result_list"
   ]
  },
  {
   "cell_type": "code",
   "execution_count": 11,
   "id": "39bf09a1",
   "metadata": {},
   "outputs": [],
   "source": [
    "def get_car_info(url):\n",
    "        \n",
    "    driver.get(url)\n",
    "    \n",
    "    year = int(driver.find_element(By.CLASS_NAME, 'CardInfoRow_year').text.split('\\n')[1])\n",
    "    \n",
    "    car = driver.find_elements(By.CLASS_NAME,'CardBreadcrumbs__itemText')\n",
    "    brand = car[3].text\n",
    "    model = car[4].text\n",
    "    \n",
    "    car_url = url\n",
    "    \n",
    "    bodytype = driver.find_element(By.CLASS_NAME, 'CardInfoRow_bodytype').text.split('\\n')[1]\n",
    "    kmage = int(re.sub('\\D', '', driver.find_element(By.CLASS_NAME, 'CardInfoRow_kmAge').text))\n",
    "    color = driver.find_element(By.CLASS_NAME, 'CardInfoRow_color').text.split('\\n')[1]\n",
    "    \n",
    "    engine = driver.find_element(By.CLASS_NAME, 'CardInfoRow_engine').text.split('/')\n",
    "    engineDisplacement = float(re.findall('(\\d+.\\d+)', engine[0])[0])\n",
    "    enginePower = int(re.findall('\\d+', engine[1])[0])\n",
    "    fuelType = engine[2]\n",
    "    \n",
    "    super_gen = json.loads(driver.find_element(By.ID, 'sale-data-attributes').get_attribute('data-bem'))['sale-data-attributes']\n",
    "    \n",
    "    vehicleTransmission = driver.find_element(By.CLASS_NAME, 'CardInfoRow_transmission').text.split('\\n')[1]\n",
    "    drive = driver.find_element(By.CLASS_NAME, 'CardInfoRow_drive').text.split('\\n')[1]\n",
    "    wheel = driver.find_element(By.CLASS_NAME, 'CardInfoRow_wheel').text.split('\\n')[1]\n",
    "    state = driver.find_element(By.CLASS_NAME, 'CardInfoRow_state').text.split('\\n')[1]\n",
    "    owner = driver.find_element(By.CLASS_NAME, 'CardInfoRow_ownersCount').text.split('\\n')[1]\n",
    "    pts = driver.find_element(By.CLASS_NAME, 'CardInfoRow_pts').text.split('\\n')[1]\n",
    "    customs = driver.find_element(By.CLASS_NAME, 'CardInfoRow_customs').text.split('\\n')[1]\n",
    "    \n",
    "    try:\n",
    "        owningTime = driver.find_element(By.CLASS_NAME, 'CardInfoRow_owningTime').text.split('\\n')[1]\n",
    "    except NoSuchElementException:\n",
    "        owningTime = None\n",
    "    \n",
    "    try:\n",
    "        description = driver.find_element(By.CLASS_NAME, 'CardDescriptionHTML').text\n",
    "    except NoSuchElementException:\n",
    "        description = None\n",
    "    \n",
    "    sell_id = int(re.findall('\\d+', driver.find_element(By.CLASS_NAME, 'CardHead__id').text)[0])\n",
    "    price = int(re.sub('\\D', '', driver.find_element(By.CLASS_NAME, 'OfferPriceCaption__price').text))\n",
    "    \n",
    "    complect_list = []\n",
    "    \n",
    "    complect_data = driver.find_elements(By.CLASS_NAME, 'ComplectationGroupsDesktop__itemList')\n",
    "\n",
    "    for item in complect_data:\n",
    "        complect_list.extend(item.text.replace('\\n', '').split('•')[1:])\n",
    "    \n",
    "    catalog_url = driver.find_element(By.CLASS_NAME, 'CardCatalogLink').get_attribute('href')\n",
    "    \n",
    "    data_dict = {\n",
    "        'brand': brand, 'model': model, 'year': year, 'bodytype': bodytype, 'kmage': kmage,\n",
    "        'color': color, 'engineDisplacement': engineDisplacement, 'enginePower': enginePower, \n",
    "        'fuelType': fuelType, 'super_gen': super_gen, 'vehicleTransmission': vehicleTransmission,\n",
    "        'drive': drive, 'wheel': wheel, 'state': state, 'owner': owner, 'pts': pts, 'customs': customs, \n",
    "        'owningTime': owningTime, 'description': description, 'sell_id': sell_id, 'price': price, \n",
    "        'car_url': car_url, 'catalog_url': catalog_url, 'equipment_dict': complect_list\n",
    "    }\n",
    "    \n",
    "    return data_dict"
   ]
  },
  {
   "cell_type": "code",
   "execution_count": 12,
   "id": "9779b1d2",
   "metadata": {},
   "outputs": [],
   "source": [
    "def get_dicts_from_catalog(url):\n",
    "    \n",
    "    driver.get(url)\n",
    "\n",
    "    car_info_full = driver.find_elements(By.CLASS_NAME, 'list-values')\n",
    "    \n",
    "    car_info_dict_ru = {}\n",
    "    \n",
    "    for item in car_info_full:\n",
    "        el = item.text.split('\\n')\n",
    "        for i in range(0, len(el) - 1, 2):\n",
    "            car_info_dict_ru[el[i]] = el[i + 1]\n",
    "    \n",
    "    engine_type_dict = {'бензин': 'GASOLINE', 'дизель': 'DIESEL', \n",
    "                        'гибрид': 'HYBRID', 'электро': 'ELECTRO', 'газ': 'LPG'}\n",
    "    gear_type_dict = {'передний': 'FORWARD_CONTROL', 'полный': 'ALL_WHEEL_DRIVE', 'задний': 'REAR_DRIVE'}\n",
    "    transmission_dict = {'автомат': 'AUTOMATIC', 'робот': 'ROBOT', \n",
    "                         'механика': 'MECHANICAL', 'вариатор': 'VARIATOR'}\n",
    "\n",
    "    car_info_dict_en = {\n",
    "        'engine_type': engine_type_dict[car_info_dict_ru['Тип двигателя']],\n",
    "        'gear_type': gear_type_dict[car_info_dict_ru['Привод']],\n",
    "        'transmission': transmission_dict[car_info_dict_ru['Коробка']],\n",
    "        'power': int(re.findall('\\d+', car_info_dict_ru['Мощность'])[0]),\n",
    "        'power_kvt': int(re.findall('\\d+', car_info_dict_ru['Максимальная мощность, л.с./кВт при об/мин'])[1]),\n",
    "        'acceleration': car_info_dict_ru.get('Разгон до 100 км/ч, с'),\n",
    "        'clearance_min': min(map(int, re.findall('\\d+', car_info_dict_ru['Клиренс']))),\n",
    "        'fuel_rate': float(car_info_dict_ru['Расход топлива, л город/трасса/смешанный'].split('/')[2])\n",
    "    }\n",
    "    \n",
    "    url2 = url.replace('specifications', 'equipment')\n",
    "    \n",
    "    driver.get(url2)\n",
    "\n",
    "    equipment_list = []\n",
    "\n",
    "    equipment_data = driver.find_elements(By.CLASS_NAME, 'catalog__package-list-i')\n",
    "    for item in equipment_data:\n",
    "        equipment_list.append(item.text)\n",
    "    \n",
    "    car_data = json.loads(driver.find_element(By.CLASS_NAME, 'search-form-v2-mmm').get_attribute('data-bem'))\n",
    "    equip_data = json.loads(driver.find_element(By.CLASS_NAME, 'catalog__section').get_attribute('data-bem'))\n",
    "    attrib_data = json.loads(driver.find_element(By.CLASS_NAME, 'sale-data-attributes').get_attribute('data-bem'))\n",
    "    \n",
    "    return {'super_gen_2': car_info_dict_en, 'super_gen_3': attrib_data, 'complectation_dict': equipment_list}"
   ]
  },
  {
   "cell_type": "markdown",
   "id": "4b741576",
   "metadata": {},
   "source": [
    "## Gathering URLs from MODEL pages in Regions"
   ]
  },
  {
   "cell_type": "code",
   "execution_count": 13,
   "id": "147aa0f2",
   "metadata": {},
   "outputs": [
    {
     "name": "stdout",
     "output_type": "stream",
     "text": [
      "1 Processing skoda from leningradskaya_oblast\n",
      "Parsing 10 page for skoda in leningradskaya_oblast\r"
     ]
    },
    {
     "ename": "WebDriverException",
     "evalue": "Message: unknown error: session deleted because of page crash\nfrom unknown error: cannot determine loading status\nfrom tab crashed\n  (Session info: chrome=99.0.4844.84)\nStacktrace:\n#0 0x5654d80fc7d3 <unknown>\n#1 0x5654d7e5851f <unknown>\n#2 0x5654d7e445bd <unknown>\n#3 0x5654d7e43fd5 <unknown>\n#4 0x5654d7e434a5 <unknown>\n#5 0x5654d7e42190 <unknown>\n#6 0x5654d7e4270c <unknown>\n#7 0x5654d7e50cdf <unknown>\n#8 0x5654d7e51862 <unknown>\n#9 0x5654d7e5f78d <unknown>\n#10 0x5654d7e629aa <unknown>\n#11 0x5654d7e42b36 <unknown>\n#12 0x5654d7e5f321 <unknown>\n#13 0x5654d7ebfe64 <unknown>\n#14 0x5654d7eac5a3 <unknown>\n#15 0x5654d7e81ddc <unknown>\n#16 0x5654d7e82de5 <unknown>\n#17 0x5654d812d49d <unknown>\n#18 0x5654d814660c <unknown>\n#19 0x5654d812f205 <unknown>\n#20 0x5654d8146ee5 <unknown>\n#21 0x5654d8123070 <unknown>\n#22 0x5654d8162488 <unknown>\n#23 0x5654d816260c <unknown>\n#24 0x5654d817bc6d <unknown>\n#25 0x7fba0e5a4b1a <unknown>\n",
     "output_type": "error",
     "traceback": [
      "\u001b[0;31m---------------------------------------------------------------------------\u001b[0m",
      "\u001b[0;31mWebDriverException\u001b[0m                        Traceback (most recent call last)",
      "File \u001b[0;32m<timed exec>:10\u001b[0m, in \u001b[0;36m<module>\u001b[0;34m\u001b[0m\n",
      "\u001b[1;32m/home/user/Documents/sf_project_6/UsedCars_Project_Module_6_getting_spb_cars.ipynb Cell 10'\u001b[0m in \u001b[0;36mget_urls_for_model_in_region\u001b[0;34m(model, region)\u001b[0m\n\u001b[1;32m      <a href='vscode-notebook-cell:/home/user/Documents/sf_project_6/UsedCars_Project_Module_6_getting_spb_cars.ipynb#ch0000009?line=6'>7</a>\u001b[0m \u001b[39mwhile\u001b[39;00m cnt \u001b[39mis\u001b[39;00m \u001b[39mTrue\u001b[39;00m:\n\u001b[1;32m      <a href='vscode-notebook-cell:/home/user/Documents/sf_project_6/UsedCars_Project_Module_6_getting_spb_cars.ipynb#ch0000009?line=7'>8</a>\u001b[0m     \u001b[39mtry\u001b[39;00m:\n\u001b[0;32m----> <a href='vscode-notebook-cell:/home/user/Documents/sf_project_6/UsedCars_Project_Module_6_getting_spb_cars.ipynb#ch0000009?line=8'>9</a>\u001b[0m         driver\u001b[39m.\u001b[39;49mget(\u001b[39mf\u001b[39;49m\u001b[39m'\u001b[39;49m\u001b[39mhttps://auto.ru/\u001b[39;49m\u001b[39m{\u001b[39;49;00mregion\u001b[39m}\u001b[39;49;00m\u001b[39m/cars/\u001b[39;49m\u001b[39m{\u001b[39;49;00mmodel\u001b[39m}\u001b[39;49;00m\u001b[39m/used/?page=\u001b[39;49m\u001b[39m{\u001b[39;49;00mpage_num\u001b[39m}\u001b[39;49;00m\u001b[39m'\u001b[39;49m)\n\u001b[1;32m     <a href='vscode-notebook-cell:/home/user/Documents/sf_project_6/UsedCars_Project_Module_6_getting_spb_cars.ipynb#ch0000009?line=9'>10</a>\u001b[0m         next_page \u001b[39m=\u001b[39m driver\u001b[39m.\u001b[39mfind_element(By\u001b[39m.\u001b[39mCLASS_NAME, \u001b[39m'\u001b[39m\u001b[39mListingItemTitle__link\u001b[39m\u001b[39m'\u001b[39m)\n\u001b[1;32m     <a href='vscode-notebook-cell:/home/user/Documents/sf_project_6/UsedCars_Project_Module_6_getting_spb_cars.ipynb#ch0000009?line=10'>11</a>\u001b[0m         page_links \u001b[39m=\u001b[39m driver\u001b[39m.\u001b[39mfind_elements(By\u001b[39m.\u001b[39mCLASS_NAME, \u001b[39m'\u001b[39m\u001b[39mListingItemTitle__link\u001b[39m\u001b[39m'\u001b[39m)\n",
      "File \u001b[0;32m~/Documents/sf_project_6/venv/lib/python3.9/site-packages/selenium/webdriver/remote/webdriver.py:437\u001b[0m, in \u001b[0;36mWebDriver.get\u001b[0;34m(self, url)\u001b[0m\n\u001b[1;32m    <a href='file:///home/user/Documents/sf_project_6/venv/lib/python3.9/site-packages/selenium/webdriver/remote/webdriver.py?line=432'>433</a>\u001b[0m \u001b[39mdef\u001b[39;00m \u001b[39mget\u001b[39m(\u001b[39mself\u001b[39m, url: \u001b[39mstr\u001b[39m) \u001b[39m-\u001b[39m\u001b[39m>\u001b[39m \u001b[39mNone\u001b[39;00m:\n\u001b[1;32m    <a href='file:///home/user/Documents/sf_project_6/venv/lib/python3.9/site-packages/selenium/webdriver/remote/webdriver.py?line=433'>434</a>\u001b[0m     \u001b[39m\"\"\"\u001b[39;00m\n\u001b[1;32m    <a href='file:///home/user/Documents/sf_project_6/venv/lib/python3.9/site-packages/selenium/webdriver/remote/webdriver.py?line=434'>435</a>\u001b[0m \u001b[39m    Loads a web page in the current browser session.\u001b[39;00m\n\u001b[1;32m    <a href='file:///home/user/Documents/sf_project_6/venv/lib/python3.9/site-packages/selenium/webdriver/remote/webdriver.py?line=435'>436</a>\u001b[0m \u001b[39m    \"\"\"\u001b[39;00m\n\u001b[0;32m--> <a href='file:///home/user/Documents/sf_project_6/venv/lib/python3.9/site-packages/selenium/webdriver/remote/webdriver.py?line=436'>437</a>\u001b[0m     \u001b[39mself\u001b[39;49m\u001b[39m.\u001b[39;49mexecute(Command\u001b[39m.\u001b[39;49mGET, {\u001b[39m'\u001b[39;49m\u001b[39murl\u001b[39;49m\u001b[39m'\u001b[39;49m: url})\n",
      "File \u001b[0;32m~/Documents/sf_project_6/venv/lib/python3.9/site-packages/selenium/webdriver/remote/webdriver.py:425\u001b[0m, in \u001b[0;36mWebDriver.execute\u001b[0;34m(self, driver_command, params)\u001b[0m\n\u001b[1;32m    <a href='file:///home/user/Documents/sf_project_6/venv/lib/python3.9/site-packages/selenium/webdriver/remote/webdriver.py?line=422'>423</a>\u001b[0m response \u001b[39m=\u001b[39m \u001b[39mself\u001b[39m\u001b[39m.\u001b[39mcommand_executor\u001b[39m.\u001b[39mexecute(driver_command, params)\n\u001b[1;32m    <a href='file:///home/user/Documents/sf_project_6/venv/lib/python3.9/site-packages/selenium/webdriver/remote/webdriver.py?line=423'>424</a>\u001b[0m \u001b[39mif\u001b[39;00m response:\n\u001b[0;32m--> <a href='file:///home/user/Documents/sf_project_6/venv/lib/python3.9/site-packages/selenium/webdriver/remote/webdriver.py?line=424'>425</a>\u001b[0m     \u001b[39mself\u001b[39;49m\u001b[39m.\u001b[39;49merror_handler\u001b[39m.\u001b[39;49mcheck_response(response)\n\u001b[1;32m    <a href='file:///home/user/Documents/sf_project_6/venv/lib/python3.9/site-packages/selenium/webdriver/remote/webdriver.py?line=425'>426</a>\u001b[0m     response[\u001b[39m'\u001b[39m\u001b[39mvalue\u001b[39m\u001b[39m'\u001b[39m] \u001b[39m=\u001b[39m \u001b[39mself\u001b[39m\u001b[39m.\u001b[39m_unwrap_value(\n\u001b[1;32m    <a href='file:///home/user/Documents/sf_project_6/venv/lib/python3.9/site-packages/selenium/webdriver/remote/webdriver.py?line=426'>427</a>\u001b[0m         response\u001b[39m.\u001b[39mget(\u001b[39m'\u001b[39m\u001b[39mvalue\u001b[39m\u001b[39m'\u001b[39m, \u001b[39mNone\u001b[39;00m))\n\u001b[1;32m    <a href='file:///home/user/Documents/sf_project_6/venv/lib/python3.9/site-packages/selenium/webdriver/remote/webdriver.py?line=427'>428</a>\u001b[0m     \u001b[39mreturn\u001b[39;00m response\n",
      "File \u001b[0;32m~/Documents/sf_project_6/venv/lib/python3.9/site-packages/selenium/webdriver/remote/errorhandler.py:247\u001b[0m, in \u001b[0;36mErrorHandler.check_response\u001b[0;34m(self, response)\u001b[0m\n\u001b[1;32m    <a href='file:///home/user/Documents/sf_project_6/venv/lib/python3.9/site-packages/selenium/webdriver/remote/errorhandler.py?line=244'>245</a>\u001b[0m         alert_text \u001b[39m=\u001b[39m value[\u001b[39m'\u001b[39m\u001b[39malert\u001b[39m\u001b[39m'\u001b[39m]\u001b[39m.\u001b[39mget(\u001b[39m'\u001b[39m\u001b[39mtext\u001b[39m\u001b[39m'\u001b[39m)\n\u001b[1;32m    <a href='file:///home/user/Documents/sf_project_6/venv/lib/python3.9/site-packages/selenium/webdriver/remote/errorhandler.py?line=245'>246</a>\u001b[0m     \u001b[39mraise\u001b[39;00m exception_class(message, screen, stacktrace, alert_text)  \u001b[39m# type: ignore[call-arg]  # mypy is not smart enough here\u001b[39;00m\n\u001b[0;32m--> <a href='file:///home/user/Documents/sf_project_6/venv/lib/python3.9/site-packages/selenium/webdriver/remote/errorhandler.py?line=246'>247</a>\u001b[0m \u001b[39mraise\u001b[39;00m exception_class(message, screen, stacktrace)\n",
      "\u001b[0;31mWebDriverException\u001b[0m: Message: unknown error: session deleted because of page crash\nfrom unknown error: cannot determine loading status\nfrom tab crashed\n  (Session info: chrome=99.0.4844.84)\nStacktrace:\n#0 0x5654d80fc7d3 <unknown>\n#1 0x5654d7e5851f <unknown>\n#2 0x5654d7e445bd <unknown>\n#3 0x5654d7e43fd5 <unknown>\n#4 0x5654d7e434a5 <unknown>\n#5 0x5654d7e42190 <unknown>\n#6 0x5654d7e4270c <unknown>\n#7 0x5654d7e50cdf <unknown>\n#8 0x5654d7e51862 <unknown>\n#9 0x5654d7e5f78d <unknown>\n#10 0x5654d7e629aa <unknown>\n#11 0x5654d7e42b36 <unknown>\n#12 0x5654d7e5f321 <unknown>\n#13 0x5654d7ebfe64 <unknown>\n#14 0x5654d7eac5a3 <unknown>\n#15 0x5654d7e81ddc <unknown>\n#16 0x5654d7e82de5 <unknown>\n#17 0x5654d812d49d <unknown>\n#18 0x5654d814660c <unknown>\n#19 0x5654d812f205 <unknown>\n#20 0x5654d8146ee5 <unknown>\n#21 0x5654d8123070 <unknown>\n#22 0x5654d8162488 <unknown>\n#23 0x5654d816260c <unknown>\n#24 0x5654d817bc6d <unknown>\n#25 0x7fba0e5a4b1a <unknown>\n"
     ]
    }
   ],
   "source": [
    "%%time\n",
    "all_urls = []\n",
    "from time import sleep\n",
    "from random import randint\n",
    "\n",
    "i = 0\n",
    "for region in regions:\n",
    "    for model in models:\n",
    "        print(f\"{i+1} Processing {model} from {region}\")\n",
    "        sleep(randint(30, 70)/100.)\n",
    "        model_urls = get_urls_for_model_in_region(model, region)\n",
    "        all_urls.append(model_urls)\n",
    "        i += 1"
   ]
  },
  {
   "cell_type": "markdown",
   "id": "15944bee-76dc-49c4-a211-a29f151ef534",
   "metadata": {},
   "source": [
    "## Getting main car info"
   ]
  },
  {
   "cell_type": "code",
   "execution_count": null,
   "id": "feafcb99",
   "metadata": {},
   "outputs": [],
   "source": [
    "from itertools import chain\n",
    "all_urls = chain(*all_urls)"
   ]
  },
  {
   "cell_type": "code",
   "execution_count": null,
   "id": "3c7cd6c3",
   "metadata": {},
   "outputs": [
    {
     "name": "stderr",
     "output_type": "stream",
     "text": [
      "0it [00:00, ?it/s]"
     ]
    },
    {
     "name": "stdout",
     "output_type": "stream",
     "text": [
      "Processing url 1: https://auto.ru/cars/used/sale/skoda/octavia/1115028761-873852a0/?geo_id=10174\n"
     ]
    },
    {
     "name": "stderr",
     "output_type": "stream",
     "text": [
      "1it [00:10, 10.26s/it]"
     ]
    },
    {
     "name": "stdout",
     "output_type": "stream",
     "text": [
      "Processing url 2: https://auto.ru/cars/used/sale/skoda/kodiaq/1115133171-b703eb06/?geo_id=10174\n"
     ]
    },
    {
     "name": "stderr",
     "output_type": "stream",
     "text": [
      "2it [00:19,  9.81s/it]"
     ]
    },
    {
     "name": "stdout",
     "output_type": "stream",
     "text": [
      "Processing url 3: https://auto.ru/cars/used/sale/skoda/kodiaq/1106474967-1e42ebec/?geo_id=10174\n"
     ]
    },
    {
     "name": "stderr",
     "output_type": "stream",
     "text": [
      "3it [00:27,  8.64s/it]"
     ]
    },
    {
     "name": "stdout",
     "output_type": "stream",
     "text": [
      "Processing url 4: https://auto.ru/cars/used/sale/skoda/octavia_rs/1114827681-f0c378b5/?geo_id=10174\n"
     ]
    },
    {
     "name": "stderr",
     "output_type": "stream",
     "text": [
      "4it [00:35,  8.71s/it]"
     ]
    },
    {
     "name": "stdout",
     "output_type": "stream",
     "text": [
      "Processing url 5: https://auto.ru/cars/used/sale/skoda/yeti/1115187987-33fc531b/?geo_id=10174\n"
     ]
    },
    {
     "name": "stderr",
     "output_type": "stream",
     "text": [
      "5it [00:43,  8.25s/it]"
     ]
    },
    {
     "name": "stdout",
     "output_type": "stream",
     "text": [
      "Processing url 6: https://auto.ru/cars/used/sale/skoda/karoq/1115187608-48fbe965/?geo_id=10174\n"
     ]
    },
    {
     "name": "stderr",
     "output_type": "stream",
     "text": [
      "6it [00:54,  9.19s/it]"
     ]
    },
    {
     "name": "stdout",
     "output_type": "stream",
     "text": [
      "Processing url 7: https://auto.ru/cars/used/sale/skoda/octavia/1115170039-2256bc06/?geo_id=10174\n"
     ]
    },
    {
     "name": "stderr",
     "output_type": "stream",
     "text": [
      "7it [01:02,  8.93s/it]"
     ]
    },
    {
     "name": "stdout",
     "output_type": "stream",
     "text": [
      "Processing url 8: https://auto.ru/cars/used/sale/skoda/octavia/1114613661-3a40ff20/?geo_id=10174\n"
     ]
    },
    {
     "name": "stderr",
     "output_type": "stream",
     "text": [
      "8it [01:11,  9.00s/it]"
     ]
    },
    {
     "name": "stdout",
     "output_type": "stream",
     "text": [
      "Processing url 9: https://auto.ru/cars/used/sale/skoda/octavia/1115139167-9ff5035d/?geo_id=10174\n"
     ]
    },
    {
     "name": "stderr",
     "output_type": "stream",
     "text": [
      "9it [01:24, 10.25s/it]"
     ]
    },
    {
     "name": "stdout",
     "output_type": "stream",
     "text": [
      "Processing url 10: https://auto.ru/cars/used/sale/skoda/yeti/1115025133-ffd03051/?geo_id=10174\n"
     ]
    },
    {
     "name": "stderr",
     "output_type": "stream",
     "text": [
      "10it [01:37, 11.15s/it]"
     ]
    },
    {
     "name": "stdout",
     "output_type": "stream",
     "text": [
      "Processing url 11: https://auto.ru/cars/used/sale/skoda/rapid/1115186468-55ac7224/?geo_id=10174\n"
     ]
    },
    {
     "name": "stderr",
     "output_type": "stream",
     "text": [
      "11it [01:55, 12.97s/it]"
     ]
    },
    {
     "name": "stdout",
     "output_type": "stream",
     "text": [
      "Processing url 12: https://auto.ru/cars/used/sale/skoda/octavia/1115186496-09f47a8d/?geo_id=10174\n"
     ]
    },
    {
     "name": "stderr",
     "output_type": "stream",
     "text": [
      "12it [02:04, 12.02s/it]"
     ]
    },
    {
     "name": "stdout",
     "output_type": "stream",
     "text": [
      "Processing url 13: https://auto.ru/cars/used/sale/skoda/felicia/1115187747-1ba2568b/?geo_id=10174\n"
     ]
    },
    {
     "name": "stderr",
     "output_type": "stream",
     "text": [
      "13it [02:15, 11.46s/it]"
     ]
    },
    {
     "name": "stdout",
     "output_type": "stream",
     "text": [
      "Processing url 14: https://auto.ru/cars/used/sale/skoda/octavia/1106508752-38a07599/?geo_id=10174\n"
     ]
    },
    {
     "name": "stderr",
     "output_type": "stream",
     "text": [
      "14it [02:23, 10.44s/it]"
     ]
    },
    {
     "name": "stdout",
     "output_type": "stream",
     "text": [
      "Processing url 15: https://auto.ru/cars/used/sale/skoda/rapid/1106142889-2d718d93/?geo_id=10174\n"
     ]
    },
    {
     "name": "stderr",
     "output_type": "stream",
     "text": [
      "15it [02:32, 10.03s/it]"
     ]
    },
    {
     "name": "stdout",
     "output_type": "stream",
     "text": [
      "Processing url 16: https://auto.ru/cars/used/sale/skoda/octavia/1115178755-4649ccae/?geo_id=10174\n"
     ]
    },
    {
     "name": "stderr",
     "output_type": "stream",
     "text": [
      "16it [02:40,  9.49s/it]"
     ]
    },
    {
     "name": "stdout",
     "output_type": "stream",
     "text": [
      "Processing url 17: https://auto.ru/cars/used/sale/skoda/octavia/1106270033-ffd18ff7/?geo_id=10174\n"
     ]
    },
    {
     "name": "stderr",
     "output_type": "stream",
     "text": [
      "17it [02:53, 10.52s/it]"
     ]
    },
    {
     "name": "stdout",
     "output_type": "stream",
     "text": [
      "Processing url 18: https://auto.ru/cars/used/sale/skoda/rapid/1115098821-612a4af4/?geo_id=10174\n"
     ]
    },
    {
     "name": "stderr",
     "output_type": "stream",
     "text": [
      "18it [03:03, 10.25s/it]"
     ]
    },
    {
     "name": "stdout",
     "output_type": "stream",
     "text": [
      "Processing url 19: https://auto.ru/cars/used/sale/skoda/kodiaq/1115187556-2aeb3867/?geo_id=10174\n"
     ]
    },
    {
     "name": "stderr",
     "output_type": "stream",
     "text": [
      "19it [03:17, 11.51s/it]"
     ]
    },
    {
     "name": "stdout",
     "output_type": "stream",
     "text": [
      "Processing url 20: https://auto.ru/cars/used/sale/skoda/fabia/1115077955-6540036c/?geo_id=10174\n"
     ]
    },
    {
     "name": "stderr",
     "output_type": "stream",
     "text": [
      "20it [03:26, 10.82s/it]"
     ]
    },
    {
     "name": "stdout",
     "output_type": "stream",
     "text": [
      "Processing url 21: https://auto.ru/cars/used/sale/skoda/rapid/1115083632-6a00ed21/?geo_id=10174\n"
     ]
    },
    {
     "name": "stderr",
     "output_type": "stream",
     "text": [
      "21it [03:41, 11.94s/it]"
     ]
    },
    {
     "name": "stdout",
     "output_type": "stream",
     "text": [
      "Processing url 22: https://auto.ru/cars/used/sale/skoda/rapid/1115036293-b6814ca7/?geo_id=10174\n"
     ]
    },
    {
     "name": "stderr",
     "output_type": "stream",
     "text": [
      "22it [03:54, 12.41s/it]"
     ]
    },
    {
     "name": "stdout",
     "output_type": "stream",
     "text": [
      "Processing url 23: https://auto.ru/cars/used/sale/skoda/octavia/1105553230-f26940af/?geo_id=10174\n"
     ]
    },
    {
     "name": "stderr",
     "output_type": "stream",
     "text": [
      "23it [04:04, 11.65s/it]"
     ]
    },
    {
     "name": "stdout",
     "output_type": "stream",
     "text": [
      "Processing url 24: https://auto.ru/cars/used/sale/skoda/roomster/1115180357-09be6fd4/?geo_id=10174\n"
     ]
    },
    {
     "name": "stderr",
     "output_type": "stream",
     "text": [
      "24it [04:13, 10.89s/it]"
     ]
    },
    {
     "name": "stdout",
     "output_type": "stream",
     "text": [
      "Processing url 25: https://auto.ru/cars/used/sale/skoda/yeti/1106423603-9b35cf15/?geo_id=10174\n"
     ]
    },
    {
     "name": "stderr",
     "output_type": "stream",
     "text": [
      "25it [04:23, 10.60s/it]"
     ]
    },
    {
     "name": "stdout",
     "output_type": "stream",
     "text": [
      "Processing url 26: https://auto.ru/cars/used/sale/skoda/rapid/1106400359-37d13193/?geo_id=10174\n"
     ]
    },
    {
     "name": "stderr",
     "output_type": "stream",
     "text": [
      "26it [04:36, 11.12s/it]"
     ]
    },
    {
     "name": "stdout",
     "output_type": "stream",
     "text": [
      "Processing url 27: https://auto.ru/cars/used/sale/skoda/rapid/1115049641-865e81e6/?geo_id=10174\n"
     ]
    },
    {
     "name": "stderr",
     "output_type": "stream",
     "text": [
      "27it [04:48, 11.50s/it]"
     ]
    },
    {
     "name": "stdout",
     "output_type": "stream",
     "text": [
      "Processing url 28: https://auto.ru/cars/used/sale/skoda/octavia_rs/1105582050-8f4d193c/?geo_id=10174\n"
     ]
    },
    {
     "name": "stderr",
     "output_type": "stream",
     "text": [
      "28it [04:59, 11.44s/it]"
     ]
    },
    {
     "name": "stdout",
     "output_type": "stream",
     "text": [
      "Processing url 29: https://auto.ru/cars/used/sale/skoda/octavia/1106417557-53b1b2fd/?geo_id=10174\n"
     ]
    },
    {
     "name": "stderr",
     "output_type": "stream",
     "text": [
      "29it [05:12, 11.78s/it]"
     ]
    },
    {
     "name": "stdout",
     "output_type": "stream",
     "text": [
      "Processing url 30: https://auto.ru/cars/used/sale/skoda/octavia/1115025281-88c77bed/?geo_id=10174\n"
     ]
    },
    {
     "name": "stderr",
     "output_type": "stream",
     "text": [
      "30it [05:25, 12.11s/it]"
     ]
    },
    {
     "name": "stdout",
     "output_type": "stream",
     "text": [
      "Processing url 31: https://auto.ru/cars/used/sale/skoda/rapid/1115017787-3faaa244/?geo_id=10174\n"
     ]
    },
    {
     "name": "stderr",
     "output_type": "stream",
     "text": [
      "31it [05:40, 13.00s/it]"
     ]
    },
    {
     "name": "stdout",
     "output_type": "stream",
     "text": [
      "Processing url 32: https://auto.ru/cars/used/sale/skoda/octavia/1106583866-4b70a8d7/?geo_id=10174\n"
     ]
    },
    {
     "name": "stderr",
     "output_type": "stream",
     "text": [
      "31it [06:14, 12.08s/it]\n"
     ]
    },
    {
     "ename": "WebDriverException",
     "evalue": "Message: unknown error: session deleted because of page crash\nfrom unknown error: cannot determine loading status\nfrom tab crashed\n  (Session info: chrome=99.0.4844.84)\nStacktrace:\n#0 0x55d61578f7d3 <unknown>\n#1 0x55d6154eb51f <unknown>\n#2 0x55d6154d75bd <unknown>\n#3 0x55d6154d6fd5 <unknown>\n#4 0x55d6154d64a5 <unknown>\n#5 0x55d6154d5190 <unknown>\n#6 0x55d6154d570c <unknown>\n#7 0x55d6154e3f9e <unknown>\n#8 0x55d6154e4862 <unknown>\n#9 0x55d6154f278d <unknown>\n#10 0x55d6154f59aa <unknown>\n#11 0x55d6154d5b36 <unknown>\n#12 0x55d6154f2321 <unknown>\n#13 0x55d615552e64 <unknown>\n#14 0x55d61553f5a3 <unknown>\n#15 0x55d615514ddc <unknown>\n#16 0x55d615515de5 <unknown>\n#17 0x55d6157c049d <unknown>\n#18 0x55d6157d960c <unknown>\n#19 0x55d6157c2205 <unknown>\n#20 0x55d6157d9ee5 <unknown>\n#21 0x55d6157b6070 <unknown>\n#22 0x55d6157f5488 <unknown>\n#23 0x55d6157f560c <unknown>\n#24 0x55d61580ec6d <unknown>\n#25 0x7fd479549b1a <unknown>\n",
     "output_type": "error",
     "traceback": [
      "\u001b[0;31m---------------------------------------------------------------------------\u001b[0m",
      "\u001b[0;31mWebDriverException\u001b[0m                        Traceback (most recent call last)",
      "\u001b[1;32m/home/user/Documents/sf_project_6/UsedCars_Project_Module_6_getting_spb_cars.ipynb Cell 17'\u001b[0m in \u001b[0;36m<cell line: 2>\u001b[0;34m()\u001b[0m\n\u001b[1;32m      <a href='vscode-notebook-cell:/home/user/Documents/sf_project_6/UsedCars_Project_Module_6_getting_spb_cars.ipynb#ch0000015?line=4'>5</a>\u001b[0m \u001b[39mtry\u001b[39;00m:\n\u001b[1;32m      <a href='vscode-notebook-cell:/home/user/Documents/sf_project_6/UsedCars_Project_Module_6_getting_spb_cars.ipynb#ch0000015?line=5'>6</a>\u001b[0m     sleep(randint(\u001b[39m30\u001b[39m, \u001b[39m70\u001b[39m)\u001b[39m/\u001b[39m\u001b[39m100.\u001b[39m)\n\u001b[0;32m----> <a href='vscode-notebook-cell:/home/user/Documents/sf_project_6/UsedCars_Project_Module_6_getting_spb_cars.ipynb#ch0000015?line=6'>7</a>\u001b[0m     valid_data \u001b[39m=\u001b[39m valid_data\u001b[39m.\u001b[39mappend(get_car_info(url), ignore_index\u001b[39m=\u001b[39m\u001b[39mTrue\u001b[39;00m)\n\u001b[1;32m      <a href='vscode-notebook-cell:/home/user/Documents/sf_project_6/UsedCars_Project_Module_6_getting_spb_cars.ipynb#ch0000015?line=7'>8</a>\u001b[0m \u001b[39mexcept\u001b[39;00m NoSuchElementException:\n\u001b[1;32m      <a href='vscode-notebook-cell:/home/user/Documents/sf_project_6/UsedCars_Project_Module_6_getting_spb_cars.ipynb#ch0000015?line=8'>9</a>\u001b[0m     \u001b[39mprint\u001b[39m(\u001b[39m'\u001b[39m\u001b[39mError 404\u001b[39m\u001b[39m'\u001b[39m, end\u001b[39m=\u001b[39m\u001b[39m'\u001b[39m\u001b[39m\\r\u001b[39;00m\u001b[39m'\u001b[39m)\n",
      "\u001b[1;32m/home/user/Documents/sf_project_6/UsedCars_Project_Module_6_getting_spb_cars.ipynb Cell 11'\u001b[0m in \u001b[0;36mget_car_info\u001b[0;34m(url)\u001b[0m\n\u001b[1;32m      <a href='vscode-notebook-cell:/home/user/Documents/sf_project_6/UsedCars_Project_Module_6_getting_spb_cars.ipynb#ch0000010?line=0'>1</a>\u001b[0m \u001b[39mdef\u001b[39;00m \u001b[39mget_car_info\u001b[39m(url):\n\u001b[0;32m----> <a href='vscode-notebook-cell:/home/user/Documents/sf_project_6/UsedCars_Project_Module_6_getting_spb_cars.ipynb#ch0000010?line=2'>3</a>\u001b[0m     driver\u001b[39m.\u001b[39;49mget(url)\n\u001b[1;32m      <a href='vscode-notebook-cell:/home/user/Documents/sf_project_6/UsedCars_Project_Module_6_getting_spb_cars.ipynb#ch0000010?line=4'>5</a>\u001b[0m     year \u001b[39m=\u001b[39m \u001b[39mint\u001b[39m(driver\u001b[39m.\u001b[39mfind_element(By\u001b[39m.\u001b[39mCLASS_NAME, \u001b[39m'\u001b[39m\u001b[39mCardInfoRow_year\u001b[39m\u001b[39m'\u001b[39m)\u001b[39m.\u001b[39mtext\u001b[39m.\u001b[39msplit(\u001b[39m'\u001b[39m\u001b[39m\\n\u001b[39;00m\u001b[39m'\u001b[39m)[\u001b[39m1\u001b[39m])\n\u001b[1;32m      <a href='vscode-notebook-cell:/home/user/Documents/sf_project_6/UsedCars_Project_Module_6_getting_spb_cars.ipynb#ch0000010?line=6'>7</a>\u001b[0m     car \u001b[39m=\u001b[39m driver\u001b[39m.\u001b[39mfind_elements(By\u001b[39m.\u001b[39mCLASS_NAME,\u001b[39m'\u001b[39m\u001b[39mCardBreadcrumbs__itemText\u001b[39m\u001b[39m'\u001b[39m)\n",
      "File \u001b[0;32m~/Documents/sf_project_6/venv/lib/python3.9/site-packages/selenium/webdriver/remote/webdriver.py:437\u001b[0m, in \u001b[0;36mWebDriver.get\u001b[0;34m(self, url)\u001b[0m\n\u001b[1;32m    <a href='file:///home/user/Documents/sf_project_6/venv/lib/python3.9/site-packages/selenium/webdriver/remote/webdriver.py?line=432'>433</a>\u001b[0m \u001b[39mdef\u001b[39;00m \u001b[39mget\u001b[39m(\u001b[39mself\u001b[39m, url: \u001b[39mstr\u001b[39m) \u001b[39m-\u001b[39m\u001b[39m>\u001b[39m \u001b[39mNone\u001b[39;00m:\n\u001b[1;32m    <a href='file:///home/user/Documents/sf_project_6/venv/lib/python3.9/site-packages/selenium/webdriver/remote/webdriver.py?line=433'>434</a>\u001b[0m     \u001b[39m\"\"\"\u001b[39;00m\n\u001b[1;32m    <a href='file:///home/user/Documents/sf_project_6/venv/lib/python3.9/site-packages/selenium/webdriver/remote/webdriver.py?line=434'>435</a>\u001b[0m \u001b[39m    Loads a web page in the current browser session.\u001b[39;00m\n\u001b[1;32m    <a href='file:///home/user/Documents/sf_project_6/venv/lib/python3.9/site-packages/selenium/webdriver/remote/webdriver.py?line=435'>436</a>\u001b[0m \u001b[39m    \"\"\"\u001b[39;00m\n\u001b[0;32m--> <a href='file:///home/user/Documents/sf_project_6/venv/lib/python3.9/site-packages/selenium/webdriver/remote/webdriver.py?line=436'>437</a>\u001b[0m     \u001b[39mself\u001b[39;49m\u001b[39m.\u001b[39;49mexecute(Command\u001b[39m.\u001b[39;49mGET, {\u001b[39m'\u001b[39;49m\u001b[39murl\u001b[39;49m\u001b[39m'\u001b[39;49m: url})\n",
      "File \u001b[0;32m~/Documents/sf_project_6/venv/lib/python3.9/site-packages/selenium/webdriver/remote/webdriver.py:425\u001b[0m, in \u001b[0;36mWebDriver.execute\u001b[0;34m(self, driver_command, params)\u001b[0m\n\u001b[1;32m    <a href='file:///home/user/Documents/sf_project_6/venv/lib/python3.9/site-packages/selenium/webdriver/remote/webdriver.py?line=422'>423</a>\u001b[0m response \u001b[39m=\u001b[39m \u001b[39mself\u001b[39m\u001b[39m.\u001b[39mcommand_executor\u001b[39m.\u001b[39mexecute(driver_command, params)\n\u001b[1;32m    <a href='file:///home/user/Documents/sf_project_6/venv/lib/python3.9/site-packages/selenium/webdriver/remote/webdriver.py?line=423'>424</a>\u001b[0m \u001b[39mif\u001b[39;00m response:\n\u001b[0;32m--> <a href='file:///home/user/Documents/sf_project_6/venv/lib/python3.9/site-packages/selenium/webdriver/remote/webdriver.py?line=424'>425</a>\u001b[0m     \u001b[39mself\u001b[39;49m\u001b[39m.\u001b[39;49merror_handler\u001b[39m.\u001b[39;49mcheck_response(response)\n\u001b[1;32m    <a href='file:///home/user/Documents/sf_project_6/venv/lib/python3.9/site-packages/selenium/webdriver/remote/webdriver.py?line=425'>426</a>\u001b[0m     response[\u001b[39m'\u001b[39m\u001b[39mvalue\u001b[39m\u001b[39m'\u001b[39m] \u001b[39m=\u001b[39m \u001b[39mself\u001b[39m\u001b[39m.\u001b[39m_unwrap_value(\n\u001b[1;32m    <a href='file:///home/user/Documents/sf_project_6/venv/lib/python3.9/site-packages/selenium/webdriver/remote/webdriver.py?line=426'>427</a>\u001b[0m         response\u001b[39m.\u001b[39mget(\u001b[39m'\u001b[39m\u001b[39mvalue\u001b[39m\u001b[39m'\u001b[39m, \u001b[39mNone\u001b[39;00m))\n\u001b[1;32m    <a href='file:///home/user/Documents/sf_project_6/venv/lib/python3.9/site-packages/selenium/webdriver/remote/webdriver.py?line=427'>428</a>\u001b[0m     \u001b[39mreturn\u001b[39;00m response\n",
      "File \u001b[0;32m~/Documents/sf_project_6/venv/lib/python3.9/site-packages/selenium/webdriver/remote/errorhandler.py:247\u001b[0m, in \u001b[0;36mErrorHandler.check_response\u001b[0;34m(self, response)\u001b[0m\n\u001b[1;32m    <a href='file:///home/user/Documents/sf_project_6/venv/lib/python3.9/site-packages/selenium/webdriver/remote/errorhandler.py?line=244'>245</a>\u001b[0m         alert_text \u001b[39m=\u001b[39m value[\u001b[39m'\u001b[39m\u001b[39malert\u001b[39m\u001b[39m'\u001b[39m]\u001b[39m.\u001b[39mget(\u001b[39m'\u001b[39m\u001b[39mtext\u001b[39m\u001b[39m'\u001b[39m)\n\u001b[1;32m    <a href='file:///home/user/Documents/sf_project_6/venv/lib/python3.9/site-packages/selenium/webdriver/remote/errorhandler.py?line=245'>246</a>\u001b[0m     \u001b[39mraise\u001b[39;00m exception_class(message, screen, stacktrace, alert_text)  \u001b[39m# type: ignore[call-arg]  # mypy is not smart enough here\u001b[39;00m\n\u001b[0;32m--> <a href='file:///home/user/Documents/sf_project_6/venv/lib/python3.9/site-packages/selenium/webdriver/remote/errorhandler.py?line=246'>247</a>\u001b[0m \u001b[39mraise\u001b[39;00m exception_class(message, screen, stacktrace)\n",
      "\u001b[0;31mWebDriverException\u001b[0m: Message: unknown error: session deleted because of page crash\nfrom unknown error: cannot determine loading status\nfrom tab crashed\n  (Session info: chrome=99.0.4844.84)\nStacktrace:\n#0 0x55d61578f7d3 <unknown>\n#1 0x55d6154eb51f <unknown>\n#2 0x55d6154d75bd <unknown>\n#3 0x55d6154d6fd5 <unknown>\n#4 0x55d6154d64a5 <unknown>\n#5 0x55d6154d5190 <unknown>\n#6 0x55d6154d570c <unknown>\n#7 0x55d6154e3f9e <unknown>\n#8 0x55d6154e4862 <unknown>\n#9 0x55d6154f278d <unknown>\n#10 0x55d6154f59aa <unknown>\n#11 0x55d6154d5b36 <unknown>\n#12 0x55d6154f2321 <unknown>\n#13 0x55d615552e64 <unknown>\n#14 0x55d61553f5a3 <unknown>\n#15 0x55d615514ddc <unknown>\n#16 0x55d615515de5 <unknown>\n#17 0x55d6157c049d <unknown>\n#18 0x55d6157d960c <unknown>\n#19 0x55d6157c2205 <unknown>\n#20 0x55d6157d9ee5 <unknown>\n#21 0x55d6157b6070 <unknown>\n#22 0x55d6157f5488 <unknown>\n#23 0x55d6157f560c <unknown>\n#24 0x55d61580ec6d <unknown>\n#25 0x7fd479549b1a <unknown>\n"
     ]
    }
   ],
   "source": [
    "i = 1\n",
    "for url in tqdm(all_urls):\n",
    "    print(f\"Processing url {i}: {url}\")\n",
    "    i += 1\n",
    "    try:\n",
    "        sleep(randint(30, 70)/100.)\n",
    "        valid_data = valid_data.append(get_car_info(url), ignore_index=True)\n",
    "    except NoSuchElementException:\n",
    "        print('Error 404', end='\\r')"
   ]
  },
  {
   "cell_type": "code",
   "execution_count": null,
   "id": "fbff7a85",
   "metadata": {},
   "outputs": [],
   "source": [
    "valid_data.to_pickle(\"data/20220327_lo_shkoda_audi_honda_volvo.pkl.zip\", compression=\"zip\")"
   ]
  },
  {
   "cell_type": "markdown",
   "id": "028ceed8",
   "metadata": {},
   "source": [
    "## Getting additional information from catalog (links from main DF)"
   ]
  },
  {
   "cell_type": "code",
   "execution_count": 23,
   "id": "4e08c0b4",
   "metadata": {},
   "outputs": [
    {
     "name": "stderr",
     "output_type": "stream",
     "text": [
      "  0%|          | 0/46 [00:00<?, ?it/s]/tmp/ipykernel_66777/2336546692.py:3: FutureWarning: The frame.append method is deprecated and will be removed from pandas in a future version. Use pandas.concat instead.\n",
      "  catalog_data = catalog_data.append(get_dicts_from_catalog(car_url), ignore_index=True)\n",
      "  2%|▏         | 1/46 [00:15<11:47, 15.71s/it]/tmp/ipykernel_66777/2336546692.py:3: FutureWarning: The frame.append method is deprecated and will be removed from pandas in a future version. Use pandas.concat instead.\n",
      "  catalog_data = catalog_data.append(get_dicts_from_catalog(car_url), ignore_index=True)\n",
      "  4%|▍         | 2/46 [00:24<08:24, 11.47s/it]/tmp/ipykernel_66777/2336546692.py:3: FutureWarning: The frame.append method is deprecated and will be removed from pandas in a future version. Use pandas.concat instead.\n",
      "  catalog_data = catalog_data.append(get_dicts_from_catalog(car_url), ignore_index=True)\n",
      "  7%|▋         | 3/46 [00:32<07:18, 10.19s/it]/tmp/ipykernel_66777/2336546692.py:3: FutureWarning: The frame.append method is deprecated and will be removed from pandas in a future version. Use pandas.concat instead.\n",
      "  catalog_data = catalog_data.append(get_dicts_from_catalog(car_url), ignore_index=True)\n",
      "  9%|▊         | 4/46 [00:41<06:36,  9.44s/it]/tmp/ipykernel_66777/2336546692.py:3: FutureWarning: The frame.append method is deprecated and will be removed from pandas in a future version. Use pandas.concat instead.\n",
      "  catalog_data = catalog_data.append(get_dicts_from_catalog(car_url), ignore_index=True)\n",
      " 11%|█         | 5/46 [00:47<05:40,  8.31s/it]/tmp/ipykernel_66777/2336546692.py:3: FutureWarning: The frame.append method is deprecated and will be removed from pandas in a future version. Use pandas.concat instead.\n",
      "  catalog_data = catalog_data.append(get_dicts_from_catalog(car_url), ignore_index=True)\n",
      " 13%|█▎        | 6/46 [00:53<05:05,  7.63s/it]/tmp/ipykernel_66777/2336546692.py:3: FutureWarning: The frame.append method is deprecated and will be removed from pandas in a future version. Use pandas.concat instead.\n",
      "  catalog_data = catalog_data.append(get_dicts_from_catalog(car_url), ignore_index=True)\n",
      " 15%|█▌        | 7/46 [01:05<05:54,  9.08s/it]/tmp/ipykernel_66777/2336546692.py:3: FutureWarning: The frame.append method is deprecated and will be removed from pandas in a future version. Use pandas.concat instead.\n",
      "  catalog_data = catalog_data.append(get_dicts_from_catalog(car_url), ignore_index=True)\n",
      " 17%|█▋        | 8/46 [01:13<05:23,  8.51s/it]/tmp/ipykernel_66777/2336546692.py:3: FutureWarning: The frame.append method is deprecated and will be removed from pandas in a future version. Use pandas.concat instead.\n",
      "  catalog_data = catalog_data.append(get_dicts_from_catalog(car_url), ignore_index=True)\n",
      " 20%|█▉        | 9/46 [01:24<05:44,  9.30s/it]/tmp/ipykernel_66777/2336546692.py:3: FutureWarning: The frame.append method is deprecated and will be removed from pandas in a future version. Use pandas.concat instead.\n",
      "  catalog_data = catalog_data.append(get_dicts_from_catalog(car_url), ignore_index=True)\n",
      " 22%|██▏       | 10/46 [01:35<05:54,  9.84s/it]/tmp/ipykernel_66777/2336546692.py:3: FutureWarning: The frame.append method is deprecated and will be removed from pandas in a future version. Use pandas.concat instead.\n",
      "  catalog_data = catalog_data.append(get_dicts_from_catalog(car_url), ignore_index=True)\n",
      " 24%|██▍       | 11/46 [01:41<05:09,  8.85s/it]/tmp/ipykernel_66777/2336546692.py:3: FutureWarning: The frame.append method is deprecated and will be removed from pandas in a future version. Use pandas.concat instead.\n",
      "  catalog_data = catalog_data.append(get_dicts_from_catalog(car_url), ignore_index=True)\n",
      " 26%|██▌       | 12/46 [01:48<04:36,  8.14s/it]/tmp/ipykernel_66777/2336546692.py:3: FutureWarning: The frame.append method is deprecated and will be removed from pandas in a future version. Use pandas.concat instead.\n",
      "  catalog_data = catalog_data.append(get_dicts_from_catalog(car_url), ignore_index=True)\n",
      " 28%|██▊       | 13/46 [01:56<04:26,  8.08s/it]/tmp/ipykernel_66777/2336546692.py:3: FutureWarning: The frame.append method is deprecated and will be removed from pandas in a future version. Use pandas.concat instead.\n",
      "  catalog_data = catalog_data.append(get_dicts_from_catalog(car_url), ignore_index=True)\n",
      " 30%|███       | 14/46 [02:08<04:54,  9.19s/it]/tmp/ipykernel_66777/2336546692.py:3: FutureWarning: The frame.append method is deprecated and will be removed from pandas in a future version. Use pandas.concat instead.\n",
      "  catalog_data = catalog_data.append(get_dicts_from_catalog(car_url), ignore_index=True)\n",
      " 33%|███▎      | 15/46 [02:16<04:35,  8.88s/it]/tmp/ipykernel_66777/2336546692.py:3: FutureWarning: The frame.append method is deprecated and will be removed from pandas in a future version. Use pandas.concat instead.\n",
      "  catalog_data = catalog_data.append(get_dicts_from_catalog(car_url), ignore_index=True)\n",
      " 35%|███▍      | 16/46 [02:25<04:32,  9.07s/it]/tmp/ipykernel_66777/2336546692.py:3: FutureWarning: The frame.append method is deprecated and will be removed from pandas in a future version. Use pandas.concat instead.\n",
      "  catalog_data = catalog_data.append(get_dicts_from_catalog(car_url), ignore_index=True)\n",
      " 37%|███▋      | 17/46 [02:36<04:36,  9.53s/it]/tmp/ipykernel_66777/2336546692.py:3: FutureWarning: The frame.append method is deprecated and will be removed from pandas in a future version. Use pandas.concat instead.\n",
      "  catalog_data = catalog_data.append(get_dicts_from_catalog(car_url), ignore_index=True)\n",
      " 39%|███▉      | 18/46 [02:44<04:14,  9.08s/it]/tmp/ipykernel_66777/2336546692.py:3: FutureWarning: The frame.append method is deprecated and will be removed from pandas in a future version. Use pandas.concat instead.\n",
      "  catalog_data = catalog_data.append(get_dicts_from_catalog(car_url), ignore_index=True)\n",
      " 41%|████▏     | 19/46 [02:51<03:47,  8.44s/it]/tmp/ipykernel_66777/2336546692.py:3: FutureWarning: The frame.append method is deprecated and will be removed from pandas in a future version. Use pandas.concat instead.\n",
      "  catalog_data = catalog_data.append(get_dicts_from_catalog(car_url), ignore_index=True)\n",
      " 43%|████▎     | 20/46 [02:56<03:16,  7.55s/it]/tmp/ipykernel_66777/2336546692.py:3: FutureWarning: The frame.append method is deprecated and will be removed from pandas in a future version. Use pandas.concat instead.\n",
      "  catalog_data = catalog_data.append(get_dicts_from_catalog(car_url), ignore_index=True)\n",
      " 46%|████▌     | 21/46 [03:02<02:56,  7.07s/it]/tmp/ipykernel_66777/2336546692.py:3: FutureWarning: The frame.append method is deprecated and will be removed from pandas in a future version. Use pandas.concat instead.\n",
      "  catalog_data = catalog_data.append(get_dicts_from_catalog(car_url), ignore_index=True)\n",
      " 48%|████▊     | 22/46 [03:08<02:36,  6.53s/it]/tmp/ipykernel_66777/2336546692.py:3: FutureWarning: The frame.append method is deprecated and will be removed from pandas in a future version. Use pandas.concat instead.\n",
      "  catalog_data = catalog_data.append(get_dicts_from_catalog(car_url), ignore_index=True)\n",
      " 50%|█████     | 23/46 [03:15<02:37,  6.84s/it]/tmp/ipykernel_66777/2336546692.py:3: FutureWarning: The frame.append method is deprecated and will be removed from pandas in a future version. Use pandas.concat instead.\n",
      "  catalog_data = catalog_data.append(get_dicts_from_catalog(car_url), ignore_index=True)\n",
      " 52%|█████▏    | 24/46 [03:22<02:33,  6.96s/it]/tmp/ipykernel_66777/2336546692.py:3: FutureWarning: The frame.append method is deprecated and will be removed from pandas in a future version. Use pandas.concat instead.\n",
      "  catalog_data = catalog_data.append(get_dicts_from_catalog(car_url), ignore_index=True)\n",
      " 54%|█████▍    | 25/46 [03:29<02:22,  6.76s/it]/tmp/ipykernel_66777/2336546692.py:3: FutureWarning: The frame.append method is deprecated and will be removed from pandas in a future version. Use pandas.concat instead.\n",
      "  catalog_data = catalog_data.append(get_dicts_from_catalog(car_url), ignore_index=True)\n",
      " 57%|█████▋    | 26/46 [03:34<02:09,  6.48s/it]/tmp/ipykernel_66777/2336546692.py:3: FutureWarning: The frame.append method is deprecated and will be removed from pandas in a future version. Use pandas.concat instead.\n",
      "  catalog_data = catalog_data.append(get_dicts_from_catalog(car_url), ignore_index=True)\n",
      " 59%|█████▊    | 27/46 [03:42<02:11,  6.92s/it]/tmp/ipykernel_66777/2336546692.py:3: FutureWarning: The frame.append method is deprecated and will be removed from pandas in a future version. Use pandas.concat instead.\n",
      "  catalog_data = catalog_data.append(get_dicts_from_catalog(car_url), ignore_index=True)\n",
      " 61%|██████    | 28/46 [03:49<02:03,  6.89s/it]/tmp/ipykernel_66777/2336546692.py:3: FutureWarning: The frame.append method is deprecated and will be removed from pandas in a future version. Use pandas.concat instead.\n",
      "  catalog_data = catalog_data.append(get_dicts_from_catalog(car_url), ignore_index=True)\n",
      " 63%|██████▎   | 29/46 [03:56<01:56,  6.88s/it]/tmp/ipykernel_66777/2336546692.py:3: FutureWarning: The frame.append method is deprecated and will be removed from pandas in a future version. Use pandas.concat instead.\n",
      "  catalog_data = catalog_data.append(get_dicts_from_catalog(car_url), ignore_index=True)\n",
      " 65%|██████▌   | 30/46 [04:04<01:56,  7.29s/it]/tmp/ipykernel_66777/2336546692.py:3: FutureWarning: The frame.append method is deprecated and will be removed from pandas in a future version. Use pandas.concat instead.\n",
      "  catalog_data = catalog_data.append(get_dicts_from_catalog(car_url), ignore_index=True)\n",
      " 67%|██████▋   | 31/46 [04:12<01:53,  7.54s/it]/tmp/ipykernel_66777/2336546692.py:3: FutureWarning: The frame.append method is deprecated and will be removed from pandas in a future version. Use pandas.concat instead.\n",
      "  catalog_data = catalog_data.append(get_dicts_from_catalog(car_url), ignore_index=True)\n",
      " 70%|██████▉   | 32/46 [04:19<01:40,  7.19s/it]/tmp/ipykernel_66777/2336546692.py:3: FutureWarning: The frame.append method is deprecated and will be removed from pandas in a future version. Use pandas.concat instead.\n",
      "  catalog_data = catalog_data.append(get_dicts_from_catalog(car_url), ignore_index=True)\n",
      " 72%|███████▏  | 33/46 [04:27<01:35,  7.34s/it]/tmp/ipykernel_66777/2336546692.py:3: FutureWarning: The frame.append method is deprecated and will be removed from pandas in a future version. Use pandas.concat instead.\n",
      "  catalog_data = catalog_data.append(get_dicts_from_catalog(car_url), ignore_index=True)\n",
      " 74%|███████▍  | 34/46 [04:32<01:21,  6.80s/it]/tmp/ipykernel_66777/2336546692.py:3: FutureWarning: The frame.append method is deprecated and will be removed from pandas in a future version. Use pandas.concat instead.\n",
      "  catalog_data = catalog_data.append(get_dicts_from_catalog(car_url), ignore_index=True)\n",
      " 76%|███████▌  | 35/46 [04:40<01:17,  7.03s/it]/tmp/ipykernel_66777/2336546692.py:3: FutureWarning: The frame.append method is deprecated and will be removed from pandas in a future version. Use pandas.concat instead.\n",
      "  catalog_data = catalog_data.append(get_dicts_from_catalog(car_url), ignore_index=True)\n",
      " 78%|███████▊  | 36/46 [04:46<01:08,  6.87s/it]/tmp/ipykernel_66777/2336546692.py:3: FutureWarning: The frame.append method is deprecated and will be removed from pandas in a future version. Use pandas.concat instead.\n",
      "  catalog_data = catalog_data.append(get_dicts_from_catalog(car_url), ignore_index=True)\n",
      " 80%|████████  | 37/46 [04:52<00:59,  6.58s/it]/tmp/ipykernel_66777/2336546692.py:3: FutureWarning: The frame.append method is deprecated and will be removed from pandas in a future version. Use pandas.concat instead.\n",
      "  catalog_data = catalog_data.append(get_dicts_from_catalog(car_url), ignore_index=True)\n",
      " 83%|████████▎ | 38/46 [04:58<00:51,  6.48s/it]/tmp/ipykernel_66777/2336546692.py:3: FutureWarning: The frame.append method is deprecated and will be removed from pandas in a future version. Use pandas.concat instead.\n",
      "  catalog_data = catalog_data.append(get_dicts_from_catalog(car_url), ignore_index=True)\n",
      " 85%|████████▍ | 39/46 [05:05<00:46,  6.64s/it]/tmp/ipykernel_66777/2336546692.py:3: FutureWarning: The frame.append method is deprecated and will be removed from pandas in a future version. Use pandas.concat instead.\n",
      "  catalog_data = catalog_data.append(get_dicts_from_catalog(car_url), ignore_index=True)\n",
      " 87%|████████▋ | 40/46 [05:10<00:36,  6.02s/it]/tmp/ipykernel_66777/2336546692.py:3: FutureWarning: The frame.append method is deprecated and will be removed from pandas in a future version. Use pandas.concat instead.\n",
      "  catalog_data = catalog_data.append(get_dicts_from_catalog(car_url), ignore_index=True)\n",
      " 89%|████████▉ | 41/46 [05:17<00:31,  6.26s/it]/tmp/ipykernel_66777/2336546692.py:3: FutureWarning: The frame.append method is deprecated and will be removed from pandas in a future version. Use pandas.concat instead.\n",
      "  catalog_data = catalog_data.append(get_dicts_from_catalog(car_url), ignore_index=True)\n",
      " 91%|█████████▏| 42/46 [05:23<00:24,  6.23s/it]/tmp/ipykernel_66777/2336546692.py:3: FutureWarning: The frame.append method is deprecated and will be removed from pandas in a future version. Use pandas.concat instead.\n",
      "  catalog_data = catalog_data.append(get_dicts_from_catalog(car_url), ignore_index=True)\n",
      " 93%|█████████▎| 43/46 [05:34<00:22,  7.66s/it]/tmp/ipykernel_66777/2336546692.py:3: FutureWarning: The frame.append method is deprecated and will be removed from pandas in a future version. Use pandas.concat instead.\n",
      "  catalog_data = catalog_data.append(get_dicts_from_catalog(car_url), ignore_index=True)\n",
      " 96%|█████████▌| 44/46 [05:42<00:15,  7.69s/it]/tmp/ipykernel_66777/2336546692.py:3: FutureWarning: The frame.append method is deprecated and will be removed from pandas in a future version. Use pandas.concat instead.\n",
      "  catalog_data = catalog_data.append(get_dicts_from_catalog(car_url), ignore_index=True)\n",
      " 98%|█████████▊| 45/46 [05:49<00:07,  7.72s/it]/tmp/ipykernel_66777/2336546692.py:3: FutureWarning: The frame.append method is deprecated and will be removed from pandas in a future version. Use pandas.concat instead.\n",
      "  catalog_data = catalog_data.append(get_dicts_from_catalog(car_url), ignore_index=True)\n",
      "100%|██████████| 46/46 [05:55<00:00,  7.72s/it]\n"
     ]
    }
   ],
   "source": [
    "for car_url in tqdm(valid_data['catalog_url'].value_counts().index.tolist()):\n",
    "    try:\n",
    "        catalog_data = catalog_data.append(get_dicts_from_catalog(car_url), ignore_index=True)\n",
    "    except NoSuchElementException:\n",
    "        print('Error 404', end='\\r')"
   ]
  },
  {
   "cell_type": "code",
   "execution_count": 30,
   "id": "753360d2",
   "metadata": {},
   "outputs": [],
   "source": [
    "valid_data.to_pickle(\"data/20220326_valid_data.pkl.zip\", compression=\"zip\")\n",
    "catalog_data.to_pickle(\"data/20220326_catalog_data.pkl.zip\", compression=\"zip\")"
   ]
  },
  {
   "cell_type": "code",
   "execution_count": 29,
   "id": "d0fa3095",
   "metadata": {},
   "outputs": [
    {
     "name": "stdout",
     "output_type": "stream",
     "text": [
      "super gen 2\n",
      "{'engine_type': 'DIESEL', 'gear_type': 'ALL_WHEEL_DRIVE', 'transmission': 'AUTOMATIC', 'power': 238, 'power_kvt': 175, 'acceleration': '8.3', 'clearance_min': 184, 'fuel_rate': 9.0}\n",
      "super gen 3\n",
      "{'sale-data-attributes': {'asciiCat': 'cars', 'puid10': '1', 'category': 'cars', 'mark': 'INFINITI', 'model': 'FX', 'state': 'used', 'class': 'J', 'type': 'suv', 'segment': 'PREMIUM', 'group': 'family', 'power': 238, 'year': 2011}}\n"
     ]
    }
   ],
   "source": [
    "\n",
    "print(\"super gen 2\", catalog_data[\"super_gen_2\"][5], sep=\"\\n\")\n",
    "print(\"super gen 3\", catalog_data[\"super_gen_3\"][5], sep=\"\\n\")"
   ]
  },
  {
   "cell_type": "markdown",
   "id": "eb13292a",
   "metadata": {},
   "source": [
    "to extract\n",
    "\n",
    "- super gen 2: power_kvt, acceleration, clearance_min, fuel_rate\n",
    "- super gen 3: mark, model, class, year, group\n",
    "\n",
    "join by\n",
    "\n",
    "- model\n",
    "- mark\n",
    "- year"
   ]
  },
  {
   "cell_type": "code",
   "execution_count": null,
   "id": "3435875c",
   "metadata": {},
   "outputs": [],
   "source": []
  }
 ],
 "metadata": {
  "kernelspec": {
   "display_name": "Python 3 (ipykernel)",
   "language": "python",
   "name": "python3"
  },
  "language_info": {
   "codemirror_mode": {
    "name": "ipython",
    "version": 3
   },
   "file_extension": ".py",
   "mimetype": "text/x-python",
   "name": "python",
   "nbconvert_exporter": "python",
   "pygments_lexer": "ipython3",
   "version": "3.9.12"
  }
 },
 "nbformat": 4,
 "nbformat_minor": 5
}
