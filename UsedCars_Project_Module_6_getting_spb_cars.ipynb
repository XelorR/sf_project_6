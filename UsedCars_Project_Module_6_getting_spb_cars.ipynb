{
 "cells": [
  {
   "cell_type": "code",
   "execution_count": 1,
   "id": "1cfa597c",
   "metadata": {},
   "outputs": [],
   "source": [
    "import pandas as pd\n",
    "import requests\n",
    "from bs4 import BeautifulSoup\n",
    "from selenium import webdriver\n",
    "from selenium.webdriver.common.by import By\n",
    "from selenium.webdriver.chrome.service import Service\n",
    "from webdriver_manager.chrome import ChromeDriverManager\n",
    "from selenium.common.exceptions import NoSuchElementException\n",
    "\n",
    "from tqdm import tqdm\n",
    "\n",
    "import re\n",
    "import time\n",
    "import json"
   ]
  },
  {
   "cell_type": "code",
   "execution_count": 2,
   "id": "3e13209a",
   "metadata": {},
   "outputs": [],
   "source": [
    "pd.set_option('display.max_rows', 100)\n",
    "pd.set_option('display.max_columns', 100)"
   ]
  },
  {
   "cell_type": "code",
   "execution_count": 3,
   "id": "d025ce41",
   "metadata": {},
   "outputs": [],
   "source": [
    "test_data = pd.read_pickle(\"data/test.pkl.zip\", compression=\"zip\")"
   ]
  },
  {
   "cell_type": "code",
   "execution_count": 4,
   "id": "dd718aa1",
   "metadata": {},
   "outputs": [
    {
     "data": {
      "text/plain": [
       "'Машина в отличном состоянии!!17.10.2020 было сделано Т.О заменено масло в коробке передач в двигателе,так же заменены все фильтра.Почти максимальная комплектация кроме люка!!! Без ключевой доступ. В ДТП не была не билась.Красился капот и передний бампер так как от времени были сколы.Капот фары туманки затянуты броне пленкой.Делали для себя супруга не ездит вся причина продажи.. Новая летняя резина. Продаю не спеша. '"
      ]
     },
     "execution_count": 4,
     "metadata": {},
     "output_type": "execute_result"
    }
   ],
   "source": [
    "test_data.iloc[12561]['description']"
   ]
  },
  {
   "cell_type": "code",
   "execution_count": 5,
   "id": "7fd15057",
   "metadata": {},
   "outputs": [],
   "source": [
    "valid_data = pd.DataFrame()\n",
    "catalog_data = pd.DataFrame()"
   ]
  },
  {
   "cell_type": "code",
   "execution_count": 6,
   "id": "13727dc1",
   "metadata": {},
   "outputs": [
    {
     "data": {
      "text/plain": [
       "array(['лифтбек', 'внедорожник 5 дв.', 'хэтчбек 5 дв.', 'седан',\n",
       "       'компактвэн', 'универсал 5 дв.', 'пикап одинарная кабина',\n",
       "       'хэтчбек 3 дв.', 'купе', 'кабриолет', 'минивэн',\n",
       "       'пикап двойная кабина', 'внедорожник 3 дв.', 'родстер', 'микровэн',\n",
       "       'седан 2 дв.', 'купе-хардтоп', 'фастбек', 'тарга',\n",
       "       'внедорожник открытый', 'лимузин', 'пикап полуторная кабина',\n",
       "       'седан-хардтоп', 'фургон'], dtype=object)"
      ]
     },
     "execution_count": 6,
     "metadata": {},
     "output_type": "execute_result"
    }
   ],
   "source": [
    "test_data['bodyType'].unique()"
   ]
  },
  {
   "cell_type": "code",
   "execution_count": 7,
   "id": "6e925a45",
   "metadata": {},
   "outputs": [
    {
     "name": "stderr",
     "output_type": "stream",
     "text": [
      "\n",
      "\n",
      "====== WebDriver manager ======\n",
      "Current google-chrome version is 99.0.4844\n",
      "Get LATEST chromedriver version for 99.0.4844 google-chrome\n",
      "Driver [/home/user/.wdm/drivers/chromedriver/linux64/99.0.4844.51/chromedriver] found in cache\n"
     ]
    }
   ],
   "source": [
    "options = webdriver.ChromeOptions()\n",
    "driver = webdriver.Chrome(service=Service(ChromeDriverManager().install()), options=options)\n",
    "# driver = webdriver.Chrome(\"./chromedriver\", options=options)"
   ]
  },
  {
   "cell_type": "code",
   "execution_count": 8,
   "id": "d2221eab",
   "metadata": {},
   "outputs": [],
   "source": [
    "regions = [\n",
    "    \"leningradskaya_oblast\",\n",
    "    # \"moskovskaya_oblast\",\n",
    "]\n",
    "models = [\n",
    "    # \"skoda\",\n",
    "    # \"audi\",\n",
    "    # \"honda\",\n",
    "    # \"volvo\",\n",
    "    # \"bmw\",\n",
    "    \"nissan\",\n",
    "    \"infiniti\",\n",
    "    # \"mercedes\",\n",
    "    \"toyota\",\n",
    "    \"lexus\",\n",
    "    # \"volkswagen\",\n",
    "    \"mitsubishi\",\n",
    "]\n"
   ]
  },
  {
   "cell_type": "code",
   "execution_count": 9,
   "id": "957cf756",
   "metadata": {},
   "outputs": [],
   "source": [
    "urls_list = []"
   ]
  },
  {
   "cell_type": "code",
   "execution_count": 10,
   "id": "531256b2",
   "metadata": {},
   "outputs": [],
   "source": [
    "def get_urls_for_model_in_region(model, region):\n",
    "    \n",
    "    result_list = []\n",
    "    cnt = True\n",
    "    page_num = 1\n",
    "    \n",
    "    while cnt is True:\n",
    "        try:\n",
    "            driver.get(f'https://auto.ru/{region}/cars/{model}/used/?page={page_num}')\n",
    "            next_page = driver.find_element(By.CLASS_NAME, 'ListingItemTitle__link')\n",
    "            page_links = driver.find_elements(By.CLASS_NAME, 'ListingItemTitle__link')\n",
    "\n",
    "            for item in page_links:\n",
    "                result_list.append(item.get_attribute('href'))\n",
    "            print(f'Parsing {page_num} page for {model} in {region}', end='\\r')\n",
    "            page_num += 1\n",
    "        except NoSuchElementException:\n",
    "            cnt = False\n",
    "            print()\n",
    "            print(f'There are {page_num} pages by {model}')\n",
    "    \n",
    "    return result_list"
   ]
  },
  {
   "cell_type": "code",
   "execution_count": 11,
   "id": "39bf09a1",
   "metadata": {},
   "outputs": [],
   "source": [
    "def get_car_info(url):\n",
    "        \n",
    "    driver.get(url)\n",
    "    \n",
    "    year = int(driver.find_element(By.CLASS_NAME, 'CardInfoRow_year').text.split('\\n')[1])\n",
    "    \n",
    "    car = driver.find_elements(By.CLASS_NAME,'CardBreadcrumbs__itemText')\n",
    "    brand = car[3].text\n",
    "    model = car[4].text\n",
    "    \n",
    "    car_url = url\n",
    "    \n",
    "    bodytype = driver.find_element(By.CLASS_NAME, 'CardInfoRow_bodytype').text.split('\\n')[1]\n",
    "    kmage = int(re.sub('\\D', '', driver.find_element(By.CLASS_NAME, 'CardInfoRow_kmAge').text))\n",
    "    color = driver.find_element(By.CLASS_NAME, 'CardInfoRow_color').text.split('\\n')[1]\n",
    "    \n",
    "    engine = driver.find_element(By.CLASS_NAME, 'CardInfoRow_engine').text.split('/')\n",
    "    engineDisplacement = float(re.findall('(\\d+.\\d+)', engine[0])[0])\n",
    "    enginePower = int(re.findall('\\d+', engine[1])[0])\n",
    "    fuelType = engine[2]\n",
    "    \n",
    "    super_gen = json.loads(driver.find_element(By.ID, 'sale-data-attributes').get_attribute('data-bem'))['sale-data-attributes']\n",
    "    \n",
    "    vehicleTransmission = driver.find_element(By.CLASS_NAME, 'CardInfoRow_transmission').text.split('\\n')[1]\n",
    "    drive = driver.find_element(By.CLASS_NAME, 'CardInfoRow_drive').text.split('\\n')[1]\n",
    "    wheel = driver.find_element(By.CLASS_NAME, 'CardInfoRow_wheel').text.split('\\n')[1]\n",
    "    state = driver.find_element(By.CLASS_NAME, 'CardInfoRow_state').text.split('\\n')[1]\n",
    "    owner = driver.find_element(By.CLASS_NAME, 'CardInfoRow_ownersCount').text.split('\\n')[1]\n",
    "    pts = driver.find_element(By.CLASS_NAME, 'CardInfoRow_pts').text.split('\\n')[1]\n",
    "    customs = driver.find_element(By.CLASS_NAME, 'CardInfoRow_customs').text.split('\\n')[1]\n",
    "    \n",
    "    try:\n",
    "        owningTime = driver.find_element(By.CLASS_NAME, 'CardInfoRow_owningTime').text.split('\\n')[1]\n",
    "    except NoSuchElementException:\n",
    "        owningTime = None\n",
    "    \n",
    "    try:\n",
    "        description = driver.find_element(By.CLASS_NAME, 'CardDescriptionHTML').text\n",
    "    except NoSuchElementException:\n",
    "        description = None\n",
    "    \n",
    "    sell_id = int(re.findall('\\d+', driver.find_element(By.CLASS_NAME, 'CardHead__id').text)[0])\n",
    "    price = int(re.sub('\\D', '', driver.find_element(By.CLASS_NAME, 'OfferPriceCaption__price').text))\n",
    "    \n",
    "    complect_list = []\n",
    "    \n",
    "    complect_data = driver.find_elements(By.CLASS_NAME, 'ComplectationGroupsDesktop__itemList')\n",
    "\n",
    "    for item in complect_data:\n",
    "        complect_list.extend(item.text.replace('\\n', '').split('•')[1:])\n",
    "    \n",
    "    catalog_url = driver.find_element(By.CLASS_NAME, 'CardCatalogLink').get_attribute('href')\n",
    "    \n",
    "    data_dict = {\n",
    "        'brand': brand, 'model': model, 'year': year, 'bodytype': bodytype, 'kmage': kmage,\n",
    "        'color': color, 'engineDisplacement': engineDisplacement, 'enginePower': enginePower, \n",
    "        'fuelType': fuelType, 'super_gen': super_gen, 'vehicleTransmission': vehicleTransmission,\n",
    "        'drive': drive, 'wheel': wheel, 'state': state, 'owner': owner, 'pts': pts, 'customs': customs, \n",
    "        'owningTime': owningTime, 'description': description, 'sell_id': sell_id, 'price': price, \n",
    "        'car_url': car_url, 'catalog_url': catalog_url, 'equipment_dict': complect_list\n",
    "    }\n",
    "    \n",
    "    return data_dict"
   ]
  },
  {
   "cell_type": "code",
   "execution_count": 12,
   "id": "9779b1d2",
   "metadata": {},
   "outputs": [],
   "source": [
    "def get_dicts_from_catalog(url):\n",
    "    \n",
    "    driver.get(url)\n",
    "\n",
    "    car_info_full = driver.find_elements(By.CLASS_NAME, 'list-values')\n",
    "    \n",
    "    car_info_dict_ru = {}\n",
    "    \n",
    "    for item in car_info_full:\n",
    "        el = item.text.split('\\n')\n",
    "        for i in range(0, len(el) - 1, 2):\n",
    "            car_info_dict_ru[el[i]] = el[i + 1]\n",
    "    \n",
    "    engine_type_dict = {'бензин': 'GASOLINE', 'дизель': 'DIESEL', \n",
    "                        'гибрид': 'HYBRID', 'электро': 'ELECTRO', 'газ': 'LPG'}\n",
    "    gear_type_dict = {'передний': 'FORWARD_CONTROL', 'полный': 'ALL_WHEEL_DRIVE', 'задний': 'REAR_DRIVE'}\n",
    "    transmission_dict = {'автомат': 'AUTOMATIC', 'робот': 'ROBOT', \n",
    "                         'механика': 'MECHANICAL', 'вариатор': 'VARIATOR'}\n",
    "\n",
    "    car_info_dict_en = {\n",
    "        'engine_type': engine_type_dict[car_info_dict_ru['Тип двигателя']],\n",
    "        'gear_type': gear_type_dict[car_info_dict_ru['Привод']],\n",
    "        'transmission': transmission_dict[car_info_dict_ru['Коробка']],\n",
    "        'power': int(re.findall('\\d+', car_info_dict_ru['Мощность'])[0]),\n",
    "        'power_kvt': int(re.findall('\\d+', car_info_dict_ru['Максимальная мощность, л.с./кВт при об/мин'])[1]),\n",
    "        'acceleration': car_info_dict_ru.get('Разгон до 100 км/ч, с'),\n",
    "        'clearance_min': min(map(int, re.findall('\\d+', car_info_dict_ru['Клиренс']))),\n",
    "        'fuel_rate': float(car_info_dict_ru['Расход топлива, л город/трасса/смешанный'].split('/')[2])\n",
    "    }\n",
    "    \n",
    "    url2 = url.replace('specifications', 'equipment')\n",
    "    \n",
    "    driver.get(url2)\n",
    "\n",
    "    equipment_list = []\n",
    "\n",
    "    equipment_data = driver.find_elements(By.CLASS_NAME, 'catalog__package-list-i')\n",
    "    for item in equipment_data:\n",
    "        equipment_list.append(item.text)\n",
    "    \n",
    "    car_data = json.loads(driver.find_element(By.CLASS_NAME, 'search-form-v2-mmm').get_attribute('data-bem'))\n",
    "    equip_data = json.loads(driver.find_element(By.CLASS_NAME, 'catalog__section').get_attribute('data-bem'))\n",
    "    attrib_data = json.loads(driver.find_element(By.CLASS_NAME, 'sale-data-attributes').get_attribute('data-bem'))\n",
    "    \n",
    "    return {'super_gen_2': car_info_dict_en, 'super_gen_3': attrib_data, 'complectation_dict': equipment_list}"
   ]
  },
  {
   "cell_type": "markdown",
   "id": "4b741576",
   "metadata": {},
   "source": [
    "## Gathering URLs from MODEL pages in Regions"
   ]
  },
  {
   "cell_type": "code",
   "execution_count": 13,
   "id": "147aa0f2",
   "metadata": {},
   "outputs": [
    {
     "name": "stdout",
     "output_type": "stream",
     "text": [
      "1 Processing nissan from leningradskaya_oblast\n",
      "Parsing 20 page for nissan in leningradskaya_oblast\n",
      "There are 21 pages by nissan\n",
      "2 Processing infiniti from leningradskaya_oblast\n",
      "Parsing 3 page for infiniti in leningradskaya_oblast\n",
      "There are 4 pages by infiniti\n",
      "3 Processing toyota from leningradskaya_oblast\n",
      "Parsing 5 page for toyota in leningradskaya_oblast\r"
     ]
    }
   ],
   "source": [
    "%%time\n",
    "all_urls = []\n",
    "# from time import sleep\n",
    "# from random import randint\n",
    "\n",
    "i = 0\n",
    "for region in regions:\n",
    "    for model in models:\n",
    "        print(f\"{i+1} Processing {model} from {region}\")\n",
    "        # sleep(randint(30, 70)/100.)\n",
    "        model_urls = get_urls_for_model_in_region(model, region)\n",
    "        all_urls.append(model_urls)\n",
    "        i += 1"
   ]
  },
  {
   "cell_type": "markdown",
   "id": "15944bee-76dc-49c4-a211-a29f151ef534",
   "metadata": {},
   "source": [
    "## Getting main car info"
   ]
  },
  {
   "cell_type": "code",
   "execution_count": null,
   "id": "3c7cd6c3",
   "metadata": {},
   "outputs": [],
   "source": [
    "for url in tqdm(model_spb_urls):\n",
    "    try:\n",
    "        valid_data = valid_data.append(get_car_info(url), ignore_index=True)\n",
    "    except NoSuchElementException:\n",
    "        print('Error 404', end='\\r')"
   ]
  },
  {
   "cell_type": "code",
   "execution_count": null,
   "id": "fbff7a85",
   "metadata": {},
   "outputs": [],
   "source": [
    "valid_data.to_pickle(\"data/20220327_lo_nissan_infiniti_toyota_lexus_mitsubishi.pkl.zip\", compression=\"zip\")"
   ]
  },
  {
   "cell_type": "markdown",
   "id": "028ceed8",
   "metadata": {},
   "source": [
    "## Getting additional information from catalog (links from main DF)"
   ]
  },
  {
   "cell_type": "code",
   "execution_count": 23,
   "id": "4e08c0b4",
   "metadata": {},
   "outputs": [
    {
     "name": "stderr",
     "output_type": "stream",
     "text": [
      "  0%|          | 0/46 [00:00<?, ?it/s]/tmp/ipykernel_66777/2336546692.py:3: FutureWarning: The frame.append method is deprecated and will be removed from pandas in a future version. Use pandas.concat instead.\n",
      "  catalog_data = catalog_data.append(get_dicts_from_catalog(car_url), ignore_index=True)\n",
      "  2%|▏         | 1/46 [00:15<11:47, 15.71s/it]/tmp/ipykernel_66777/2336546692.py:3: FutureWarning: The frame.append method is deprecated and will be removed from pandas in a future version. Use pandas.concat instead.\n",
      "  catalog_data = catalog_data.append(get_dicts_from_catalog(car_url), ignore_index=True)\n",
      "  4%|▍         | 2/46 [00:24<08:24, 11.47s/it]/tmp/ipykernel_66777/2336546692.py:3: FutureWarning: The frame.append method is deprecated and will be removed from pandas in a future version. Use pandas.concat instead.\n",
      "  catalog_data = catalog_data.append(get_dicts_from_catalog(car_url), ignore_index=True)\n",
      "  7%|▋         | 3/46 [00:32<07:18, 10.19s/it]/tmp/ipykernel_66777/2336546692.py:3: FutureWarning: The frame.append method is deprecated and will be removed from pandas in a future version. Use pandas.concat instead.\n",
      "  catalog_data = catalog_data.append(get_dicts_from_catalog(car_url), ignore_index=True)\n",
      "  9%|▊         | 4/46 [00:41<06:36,  9.44s/it]/tmp/ipykernel_66777/2336546692.py:3: FutureWarning: The frame.append method is deprecated and will be removed from pandas in a future version. Use pandas.concat instead.\n",
      "  catalog_data = catalog_data.append(get_dicts_from_catalog(car_url), ignore_index=True)\n",
      " 11%|█         | 5/46 [00:47<05:40,  8.31s/it]/tmp/ipykernel_66777/2336546692.py:3: FutureWarning: The frame.append method is deprecated and will be removed from pandas in a future version. Use pandas.concat instead.\n",
      "  catalog_data = catalog_data.append(get_dicts_from_catalog(car_url), ignore_index=True)\n",
      " 13%|█▎        | 6/46 [00:53<05:05,  7.63s/it]/tmp/ipykernel_66777/2336546692.py:3: FutureWarning: The frame.append method is deprecated and will be removed from pandas in a future version. Use pandas.concat instead.\n",
      "  catalog_data = catalog_data.append(get_dicts_from_catalog(car_url), ignore_index=True)\n",
      " 15%|█▌        | 7/46 [01:05<05:54,  9.08s/it]/tmp/ipykernel_66777/2336546692.py:3: FutureWarning: The frame.append method is deprecated and will be removed from pandas in a future version. Use pandas.concat instead.\n",
      "  catalog_data = catalog_data.append(get_dicts_from_catalog(car_url), ignore_index=True)\n",
      " 17%|█▋        | 8/46 [01:13<05:23,  8.51s/it]/tmp/ipykernel_66777/2336546692.py:3: FutureWarning: The frame.append method is deprecated and will be removed from pandas in a future version. Use pandas.concat instead.\n",
      "  catalog_data = catalog_data.append(get_dicts_from_catalog(car_url), ignore_index=True)\n",
      " 20%|█▉        | 9/46 [01:24<05:44,  9.30s/it]/tmp/ipykernel_66777/2336546692.py:3: FutureWarning: The frame.append method is deprecated and will be removed from pandas in a future version. Use pandas.concat instead.\n",
      "  catalog_data = catalog_data.append(get_dicts_from_catalog(car_url), ignore_index=True)\n",
      " 22%|██▏       | 10/46 [01:35<05:54,  9.84s/it]/tmp/ipykernel_66777/2336546692.py:3: FutureWarning: The frame.append method is deprecated and will be removed from pandas in a future version. Use pandas.concat instead.\n",
      "  catalog_data = catalog_data.append(get_dicts_from_catalog(car_url), ignore_index=True)\n",
      " 24%|██▍       | 11/46 [01:41<05:09,  8.85s/it]/tmp/ipykernel_66777/2336546692.py:3: FutureWarning: The frame.append method is deprecated and will be removed from pandas in a future version. Use pandas.concat instead.\n",
      "  catalog_data = catalog_data.append(get_dicts_from_catalog(car_url), ignore_index=True)\n",
      " 26%|██▌       | 12/46 [01:48<04:36,  8.14s/it]/tmp/ipykernel_66777/2336546692.py:3: FutureWarning: The frame.append method is deprecated and will be removed from pandas in a future version. Use pandas.concat instead.\n",
      "  catalog_data = catalog_data.append(get_dicts_from_catalog(car_url), ignore_index=True)\n",
      " 28%|██▊       | 13/46 [01:56<04:26,  8.08s/it]/tmp/ipykernel_66777/2336546692.py:3: FutureWarning: The frame.append method is deprecated and will be removed from pandas in a future version. Use pandas.concat instead.\n",
      "  catalog_data = catalog_data.append(get_dicts_from_catalog(car_url), ignore_index=True)\n",
      " 30%|███       | 14/46 [02:08<04:54,  9.19s/it]/tmp/ipykernel_66777/2336546692.py:3: FutureWarning: The frame.append method is deprecated and will be removed from pandas in a future version. Use pandas.concat instead.\n",
      "  catalog_data = catalog_data.append(get_dicts_from_catalog(car_url), ignore_index=True)\n",
      " 33%|███▎      | 15/46 [02:16<04:35,  8.88s/it]/tmp/ipykernel_66777/2336546692.py:3: FutureWarning: The frame.append method is deprecated and will be removed from pandas in a future version. Use pandas.concat instead.\n",
      "  catalog_data = catalog_data.append(get_dicts_from_catalog(car_url), ignore_index=True)\n",
      " 35%|███▍      | 16/46 [02:25<04:32,  9.07s/it]/tmp/ipykernel_66777/2336546692.py:3: FutureWarning: The frame.append method is deprecated and will be removed from pandas in a future version. Use pandas.concat instead.\n",
      "  catalog_data = catalog_data.append(get_dicts_from_catalog(car_url), ignore_index=True)\n",
      " 37%|███▋      | 17/46 [02:36<04:36,  9.53s/it]/tmp/ipykernel_66777/2336546692.py:3: FutureWarning: The frame.append method is deprecated and will be removed from pandas in a future version. Use pandas.concat instead.\n",
      "  catalog_data = catalog_data.append(get_dicts_from_catalog(car_url), ignore_index=True)\n",
      " 39%|███▉      | 18/46 [02:44<04:14,  9.08s/it]/tmp/ipykernel_66777/2336546692.py:3: FutureWarning: The frame.append method is deprecated and will be removed from pandas in a future version. Use pandas.concat instead.\n",
      "  catalog_data = catalog_data.append(get_dicts_from_catalog(car_url), ignore_index=True)\n",
      " 41%|████▏     | 19/46 [02:51<03:47,  8.44s/it]/tmp/ipykernel_66777/2336546692.py:3: FutureWarning: The frame.append method is deprecated and will be removed from pandas in a future version. Use pandas.concat instead.\n",
      "  catalog_data = catalog_data.append(get_dicts_from_catalog(car_url), ignore_index=True)\n",
      " 43%|████▎     | 20/46 [02:56<03:16,  7.55s/it]/tmp/ipykernel_66777/2336546692.py:3: FutureWarning: The frame.append method is deprecated and will be removed from pandas in a future version. Use pandas.concat instead.\n",
      "  catalog_data = catalog_data.append(get_dicts_from_catalog(car_url), ignore_index=True)\n",
      " 46%|████▌     | 21/46 [03:02<02:56,  7.07s/it]/tmp/ipykernel_66777/2336546692.py:3: FutureWarning: The frame.append method is deprecated and will be removed from pandas in a future version. Use pandas.concat instead.\n",
      "  catalog_data = catalog_data.append(get_dicts_from_catalog(car_url), ignore_index=True)\n",
      " 48%|████▊     | 22/46 [03:08<02:36,  6.53s/it]/tmp/ipykernel_66777/2336546692.py:3: FutureWarning: The frame.append method is deprecated and will be removed from pandas in a future version. Use pandas.concat instead.\n",
      "  catalog_data = catalog_data.append(get_dicts_from_catalog(car_url), ignore_index=True)\n",
      " 50%|█████     | 23/46 [03:15<02:37,  6.84s/it]/tmp/ipykernel_66777/2336546692.py:3: FutureWarning: The frame.append method is deprecated and will be removed from pandas in a future version. Use pandas.concat instead.\n",
      "  catalog_data = catalog_data.append(get_dicts_from_catalog(car_url), ignore_index=True)\n",
      " 52%|█████▏    | 24/46 [03:22<02:33,  6.96s/it]/tmp/ipykernel_66777/2336546692.py:3: FutureWarning: The frame.append method is deprecated and will be removed from pandas in a future version. Use pandas.concat instead.\n",
      "  catalog_data = catalog_data.append(get_dicts_from_catalog(car_url), ignore_index=True)\n",
      " 54%|█████▍    | 25/46 [03:29<02:22,  6.76s/it]/tmp/ipykernel_66777/2336546692.py:3: FutureWarning: The frame.append method is deprecated and will be removed from pandas in a future version. Use pandas.concat instead.\n",
      "  catalog_data = catalog_data.append(get_dicts_from_catalog(car_url), ignore_index=True)\n",
      " 57%|█████▋    | 26/46 [03:34<02:09,  6.48s/it]/tmp/ipykernel_66777/2336546692.py:3: FutureWarning: The frame.append method is deprecated and will be removed from pandas in a future version. Use pandas.concat instead.\n",
      "  catalog_data = catalog_data.append(get_dicts_from_catalog(car_url), ignore_index=True)\n",
      " 59%|█████▊    | 27/46 [03:42<02:11,  6.92s/it]/tmp/ipykernel_66777/2336546692.py:3: FutureWarning: The frame.append method is deprecated and will be removed from pandas in a future version. Use pandas.concat instead.\n",
      "  catalog_data = catalog_data.append(get_dicts_from_catalog(car_url), ignore_index=True)\n",
      " 61%|██████    | 28/46 [03:49<02:03,  6.89s/it]/tmp/ipykernel_66777/2336546692.py:3: FutureWarning: The frame.append method is deprecated and will be removed from pandas in a future version. Use pandas.concat instead.\n",
      "  catalog_data = catalog_data.append(get_dicts_from_catalog(car_url), ignore_index=True)\n",
      " 63%|██████▎   | 29/46 [03:56<01:56,  6.88s/it]/tmp/ipykernel_66777/2336546692.py:3: FutureWarning: The frame.append method is deprecated and will be removed from pandas in a future version. Use pandas.concat instead.\n",
      "  catalog_data = catalog_data.append(get_dicts_from_catalog(car_url), ignore_index=True)\n",
      " 65%|██████▌   | 30/46 [04:04<01:56,  7.29s/it]/tmp/ipykernel_66777/2336546692.py:3: FutureWarning: The frame.append method is deprecated and will be removed from pandas in a future version. Use pandas.concat instead.\n",
      "  catalog_data = catalog_data.append(get_dicts_from_catalog(car_url), ignore_index=True)\n",
      " 67%|██████▋   | 31/46 [04:12<01:53,  7.54s/it]/tmp/ipykernel_66777/2336546692.py:3: FutureWarning: The frame.append method is deprecated and will be removed from pandas in a future version. Use pandas.concat instead.\n",
      "  catalog_data = catalog_data.append(get_dicts_from_catalog(car_url), ignore_index=True)\n",
      " 70%|██████▉   | 32/46 [04:19<01:40,  7.19s/it]/tmp/ipykernel_66777/2336546692.py:3: FutureWarning: The frame.append method is deprecated and will be removed from pandas in a future version. Use pandas.concat instead.\n",
      "  catalog_data = catalog_data.append(get_dicts_from_catalog(car_url), ignore_index=True)\n",
      " 72%|███████▏  | 33/46 [04:27<01:35,  7.34s/it]/tmp/ipykernel_66777/2336546692.py:3: FutureWarning: The frame.append method is deprecated and will be removed from pandas in a future version. Use pandas.concat instead.\n",
      "  catalog_data = catalog_data.append(get_dicts_from_catalog(car_url), ignore_index=True)\n",
      " 74%|███████▍  | 34/46 [04:32<01:21,  6.80s/it]/tmp/ipykernel_66777/2336546692.py:3: FutureWarning: The frame.append method is deprecated and will be removed from pandas in a future version. Use pandas.concat instead.\n",
      "  catalog_data = catalog_data.append(get_dicts_from_catalog(car_url), ignore_index=True)\n",
      " 76%|███████▌  | 35/46 [04:40<01:17,  7.03s/it]/tmp/ipykernel_66777/2336546692.py:3: FutureWarning: The frame.append method is deprecated and will be removed from pandas in a future version. Use pandas.concat instead.\n",
      "  catalog_data = catalog_data.append(get_dicts_from_catalog(car_url), ignore_index=True)\n",
      " 78%|███████▊  | 36/46 [04:46<01:08,  6.87s/it]/tmp/ipykernel_66777/2336546692.py:3: FutureWarning: The frame.append method is deprecated and will be removed from pandas in a future version. Use pandas.concat instead.\n",
      "  catalog_data = catalog_data.append(get_dicts_from_catalog(car_url), ignore_index=True)\n",
      " 80%|████████  | 37/46 [04:52<00:59,  6.58s/it]/tmp/ipykernel_66777/2336546692.py:3: FutureWarning: The frame.append method is deprecated and will be removed from pandas in a future version. Use pandas.concat instead.\n",
      "  catalog_data = catalog_data.append(get_dicts_from_catalog(car_url), ignore_index=True)\n",
      " 83%|████████▎ | 38/46 [04:58<00:51,  6.48s/it]/tmp/ipykernel_66777/2336546692.py:3: FutureWarning: The frame.append method is deprecated and will be removed from pandas in a future version. Use pandas.concat instead.\n",
      "  catalog_data = catalog_data.append(get_dicts_from_catalog(car_url), ignore_index=True)\n",
      " 85%|████████▍ | 39/46 [05:05<00:46,  6.64s/it]/tmp/ipykernel_66777/2336546692.py:3: FutureWarning: The frame.append method is deprecated and will be removed from pandas in a future version. Use pandas.concat instead.\n",
      "  catalog_data = catalog_data.append(get_dicts_from_catalog(car_url), ignore_index=True)\n",
      " 87%|████████▋ | 40/46 [05:10<00:36,  6.02s/it]/tmp/ipykernel_66777/2336546692.py:3: FutureWarning: The frame.append method is deprecated and will be removed from pandas in a future version. Use pandas.concat instead.\n",
      "  catalog_data = catalog_data.append(get_dicts_from_catalog(car_url), ignore_index=True)\n",
      " 89%|████████▉ | 41/46 [05:17<00:31,  6.26s/it]/tmp/ipykernel_66777/2336546692.py:3: FutureWarning: The frame.append method is deprecated and will be removed from pandas in a future version. Use pandas.concat instead.\n",
      "  catalog_data = catalog_data.append(get_dicts_from_catalog(car_url), ignore_index=True)\n",
      " 91%|█████████▏| 42/46 [05:23<00:24,  6.23s/it]/tmp/ipykernel_66777/2336546692.py:3: FutureWarning: The frame.append method is deprecated and will be removed from pandas in a future version. Use pandas.concat instead.\n",
      "  catalog_data = catalog_data.append(get_dicts_from_catalog(car_url), ignore_index=True)\n",
      " 93%|█████████▎| 43/46 [05:34<00:22,  7.66s/it]/tmp/ipykernel_66777/2336546692.py:3: FutureWarning: The frame.append method is deprecated and will be removed from pandas in a future version. Use pandas.concat instead.\n",
      "  catalog_data = catalog_data.append(get_dicts_from_catalog(car_url), ignore_index=True)\n",
      " 96%|█████████▌| 44/46 [05:42<00:15,  7.69s/it]/tmp/ipykernel_66777/2336546692.py:3: FutureWarning: The frame.append method is deprecated and will be removed from pandas in a future version. Use pandas.concat instead.\n",
      "  catalog_data = catalog_data.append(get_dicts_from_catalog(car_url), ignore_index=True)\n",
      " 98%|█████████▊| 45/46 [05:49<00:07,  7.72s/it]/tmp/ipykernel_66777/2336546692.py:3: FutureWarning: The frame.append method is deprecated and will be removed from pandas in a future version. Use pandas.concat instead.\n",
      "  catalog_data = catalog_data.append(get_dicts_from_catalog(car_url), ignore_index=True)\n",
      "100%|██████████| 46/46 [05:55<00:00,  7.72s/it]\n"
     ]
    }
   ],
   "source": [
    "for car_url in tqdm(valid_data['catalog_url'].value_counts().index.tolist()):\n",
    "    try:\n",
    "        catalog_data = catalog_data.append(get_dicts_from_catalog(car_url), ignore_index=True)\n",
    "    except NoSuchElementException:\n",
    "        print('Error 404', end='\\r')"
   ]
  },
  {
   "cell_type": "code",
   "execution_count": 30,
   "id": "753360d2",
   "metadata": {},
   "outputs": [],
   "source": [
    "valid_data.to_pickle(\"data/20220326_valid_data.pkl.zip\", compression=\"zip\")\n",
    "catalog_data.to_pickle(\"data/20220326_catalog_data.pkl.zip\", compression=\"zip\")"
   ]
  },
  {
   "cell_type": "code",
   "execution_count": 29,
   "id": "d0fa3095",
   "metadata": {},
   "outputs": [
    {
     "name": "stdout",
     "output_type": "stream",
     "text": [
      "super gen 2\n",
      "{'engine_type': 'DIESEL', 'gear_type': 'ALL_WHEEL_DRIVE', 'transmission': 'AUTOMATIC', 'power': 238, 'power_kvt': 175, 'acceleration': '8.3', 'clearance_min': 184, 'fuel_rate': 9.0}\n",
      "super gen 3\n",
      "{'sale-data-attributes': {'asciiCat': 'cars', 'puid10': '1', 'category': 'cars', 'mark': 'INFINITI', 'model': 'FX', 'state': 'used', 'class': 'J', 'type': 'suv', 'segment': 'PREMIUM', 'group': 'family', 'power': 238, 'year': 2011}}\n"
     ]
    }
   ],
   "source": [
    "\n",
    "print(\"super gen 2\", catalog_data[\"super_gen_2\"][5], sep=\"\\n\")\n",
    "print(\"super gen 3\", catalog_data[\"super_gen_3\"][5], sep=\"\\n\")"
   ]
  },
  {
   "cell_type": "markdown",
   "id": "eb13292a",
   "metadata": {},
   "source": [
    "to extract\n",
    "\n",
    "- super gen 2: power_kvt, acceleration, clearance_min, fuel_rate\n",
    "- super gen 3: mark, model, class, year, group\n",
    "\n",
    "join by\n",
    "\n",
    "- model\n",
    "- mark\n",
    "- year"
   ]
  },
  {
   "cell_type": "code",
   "execution_count": null,
   "id": "3435875c",
   "metadata": {},
   "outputs": [],
   "source": []
  }
 ],
 "metadata": {
  "kernelspec": {
   "display_name": "Python 3 (ipykernel)",
   "language": "python",
   "name": "python3"
  },
  "language_info": {
   "codemirror_mode": {
    "name": "ipython",
    "version": 3
   },
   "file_extension": ".py",
   "mimetype": "text/x-python",
   "name": "python",
   "nbconvert_exporter": "python",
   "pygments_lexer": "ipython3",
   "version": "3.9.2"
  }
 },
 "nbformat": 4,
 "nbformat_minor": 5
}
