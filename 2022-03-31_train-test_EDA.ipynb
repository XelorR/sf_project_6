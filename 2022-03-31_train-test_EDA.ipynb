{
 "cells": [
  {
   "cell_type": "markdown",
   "metadata": {},
   "source": [
    "### Import moduls"
   ]
  },
  {
   "cell_type": "code",
   "execution_count": 10,
   "metadata": {},
   "outputs": [],
   "source": [
    "import pandas as pd\n",
    "import numpy as np\n",
    "import seaborn as sns\n",
    "\n",
    "import matplotlib.pyplot as plt"
   ]
  },
  {
   "cell_type": "code",
   "execution_count": 4,
   "metadata": {},
   "outputs": [],
   "source": [
    "pd.set_option(\"display.max_rows\", 100)\n",
    "pd.set_option(\"display.max_columns\", 100)"
   ]
  },
  {
   "cell_type": "code",
   "execution_count": 5,
   "metadata": {},
   "outputs": [],
   "source": [
    "train = pd.read_pickle('data/2022-03-30_train_preprocessed.pkl.zip', compression='zip')\n",
    "test = pd.read_pickle('data/2022-03-30_test_preprocessed.pkl.zip', compression='zip')"
   ]
  },
  {
   "cell_type": "markdown",
   "metadata": {},
   "source": [
    "### DataBase description:\n",
    "\n",
    "- body_type - Type of vehicle body  \n",
    "- brand - Manufacture name  \n",
    "- color - Main car's bodt color  \n",
    "- description - Seller's car description  \n",
    "- engine_displacement - Volume of car's engine  \n",
    "- engine_power - Engine power in horse powers  \n",
    "- fuel_type - Fuel type  \n",
    "- km_age - Vehicle mileage  \n",
    "- model_date - Date when model production was started  \n",
    "- number_of_doors - Number of doors  \n",
    "- production_date - Production date of this car  \n",
    "- vehicle_transmission - Transmission type  \n",
    "- vendor - Origin country of brand  \n",
    "- oweners - Count of oweners of car  \n",
    "- having_time - Time ot owenership of vehicle  \n",
    "- ptc - Vehicle Registration Certificate  \n",
    "- drive - Car drive  \n",
    "- wheel - Wheel position in car  \n",
    "- price - Our target column - Car Price  "
   ]
  },
  {
   "cell_type": "markdown",
   "metadata": {},
   "source": [
    "### Dicts and Lists block"
   ]
  },
  {
   "cell_type": "code",
   "execution_count": 6,
   "metadata": {},
   "outputs": [],
   "source": [
    "valid_columns_dict = {\n",
    "    'bodyType': 'body_type', \n",
    "    'engineDisplacement': 'engine_displacement', \n",
    "    'enginePower': 'engine_power',\n",
    "    'fuelType': 'fuel_type',\n",
    "    'mileage': 'km_age',\n",
    "    'modelDate': 'model_date',\n",
    "    'numberOfDoors': 'number_of_doors',\n",
    "    'productionDate': 'production_date',\n",
    "    'vehicleTransmission': 'vehicle_transmission',\n",
    "    'Владельцы': 'oweners', \n",
    "    'Владение': 'having_time', \n",
    "    'ПТС': 'ptc', \n",
    "    'Привод': 'drive', \n",
    "    'Руль': 'wheel'\n",
    "    }"
   ]
  },
  {
   "cell_type": "code",
   "execution_count": null,
   "metadata": {},
   "outputs": [],
   "source": []
  },
  {
   "cell_type": "code",
   "execution_count": 30,
   "metadata": {},
   "outputs": [],
   "source": [
    "def get_nans_in_percents(df):\n",
    "    nans = df.isna().sum() / df.shape[0] * 100\n",
    "    return nans[nans > 0]"
   ]
  },
  {
   "cell_type": "markdown",
   "metadata": {},
   "source": [
    "### Changing columns names to english and snake-type (from dict)"
   ]
  },
  {
   "cell_type": "code",
   "execution_count": 7,
   "metadata": {},
   "outputs": [],
   "source": [
    "train.rename(columns=valid_columns_dict, inplace=True)\n",
    "test.rename(columns=valid_columns_dict, inplace=True)"
   ]
  },
  {
   "cell_type": "markdown",
   "metadata": {},
   "source": [
    "### Separate to categorical and numeric columns"
   ]
  },
  {
   "cell_type": "code",
   "execution_count": 1,
   "metadata": {},
   "outputs": [],
   "source": [
    "cat_cols = [\n",
    "    'body_type', 'brand', 'color', 'fuel_type', 'number_of_doors', 'vehicle_transmission', \n",
    "    'vendor', 'oweners', 'having_time', 'ptc', 'drive', 'wheel'\n",
    "    ]\n",
    "nums_cols = [\n",
    "    'engine_displacement', 'engine_power', 'km_age', 'model_date', 'production_date', 'having_time', 'price'\n",
    "    ]"
   ]
  },
  {
   "cell_type": "code",
   "execution_count": 19,
   "metadata": {},
   "outputs": [
    {
     "name": "stdout",
     "output_type": "stream",
     "text": [
      "<class 'pandas.core.frame.DataFrame'>\n",
      "Int64Index: 121420 entries, 0 to 89377\n",
      "Data columns (total 20 columns):\n",
      " #   Column                Non-Null Count   Dtype  \n",
      "---  ------                --------------   -----  \n",
      " 0   body_type             121418 non-null  object \n",
      " 1   brand                 121420 non-null  object \n",
      " 2   color                 121420 non-null  object \n",
      " 3   description           118208 non-null  object \n",
      " 4   engine_displacement   121345 non-null  object \n",
      " 5   engine_power          121418 non-null  float64\n",
      " 6   fuel_type             121419 non-null  object \n",
      " 7   km_age                115643 non-null  float64\n",
      " 8   model_date            121418 non-null  float32\n",
      " 9   number_of_doors       121418 non-null  float32\n",
      " 10  production_date       121420 non-null  float32\n",
      " 11  vehicle_transmission  121418 non-null  object \n",
      " 12  vendor                121420 non-null  object \n",
      " 13  oweners               105108 non-null  float32\n",
      " 14  having_time           34929 non-null   float64\n",
      " 15  ptc                   115295 non-null  object \n",
      " 16  drive                 115641 non-null  object \n",
      " 17  wheel                 115642 non-null  object \n",
      " 18  price                 121420 non-null  float64\n",
      " 19  sample                121420 non-null  int64  \n",
      "dtypes: float32(4), float64(4), int64(1), object(11)\n",
      "memory usage: 17.6+ MB\n"
     ]
    }
   ],
   "source": [
    "train.info()"
   ]
  },
  {
   "cell_type": "markdown",
   "metadata": {},
   "source": [
    "#### Let's see percentage of nan's by columns"
   ]
  },
  {
   "cell_type": "code",
   "execution_count": 31,
   "metadata": {},
   "outputs": [
    {
     "data": {
      "text/plain": [
       "body_type                0.001647\n",
       "description              2.645363\n",
       "engine_displacement      0.061769\n",
       "engine_power             0.001647\n",
       "fuel_type                0.000824\n",
       "km_age                   4.757865\n",
       "model_date               0.001647\n",
       "number_of_doors          0.001647\n",
       "vehicle_transmission     0.001647\n",
       "oweners                 13.434360\n",
       "having_time             71.232911\n",
       "ptc                      5.044474\n",
       "drive                    4.759512\n",
       "wheel                    4.758689\n",
       "dtype: float64"
      ]
     },
     "execution_count": 31,
     "metadata": {},
     "output_type": "execute_result"
    }
   ],
   "source": [
    "get_nans_in_percents(train)"
   ]
  },
  {
   "cell_type": "code",
   "execution_count": 32,
   "metadata": {},
   "outputs": [
    {
     "data": {
      "text/plain": [
       "engine_displacement     0.158565\n",
       "having_time            65.418324\n",
       "ptc                     0.002883\n",
       "dtype: float64"
      ]
     },
     "execution_count": 32,
     "metadata": {},
     "output_type": "execute_result"
    }
   ],
   "source": [
    "get_nans_in_percents(test)"
   ]
  },
  {
   "cell_type": "markdown",
   "metadata": {},
   "source": [
    "#### Lookout on missed values"
   ]
  },
  {
   "cell_type": "code",
   "execution_count": 16,
   "metadata": {},
   "outputs": [
    {
     "data": {
      "image/png": "[encoded data removed]",
      "text/plain": [
       "<Figure size 1008x288 with 4 Axes>"
      ]
     },
     "metadata": {
      "needs_background": "light"
     },
     "output_type": "display_data"
    }
   ],
   "source": [
    "fig, ax = plt.subplots(1, 2, figsize=(14, 4))\n",
    "sns.heatmap(train.isna(), cmap='YlGnBu', ax=ax[0]).set_title('Heatmap for train dataframe')\n",
    "sns.heatmap(test.isna(), cmap='YlGnBu', ax=ax[1]).set_title('Heatmap for test dataframe')\n",
    "plt.show()"
   ]
  }
 ],
 "metadata": {
  "interpreter": {
   "hash": "22f5e291d46cc6291753a9807bc7e76c54251e9856493f8a9633816cb79d720a"
  },
  "kernelspec": {
   "display_name": "Python 3.10.4 64-bit",
   "language": "python",
   "name": "python3"
  },
  "language_info": {
   "codemirror_mode": {
    "name": "ipython",
    "version": 3
   },
   "file_extension": ".py",
   "mimetype": "text/x-python",
   "name": "python",
   "nbconvert_exporter": "python",
   "pygments_lexer": "ipython3",
   "version": "3.10.4"
  },
  "orig_nbformat": 4
 },
 "nbformat": 4,
 "nbformat_minor": 2
}
