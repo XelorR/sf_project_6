{
 "cells": [
  {
   "cell_type": "markdown",
   "metadata": {},
   "source": [
    "### Import moduls"
   ]
  },
  {
   "cell_type": "code",
   "execution_count": 2,
   "metadata": {},
   "outputs": [],
   "source": [
    "import pandas as pd\n",
    "import numpy as np\n",
    "import seaborn as sns"
   ]
  },
  {
   "cell_type": "code",
   "execution_count": null,
   "metadata": {},
   "outputs": [],
   "source": [
    "pd.set_option(\"display.max_rows\", 100)\n",
    "pd.set_option(\"display.max_columns\", 100)"
   ]
  },
  {
   "cell_type": "code",
   "execution_count": 22,
   "metadata": {},
   "outputs": [],
   "source": [
    "train = pd.read_pickle('data/2022-03-30_train_preprocessed.pkl.zip', compression='zip')\n",
    "test = pd.read_pickle('data/2022-03-30_test_preprocessed.pkl.zip', compression='zip')"
   ]
  },
  {
   "cell_type": "markdown",
   "metadata": {},
   "source": [
    "### Dicts and Lists block"
   ]
  },
  {
   "cell_type": "code",
   "execution_count": 17,
   "metadata": {},
   "outputs": [],
   "source": [
    "valid_columns_dict = {\n",
    "    'bodyType': 'body_type', \n",
    "    'engineDisplacement': 'engine_displacement', \n",
    "    'enginePower': 'engine_power',\n",
    "    'fuelType': 'fuel_type',\n",
    "    'mileage': 'km_age',\n",
    "    'modelDate': 'model_date',\n",
    "    'numberOfDoors': 'number_of_doors',\n",
    "    'productionDate': 'production_date',\n",
    "    'vehicleTransmission': 'vehicle_transmission',\n",
    "    'Владельцы': 'oweners', \n",
    "    'Владение': 'having_time', \n",
    "    'ПТС': 'ptc', \n",
    "    'Привод': 'drive', \n",
    "    'Руль': 'wheel'\n",
    "    }"
   ]
  },
  {
   "cell_type": "markdown",
   "metadata": {},
   "source": [
    "### Changing columns names to english and snake-type (from dict)"
   ]
  },
  {
   "cell_type": "code",
   "execution_count": 23,
   "metadata": {},
   "outputs": [],
   "source": [
    "train.rename(columns=valid_columns_dict, inplace=True)\n",
    "test.rename(columns=valid_columns_dict, inplace=True)"
   ]
  },
  {
   "cell_type": "markdown",
   "metadata": {},
   "source": [
    "### Separate to categorical and numeric columns"
   ]
  },
  {
   "cell_type": "code",
   "execution_count": 19,
   "metadata": {},
   "outputs": [
    {
     "name": "stdout",
     "output_type": "stream",
     "text": [
      "<class 'pandas.core.frame.DataFrame'>\n",
      "Int64Index: 121420 entries, 0 to 89377\n",
      "Data columns (total 20 columns):\n",
      " #   Column                Non-Null Count   Dtype  \n",
      "---  ------                --------------   -----  \n",
      " 0   body_type             121418 non-null  object \n",
      " 1   brand                 121420 non-null  object \n",
      " 2   color                 121420 non-null  object \n",
      " 3   description           118208 non-null  object \n",
      " 4   engine_displacement   121345 non-null  object \n",
      " 5   engine_power          121418 non-null  float64\n",
      " 6   fuel_type             121419 non-null  object \n",
      " 7   km_age                115643 non-null  float64\n",
      " 8   model_date            121418 non-null  float32\n",
      " 9   number_of_doors       121418 non-null  float32\n",
      " 10  production_date       121420 non-null  float32\n",
      " 11  vehicle_transmission  121418 non-null  object \n",
      " 12  vendor                121420 non-null  object \n",
      " 13  oweners               105108 non-null  float32\n",
      " 14  having_time           34929 non-null   float64\n",
      " 15  ptc                   115295 non-null  object \n",
      " 16  drive                 115641 non-null  object \n",
      " 17  wheel                 115642 non-null  object \n",
      " 18  price                 121420 non-null  float64\n",
      " 19  sample                121420 non-null  int64  \n",
      "dtypes: float32(4), float64(4), int64(1), object(11)\n",
      "memory usage: 17.6+ MB\n"
     ]
    }
   ],
   "source": [
    "train.info()"
   ]
  },
  {
   "cell_type": "code",
   "execution_count": 24,
   "metadata": {},
   "outputs": [
    {
     "data": {
      "text/plain": [
       "array([1.2, 1.6, 1.8, 2. , 1.4, 1.3, 1. , 3.6, 1.5, 1.9, 2.8, 1.1, 2.5,\n",
       "       4.2, 3. , 4. , 5.9, 2.7, 3.1, 2.4, 5.2, 3.2, 4.1, 6.3, 2.3, 6. ,\n",
       "       2.2, 3.7, 2.9, 5. , 3.3, 2.1, 2.6, nan, 3.5, 1.7, 0.7, 4.4, 4.8,\n",
       "       5.4, 6.6, 4.9, 3.8, 3.4, 3.9, 4.6, 5.6, 4.5, 5.5, 6.2, 4.7, 4.3,\n",
       "       5.8, 5.3, 5.7])"
      ]
     },
     "execution_count": 24,
     "metadata": {},
     "output_type": "execute_result"
    }
   ],
   "source": [
    "test['engine_displacement'].unique()"
   ]
  },
  {
   "cell_type": "code",
   "execution_count": 10,
   "metadata": {},
   "outputs": [
    {
     "data": {
      "text/plain": [
       "<AxesSubplot:>"
      ]
     },
     "execution_count": 10,
     "metadata": {},
     "output_type": "execute_result"
    },
    {
     "data": {
      "image/png": "[encoded data removed]",
      "text/plain": [
       "<Figure size 432x288 with 2 Axes>"
      ]
     },
     "metadata": {
      "needs_background": "light"
     },
     "output_type": "display_data"
    }
   ],
   "source": [
    "sns.heatmap(train.isna())"
   ]
  }
 ],
 "metadata": {
  "interpreter": {
   "hash": "22f5e291d46cc6291753a9807bc7e76c54251e9856493f8a9633816cb79d720a"
  },
  "kernelspec": {
   "display_name": "Python 3.10.4 64-bit",
   "language": "python",
   "name": "python3"
  },
  "language_info": {
   "codemirror_mode": {
    "name": "ipython",
    "version": 3
   },
   "file_extension": ".py",
   "mimetype": "text/x-python",
   "name": "python",
   "nbconvert_exporter": "python",
   "pygments_lexer": "ipython3",
   "version": "3.10.4"
  },
  "orig_nbformat": 4
 },
 "nbformat": 4,
 "nbformat_minor": 2
}
